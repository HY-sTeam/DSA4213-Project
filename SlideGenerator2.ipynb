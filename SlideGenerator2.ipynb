{
 "cells": [
  {
   "cell_type": "code",
   "execution_count": 1,
   "id": "36857b38-9c56-4245-a4d6-37e50c4d912d",
   "metadata": {},
   "outputs": [
    {
     "name": "stdout",
     "output_type": "stream",
     "text": [
      "[{'title': 'Welcome to Python.org', 'href': 'https://www.python.org/', 'body': 'Python is a versatile and powerful language that lets you work quickly and integrate systems more effectively. Learn how to get started, download the latest version, access documentation, find jobs, and join the Python community.'}, {'title': 'Python (programming language) - Wikipedia', 'href': 'https://en.wikipedia.org/wiki/Python_(programming_language)', 'body': 'Python is a high-level, general-purpose programming language.Its design philosophy emphasizes code readability with the use of significant indentation.. Python is dynamically typed and garbage-collected.It supports multiple programming paradigms, including structured (particularly procedural), object-oriented and functional programming.It is often described as a \"batteries included\" language ...'}, {'title': 'Python For Beginners | Python.org', 'href': 'https://www.python.org/about/gettingstarted/', 'body': 'Learn the basics of Python, a popular and easy-to-use programming language, from installing it to using it for various purposes. Find out how to access online documentation, tutorials, books, code samples, and more resources to help you get started with Python.'}, {'title': 'Python Tutorial - W3Schools', 'href': 'https://www.w3schools.com/python/default.asp', 'body': 'W3Schools offers a comprehensive and interactive tutorial for learning Python, a popular programming language that can be used for web applications, data analysis, automation, and more. You can edit Python code, try it yourself, view the result, and access exercises, quizzes, examples, and references.'}, {'title': 'Learn Python Programming', 'href': 'https://www.programiz.com/python-programming', 'body': 'Programiz offers a comprehensive guide to learn Python programming for beginners. You can start with the interactive Python course, get started with the official Python tutorial, and explore the keywords, variables, functions, modules, and more.'}]\n"
     ]
    }
   ],
   "source": [
    "from duckduckgo_search import DDGS\n",
    "\n",
    "with DDGS() as ddgs:\n",
    "    results = [r for r in ddgs.text(\"python programming\", max_results=5)]\n",
    "    print(results)"
   ]
  },
  {
   "cell_type": "code",
   "execution_count": 2,
   "id": "777988d4-0007-4099-a4bb-e6a2c647f642",
   "metadata": {},
   "outputs": [],
   "source": [
    "import json\n",
    "import numpy as np\n",
    "import glob\n",
    "import os\n",
    "import re\n",
    "import html2text\n",
    "import urllib3\n",
    "\n",
    "from duckduckgo_search import DDGS\n",
    "from pptx import Presentation\n",
    "from pptx.dml.color import RGBColor\n",
    "from pptx.util import Cm, Pt, Inches\n",
    "from pptx.enum.text import MSO_ANCHOR, MSO_AUTO_SIZE\n",
    "from h2ogpte import H2OGPTE\n",
    "from mediawikiapi import MediaWikiAPI\n",
    "from tqdm import tqdm\n",
    "\n",
    "\n",
    "with open('secrets.txt') as f:\n",
    "    api = f.read()\n",
    "    f.close()\n",
    "\n"
   ]
  },
  {
   "cell_type": "code",
   "execution_count": 3,
   "id": "5c6f0ec5-3703-43b1-ab01-0fad2fa428f7",
   "metadata": {},
   "outputs": [],
   "source": [
    "client = H2OGPTE(\n",
    "    address=\"https://h2ogpte.genai.h2o.ai\",\n",
    "    api_key=api\n",
    ")\n",
    "\n",
    "user_query = 'Create a presentation on real analysis and topology'"
   ]
  },
  {
   "cell_type": "code",
   "execution_count": null,
   "id": "120f9507-c6ac-42df-8e17-e8a56e93c325",
   "metadata": {},
   "outputs": [],
   "source": []
  }
 ],
 "metadata": {
  "kernelspec": {
   "display_name": "Python 3 (ipykernel)",
   "language": "python",
   "name": "python3"
  },
  "language_info": {
   "codemirror_mode": {
    "name": "ipython",
    "version": 3
   },
   "file_extension": ".py",
   "mimetype": "text/x-python",
   "name": "python",
   "nbconvert_exporter": "python",
   "pygments_lexer": "ipython3",
   "version": "3.11.7"
  }
 },
 "nbformat": 4,
 "nbformat_minor": 5
}
