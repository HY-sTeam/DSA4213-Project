{
 "cells": [
  {
   "cell_type": "code",
   "execution_count": 1,
   "id": "4d4b2e41-d0b4-4d37-bc7d-85c2a6dbeb97",
   "metadata": {},
   "outputs": [],
   "source": [
    "import json\n",
    "import numpy as np\n",
    "import glob\n",
    "import os\n",
    "import re\n",
    "import html2text\n",
    "import urllib3\n",
    "\n",
    "from duckduckgo_search import DDGS\n",
    "from pptx import Presentation\n",
    "from pptx.dml.color import RGBColor\n",
    "from pptx.util import Cm, Pt, Inches\n",
    "from pptx.enum.text import MSO_ANCHOR, MSO_AUTO_SIZE\n",
    "from h2ogpte import H2OGPTE\n",
    "from mediawikiapi import MediaWikiAPI\n",
    "from tqdm import tqdm\n",
    "with open('secrets.txt') as f:\n",
    "    api = f.read()\n",
    "    f.close()\n",
    "\n"
   ]
  },
  {
   "cell_type": "code",
   "execution_count": null,
   "id": "45bf4d73-24af-4a14-94f5-a3900926efcd",
   "metadata": {},
   "outputs": [],
   "source": []
  },
  {
   "cell_type": "code",
   "execution_count": 31,
   "id": "10b89df1-4d22-4af4-abd9-30c4e5fcde21",
   "metadata": {},
   "outputs": [],
   "source": [
    "# create folder for searched articles if it doesnt exist\n",
    "def create_folder(folder_name):\n",
    "    if not os.path.exists(folder_name):\n",
    "        os.makedirs(folder_name)\n",
    "\n",
    "create_folder('articles')\n",
    "create_folder('presentations')"
   ]
  },
  {
   "cell_type": "code",
   "execution_count": 3,
   "id": "5d2c9a1b-6481-447e-9513-732dc1e44eb4",
   "metadata": {},
   "outputs": [],
   "source": [
    "client = H2OGPTE(\n",
    "    address=\"https://h2ogpte.genai.h2o.ai\",\n",
    "    api_key=api\n",
    ")\n",
    "\n",
    "user_query = 'Create a presentation on dynamic programming'"
   ]
  },
  {
   "cell_type": "code",
   "execution_count": 4,
   "id": "c753be01-40dc-4a03-8d7a-5af7397ccdb3",
   "metadata": {},
   "outputs": [],
   "source": [
    "def clear_all_documents(client):\n",
    "    docs = client.list_recent_documents(offset=0, limit = 1000)\n",
    "    client.delete_documents(list(map(lambda x: x.id, docs)))\n",
    "    assert client.count_documents() == 0\n",
    "\n",
    "def clear_all_collections(client):\n",
    "    col = client.list_recent_collections(0, 1000)\n",
    "    client.delete_collections(list(map(lambda x: x.id, col)))\n",
    "    assert client.count_collections() == 0\n",
    "\n",
    "\n",
    "def trim(lst, keep=30):\n",
    "    '''\n",
    "    Trims a list. This function was originally used to permute before trimming, but\\\n",
    "    now that functionality is removed, so it appears rather redundant.\n",
    "    '''\n",
    "    _ = lst.copy()\n",
    "    \n",
    "    return _[0:keep]\n",
    "\n",
    "def format_site_description(ls, start_from = 0):\n",
    "    i = start_from\n",
    "    _ = list(ls).copy()\n",
    "    for element in ls:\n",
    "        element = f\"{i}. {element}\"\n",
    "        _[i] = element\n",
    "        i += 1\n",
    "    return \"\\n\\n\".join(_)\n",
    "\n",
    "\n",
    "def try_and_parse(user_query, function, failed=0, markdown=False):\n",
    "    '''\n",
    "    Accepts a function and user_query, an input. Evaluates function(user_query) and \n",
    "    converts string output (usually a reply from an llm) into a json value. Use markdown=True\n",
    "    if the json value is contained within a code chunk.\n",
    "    '''\n",
    "    chosen = function(user_query)\n",
    "    try:\n",
    "        if not markdown:\n",
    "            topics = json.loads(chosen.content)\n",
    "        else:\n",
    "            print(chosen.content)\n",
    "            pattern = r'^```(?:\\w+)?\\s*\\n(.*?)(?=^```)```'\n",
    "            result = re.findall(pattern, chosen.content, re.DOTALL | re.MULTILINE)[0].strip() \n",
    "            #print(result)\n",
    "            topics = json.loads(result)\n",
    "            \n",
    "        return topics\n",
    "    except Exception as e:\n",
    "        failed+=1\n",
    "        print(failed)\n",
    "        print(e)# CHANGE TO LOGGING STATEMENT\n",
    "        return try_and_parse(user_query, function, failed=failed, markdown=markdown)\n"
   ]
  },
  {
   "cell_type": "markdown",
   "id": "040d0758-d9ad-48ba-9b95-555f5e0001bb",
   "metadata": {},
   "source": [
    "## Step 1. What comes to mind when you think about xyz?"
   ]
  },
  {
   "cell_type": "code",
   "execution_count": 5,
   "id": "0070654e-5a34-45a9-a233-d924424311c9",
   "metadata": {
    "scrolled": true
   },
   "outputs": [
    {
     "name": "stdout",
     "output_type": "stream",
     "text": [
      "Sure, I can help you with that. Here are some potential search queries that could be useful for creating a presentation on dynamic programming:\n",
      "\n",
      "```json\n",
      "[\"Dynamic Programming\",\n",
      " \"Dynamic Programming Algorithms\",\n",
      " \"Dynamic Programming Examples\",\n",
      " \"Dynamic Programming vs Greedy Algorithms\",\n",
      " \"Dynamic Programming Optimization\"]\n",
      "```\n",
      "\n",
      "With these queries, you can find a variety of resources that explain the concept of dynamic programming, provide examples of common algorithms that use dynamic programming, and compare and contrast dynamic programming with other algorithmic techniques. Additionally, you may want to look into specific optimization problems that can be solved using dynamic programming, as this can provide concrete examples of how the technique can be applied in practice.\n"
     ]
    },
    {
     "data": {
      "text/plain": [
       "['Dynamic Programming',\n",
       " 'Dynamic Programming Algorithms',\n",
       " 'Dynamic Programming Examples',\n",
       " 'Dynamic Programming vs Greedy Algorithms',\n",
       " 'Dynamic Programming Optimization']"
      ]
     },
     "execution_count": 5,
     "metadata": {},
     "output_type": "execute_result"
    }
   ],
   "source": [
    "search = lambda user_query: client.answer_question(\n",
    "    question=user_query,\n",
    "    system_prompt=\"\"\"You are an assistant whose task is to perform searches on the internet on a specific topic.\\\n",
    "    The user is interested to create a presentation about a topic of interest.\\\n",
    "    Think about what to do, then reply with your thought process and at least one corresponding google query as an array in JSON format,\\\n",
    "    but limit yourself to 5 queries.\\\n",
    "    The JSON array should be contained in a code chunk. Keep strictly to the format in the example below.\n",
    "    Example:\n",
    "    Since the presentation is about milk, I will probably want to search up the different types of milk, ...\n",
    "    ```json\n",
    "    [\"Milk\", \"Oat Milk\", \"Plant-based milks\", \"Cow Milk\", \"Goat Milk\"]\n",
    "    ```\n",
    "    \"\"\",\n",
    "    llm='mistralai/Mixtral-8x7B-Instruct-v0.1'\n",
    ")\n",
    "searched = try_and_parse(user_query, search, markdown=True)\n",
    "searched"
   ]
  },
  {
   "cell_type": "markdown",
   "id": "991985cf-7860-4389-bb76-ae2b1e65c255",
   "metadata": {},
   "source": [
    "## Step 2. Search Wikipedia "
   ]
  },
  {
   "cell_type": "code",
   "execution_count": 6,
   "id": "9774e298-43a4-410d-8ca5-cab51af71220",
   "metadata": {},
   "outputs": [
    {
     "name": "stderr",
     "output_type": "stream",
     "text": [
      "C:\\Users\\ngkey\\AppData\\Local\\Temp\\ipykernel_9756\\1304537679.py:3: UserWarning: DDGS running in an async loop. This may cause errors. Use AsyncDDGS instead.\n",
      "  ddgs = DDGS()\n"
     ]
    }
   ],
   "source": [
    "import random\n",
    "wiki = MediaWikiAPI()\n",
    "ddgs = DDGS()\n",
    "\n",
    "articles = list(\n",
    "    set(\n",
    "        \n",
    "        [i for j in [wiki.search(cat, results=5) for cat in searched] for i in j]\n",
    "        \n",
    "    )\n",
    ") # remove duplicates with set(list())\n",
    "\n",
    "\n"
   ]
  },
  {
   "cell_type": "code",
   "execution_count": 7,
   "id": "02da24c4-16b8-4349-b0ff-838eb546469c",
   "metadata": {},
   "outputs": [
    {
     "data": {
      "text/plain": [
       "['Stochastic dynamic programming',\n",
       " 'Program optimization',\n",
       " 'Constrained optimization',\n",
       " 'Dynamic program analysis',\n",
       " 'Greedy algorithm',\n",
       " 'Type system',\n",
       " 'Multi-armed bandit',\n",
       " 'Metaheuristic',\n",
       " 'Dynamic programming',\n",
       " 'Programming language',\n",
       " 'Reinforcement learning',\n",
       " 'Travelling salesman problem',\n",
       " 'Hamiltonian path problem',\n",
       " 'Matrix chain multiplication',\n",
       " 'Dynamic programming language',\n",
       " 'Swarm intelligence',\n",
       " 'Mathematical optimization',\n",
       " 'Introduction to Algorithms',\n",
       " 'Stochastic programming']"
      ]
     },
     "execution_count": 7,
     "metadata": {},
     "output_type": "execute_result"
    }
   ],
   "source": [
    "articles"
   ]
  },
  {
   "cell_type": "code",
   "execution_count": 8,
   "id": "312a79b9-23fc-4ccd-bb0e-31c01a9a19c5",
   "metadata": {},
   "outputs": [],
   "source": [
    "random.shuffle(articles) # random shuffle\n",
    "snippet = trim(\n",
    "    list(map(lambda x: wiki.summary(x, auto_suggest=False, sentences=1), articles))\n",
    ")"
   ]
  },
  {
   "cell_type": "code",
   "execution_count": 9,
   "id": "bc504cd6-6449-47e4-87cf-45d4385c39e8",
   "metadata": {},
   "outputs": [
    {
     "name": "stdout",
     "output_type": "stream",
     "text": [
      "0. A programming language is a system of notation for writing computer programs.\n",
      "\n",
      "1. In computer programming, a type system is a logical system comprising a set of rules that assigns a property called a type (for example, integer, floating point, string) to every term (a word, phrase, or other set of symbols).\n",
      "\n",
      "2. In probability theory and machine learning, the multi-armed bandit problem (sometimes called the K- or N-armed bandit problem) is a problem in which a decision maker iteratively selects one of multiple fixed choices (i.e.\n",
      "\n",
      "3. The Hamiltonian path problem is a topic discussed in the fields of complexity theory and graph theory.\n",
      "\n",
      "4. Dynamic programming is both a mathematical optimization method and an algorithmic paradigm.\n",
      "\n",
      "5. Introduction to Algorithms is a book on computer programming by Thomas H. Cormen, Charles E. Leiserson, Ronald L. Rivest, and Clifford Stein.\n",
      "\n",
      "6. Swarm intelligence (SI) is the collective behavior of decentralized, self-organized systems, natural or artificial.\n",
      "\n",
      "7. Mathematical optimization (alternatively spelled optimisation) or mathematical programming is the selection of a best element, with regard to some criterion, from some set of available alternatives.\n",
      "\n",
      "8. In mathematical optimization, constrained optimization (in some contexts called constraint optimization) is the process of optimizing an objective function with respect to some variables  in the presence of constraints on those variables.\n",
      "\n",
      "9. The travelling salesperson problem, also known as travelling salesman problem (TSP), asks the following question: \"Given a list of cities and the distances between each pair of cities, what is the shortest possible route that visits each city exactly once and returns to the origin city?\" It is an NP-hard problem in combinatorial optimization, important in theoretical computer science and operations research.\n",
      "\n",
      "10. A greedy algorithm is any algorithm that follows the problem-solving heuristic of making the locally optimal choice at each stage.\n",
      "\n",
      "11. Matrix chain multiplication (or the matrix chain ordering problem) is an optimization problem concerning the most efficient way to multiply a given sequence of matrices.\n",
      "\n",
      "12. In the field of mathematical optimization, stochastic programming is a framework for modeling optimization problems that involve uncertainty.\n",
      "\n",
      "13. In computer science, a dynamic programming language is a class of high-level programming languages, which at runtime execute many common programming behaviours that static programming languages perform during compilation.\n",
      "\n",
      "14. Originally introduced by Richard E. Bellman in (Bellman 1957), stochastic dynamic programming is a technique for modelling and solving problems of decision making under uncertainty.\n",
      "\n",
      "15. Reinforcement learning (RL) is an interdisciplinary area of machine learning and optimal control concerned with how an intelligent agent ought to take actions in a dynamic environment in order to maximize the cumulative reward.\n",
      "\n",
      "16. In computer science, program optimization, code optimization, or software optimization is the process of modifying a software system to make some aspect of it work more efficiently or use fewer resources.\n",
      "\n",
      "17. In computer science and mathematical optimization, a metaheuristic is a higher-level procedure or heuristic designed to find, generate, tune, or select a heuristic (partial search algorithm) that may provide a sufficiently good solution to an optimization problem or a machine learning problem, especially with incomplete or imperfect information or limited computation capacity.\n",
      "\n",
      "18. Dynamic program analysis is analysis of computer software that involves executing the program in question (as opposed to static program analysis, which does not).\n"
     ]
    }
   ],
   "source": [
    "\n",
    "\n",
    "snippet_text = format_site_description(snippet)\n",
    "\n",
    "print(snippet_text)"
   ]
  },
  {
   "cell_type": "markdown",
   "id": "7e4c3a42-cb48-475e-937f-5d02d4f9f065",
   "metadata": {},
   "source": [
    "## Step 2b. Search the Internet (DDG)"
   ]
  },
  {
   "cell_type": "code",
   "execution_count": 10,
   "id": "116b2ce9-a054-4a05-b2c7-a5ae36beb886",
   "metadata": {},
   "outputs": [
    {
     "name": "stderr",
     "output_type": "stream",
     "text": [
      "C:\\Users\\ngkey\\anaconda3\\envs\\dsa42123\\Lib\\site-packages\\curl_cffi\\aio.py:39: RuntimeWarning: \n",
      "    Proactor event loop does not implement add_reader family of methods required.\n",
      "    Registering an additional selector thread for add_reader support.\n",
      "    To avoid this warning use:\n",
      "        asyncio.set_event_loop_policy(WindowsSelectorEventLoopPolicy())\n",
      "    \n",
      "  warnings.warn(PROACTOR_WARNING, RuntimeWarning)\n"
     ]
    }
   ],
   "source": [
    "ddg_results = list(\n",
    "    set(\n",
    "        [tuple(i.values()) for j in [ddgs.text(cat, max_results=3) for cat in searched] for i in j]\n",
    "        )\n",
    "    )\n",
    "random.shuffle(ddg_results)\n",
    "ddg_results = trim(ddg_results, keep=15)\n",
    "websites, links, body = zip(\n",
    "    *ddg_results\n",
    ")"
   ]
  },
  {
   "cell_type": "code",
   "execution_count": 11,
   "id": "174f4e0c-1606-47b6-bb9e-a599a3ccb231",
   "metadata": {},
   "outputs": [
    {
     "name": "stdout",
     "output_type": "stream",
     "text": [
      "0. ('https://www.javatpoint.com/dynamic-programming-vs-greedy-method', '1. Dynamic Programming is used to obtain the optimal solution. 1. Greedy Method is also used to get the optimal solution. 2. In Dynamic Programming, we choose at each step, but the choice may depend on the solution to sub-problems. 2. In a greedy Algorithm, we make whatever choice seems best at the moment and then solve the sub-problems arising ...')\n",
      "\n",
      "1. ('https://stackoverflow.com/questions/13713572/how-is-dynamic-programming-different-from-greedy-algorithms', 'It is also incorrect. \"The difference between dynamic programming and greedy algorithms is that the subproblems overlap\" is not true. Both dynamic programming and the greedy approach can be applied to the same problem (which may have overlapping subproblems); the difference is that the greedy approach does not reconsider its decisions, whereas dynamic programming will/may keep on refining choices.')\n",
      "\n",
      "2. ('https://www.geeksforgeeks.org/introduction-to-dynamic-programming-data-structures-and-algorithm-tutorials/', 'Dynamic programming algorithms are guaranteed to find the optimal solution among a set of possible solutions, provided that the problem satisfies the principle of optimality. The solutions to subproblems can be stored in a table, which can be reused for similar problems. Dynamic programming can be applied to a wide range of problems, including ...')\n",
      "\n",
      "3. ('https://stackoverflow.blog/2022/01/31/the-complete-beginners-guide-to-dynamic-programming/', 'Dynamic programming is a technique that breaks down a problem into smaller, individualized components and uses data storage and reuse to increase algorithm efficiency. Learn how to apply dynamic programming to common problems such as pair of numbers, Fibonacci sequence, and memoization with code examples in Swift.')\n",
      "\n",
      "4. ('https://www.makeuseof.com/dynamic-programming-tutorial/', 'Learn what dynamic programming is, how to apply it to common problems, and see the code for each problem. Dynamic programming is an optimization method for recursive algorithms that uses memoization to reduce time complexity. The tutorial covers knapsack, fibonacci, longest increasing subsequence, and more.')\n",
      "\n",
      "5. ('https://www.geeksforgeeks.org/dynamic-programming/', 'Learn what is dynamic programming, how to optimize recursive solutions using memoization and store subproblems, and how to solve standard problems using dynamic programming. Explore topics such as bitmasking, optimal substructure, overlapping subproblems, and more with tutorials, quizzes, and practice problems.')\n",
      "\n",
      "6. ('https://en.wikipedia.org/wiki/Dynamic_programming', 'Dynamic programming is both a mathematical optimization method and an algorithmic paradigm. The method was developed by Richard Bellman in the 1950s and has found applications in numerous fields, from aerospace engineering to economics .')\n",
      "\n",
      "7. ('https://en.wikipedia.org/wiki/Dynamic_programming', 'Dynamic programming is widely used in bioinformatics for tasks such as sequence alignment, protein folding, RNA structure prediction and protein-DNA binding. The first dynamic programming algorithms for protein-DNA binding were developed in the 1970s independently by Charles DeLisi in USA and Georgii Gurskii and Alexander Zasedatelev in USSR.')\n",
      "\n",
      "8. ('https://stackoverflow.blog/2022/01/31/the-complete-beginners-guide-to-dynamic-programming/', 'Learn what dynamic programming is and how to apply it to various problems using code examples in Swift and other languages. Dynamic programming is a way of thinking that breaks down a problem into smaller, individualized components and uses data storage and reuse to increase algorithm efficiency.')\n",
      "\n",
      "9. ('https://www.geeksforgeeks.org/dynamic-programming/', 'Learn the basics and advanced concepts of dynamic programming, a technique to optimize recursive solutions by storing subproblem results. Explore problems, examples, quizzes and courses on dynamic programming.')\n",
      "\n",
      "10. ('https://www.geeksforgeeks.org/greedy-approach-vs-dynamic-programming/', 'Feature. Greedy method Dynamic programming; Feasibility . In a greedy Algorithm, we make whatever choice seems best at the moment in the hope that it will lead to global optimal solution.: In Dynamic Programming we make decision at each step considering current problem and solution to previously solved sub problem to calculate optimal solution .: Optimality. In Greedy Method, sometimes there ...')\n",
      "\n",
      "11. ('http://web.mit.edu/15.053/www/AMP-Chapter-11.pdf', 'Dynamic Programming. 11. Dynamic programming is an optimization approach that transforms a complex problem into a sequence of simpler problems; its essential characteristic is the multistage nature of the optimization procedure. More so than the optimization techniques described previously, dynamic programming provides a general framework for ...')\n",
      "\n",
      "12. ('https://www.geeksforgeeks.org/dynamic-programming/', 'Dynamic Programming is a method used in mathematics and computer science to solve complex problems by breaking them down into simpler subproblems. By solving each subproblem only once and storing the results, it avoids redundant computations, leading to more efficient solutions for a wide range of problems. Dynamic Programming.')\n"
     ]
    }
   ],
   "source": [
    "ddg_snippet_text = format_site_description(list(zip(links, body)))\n",
    "print(ddg_snippet_text)"
   ]
  },
  {
   "cell_type": "markdown",
   "id": "e792e56b-df41-4a8f-9e03-d1e3a205d498",
   "metadata": {},
   "source": [
    "## Step 3. \"Brainstorm\" and filter Wikipedia/DDG searches for useful ones\n",
    "I treat them separately. Also: Chain-of-thought prompting\n",
    "https://www.promptingguide.ai/techniques/cot"
   ]
  },
  {
   "cell_type": "code",
   "execution_count": 12,
   "id": "2a940365-1bd4-4a4b-b6af-0aa869ab6d88",
   "metadata": {},
   "outputs": [
    {
     "name": "stdout",
     "output_type": "stream",
     "text": [
      "0. - Introduces the concept of programming languages, but does not specifically address dynamic programming, therefore not useful.\n",
      "1. - Discusses type systems in programming, which is not directly related to the concept of dynamic programming, therefore not useful.\n",
      "2. - The multi-armed bandit problem is a specific problem in probability and machine learning, not directly related to dynamic programming, therefore not useful.\n",
      "3. - Hamiltonian path problem is a topic in graph theory and complexity, not directly related to dynamic programming, therefore not useful.\n",
      "4. - Directly discusses dynamic programming as a method and paradigm, therefore useful.\n",
      "5. - A book on computer programming that likely covers dynamic programming, but the entry itself is not about dynamic programming, therefore not useful.\n",
      "6. - Swarm intelligence is about collective behavior, not related to dynamic programming, therefore not useful.\n",
      "7. - Mathematical optimization is a field where dynamic programming can be applied, but the entry is not specific to dynamic programming, therefore not useful.\n",
      "8. - Constrained optimization is a part of mathematical optimization, which may involve dynamic programming, but the entry itself is not specific to dynamic programming, therefore not useful.\n",
      "9. - Travelling salesperson problem is an example where dynamic programming can be applied, but the entry is about the problem itself, not the method of dynamic programming, therefore not useful.\n",
      "10. - Greedy algorithms are a different problem-solving heuristic from dynamic programming, therefore not useful.\n",
      "11. - Matrix chain multiplication is a specific optimization problem that can be solved using dynamic programming, therefore useful.\n",
      "12. - Stochastic programming involves uncertainty and is not directly related to the concept of dynamic programming, therefore not useful.\n",
      "13. - Dynamic programming languages are about languages that execute behaviors at runtime, not about the algorithmic paradigm of dynamic programming, therefore not useful.\n",
      "14. - Stochastic dynamic programming is a specific application of dynamic programming, therefore useful.\n",
      "15. - Reinforcement learning is a field where dynamic programming can be applied, but the entry is about the broader topic, not specifically about dynamic programming, therefore not useful.\n",
      "16. - Program optimization is a broad field that might include dynamic programming, but the entry is not specific to dynamic programming, therefore not useful.\n",
      "17. - Metaheuristics are higher-level procedures for optimization and may involve dynamic programming, but the entry is not specific to dynamic programming, therefore not useful.\n",
      "18. - Dynamic program analysis involves executing a program, which is unrelated to the algorithmic paradigm of dynamic programming, therefore not useful.\n",
      "\n",
      "```\n",
      "[4, 11, 14]\n",
      "```\n",
      "[4, 11, 14]\n"
     ]
    }
   ],
   "source": [
    "choose_topics = lambda user_query: client.answer_question(\n",
    "        question=f\"\"\"{user_query}\n",
    "        Referring to the list of wikipedia entries you have been provided, decide on which topics are useful for the presentation. For each entry, explain, in a few words,\\\n",
    "        whether you think an entry is useful or not and why.\n",
    "        After that, generate a code chunk. Within the code chunk is an array of integers in JSON, and these integers correspond to the topics you think are useful.\n",
    "        For each line, think about its usefulness/relevance and make some short deductions, then conclude whether it is useful or not useful.\n",
    "        Please keep strictly to the format in the following example:\n",
    "        0. - Sugar irrelevant to Jesus Christ, therefore not useful.\n",
    "        1. - Christianity is about the topic of Jesus Christ, thus Useful.\n",
    "        2. - Protestants follow Jesus Christ, therefore useful.\n",
    "        ```\n",
    "        [1, 2]\n",
    "        ```\n",
    "        \"\"\",\n",
    "        system_prompt=f\"\"\"You are an assistant whose task is to help a user in creating a presentation.\\\n",
    "        Here are a list of wikipedia entries, starting from the 0th entry, that may or may not be related to the topic at hand:\n",
    "        {snippet_text}\n",
    "        \"\"\",\n",
    "        llm='gpt-4-1106-preview' # only instance of gpt4 usage. need this for the big brain.\n",
    "    )\n",
    "\n",
    "topics = try_and_parse(user_query, choose_topics, markdown=True)\n",
    "print(topics)"
   ]
  },
  {
   "cell_type": "code",
   "execution_count": 13,
   "id": "b2e216c3-a3fa-4755-91ed-5b56256d67cb",
   "metadata": {},
   "outputs": [
    {
     "data": {
      "text/plain": [
       "['Programming language',\n",
       " 'Type system',\n",
       " 'Multi-armed bandit',\n",
       " 'Hamiltonian path problem',\n",
       " 'Dynamic programming',\n",
       " 'Introduction to Algorithms',\n",
       " 'Swarm intelligence',\n",
       " 'Mathematical optimization',\n",
       " 'Constrained optimization',\n",
       " 'Travelling salesman problem',\n",
       " 'Greedy algorithm',\n",
       " 'Matrix chain multiplication',\n",
       " 'Stochastic programming',\n",
       " 'Dynamic programming language',\n",
       " 'Stochastic dynamic programming',\n",
       " 'Reinforcement learning',\n",
       " 'Program optimization',\n",
       " 'Metaheuristic',\n",
       " 'Dynamic program analysis']"
      ]
     },
     "execution_count": 13,
     "metadata": {},
     "output_type": "execute_result"
    }
   ],
   "source": [
    "articles"
   ]
  },
  {
   "cell_type": "code",
   "execution_count": 14,
   "id": "6f1e8a6a-26f2-4915-821e-9ca9e01d7899",
   "metadata": {},
   "outputs": [
    {
     "data": {
      "text/plain": [
       "['Dynamic programming',\n",
       " 'Matrix chain multiplication',\n",
       " 'Stochastic dynamic programming']"
      ]
     },
     "execution_count": 14,
     "metadata": {},
     "output_type": "execute_result"
    }
   ],
   "source": [
    "chosen_articles = [articles[i] for i in topics]\n",
    "chosen_snippets = [snippet[i] for i in topics]\n",
    "chosen_articles"
   ]
  },
  {
   "cell_type": "code",
   "execution_count": 15,
   "id": "6b730249-875b-4ed0-93fc-16c2d4fd163f",
   "metadata": {},
   "outputs": [],
   "source": [
    "chosen_full_articles = list(map(lambda x: wiki.page(x, auto_suggest=False).content, chosen_articles))\n",
    "chosen_articles_images = list(map(lambda x: wiki.page(x, auto_suggest=False).images, chosen_articles))\n"
   ]
  },
  {
   "cell_type": "markdown",
   "id": "24746d75-6d25-4e13-8ed1-30bfaefe91a2",
   "metadata": {},
   "source": [
    "## Step 3b. Filter DDG Searches"
   ]
  },
  {
   "cell_type": "code",
   "execution_count": 16,
   "id": "769aac5a-5ebd-4cb3-8d7c-1487b5b80118",
   "metadata": {},
   "outputs": [
    {
     "name": "stdout",
     "output_type": "stream",
     "text": [
      "0. - Compares dynamic programming and greedy method, provides distinctions, therefore useful.\n",
      "1. - Clarifies misconceptions about dynamic programming and greedy algorithms, therefore useful.\n",
      "2. - Explains the guarantee of finding an optimal solution and the principle of optimality in dynamic programming, therefore useful.\n",
      "3. - Offers a beginner's guide to dynamic programming with practical examples, therefore useful.\n",
      "4. - Provides a tutorial on dynamic programming with code examples, therefore useful.\n",
      "5. - Covers optimization of recursive solutions and standard problems in dynamic programming, therefore useful.\n",
      "6. - Wikipedia link, omitted despite relevance.\n",
      "7. - Wikipedia link, omitted despite relevance.\n",
      "8. - Similar to entry 3, offers a guide to dynamic programming, therefore useful.\n",
      "9. - Explores basic and advanced concepts of dynamic programming, therefore useful.\n",
      "10. - Compares greedy method and dynamic programming, highlighting differences, therefore useful.\n",
      "11. - PDF document, might not be directly usable in a presentation, thus not useful.\n",
      "12. - Explains the method and efficiency of dynamic programming, therefore useful.\n",
      "\n",
      "```\n",
      "[0, 1, 2, 3, 4, 5, 8, 9, 10, 12]\n",
      "```\n"
     ]
    },
    {
     "data": {
      "text/plain": [
       "[0, 1, 2, 3, 4, 5, 8, 9, 10, 12]"
      ]
     },
     "execution_count": 16,
     "metadata": {},
     "output_type": "execute_result"
    }
   ],
   "source": [
    "choose_ddg_topics = lambda user_query: client.answer_question(\n",
    "        question=f\"\"\"{user_query}\n",
    "        Referring to the list of websites you have been provided, decide on which topics are useful for the presentation. For each entry, explain, in a few words,\\\n",
    "        whether you think an entry is useful or not and why.\n",
    "        After that, generate a code chunk. Within the code chunk is an array of integers in JSON, and these integers correspond to the topics you think are useful\\\n",
    "        and are NOT from wikipedia.\n",
    "        For each line, think about its usefulness/relevance and make some short deductions, then conclude whether it is useful or not useful.\n",
    "        Please keep strictly to the format in the following example:\n",
    "        0. - Sugar irrelevant to Jesus Christ, therefore not useful.\n",
    "        1. - Christianity is about the topic of Jesus Christ, thus Useful.\n",
    "        2. - Protestants follow Jesus Christ, therefore useful.\n",
    "        3. - Website is a link to a youtube video, which is not suitable for a presentation, thus not useful.\n",
    "        4. - This is relevant, but it is a Wikipedia link, so it is omitted.\n",
    "        ```\n",
    "        [1, 2]\n",
    "        ```\n",
    "        \"\"\",\n",
    "        system_prompt=f\"\"\"You are an assistant whose task is to help a user in creating a presentation.\\\n",
    "        Here are a list of website body text, starting from the 0th entry, that may or may not be related to the topic at hand:\n",
    "        {ddg_snippet_text}\n",
    "        \"\"\",\n",
    "        llm='gpt-4-1106-preview' # only instance of gpt4 usage. need this for the big brain.\n",
    "    )\n",
    "ddg_topics = try_and_parse(user_query, choose_ddg_topics, markdown=True)\n",
    "\n",
    "ddg_topics"
   ]
  },
  {
   "cell_type": "code",
   "execution_count": 17,
   "id": "0e6d2261-b18a-49e2-9fac-e0b534287d81",
   "metadata": {},
   "outputs": [],
   "source": [
    "chosen_websites, chosen_links, chosen_body = ([websites[i] for i in ddg_topics], [links[i] for i in ddg_topics], [body[i] for i in ddg_topics])"
   ]
  },
  {
   "cell_type": "markdown",
   "id": "52c25911-fcbe-437b-8452-0c0339b72491",
   "metadata": {},
   "source": [
    "## Step 4: Store useful ideas in VectorDB (h2oai)"
   ]
  },
  {
   "cell_type": "code",
   "execution_count": 18,
   "id": "15055ab0-f43b-4f6a-849c-c6a98ad6eca1",
   "metadata": {},
   "outputs": [],
   "source": [
    "\n",
    "    \n",
    "# now its time to store them for RAG\n",
    "import os\n",
    "\n",
    "\n",
    "collection_id = client.create_collection(\n",
    "    name='Articles',\n",
    "    description='Articles for presentation',\n",
    ")\n",
    "\n",
    "pages = dict(zip(chosen_articles, chosen_full_articles))\n",
    "\n"
   ]
  },
  {
   "cell_type": "code",
   "execution_count": 19,
   "id": "57bdbe96-7895-41be-9566-d99c4d03f369",
   "metadata": {},
   "outputs": [
    {
     "name": "stderr",
     "output_type": "stream",
     "text": [
      "100%|████████████████████████████████████████████████████████████████████████████████████| 3/3 [00:10<00:00,  3.39s/it]\n"
     ]
    },
    {
     "data": {
      "text/plain": [
       "Job(id='fb445bd5-ae98-4976-91bc-442a03182118', passed=1.0, failed=0.0, progress=1.0, completed=True, canceled=False, date=datetime.datetime(2024, 2, 29, 11, 43, 53, tzinfo=TzInfo(UTC)), kind=<JobKind.IngestUploadsJob: 'IngestUploadsJob'>, statuses=[JobStatus(id='2518ce5b5eb34ce191d7dbbcbf613118', status='Indexing done.'), JobStatus(id='164b869012b2498398bf12b1cc3138e2', status='Indexing done.'), JobStatus(id='6533e581ed56426dabccde33b0f1921f', status='Indexing done.'), JobStatus(id='f5706ac2e39d4bba8eb5c8165393a3e5', status='Collecting done.')], errors=[], last_update_date=datetime.datetime(2024, 2, 29, 11, 44, 14, tzinfo=TzInfo(UTC)), duration='21s')"
      ]
     },
     "execution_count": 19,
     "metadata": {},
     "output_type": "execute_result"
    }
   ],
   "source": [
    "\n",
    "to_ingest = []\n",
    "for title, content in (pages.items()):\n",
    "    title = re.sub('[\\W_]+', '', title)\n",
    "    name = f\"./articles/{title}.txt\"\n",
    "    f = open(name, \"w+\", encoding=\"utf-8\")\n",
    "    f.write(content)\n",
    "    f.close() # dont know why i gotta do this, i think it has to be in binary\n",
    "    f = open(name, 'rb')\n",
    "    to_ingest.append(client.upload(name, f))\n",
    "    \n",
    "    f.close() \n",
    "\n",
    "client.ingest_uploads(collection_id, to_ingest)  "
   ]
  },
  {
   "cell_type": "code",
   "execution_count": 20,
   "id": "3cb2ff31-a3ba-4b9c-89b8-7f5158ab50c5",
   "metadata": {},
   "outputs": [
    {
     "name": "stderr",
     "output_type": "stream",
     "text": [
      "100%|██████████████████████████████████████████████████████████████████████████████████| 10/10 [00:44<00:00,  4.41s/it]\n"
     ]
    },
    {
     "data": {
      "text/plain": [
       "Job(id='fb11990e-fe04-4018-97c0-44b751e3416a', passed=0.5, failed=0.5, progress=1.0, completed=True, canceled=False, date=datetime.datetime(2024, 2, 29, 11, 45, 1, tzinfo=TzInfo(UTC)), kind=<JobKind.IngestUploadsJob: 'IngestUploadsJob'>, statuses=[JobStatus(id='f5706ac2e39d4bba8eb5c8165393a3e5', status='Collecting files...')], errors=['Job crashed: S3 operation failed; code: NoSuchKey, message: Object does not exist, resource: /h2ogpte-web-uploads/e6af1c36-166f-4488-ab30-321fcdf46f27/9c10078f-36e1-478f-8599-83535ade387e, request_id: 17B852CD9FD9FC1C, host_id: 292fc9e0c54138519d4cedfc5e6f652e396c2bf1612c53cfc4cd3bddf4b165a9, bucket_name: h2ogpte-web-uploads, object_name: e6af1c36-166f-4488-ab30-321fcdf46f27/9c10078f-36e1-478f-8599-83535ade387e'], last_update_date=datetime.datetime(2024, 2, 29, 11, 45, 1, tzinfo=TzInfo(UTC)), duration='0s')"
      ]
     },
     "execution_count": 20,
     "metadata": {},
     "output_type": "execute_result"
    }
   ],
   "source": [
    "\n",
    "\n",
    "# http = urllib3.PoolManager()\n",
    "# to_ingest = [] # CLEAR LIST\n",
    "# for link in tqdm(chosen_links):\n",
    "#     page = http.request('GET', link)\n",
    "#     html_content = page.data.decode('utf-8')\n",
    "#     rendered_content = html2text.html2text(html_content)\n",
    "    \n",
    "#     sanitised_fname = re.sub(r'[\\W_]+', '_', link)\n",
    "#     path = f\"./articles/{sanitised_fname}.txt\"\n",
    "#     file = open(path, 'w', encoding='utf-8')\n",
    "#     file.write(rendered_content)\n",
    "#     file.close()\n",
    "\n",
    "#     f = open(path, 'rb')\n",
    "#     to_ingest.append(client.upload(path, f)) \n",
    "#     f.close()\n",
    "\n",
    "# client.ingest_uploads(collection_id, to_ingest)  \n",
    "\n",
    "\n",
    "import urllib3\n",
    "import html2text\n",
    "import re\n",
    "from tqdm import tqdm\n",
    "from bs4 import BeautifulSoup\n",
    "\n",
    "\n",
    "\n",
    "http = urllib3.PoolManager()\n",
    "h = html2text.HTML2Text()\n",
    "h.ignore_links = True  # Optionally ignore links in the output\n",
    "\n",
    "for link in tqdm(chosen_links):\n",
    "    try:\n",
    "        # Make a GET request to the URL\n",
    "        page = http.request('GET', link, headers=\\\n",
    "                            {\n",
    "                                \"User-Agent\": \n",
    "                                \"Mozilla/5.0 (iPhone; CPU iPhone OS 17_3_1 like Mac OS X) AppleWebKit/605.1.15 (KHTML, like Gecko) CriOS/122.0.6261.89 Mobile/15E148 Safari/604.1\"\n",
    "                            }\n",
    "                           )\n",
    "        \n",
    "        # Decode the bytes object to a string\n",
    "        html_content = page.data.decode('utf-8')\n",
    "        \n",
    "        # Parse the HTML content with BeautifulSoup\n",
    "        soup = BeautifulSoup(html_content, 'html.parser')\n",
    "        \n",
    "        # Extract the body content\n",
    "        body_content = soup.find('body')\n",
    "        \n",
    "        # Convert the body content to plain text\n",
    "        rendered_content = h.handle(str(body_content))\n",
    "        \n",
    "        # Sanitize the filename\n",
    "        sanitised_fname = re.sub(r'[\\W_]+', '_', link)\n",
    "        path = f\"./articles/{sanitised_fname}.txt\"\n",
    "        \n",
    "        # Write the rendered content to the file\n",
    "        with open(path, 'w', encoding='utf-8') as file:\n",
    "            file.write(rendered_content)\n",
    "\n",
    "        with open(path, 'rb') as f:\n",
    "            to_ingest.append(client.upload(path, f)) \n",
    "        \n",
    "\n",
    "        \n",
    "    except urllib3.exceptions.HTTPError as errh:\n",
    "        print(f\"HTTP Error: {errh}\")\n",
    "    except urllib3.exceptions.ConnectionError as errc:\n",
    "        print(f\"Error Connecting: {errc}\")\n",
    "    except urllib3.exceptions.TimeoutError as errt:\n",
    "        print(f\"Timeout Error: {errt}\")\n",
    "    except Exception as err:\n",
    "        print(f\"An error occurred: {err}\")\n",
    "\n",
    "client.ingest_uploads(collection_id, to_ingest)"
   ]
  },
  {
   "cell_type": "code",
   "execution_count": 21,
   "id": "3a09dd48-416f-455b-95ce-1decb3c219bf",
   "metadata": {},
   "outputs": [],
   "source": [
    "# delete\n",
    "files_dir = glob.glob('./articles/*.txt')\n",
    "for f in files_dir:\n",
    "    os.remove(f)"
   ]
  },
  {
   "cell_type": "markdown",
   "id": "f6d92505-2864-4532-a6d0-feb91d1d4fe4",
   "metadata": {},
   "source": [
    "## Step 5: Plan sections for slide\n",
    "This is to ensure the entire presentation is a coherent one with a flow/narrative, instead of many disjoint/overlapping generations.\n",
    "Again, chain of thought prompting is very heavily incorporated"
   ]
  },
  {
   "cell_type": "code",
   "execution_count": 22,
   "id": "9d1a7ba5-2cdf-4f4e-b811-2d17abf3f119",
   "metadata": {},
   "outputs": [
    {
     "name": "stdout",
     "output_type": "stream",
     "text": [
      "1. For the presentation on dynamic programming, I would start with an introductory slide that explains what dynamic programming is and its importance in computer science. Then, I would create slides for each of the provided articles, starting with a slide on dynamic programming, followed by matrix chain multiplication, and ending with stochastic dynamic programming. I would also include slides on the differences between dynamic programming and greedy algorithms, as well as examples and common problems in dynamic programming.\n",
      "2. A good title for the presentation could be \"Dynamic Programming: Techniques and Applications\".\n",
      "3. Here is the JSON array of slide titles:\n",
      "```json\n",
      "[\n",
      "\"Dynamic Programming: Techniques and Applications\",\n",
      "\"Introduction to Dynamic Programming\",\n",
      "\"Matrix Chain Multiplication\",\n",
      "\"Stochastic Dynamic Programming\",\n",
      "\"Dynamic Programming vs Greedy Algorithms\",\n",
      "\"Dynamic Programming Examples and Common Problems\",\n",
      "\"Conclusion\"\n",
      "]\n",
      "```\n",
      "Regarding the chosen websites, I would include relevant information from them in the appropriate slides, such as explanations, examples, and problem solutions. I would also use them as additional resources for further reading and learning.\n"
     ]
    }
   ],
   "source": [
    "decide_sections = lambda user_query: client.answer_question(\n",
    "        question=f\"\"\"{user_query}\n",
    "        Please plan the presentation by doing the following:\n",
    "        1. Explain how you would design the presentation slides such that the presentation will flow well.\\\n",
    "        Remember that each slide must contain something different, and content should not overlap.\n",
    "        2. Think of a good title for the presentation.\n",
    "        3. Create a code chunk. Inside that code chunk, generate a JSON array consisting of appropriate slide titles starting from the first slide to the last slide, \\\n",
    "        remembering your answer to point 2. Include the title slide, which is the title for the presentation.\n",
    "\n",
    "        Below is an example reply. Please adhere strictly to the format in the example below and remember to output the JSON array in a code chunk:  \n",
    "        1. I would introduce the Transformers franchise and provide general information about its history to ease my viewers into the subject. \\\n",
    "        Then, I will think about subtopics, such as the Transformers films, Transformers characters and Transformers in comics, using the wikipedia entry summaries\\\n",
    "        I have been provided. \n",
    "            * For my first subtopic, the Transformers films, I would create two additional slides to expand on Bumblebee (2018) and Revenge of the Fallen (2009)\\\n",
    "            as these are popular films within the franchise. I will order the films chronologically.\n",
    "            * For my second subtopic on Transformers characters, I will have a slide on the cast of the film. \n",
    "            * For my next subtopic...\n",
    "        2. I think a good title for this presentation is \"Transformers: An Overview\".\n",
    "        3. Here is the json array of slide titles:\n",
    "        ```json\n",
    "        [\n",
    "        \"Transformers: An Overview\", \n",
    "        \"Introduction to Transformers\", \n",
    "        \"Transformers in Film\",\n",
    "        \"Transformers: Revenge of the Fallen (2009)\", \n",
    "        \"Bumblebee (2018)\", \n",
    "        \"Characters in the Transformers Universe\", \n",
    "        \"Transformers in comics\",\n",
    "        \"Conclusion\"\n",
    "        ]\n",
    "        ```\n",
    "        \"\"\",\n",
    "        system_prompt=f\"\"\"You are an assistant whose task is to help a user in creating a presentation.\\\n",
    "        Below is a list of wikipedia articles that are selected for the presentation.\\\n",
    "        You will be asked to come up with slide titles for the presentation. Each line is a 1-sentence summary of a wikipedia page.\\\n",
    "        The number of slides should depend on the amount of information/wikipedia entry articles and websites available.\n",
    "        Articles:\n",
    "        {chosen_articles}\n",
    "        Chosen websites:\n",
    "        {format_site_description(list(zip(chosen_websites, chosen_links)))}\n",
    "        \"\"\",\n",
    "        llm='mistralai/Mixtral-8x7B-Instruct-v0.1' \n",
    "    )\n",
    "\n",
    "all_sections = try_and_parse(user_query, decide_sections, markdown=True)"
   ]
  },
  {
   "cell_type": "code",
   "execution_count": 23,
   "id": "74ac776f-de82-461d-9313-e671d1ae2dbd",
   "metadata": {},
   "outputs": [
    {
     "data": {
      "text/plain": [
       "['Introduction to Dynamic Programming',\n",
       " 'Matrix Chain Multiplication',\n",
       " 'Stochastic Dynamic Programming',\n",
       " 'Dynamic Programming vs Greedy Algorithms',\n",
       " 'Dynamic Programming Examples and Common Problems',\n",
       " 'Conclusion']"
      ]
     },
     "execution_count": 23,
     "metadata": {},
     "output_type": "execute_result"
    }
   ],
   "source": [
    "sections = all_sections[1:]\n",
    "\n",
    "sections"
   ]
  },
  {
   "cell_type": "code",
   "execution_count": 24,
   "id": "a5e83322-475c-4678-8f4c-f822ab5e5386",
   "metadata": {},
   "outputs": [
    {
     "data": {
      "text/plain": [
       "'22d29a4e-1535-409c-a4c5-ec8656ee0692'"
      ]
     },
     "execution_count": 24,
     "metadata": {},
     "output_type": "execute_result"
    }
   ],
   "source": [
    "del client\n",
    "client = H2OGPTE(\n",
    "    address=\"https://h2ogpte.genai.h2o.ai\",\n",
    "    api_key=api\n",
    ") # does this reset client?\n",
    "\n",
    "chat_session_id = client.create_chat_session(collection_id)\n",
    "chat_session_id"
   ]
  },
  {
   "cell_type": "markdown",
   "id": "c77e579f-ced4-4c01-93b8-4237e0872788",
   "metadata": {},
   "source": [
    "#### Ref for slide types:  \n",
    "0. title and subtitle \n",
    "1. title and content \n",
    "2. section header \n",
    "3. two content \n",
    "4. Comparison \n",
    "5. Title only  \n",
    "6. Blank \n",
    "7. Content with caption \n",
    "8. Pic with caption \n"
   ]
  },
  {
   "cell_type": "markdown",
   "id": "17338590-9279-49a6-8674-17f2b8c57cdd",
   "metadata": {},
   "source": [
    "## Step 6: Generate using RAG\n",
    "LLM chooses colour with chain-of-thought prompting again."
   ]
  },
  {
   "cell_type": "code",
   "execution_count": 25,
   "id": "11c297ad-f4ef-4aac-a719-e8f2c8237a8f",
   "metadata": {},
   "outputs": [
    {
     "name": "stdout",
     "output_type": "stream",
     "text": [
      "I chose a light grey background color RGB [230, 230, 230] and a dark purple text color RGB [50, 0, 80]. The light grey background provides a subtle contrast to make the text easy to read, while the dark purple text color adds a touch of elegance and professionalism to the slides.\n",
      "```\n",
      "[\n",
      "  {\"background\": [230, 230, 230]},\n",
      "  {\"text\": [50, 0, 80]}\n",
      "]\n",
      "```\n",
      "Slide 1: Introduction to Dynamic Programming\n",
      "============================================\n",
      "\n",
      "Dynamic programming is both a mathematical optimization method and an algorithmic paradigm. It is used to solve complex problems by breaking them down into smaller, more manageable subproblems. The solutions to these subproblems are then combined to find the optimal solution to the original problem.\n",
      "\n",
      "Slide 2: Matrix Chain Multiplication\n",
      "===================================\n",
      "\n",
      "Matrix chain multiplication (or the matrix chain ordering problem) is an optimization problem concerning the most efficient way to multiply a given sequence of matrices. This problem can be solved using dynamic programming by calculating the optimal order of multiplications for each possible partition of the matrix chain.\n",
      "\n",
      "Slide 3: Stochastic Dynamic Programming\n",
      "======================================\n",
      "\n",
      "Originally introduced by Richard E. Bellman in (Bellman 1957), stochastic dynamic programming is a technique for modelling and solving problems of decision making under uncertainty. It is used to find the optimal policy for a sequence of decisions, where the outcome of each decision is uncertain.\n",
      "\n",
      "Slide 4: Conclusion\n",
      "==================\n",
      "\n",
      "Dynamic programming is a powerful tool for solving complex optimization problems. By breaking down problems into smaller subproblems and combining their solutions, dynamic programming allows us to find the optimal solution to even the most difficult problems.\n"
     ]
    }
   ],
   "source": [
    "prs = Presentation()\n",
    "prs.slide_width = Inches(16)\n",
    "prs.slide_height = Inches(9)\n",
    "title_slide = prs.slides.add_slide(prs.slide_layouts[0]) \n",
    "decide_slide_format = lambda user_query: client.answer_question(\n",
    "        question=f\"\"\"{user_query} Think of a good background colour, in RGB format,\\\n",
    "        for the slides and a good colour, also in RGB format, for the\\\n",
    "        text. Typically, if the text colour is bright (for example RGB [255, 255, 255] is white), then the background colour should be dark\n",
    "        (RGB [0, 0, 100] is dark blue). Conversely, if the text colour is dark (for example RGB [0, 0, 0] is black), the background colour should be bright\\\n",
    "        . You are free to choose any text and background colour, \\\n",
    "        as long as you follow these rules. Please do not assign grey-scale colours for the text and background (like RGB [50, 50, 50]), as much as possible.\n",
    "\n",
    "        Explain clearly why you chose the background and text colours. Then, generate a code chunk. Within the code chunk,\\\n",
    "        provide a JSON array containing two colours. Do not say anything else. Adhere strictly to the example reply below:\n",
    "        I chose blue RGB [0, 35, 140] for the background color and light yellow RGB [255, 234, 0] for the font color. The contrast makes it easy to read.\\\n",
    "        Furthermore, the colours blue and yellow are associated with the Pokémon Franchise.\n",
    "        ```\n",
    "        [{{\"background\": [0, 0, 140]}}, {{\"text\": [255, 234, 0]}}]\n",
    "        ```\n",
    "        \"\"\",\n",
    "    \n",
    "        system_prompt=f\"\"\"You are an assistant whose task is to help a user in creating a presentation.\\\n",
    "        Here are a list of wikipedia entry summaries that are selected for the presentation:\n",
    "        {chosen_snippets}\n",
    "        \"\"\",\n",
    "        llm='mistralai/Mixtral-8x7B-Instruct-v0.1' \n",
    ")\n",
    "\n",
    "format = try_and_parse(user_query, decide_slide_format, markdown=True)"
   ]
  },
  {
   "cell_type": "code",
   "execution_count": 26,
   "id": "8a40b715-2ef3-47f0-bcab-db6733e54873",
   "metadata": {
    "scrolled": true
   },
   "outputs": [
    {
     "data": {
      "text/plain": [
       "[{'background': [230, 230, 230]}, {'text': [50, 0, 80]}]"
      ]
     },
     "execution_count": 26,
     "metadata": {},
     "output_type": "execute_result"
    }
   ],
   "source": [
    "format"
   ]
  },
  {
   "cell_type": "code",
   "execution_count": 27,
   "id": "75e78e2a-08ef-4fed-8833-a6ad0296110c",
   "metadata": {},
   "outputs": [],
   "source": [
    "background = RGBColor(*tuple(list(format[0].values())[0])) \n",
    "font = RGBColor(*tuple(list(format[1].values())[0])) \n",
    "fill = title_slide.background.fill\n",
    "fill.solid()\n",
    "fill.fore_color.rgb = background\n",
    "\n",
    "\n",
    "title_slide.shapes.title.text = all_sections[0]\n",
    "title_slide.shapes.title.text_frame.paragraphs[0].font.color.rgb =  font\n",
    "title_slide.shapes.title.text_frame.paragraphs[0].font.name = 'Montserrat'\n",
    "title_slide.shapes.title.text_frame.paragraphs[0].font.bold = True\n",
    "\n",
    "first_shape =  title_slide.shapes[0]\n",
    "first_shape.left, first_shape.top, first_shape.width, first_shape.height = (prs.slide_width - Inches(12))//2, \\\n",
    "(prs.slide_height-first_shape.height)//2 - Inches(1),\\\n",
    "Inches(12),\\\n",
    "Inches(2)"
   ]
  },
  {
   "cell_type": "code",
   "execution_count": 28,
   "id": "14ebca46-abd0-45a9-9f13-82c9242dc2e5",
   "metadata": {},
   "outputs": [
    {
     "name": "stderr",
     "output_type": "stream",
     "text": [
      "100%|████████████████████████████████████████████████████████████████████████████████████| 6/6 [02:31<00:00, 25.20s/it]\n"
     ]
    }
   ],
   "source": [
    "\n",
    "with client.connect(chat_session_id) as session:\n",
    "\n",
    "    for section in tqdm(sections):\n",
    "        slide = prs.slides.add_slide(prs.slide_layouts[1])\n",
    "        fill = slide.background.fill\n",
    "        fill.solid()\n",
    "        fill.fore_color.rgb = background\n",
    "\n",
    "        \n",
    "        contents = slide.placeholders[1]\n",
    "        contents.text_frame.word_wrap = True\n",
    "\n",
    "        title = slide.shapes.title\n",
    "        title.text = section\n",
    "        title.text_frame.paragraphs[0].font.color.rgb = font\n",
    "        title.text_frame.paragraphs[0].font.size = Pt(32)\n",
    "        title.text_frame.paragraphs[0].font.name = 'Karla'\n",
    "       \n",
    "       \n",
    "        content = session.query(\n",
    "            \n",
    "            message = section,\n",
    "            system_prompt=f\"\"\"You are an assistant whose task is to help a user in creating a presentation. \\\n",
    "            The slides of the presentation are as follows: {sections}\n",
    "            You are now tasked with generating the content of one slide, which will be provided by the user.\n",
    "            You are designing one slide, so do not generate long paragraphs. Instead, summarise your most important points\\\n",
    "            in up to 3 sentences each, and do not generate more than 15 lines of text.\n",
    "            \"\"\",\n",
    "            pre_prompt_query=\"You have been provided with the following information, which may be useful in your task.\",\n",
    "            prompt_query=\"\"\"Decide if the information is relevant, and use it if needed.\\\n",
    "            Generate the content required in the slide provided by the user. You only need to generate the contents of the slide, not the title\\\n",
    "            or anything else. Remember, you are designing one slide, so do not generate long paragraphs. Instead, summarise your most important points\\\n",
    "            in up to 3 sentences each, and do not generate more than 15 lines of text. Between each point, leave a line.\n",
    "\n",
    "            Here is an example. Please adhere to this example strictly:\n",
    "            This is the first point I am trying to make. I will explain this first point in the second sentence.\n",
    "            \n",
    "            This is the second point I am trying to make. This is the second sentence for the second point. \\\n",
    "            I need a third sentence to fully explain this point. Notice that I will leave a line for the next point.\n",
    "\n",
    "            This is the third point.\n",
    "            \"\"\",\n",
    "            llm=\"mistralai/Mixtral-8x7B-Instruct-v0.1\",\n",
    "            rag_config={\n",
    "                \"rag_type\": \"hyde1\",\n",
    "            },\n",
    "        ).content\n",
    "\n",
    "        contents.text = content\n",
    "        \n",
    "        for paragraph in contents.text_frame.paragraphs:\n",
    "            paragraph.space_after = 1\n",
    "            paragraph.space_before = 1\n",
    "            # paragraph.level = 0\n",
    "           \n",
    "            paragraph.font.size = Pt(22)  \n",
    "            paragraph.font.color.rgb = font\n",
    "            paragraph.font.name = 'Karla'\n",
    "\n",
    "        contents.text_frame.auto_size = MSO_AUTO_SIZE.SHAPE_TO_FIT_TEXT\n",
    "        shapes = slide.shapes\n",
    "        new_width = Inches(14)\n",
    "        new_height = Inches(7)\n",
    "        shapes[0].height, shapes[0].width, shapes[0].top, shapes[0].left = shapes[0].height, new_width, shapes[0].top, (prs.slide_width-new_width)//2\n",
    "        shapes[1].height, shapes[1].width, shapes[1].top, shapes[1].left = new_height, new_width, shapes[1].top, (prs.slide_width-new_width)//2\n",
    "        \n",
    "        \n",
    "\n",
    "# gpt-4-1106-preview\n"
   ]
  },
  {
   "cell_type": "code",
   "execution_count": 29,
   "id": "80eca615-5789-4b61-bde2-3c69cc95f16a",
   "metadata": {},
   "outputs": [],
   "source": [
    "clear_all_collections(client)\n",
    "clear_all_documents(client)"
   ]
  },
  {
   "cell_type": "markdown",
   "id": "e5355475-527a-47b4-81ec-aff43b9f8142",
   "metadata": {},
   "source": [
    "## Step 7: Enjoy"
   ]
  },
  {
   "cell_type": "code",
   "execution_count": 32,
   "id": "e3de66b9-768e-48c5-9e7d-2b7c5411d9c1",
   "metadata": {},
   "outputs": [],
   "source": [
    "sanitised = re.sub(r'[\\W_]+', '_', all_sections[0])\n",
    "prs.save(f\"./presentations/{sanitised}.pptx\")\n"
   ]
  },
  {
   "cell_type": "code",
   "execution_count": null,
   "id": "4f50c7b6-9b2a-4800-896f-b89868b17c73",
   "metadata": {},
   "outputs": [],
   "source": []
  },
  {
   "cell_type": "markdown",
   "id": "1f9df9ce-fdad-4bb9-9707-0051dc9ab84c",
   "metadata": {},
   "source": [
    "## Appendix: Extra Code that may be useful in the future\n",
    "```python\n",
    "# Create a chat session\n",
    "# chat_session_id = client.create_chat_session(collection_id)\n",
    "\n",
    "# # Query the collection\n",
    "# with client.connect(chat_session_id) as session:\n",
    "#     reply = session.query(\n",
    "#         'How many paper clips were shipped to Scranton?',\n",
    "#         llm=\"gpt-4-0613\"\n",
    "#     )\n",
    "#     print(reply.content)\n",
    "\n",
    "#     reply = session.query(\n",
    "#         'Did David Brent co-sign the contract with Initech?',\n",
    "#         timeout=60,\n",
    "#         llm=\"gpt-4-0613\"\n",
    "#     )\n",
    "#     print(reply.content)\n",
    "\n",
    "# # Summarize each document\n",
    "# documents = client.list_documents_in_collection(collection_id, offset=0, limit=99)\n",
    "# for doc in documents:\n",
    "#     summary = client.summarize_document(\n",
    "#         document_id=doc.id,\n",
    "#         timeout=60,\n",
    "#     )\n",
    "#     print(summary.content)\n",
    "\n",
    "\n",
    "#client.delete_documents_from_collection\n",
    "```"
   ]
  },
  {
   "cell_type": "code",
   "execution_count": null,
   "id": "b059875f-3a43-4fb4-a778-d1ebec0207cc",
   "metadata": {},
   "outputs": [],
   "source": []
  }
 ],
 "metadata": {
  "kernelspec": {
   "display_name": "Python 3 (ipykernel)",
   "language": "python",
   "name": "python3"
  },
  "language_info": {
   "codemirror_mode": {
    "name": "ipython",
    "version": 3
   },
   "file_extension": ".py",
   "mimetype": "text/x-python",
   "name": "python",
   "nbconvert_exporter": "python",
   "pygments_lexer": "ipython3",
   "version": "3.10.11"
  }
 },
 "nbformat": 4,
 "nbformat_minor": 5
}
