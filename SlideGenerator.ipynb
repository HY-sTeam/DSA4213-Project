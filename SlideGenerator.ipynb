{
 "cells": [
  {
   "cell_type": "code",
   "execution_count": 1,
   "id": "4d4b2e41-d0b4-4d37-bc7d-85c2a6dbeb97",
   "metadata": {},
   "outputs": [],
   "source": [
    "import json\n",
    "import numpy as np\n",
    "import os\n",
    "import re\n",
    "from pptx import Presentation\n",
    "from pptx.dml.color import RGBColor\n",
    "from pptx.util import Cm, Pt, Inches\n",
    "from pptx.enum.text import MSO_ANCHOR, MSO_AUTO_SIZE\n",
    "from h2ogpte import H2OGPTE\n",
    "from mediawikiapi import MediaWikiAPI\n",
    "from tqdm import tqdm\n",
    "with open('secrets.txt') as f:\n",
    "    api = f.read()\n",
    "    f.close()\n",
    "\n"
   ]
  },
  {
   "cell_type": "code",
   "execution_count": 2,
   "id": "5d2c9a1b-6481-447e-9513-732dc1e44eb4",
   "metadata": {},
   "outputs": [],
   "source": [
    "client = H2OGPTE(\n",
    "    address=\"https://h2ogpte.genai.h2o.ai\",\n",
    "    api_key=api\n",
    ")\n",
    "\n",
    "user_query = 'Create a presentation on the Pokemon franchise'"
   ]
  },
  {
   "cell_type": "code",
   "execution_count": 3,
   "id": "c753be01-40dc-4a03-8d7a-5af7397ccdb3",
   "metadata": {},
   "outputs": [],
   "source": [
    "def trim(lst, retain=30):\n",
    "    '''\n",
    "    Trims a list. This function was originally used to permute before trimming, but\\\n",
    "    now that functionality is removed, so it appears rather redundant.\n",
    "    '''\n",
    "    _ = lst.copy()\n",
    "    \n",
    "    return _[0:retain]\n",
    "\n",
    "\n",
    "\n",
    "def try_and_parse(user_query, function, failed=0, markdown=False):\n",
    "    '''\n",
    "    Accepts a function and user_query, an input. Evaluates function(user_query) and \n",
    "    converts string output (usually a reply from an llm) into a json value. Use markdown=True\n",
    "    if the json value is contained within a code chunk.\n",
    "    '''\n",
    "    chosen = function(user_query)\n",
    "    try:\n",
    "        if not markdown:\n",
    "            topics = json.loads(chosen.content)\n",
    "        else:\n",
    "            print(chosen.content)\n",
    "            pattern = r'^```(?:\\w+)?\\s*\\n(.*?)(?=^```)```'\n",
    "            result = re.findall(pattern, chosen.content, re.DOTALL | re.MULTILINE)[0].strip() \n",
    "            #print(result)\n",
    "            topics = json.loads(result)\n",
    "            \n",
    "        return topics\n",
    "    except Exception as e:\n",
    "        failed+=1\n",
    "        print(failed)\n",
    "        print(e)# CHANGE TO LOGGING STATEMENT\n",
    "        return try_and_parse(user_query, function, failed=failed, markdown=markdown)\n"
   ]
  },
  {
   "cell_type": "markdown",
   "id": "040d0758-d9ad-48ba-9b95-555f5e0001bb",
   "metadata": {},
   "source": [
    "## Step 1. What comes to mind when you think about xyz?"
   ]
  },
  {
   "cell_type": "code",
   "execution_count": 4,
   "id": "0070654e-5a34-45a9-a233-d924424311c9",
   "metadata": {
    "scrolled": true
   },
   "outputs": [
    {
     "data": {
      "text/plain": [
       "['Pokémon franchise',\n",
       " 'Pokémon media',\n",
       " 'Pokémon video games',\n",
       " 'Pokémon anime and manga',\n",
       " 'Pokémon Trading Card Game',\n",
       " 'List of Pokémon species',\n",
       " 'List of Pokémon media',\n",
       " 'List of Pokémon video games',\n",
       " 'List of Pokémon episodes',\n",
       " 'List of Pokémon characters',\n",
       " 'List of Pokémon manga']"
      ]
     },
     "execution_count": 4,
     "metadata": {},
     "output_type": "execute_result"
    }
   ],
   "source": [
    "search = lambda user_query: client.answer_question(\n",
    "    question=user_query,\n",
    "    system_prompt=\"\"\"You are an assistant whose task is to perform Wikipedia searches on a specific topic.\\\n",
    "    The user is interested to create a presentation about a topic of interest.\\\n",
    "    Reply with at least one corresponding Wikipedia query as an array in JSON format.\\\n",
    "    Only reply with the JSON array and nothing else. Here are some examples.\n",
    "    Example 1.\n",
    "    User: Create a presentation on the book, Baby Rudin.\n",
    "    Assistant: [\"Real analysis\", \"Mathematical Analysis\"]\n",
    "\n",
    "    Example 2.\n",
    "    User: I want to create a ppt about Milk.\n",
    "    Assistant: [\"Milk\", \"Plant Milk\", \"Goat's Milk\", \"Cow Milk\", \"Almond Milk\"]\n",
    "    \"\"\",\n",
    "    llm='mistralai/Mixtral-8x7B-Instruct-v0.1'\n",
    ")\n",
    "searched = try_and_parse(user_query, search)\n",
    "searched"
   ]
  },
  {
   "cell_type": "markdown",
   "id": "991985cf-7860-4389-bb76-ae2b1e65c255",
   "metadata": {},
   "source": [
    "## Step 2. Search Wikipedia"
   ]
  },
  {
   "cell_type": "code",
   "execution_count": 5,
   "id": "9774e298-43a4-410d-8ca5-cab51af71220",
   "metadata": {},
   "outputs": [],
   "source": [
    "import random\n",
    "wiki = MediaWikiAPI()\n",
    "\n",
    "articles = list(\n",
    "    set(\n",
    "        \n",
    "        [i for j in [wiki.search(cat, results=5) for cat in searched] for i in j]\n",
    "        \n",
    "    )\n",
    ") # remove duplicates with set(list())\n",
    "random.shuffle(articles) # random shuffle\n",
    "\n"
   ]
  },
  {
   "cell_type": "code",
   "execution_count": 6,
   "id": "bc504cd6-6449-47e4-87cf-45d4385c39e8",
   "metadata": {},
   "outputs": [
    {
     "name": "stdout",
     "output_type": "stream",
     "text": [
      "0. Pokémon (originally \"Pocket Monsters\") is a series of role-playing video games developed by Game Freak and published by Nintendo and The Pokémon Company.\n",
      "\n",
      "1. Pokémon, known in Japan as Pocket Monsters (ポケットモンスター, Poketto Monsutā), is a Japanese anime television series produced by animation studio OLM for TV Tokyo.\n",
      "\n",
      "2. The Pokémon Company (株式会社ポケモン, Kabushiki Gaisha Pokemon, TPC) is a Japanese company responsible for brand management, production, publishing, marketing, and licensing of the Pokémon franchise, which consists of video games, a trading card game, anime television series, films, manga, home entertainment products, merchandise, and other ventures.\n",
      "\n",
      "3. The seventh generation (Generation VII) of the Pokémon franchise features 86 fictional species of collectible creatures called \"Pokémon\" introduced to the core video game series in the 2016 Nintendo 3DS games Pokémon Sun and Moon and the 2017 3DS games Pokémon Ultra Sun and Ultra Moon.\n",
      "\n",
      "4. The first generation (generation I) of the Pokémon franchise features the original 151 fictional species of monsters introduced to the core video game series in the 1996 Game Boy games Pocket Monsters Red and Green (known as Pokémon Red and Blue outside of Japan).\n",
      "\n",
      "5. There are various Pokémon manga series, based on the Pokémon anime, video games, and trading card game.\n",
      "\n",
      "6. This is a list of video games that have sold the highest number of software units worldwide.\n",
      "\n",
      "7. Pokémon is a series of video games developed by Game Freak and published by Nintendo and The Pokémon Company under the Pokémon media franchise.\n",
      "\n",
      "8. The fourth generation (Generation IV) of the Pokémon franchise features 107 fictional species of creatures introduced to the core video game series in the 2006 Nintendo DS games Pokémon Diamond and Pearl.\n",
      "\n",
      "9. Pokémon Adventures (Japanese: ポケットモンスター SPECIAL, Hepburn: Poketto Monsutā Supesharu, lit.\n",
      "\n",
      "10. The Pokémon World Championships is an invite-only esports event organized by Play!\n",
      "\n",
      "11. Pokémon Diamond Version and Pokémon Pearl Version are role-playing video games developed by Game Freak and published by The Pokémon Company and Nintendo for the Nintendo DS in 2006.\n",
      "\n",
      "12. Pokémon is a Japanese animated television series based on the Pokémon video game series published by Nintendo.\n",
      "\n",
      "13. Pokémon: Adventures in the Orange Islands (originally aired simply as Pokémon) is the second season of Pokémon, known in Japan as Pocket Monsters: Episode Orange Archipelago (ポケットモンスター：オレンジ諸島編, Poketto Monsutā: Orenji Shotō Hen).\n",
      "\n",
      "14. The second generation (generation II) of the Pokémon franchise features 100 fictional species of creatures introduced to the core video game series in the 1999 Game Boy Color games Pokémon Gold and Silver, set in the Johto region.\n",
      "\n",
      "15. Pokémon, known in Japan as Pocket Monsters (ポケットモンスター, Poketto Monsutā), is a Japanese anime television series produced by animation studio OLM for TV Tokyo.\n",
      "\n",
      "16. Pokémon Crystal Version is a role-playing video game developed by Game Freak and published by Nintendo for the Game Boy Color in Japan in 2000 and internationally in 2001.\n",
      "\n",
      "17. Pokémon: Master Quest is the fifth season of Pokémon known in Japan as Pocket Monsters: Episode Gold & Silver (ポケットモンスター金銀編, Poketto Monsutā Kin Gin Hen).\n",
      "\n",
      "18. This is a list of Pokémon theme songs that includes the media and release information, which is original Japanese and English dubbed opening and ending themes of Pokémon anime.\n",
      "\n",
      "19. Pokémon Trading Card Game is a video game adaptation of the Pokémon tabletop card game for the Game Boy Color.\n",
      "\n",
      "20. Pokémon known in Japan and South Korea as simply Pocket (ポケットモンスター, Poketto Monsutā), is one of the first Pokémon manga to come out in Japan and ran for 13 volumes.\n",
      "\n",
      "21. This is a list of recurring characters in the Pokémon video game series.\n",
      "\n",
      "22. This is a list of chapters within the various Pokémon manga.\n",
      "\n",
      "23. Pokémon Red Version and Pokémon Blue Version are 1996 role-playing video games developed by Game Freak and published by Nintendo for the Game Boy.\n",
      "\n",
      "24. Pokémon is a Japanese media franchise consisting of video games, animated series and films, a trading card game, and other related media.\n",
      "\n",
      "25. Pokémon, abbreviated from the Japanese title of Pocket Monsters, and currently branded in English as Pokémon the Series, is a Japanese anime television series, part of The Pokémon Company's Pokémon media franchise, which premiered on TV Tokyo in April 1997.\n",
      "\n",
      "26. This is a list of Pokémon Trading Card Game sets from the collectible card game released in Japan in 1996.\n",
      "\n",
      "27. Pokémon Ultra Sun and Pokémon Ultra Moon are 2017 role-playing video games developed by Game Freak and published by The Pokémon Company and Nintendo for the Nintendo 3DS. Part of the seventh generation of the Pokémon video game series, the games are enhanced versions of Pokémon Sun and Pokémon Moon, which released the previous year.\n",
      "\n",
      "28. The Pokémon Graphic Novel, more commonly known as Pokémon: The Electric Tale of Pikachu (電撃！\n",
      "\n",
      "29. Ditto, known in Japan as Metamon (メタモン), is a Pokémon species in Nintendo and Game Freak's Pokémon media franchise.\n"
     ]
    }
   ],
   "source": [
    "snippet = trim(\n",
    "    list(map(lambda x: wiki.summary(x, auto_suggest=False, sentences=1), articles))\n",
    ")\n",
    "\n",
    "snippet_ = snippet.copy()\n",
    "i = 0\n",
    "for string in snippet:\n",
    "    string = f\"{i}. {string}\"\n",
    "    snippet[i] = string\n",
    "    i+=1\n",
    "snippet_text = \"\\n\\n\".join(snippet)\n",
    "print(snippet_text)"
   ]
  },
  {
   "cell_type": "markdown",
   "id": "e792e56b-df41-4a8f-9e03-d1e3a205d498",
   "metadata": {},
   "source": [
    "## Step 3. \"Brainstorm\" and filter Wikipedia searches for useful ones\n",
    "Chain-of-thought prompting\n",
    "https://www.promptingguide.ai/techniques/cot"
   ]
  },
  {
   "cell_type": "code",
   "execution_count": 7,
   "id": "2a940365-1bd4-4a4b-b6af-0aa869ab6d88",
   "metadata": {},
   "outputs": [
    {
     "name": "stdout",
     "output_type": "stream",
     "text": [
      "0. - Introduction to the Pokémon franchise, including its development and publishers, therefore useful.\n",
      "1. - Details about the Pokémon anime series, relevant for understanding the multimedia aspect of the franchise, therefore useful.\n",
      "2. - Information on the company managing the Pokémon brand, relevant for corporate and business aspects of the franchise, therefore useful.\n",
      "3. - Specific information about the seventh generation of Pokémon games, useful for discussing the evolution of the game series.\n",
      "4. - Information on the first generation of Pokémon, important for historical context and franchise origins, therefore useful.\n",
      "5. - Manga adaptations add to the multimedia scope of the franchise, therefore useful.\n",
      "6. - General video game sales data, not specifically about Pokémon, therefore not useful.\n",
      "7. - Reiterates the development and publishing of the Pokémon video games, redundant with entry 0, therefore not useful.\n",
      "8. - Specific information about the fourth generation of Pokémon games, useful for discussing the evolution of the game series.\n",
      "9. - Specific manga series, adds depth to the multimedia discussion, therefore useful.\n",
      "10. - Esports aspect of Pokémon through the World Championships, relevant for competitive gaming discussion, therefore useful.\n",
      "11. - Specific information about Pokémon Diamond and Pearl versions, useful for discussing the evolution of the game series.\n",
      "12. - General information about the Pokémon animated series, redundant with entry 1, therefore not useful.\n",
      "13. - Details about a specific season of the Pokémon anime, useful for discussing the anime's progression.\n",
      "14. - Information on the second generation of Pokémon, important for discussing the series' development over time, therefore useful.\n",
      "15. - Repeats information on the Pokémon anime series, redundant with entry 1, therefore not useful.\n",
      "16. - Specific information about Pokémon Crystal Version, useful for discussing the evolution of the game series.\n",
      "17. - Details about the fifth season of the Pokémon anime, useful for discussing the anime's progression.\n",
      "18. - Information on Pokémon theme songs, adds to the cultural impact discussion, therefore useful.\n",
      "19. - Video game adaptation of the trading card game, relevant for showing franchise diversity, therefore useful.\n",
      "20. - One of the first Pokémon manga series, important for historical context, therefore useful.\n",
      "21. - Recurring characters in the video game series, useful for character development discussion.\n",
      "22. - List of manga chapters, more granular detail than necessary for a general presentation, therefore not useful.\n",
      "23. - Specific information about Pokémon Red and Blue versions, useful for discussing the evolution of the game series.\n",
      "24. - General information about the Pokémon media franchise, useful as an overview.\n",
      "25. - Repeats information on the Pokémon anime series, redundant with entry 1, therefore not useful.\n",
      "26. - Details on trading card game sets, useful for discussing the trading card aspect of the franchise.\n",
      "27. - Specific information about Pokémon Ultra Sun and Ultra Moon, useful for discussing the evolution of the game series.\n",
      "28. - Specific manga series, adds depth to the multimedia discussion, therefore useful.\n",
      "29. - Information about a specific Pokémon species, not directly relevant to the franchise overview, therefore not useful.\n",
      "\n",
      "```\n",
      "[0, 1, 2, 3, 4, 5, 8, 9, 10, 11, 13, 14, 16, 17, 18, 19, 20, 21, 23, 24, 26, 27, 28]\n",
      "```\n",
      "[0, 1, 2, 3, 4, 5, 8, 9, 10, 11, 13, 14, 16, 17, 18, 19, 20, 21, 23, 24, 26, 27, 28]\n"
     ]
    }
   ],
   "source": [
    "choose_topics = lambda user_query: client.answer_question(\n",
    "        question=f\"\"\"{user_query}\n",
    "        Referring to the list of wikipedia entries you have been provided, decide on which topics are useful for the presentation. For each entry, explain, in a few words,\\\n",
    "        whether you think an entry is useful or not and why.\n",
    "        After that, generate a code chunk. Within the code chunk is an array of integers in JSON, and these integers correspond to the topics you think are useful.\n",
    "        For each line, think about its usefulness/relevance and make some short deductions, then conclude whether it is useful or not useful.\n",
    "        Please keep strictly to the format in the following example:\n",
    "        0. - Sugar irrelevant to Jesus Christ, therefore not useful.\n",
    "        1. - Christianity is about the topic of Jesus Christ, thus Useful.\n",
    "        2. - Protestants follow Jesus Christ, therefore useful.\n",
    "        ```\n",
    "        [1, 2]\n",
    "        ```\n",
    "        \"\"\",\n",
    "        system_prompt=f\"\"\"You are an assistant whose task is to help a user in creating a presentation.\\\n",
    "        Here are a list of wikipedia entries, starting from the 0th entry, that may or may not be related to the topic at hand:\n",
    "        {snippet_text}\n",
    "        \"\"\",\n",
    "        llm='gpt-4-1106-preview' # only instance of gpt4 usage. need this for the big brain.\n",
    "    )\n",
    "\n",
    "topics = try_and_parse(user_query, choose_topics, markdown=True)\n",
    "print(topics)"
   ]
  },
  {
   "cell_type": "code",
   "execution_count": 8,
   "id": "b2e216c3-a3fa-4755-91ed-5b56256d67cb",
   "metadata": {},
   "outputs": [
    {
     "data": {
      "text/plain": [
       "['List of Pokémon video games',\n",
       " 'List of Pokémon episodes (seasons 1–13)',\n",
       " 'The Pokémon Company',\n",
       " 'List of generation VII Pokémon',\n",
       " 'List of generation I Pokémon',\n",
       " 'List of Pokémon manga',\n",
       " 'List of best-selling video games',\n",
       " 'Pokémon (video game series)',\n",
       " 'List of generation IV Pokémon',\n",
       " 'Pokémon Adventures',\n",
       " 'Pokémon World Championships',\n",
       " 'Pokémon Diamond and Pearl',\n",
       " 'Lists of Pokémon episodes',\n",
       " 'Pokémon: Adventures in the Orange Islands',\n",
       " 'List of generation II Pokémon',\n",
       " 'List of Pokémon episodes (seasons 14–present)',\n",
       " 'Pokémon Crystal',\n",
       " 'Pokémon: Master Quest',\n",
       " 'List of Pokémon theme songs',\n",
       " 'Pokémon Trading Card Game (video game)',\n",
       " 'Pokémon Pocket Monsters',\n",
       " 'List of Pokémon characters',\n",
       " 'List of Pokémon volumes',\n",
       " 'Pokémon Red, Blue, and Yellow',\n",
       " 'Pokémon',\n",
       " 'Pokémon (TV series)',\n",
       " 'List of Pokémon Trading Card Game sets',\n",
       " 'Pokémon Ultra Sun and Ultra Moon',\n",
       " 'Pokémon: The Electric Tale of Pikachu',\n",
       " 'Ditto (Pokémon)',\n",
       " 'List of Pokémon',\n",
       " 'Lists of Nintendo characters',\n",
       " 'List of anime based on video games',\n",
       " 'Pokémon Trading Card Game',\n",
       " 'List of generation III Pokémon',\n",
       " 'List of Pokémon anime characters',\n",
       " 'Misty (Pokémon)',\n",
       " 'Pokémon Concierge',\n",
       " 'List of Pokémon films']"
      ]
     },
     "execution_count": 8,
     "metadata": {},
     "output_type": "execute_result"
    }
   ],
   "source": [
    "articles"
   ]
  },
  {
   "cell_type": "code",
   "execution_count": 9,
   "id": "6f1e8a6a-26f2-4915-821e-9ca9e01d7899",
   "metadata": {},
   "outputs": [
    {
     "data": {
      "text/plain": [
       "['List of Pokémon video games',\n",
       " 'List of Pokémon episodes (seasons 1–13)',\n",
       " 'The Pokémon Company',\n",
       " 'List of generation VII Pokémon',\n",
       " 'List of generation I Pokémon',\n",
       " 'List of Pokémon manga',\n",
       " 'List of generation IV Pokémon',\n",
       " 'Pokémon Adventures',\n",
       " 'Pokémon World Championships',\n",
       " 'Pokémon Diamond and Pearl',\n",
       " 'Pokémon: Adventures in the Orange Islands',\n",
       " 'List of generation II Pokémon',\n",
       " 'Pokémon Crystal',\n",
       " 'Pokémon: Master Quest',\n",
       " 'List of Pokémon theme songs',\n",
       " 'Pokémon Trading Card Game (video game)',\n",
       " 'Pokémon Pocket Monsters',\n",
       " 'List of Pokémon characters',\n",
       " 'Pokémon Red, Blue, and Yellow',\n",
       " 'Pokémon',\n",
       " 'List of Pokémon Trading Card Game sets',\n",
       " 'Pokémon Ultra Sun and Ultra Moon',\n",
       " 'Pokémon: The Electric Tale of Pikachu']"
      ]
     },
     "execution_count": 9,
     "metadata": {},
     "output_type": "execute_result"
    }
   ],
   "source": [
    "chosen_articles = [articles[i] for i in topics]\n",
    "chosen_snippets = [snippet_[i] for i in topics]\n",
    "chosen_articles"
   ]
  },
  {
   "cell_type": "code",
   "execution_count": 10,
   "id": "6b730249-875b-4ed0-93fc-16c2d4fd163f",
   "metadata": {},
   "outputs": [],
   "source": [
    "chosen_full_articles = list(map(lambda x: wiki.page(x, auto_suggest=False).content, chosen_articles))\n",
    "chosen_articles_images = list(map(lambda x: wiki.page(x, auto_suggest=False).images, chosen_articles))\n"
   ]
  },
  {
   "cell_type": "code",
   "execution_count": 11,
   "id": "15055ab0-f43b-4f6a-849c-c6a98ad6eca1",
   "metadata": {},
   "outputs": [],
   "source": [
    "\n",
    "    \n",
    "# now its time to store them for RAG\n",
    "import os\n",
    "\n",
    "\n",
    "collection_id = client.create_collection(\n",
    "    name='Articles',\n",
    "    description='wikipedia articles for presentation',\n",
    ")\n",
    "\n",
    "pages = dict(zip(chosen_articles, chosen_full_articles))\n",
    "\n"
   ]
  },
  {
   "cell_type": "markdown",
   "id": "52c25911-fcbe-437b-8452-0c0339b72491",
   "metadata": {},
   "source": [
    "## Step 4: Store useful ideas in VectorDB (h2oai)"
   ]
  },
  {
   "cell_type": "code",
   "execution_count": 12,
   "id": "57bdbe96-7895-41be-9566-d99c4d03f369",
   "metadata": {},
   "outputs": [
    {
     "name": "stdout",
     "output_type": "stream",
     "text": [
      "./articles/ListofPokémonvideogames.txt fed!\n",
      "./articles/ListofPokémonepisodesseasons113.txt fed!\n",
      "./articles/ThePokémonCompany.txt fed!\n",
      "./articles/ListofgenerationVIIPokémon.txt fed!\n",
      "./articles/ListofgenerationIPokémon.txt fed!\n",
      "./articles/ListofPokémonmanga.txt fed!\n",
      "./articles/ListofgenerationIVPokémon.txt fed!\n",
      "./articles/PokémonAdventures.txt fed!\n",
      "./articles/PokémonWorldChampionships.txt fed!\n",
      "./articles/PokémonDiamondandPearl.txt fed!\n",
      "./articles/PokémonAdventuresintheOrangeIslands.txt fed!\n",
      "./articles/ListofgenerationIIPokémon.txt fed!\n",
      "./articles/PokémonCrystal.txt fed!\n",
      "./articles/PokémonMasterQuest.txt fed!\n",
      "./articles/ListofPokémonthemesongs.txt fed!\n",
      "./articles/PokémonTradingCardGamevideogame.txt fed!\n",
      "./articles/PokémonPocketMonsters.txt fed!\n",
      "./articles/ListofPokémoncharacters.txt fed!\n",
      "./articles/PokémonRedBlueandYellow.txt fed!\n",
      "./articles/Pokémon.txt fed!\n",
      "./articles/ListofPokémonTradingCardGamesets.txt fed!\n",
      "./articles/PokémonUltraSunandUltraMoon.txt fed!\n",
      "./articles/PokémonTheElectricTaleofPikachu.txt fed!\n"
     ]
    },
    {
     "data": {
      "text/plain": [
       "Job(id='4a17d9e3-b201-44f3-a398-68af58cc8633', passed=1.0, failed=0.0, progress=1.0, completed=True, canceled=False, date=datetime.datetime(2024, 2, 27, 15, 36, 46, tzinfo=TzInfo(UTC)), kind=<JobKind.IngestUploadsJob: 'IngestUploadsJob'>, statuses=[JobStatus(id='6de0bd52efd94606898ea390a1b4b809', status='Indexing done.'), JobStatus(id='1e8c47ea9f974ab5915bf20ce35f2a0c', status='Indexing done.'), JobStatus(id='11b9f1688e07496ea1271685b4a62909', status='Indexing done.'), JobStatus(id='8e6b14e3d9c745168a28821c795ac686', status='Indexing done.')], errors=[], last_update_date=datetime.datetime(2024, 2, 27, 15, 38, 41, tzinfo=TzInfo(UTC)), duration='1m55s')"
      ]
     },
     "execution_count": 12,
     "metadata": {},
     "output_type": "execute_result"
    }
   ],
   "source": [
    "import re\n",
    "to_ingest = []\n",
    "for title, content in pages.items():\n",
    "    title = re.sub('[\\W_]+', '', title)\n",
    "    name = f\"./articles/{title}.txt\"\n",
    "    f = open(name, \"w+\", encoding=\"utf-8\")\n",
    "    f.write(content)\n",
    "    f.close() # dont know why i gotta do this, i think it has to be in binary\n",
    "    f = open(name, 'rb')\n",
    "    to_ingest.append(client.upload(name, f))\n",
    "    print(f\"{name} fed!\")\n",
    "    f.close() \n",
    "\n",
    "client.ingest_uploads(collection_id, to_ingest)  "
   ]
  },
  {
   "cell_type": "code",
   "execution_count": 13,
   "id": "68204587-8e88-4729-a520-98c429f02b81",
   "metadata": {},
   "outputs": [
    {
     "data": {
      "text/plain": [
       "['Pokémon (originally \"Pocket Monsters\") is a series of role-playing video games developed by Game Freak and published by Nintendo and The Pokémon Company.',\n",
       " 'Pokémon, known in Japan as Pocket Monsters (ポケットモンスター, Poketto Monsutā), is a Japanese anime television series produced by animation studio OLM for TV Tokyo.',\n",
       " 'The Pokémon Company (株式会社ポケモン, Kabushiki Gaisha Pokemon, TPC) is a Japanese company responsible for brand management, production, publishing, marketing, and licensing of the Pokémon franchise, which consists of video games, a trading card game, anime television series, films, manga, home entertainment products, merchandise, and other ventures.',\n",
       " 'The seventh generation (Generation VII) of the Pokémon franchise features 86 fictional species of collectible creatures called \"Pokémon\" introduced to the core video game series in the 2016 Nintendo 3DS games Pokémon Sun and Moon and the 2017 3DS games Pokémon Ultra Sun and Ultra Moon.',\n",
       " 'The first generation (generation I) of the Pokémon franchise features the original 151 fictional species of monsters introduced to the core video game series in the 1996 Game Boy games Pocket Monsters Red and Green (known as Pokémon Red and Blue outside of Japan).',\n",
       " 'There are various Pokémon manga series, based on the Pokémon anime, video games, and trading card game.',\n",
       " 'The fourth generation (Generation IV) of the Pokémon franchise features 107 fictional species of creatures introduced to the core video game series in the 2006 Nintendo DS games Pokémon Diamond and Pearl.',\n",
       " 'Pokémon Adventures (Japanese: ポケットモンスター SPECIAL, Hepburn: Poketto Monsutā Supesharu, lit.',\n",
       " 'The Pokémon World Championships is an invite-only esports event organized by Play!',\n",
       " 'Pokémon Diamond Version and Pokémon Pearl Version are role-playing video games developed by Game Freak and published by The Pokémon Company and Nintendo for the Nintendo DS in 2006.',\n",
       " 'Pokémon: Adventures in the Orange Islands (originally aired simply as Pokémon) is the second season of Pokémon, known in Japan as Pocket Monsters: Episode Orange Archipelago (ポケットモンスター：オレンジ諸島編, Poketto Monsutā: Orenji Shotō Hen).',\n",
       " 'The second generation (generation II) of the Pokémon franchise features 100 fictional species of creatures introduced to the core video game series in the 1999 Game Boy Color games Pokémon Gold and Silver, set in the Johto region.',\n",
       " 'Pokémon Crystal Version is a role-playing video game developed by Game Freak and published by Nintendo for the Game Boy Color in Japan in 2000 and internationally in 2001.',\n",
       " 'Pokémon: Master Quest is the fifth season of Pokémon known in Japan as Pocket Monsters: Episode Gold & Silver (ポケットモンスター金銀編, Poketto Monsutā Kin Gin Hen).',\n",
       " 'This is a list of Pokémon theme songs that includes the media and release information, which is original Japanese and English dubbed opening and ending themes of Pokémon anime.',\n",
       " 'Pokémon Trading Card Game is a video game adaptation of the Pokémon tabletop card game for the Game Boy Color.',\n",
       " 'Pokémon known in Japan and South Korea as simply Pocket (ポケットモンスター, Poketto Monsutā), is one of the first Pokémon manga to come out in Japan and ran for 13 volumes.',\n",
       " 'This is a list of recurring characters in the Pokémon video game series.',\n",
       " 'Pokémon Red Version and Pokémon Blue Version are 1996 role-playing video games developed by Game Freak and published by Nintendo for the Game Boy.',\n",
       " 'Pokémon is a Japanese media franchise consisting of video games, animated series and films, a trading card game, and other related media.',\n",
       " 'This is a list of Pokémon Trading Card Game sets from the collectible card game released in Japan in 1996.',\n",
       " 'Pokémon Ultra Sun and Pokémon Ultra Moon are 2017 role-playing video games developed by Game Freak and published by The Pokémon Company and Nintendo for the Nintendo 3DS. Part of the seventh generation of the Pokémon video game series, the games are enhanced versions of Pokémon Sun and Pokémon Moon, which released the previous year.',\n",
       " 'The Pokémon Graphic Novel, more commonly known as Pokémon: The Electric Tale of Pikachu (電撃！']"
      ]
     },
     "execution_count": 13,
     "metadata": {},
     "output_type": "execute_result"
    }
   ],
   "source": [
    "chosen_snippets"
   ]
  },
  {
   "cell_type": "markdown",
   "id": "f6d92505-2864-4532-a6d0-feb91d1d4fe4",
   "metadata": {},
   "source": [
    "## Step 5: Plan sections for slide\n",
    "This is to ensure the entire presentation is a coherent one with a flow/narrative, instead of many disjoint/overlapping generations.\n",
    "Again, chain of thought prompting is very heavily incorporated"
   ]
  },
  {
   "cell_type": "code",
   "execution_count": 14,
   "id": "9d1a7ba5-2cdf-4f4e-b811-2d17abf3f119",
   "metadata": {},
   "outputs": [
    {
     "name": "stdout",
     "output_type": "stream",
     "text": [
      "1. I would start the presentation with an introduction to the Pokémon franchise, providing a brief overview of its history and popularity. Then, I will move on to the different generations of Pokémon, dedicating a slide to each generation and highlighting the unique features and Pokémon species introduced in each. After that, I will discuss the various media through which the Pokémon franchise is presented, such as the anime, manga, and trading card game. I will also include a slide on the Pokémon World Championships, an esports event for the franchise.\n",
      "2. A good title for the presentation could be \"Pokémon: A Deep Dive into the Franchise\".\n",
      "3. Here is the JSON array of slide titles:\n",
      "```json\n",
      "[\n",
      "\"Pokémon: A Deep Dive into the Franchise\",\n",
      "\"Introduction to Pokémon\",\n",
      "\"Generations of Pokémon\",\n",
      "\"Generation I: The Original 151\",\n",
      "\"Generation II: The Johto Region\",\n",
      "\"Generation III: The Hoenn Region\",\n",
      "\"Generation IV: The Sinnoh Region\",\n",
      "\"Generation V: The Unova Region\",\n",
      "\"Generation VI: The Kalos Region\",\n",
      "\"Generation VII: The Alola Region\",\n",
      "\"Pokémon Media\",\n",
      "\"Pokémon Anime\",\n",
      "\"Pokémon Manga\",\n",
      "\"Pokémon Trading Card Game\",\n",
      "\"Pokémon World Championships\",\n",
      "\"Conclusion\"\n",
      "]\n",
      "```\n"
     ]
    }
   ],
   "source": [
    "decide_sections = lambda user_query: client.answer_question(\n",
    "        question=f\"\"\"{user_query}\n",
    "        Please plan the presentation by doing the following:\n",
    "        1. Explain how you would design the presentation slides such that the presentation will flow well.\\\n",
    "        Remember that each slide must contain something different, and content should not overlap.\n",
    "        2. Think of a good title for the presentation.\n",
    "        3. Create a code chunk. Inside that code chunk, generate a JSON array consisting of appropriate slide titles starting from the first slide to the last slide, \\\n",
    "        remembering your answer to point 2. Include the title slide, which is the title for the presentation.\n",
    "\n",
    "        Below is an example reply. Please adhere strictly to the format in the example below and remember to output the JSON array in a code chunk:  \n",
    "        1. I would introduce the Transformers franchise and provide general information about its history to ease my viewers into the subject. \\\n",
    "        Then, I will think about subtopics, such as the Transformers films, Transformers characters and Transformers in comics, using the wikipedia entry summaries\\\n",
    "        I have been provided. \n",
    "            * For my first subtopic, the Transformers films, I would create two additional slides to expand on Bumblebee (2018) and Revenge of the Fallen (2009)\\\n",
    "            as these are popular films within the franchise. I will order the films chronologically.\n",
    "            * For my second subtopic on Transformers characters, I will have a slide on the cast of the film. \n",
    "            * For my next subtopic...\n",
    "        2. I think a good title for this presentation is \"Transformers: An Overview\".\n",
    "        3. Here is the json array of slide titles:\n",
    "        ```json\n",
    "        [\n",
    "        \"Transformers: An Overview\", \n",
    "        \"Introduction to Transformers\", \n",
    "        \"Transformers in Film\",\n",
    "        \"Transformers: Revenge of the Fallen (2009)\", \n",
    "        \"Bumblebee (2018)\", \n",
    "        \"Characters in the Transformers Universe\", \n",
    "        \"Transformers in comics\",\n",
    "        \"Conclusion\"\n",
    "        ]\n",
    "        ```\n",
    "        \"\"\",\n",
    "        system_prompt=f\"\"\"You are an assistant whose task is to help a user in creating a presentation.\\\n",
    "        Below is a list of wikipedia entry summaries that are selected for the presentation.\\\n",
    "        You will be asked to come up with slide titles for the presentation. Each line is a 1-sentence summary of a wikipedia page.\\\n",
    "        The number of slides should depend on the amount of information/wikipedia entry summaries available.\n",
    "        Summaries:\n",
    "        {chosen_snippets}\n",
    "        \"\"\",\n",
    "        llm='mistralai/Mixtral-8x7B-Instruct-v0.1' \n",
    "    )\n",
    "\n",
    "all_sections = try_and_parse(user_query, decide_sections, markdown=True)"
   ]
  },
  {
   "cell_type": "code",
   "execution_count": 15,
   "id": "74ac776f-de82-461d-9313-e671d1ae2dbd",
   "metadata": {},
   "outputs": [
    {
     "data": {
      "text/plain": [
       "['Introduction to Pokémon',\n",
       " 'Generations of Pokémon',\n",
       " 'Generation I: The Original 151',\n",
       " 'Generation II: The Johto Region',\n",
       " 'Generation III: The Hoenn Region',\n",
       " 'Generation IV: The Sinnoh Region',\n",
       " 'Generation V: The Unova Region',\n",
       " 'Generation VI: The Kalos Region',\n",
       " 'Generation VII: The Alola Region',\n",
       " 'Pokémon Media',\n",
       " 'Pokémon Anime',\n",
       " 'Pokémon Manga',\n",
       " 'Pokémon Trading Card Game',\n",
       " 'Pokémon World Championships',\n",
       " 'Conclusion']"
      ]
     },
     "execution_count": 15,
     "metadata": {},
     "output_type": "execute_result"
    }
   ],
   "source": [
    "sections = all_sections[1:]\n",
    "\n",
    "sections"
   ]
  },
  {
   "cell_type": "code",
   "execution_count": 16,
   "id": "a5e83322-475c-4678-8f4c-f822ab5e5386",
   "metadata": {},
   "outputs": [
    {
     "data": {
      "text/plain": [
       "'c4930646-184a-4851-8e37-f5484220c214'"
      ]
     },
     "execution_count": 16,
     "metadata": {},
     "output_type": "execute_result"
    }
   ],
   "source": [
    "del client\n",
    "client = H2OGPTE(\n",
    "    address=\"https://h2ogpte.genai.h2o.ai\",\n",
    "    api_key=api\n",
    ") # does this reset client?\n",
    "\n",
    "chat_session_id = client.create_chat_session(collection_id)\n",
    "chat_session_id"
   ]
  },
  {
   "cell_type": "markdown",
   "id": "c77e579f-ced4-4c01-93b8-4237e0872788",
   "metadata": {},
   "source": [
    "#### Ref for slide types:  \n",
    "0. title and subtitle \n",
    "1. title and content \n",
    "2. section header \n",
    "3. two content \n",
    "4. Comparison \n",
    "5. Title only  \n",
    "6. Blank \n",
    "7. Content with caption \n",
    "8. Pic with caption \n"
   ]
  },
  {
   "cell_type": "markdown",
   "id": "17338590-9279-49a6-8674-17f2b8c57cdd",
   "metadata": {},
   "source": [
    "## Step 6: Generate using RAG\n",
    "LLM chooses colour with chain-of-thought prompting again."
   ]
  },
  {
   "cell_type": "code",
   "execution_count": 17,
   "id": "11c297ad-f4ef-4aac-a719-e8f2c8237a8f",
   "metadata": {},
   "outputs": [
    {
     "name": "stdout",
     "output_type": "stream",
     "text": [
      "I chose a light blue color RGB [191, 239, 255] for the background color and a dark blue color RGB [0, 38, 166] for the font color. The contrast between the light and dark blue makes it easy to read. Additionally, blue is a color commonly associated with the Pokémon franchise, as it is the color of the iconic Pokéball.\n",
      "```\n",
      "[{\"background\": [191, 239, 255]}, {\"text\": [0, 38, 166]}]\n",
      "```\n"
     ]
    }
   ],
   "source": [
    "prs = Presentation()\n",
    "prs.slide_width = Inches(16)\n",
    "prs.slide_height = Inches(9)\n",
    "title_slide = prs.slides.add_slide(prs.slide_layouts[0]) \n",
    "decide_slide_format = lambda user_query: client.answer_question(\n",
    "        question=f\"\"\"{user_query} Think of a good background colour, in RGB format,\\\n",
    "        for the slides and a good colour, also in RGB format, for the\\\n",
    "        text. Typically, if the text colour is bright (for example RGB [255, 255, 255] is white), then the background colour should be dark\n",
    "        (RGB [0, 0, 100] is dark blue). Conversely, if the text colour is dark (for example RGB [0, 0, 0] is black), the background colour should be bright\\\n",
    "        . You are free to choose any text and background colour, \\\n",
    "        as long as you follow these rules. Please do not assign grey-scale colours for the text and background (like RGB [50, 50, 50]), as much as possible.\n",
    "\n",
    "        Explain clearly why you chose the background and text colours. Then, generate a code chunk. Within the code chunk,\\\n",
    "        provide a JSON array containing two colours. Adhere strictly to the example reply below:\n",
    "        I chose blue RGB [0, 35, 140] for the background color and light yellow RGB [255, 234, 0] for the font color. The contrast makes it easy to read.\\\n",
    "        Furthermore, the colours blue and yellow are associated with the Pokémon Franchise.\n",
    "        ```\n",
    "        [{{\"background\": [0, 0, 140]}}, {{\"text\": [255, 234, 0]}}]\n",
    "        ```\n",
    "        \"\"\",\n",
    "    \n",
    "        system_prompt=f\"\"\"You are an assistant whose task is to help a user in creating a presentation.\\\n",
    "        Here are a list of wikipedia entry summaries that are selected for the presentation:\n",
    "        {chosen_snippets}\n",
    "        \"\"\",\n",
    "        llm='mistralai/Mixtral-8x7B-Instruct-v0.1' \n",
    ")\n",
    "\n",
    "format = try_and_parse(user_query, decide_slide_format, markdown=True)"
   ]
  },
  {
   "cell_type": "code",
   "execution_count": 18,
   "id": "8a40b715-2ef3-47f0-bcab-db6733e54873",
   "metadata": {
    "scrolled": true
   },
   "outputs": [
    {
     "data": {
      "text/plain": [
       "[{'background': [191, 239, 255]}, {'text': [0, 38, 166]}]"
      ]
     },
     "execution_count": 18,
     "metadata": {},
     "output_type": "execute_result"
    }
   ],
   "source": [
    "format"
   ]
  },
  {
   "cell_type": "code",
   "execution_count": 19,
   "id": "75e78e2a-08ef-4fed-8833-a6ad0296110c",
   "metadata": {},
   "outputs": [],
   "source": [
    "background = RGBColor(*tuple(list(format[0].values())[0])) \n",
    "font = RGBColor(*tuple(list(format[1].values())[0])) \n",
    "fill = title_slide.background.fill\n",
    "fill.solid()\n",
    "fill.fore_color.rgb = background\n",
    "\n",
    "\n",
    "title_slide.shapes.title.text = all_sections[0]\n",
    "title_slide.shapes.title.text_frame.paragraphs[0].font.color.rgb =  font\n",
    "title_slide.shapes.title.text_frame.paragraphs[0].font.name = 'Montserrat'\n",
    "title_slide.shapes.title.text_frame.paragraphs[0].font.bold = True\n",
    "\n",
    "first_shape =  title_slide.shapes[0]\n",
    "first_shape.left, first_shape.top, first_shape.width, first_shape.height = (prs.slide_width - Inches(12))//2, \\\n",
    "(prs.slide_height-first_shape.height)//2 - Inches(1),\\\n",
    "Inches(12),\\\n",
    "Inches(2)"
   ]
  },
  {
   "cell_type": "code",
   "execution_count": 20,
   "id": "14ebca46-abd0-45a9-9f13-82c9242dc2e5",
   "metadata": {},
   "outputs": [
    {
     "name": "stderr",
     "output_type": "stream",
     "text": [
      "100%|██████████████████████████████████████████████████████████████████████████████████| 15/15 [19:07<00:00, 76.49s/it]\n"
     ]
    }
   ],
   "source": [
    "\n",
    "with client.connect(chat_session_id) as session:\n",
    "\n",
    "    for section in tqdm(sections):\n",
    "        slide = prs.slides.add_slide(prs.slide_layouts[1])\n",
    "        fill = slide.background.fill\n",
    "        fill.solid()\n",
    "        fill.fore_color.rgb = background\n",
    "\n",
    "        \n",
    "        contents = slide.placeholders[1]\n",
    "        contents.text_frame.word_wrap = True\n",
    "\n",
    "        title = slide.shapes.title\n",
    "        title.text = section\n",
    "        title.text_frame.paragraphs[0].font.color.rgb = font\n",
    "        title.text_frame.paragraphs[0].font.size = Pt(32)\n",
    "        title.text_frame.paragraphs[0].font.name = 'Karla'\n",
    "       \n",
    "       \n",
    "        content = session.query(\n",
    "            \n",
    "            message = section,\n",
    "            system_prompt=f\"\"\"You are an assistant whose task is to help a user in creating a presentation. \\\n",
    "            The slides of the presentation are as follows: {sections}\n",
    "            You are now tasked with generating the content of one slide, which will be provided by the user.\n",
    "            \"\"\",\n",
    "            pre_prompt_query=\"You have been provided with the following information, which may be useful in your task.\",\n",
    "            prompt_query=\"\"\"Decide if the information is relevant, and use it if needed.\\\n",
    "            Generate the content required in the slide provided by the user. You only need to generate the contents of the slide, not the title\\\n",
    "            or anything else. Remember, you are designing one slide, so do not generate long paragraphs. Instead, summarise your most important points\\\n",
    "            in up to 3 sentences each, and do not generate more than 15 lines of text. Between each point, leave a line.\n",
    "\n",
    "            Here is an example. Please adhere to this example strictly:\n",
    "            This is the first point I am trying to make. I will explain this first point in the second sentence.\n",
    "            \n",
    "            This is the second point I am trying to make. This is the second sentence for the second point. \\\n",
    "            I need a third sentence to fully explain this point. Notice that I will leave a line for the next point.\n",
    "\n",
    "            This is the third point.\n",
    "            \"\"\",\n",
    "            llm=\"mistralai/Mixtral-8x7B-Instruct-v0.1\",\n",
    "            rag_config={\n",
    "                \"rag_type\": \"rag\",\n",
    "            },\n",
    "        ).content\n",
    "\n",
    "        contents.text = content\n",
    "        \n",
    "        for paragraph in contents.text_frame.paragraphs:\n",
    "            paragraph.space_after = 1\n",
    "            paragraph.space_before = 1\n",
    "            # paragraph.level = 0\n",
    "           \n",
    "            paragraph.font.size = Pt(22)  \n",
    "            paragraph.font.color.rgb = font\n",
    "            paragraph.font.name = 'Karla'\n",
    "\n",
    "        contents.text_frame.auto_size = MSO_AUTO_SIZE.SHAPE_TO_FIT_TEXT\n",
    "        shapes = slide.shapes\n",
    "        new_width = Inches(14)\n",
    "        new_height = Inches(7)\n",
    "        shapes[0].height, shapes[0].width, shapes[0].top, shapes[0].left = shapes[0].height, new_width, shapes[0].top, (prs.slide_width-new_width)//2\n",
    "        shapes[1].height, shapes[1].width, shapes[1].top, shapes[1].left = new_height, new_width, shapes[1].top, (prs.slide_width-new_width)//2\n",
    "        \n",
    "        \n",
    "\n",
    "# gpt-4-1106-preview\n"
   ]
  },
  {
   "cell_type": "markdown",
   "id": "e5355475-527a-47b4-81ec-aff43b9f8142",
   "metadata": {},
   "source": [
    "## Step 7: Enjoy"
   ]
  },
  {
   "cell_type": "code",
   "execution_count": 21,
   "id": "e3de66b9-768e-48c5-9e7d-2b7c5411d9c1",
   "metadata": {},
   "outputs": [],
   "source": [
    "sanitised = re.sub(r'[\\W_]+', '_', all_sections[0])\n",
    "prs.save(f\"./presentations/{sanitised}.pptx\")\n"
   ]
  },
  {
   "cell_type": "markdown",
   "id": "1f9df9ce-fdad-4bb9-9707-0051dc9ab84c",
   "metadata": {},
   "source": [
    "## Appendix: Extra Code that may be useful in the future\n",
    "```python\n",
    "# Create a chat session\n",
    "# chat_session_id = client.create_chat_session(collection_id)\n",
    "\n",
    "# # Query the collection\n",
    "# with client.connect(chat_session_id) as session:\n",
    "#     reply = session.query(\n",
    "#         'How many paper clips were shipped to Scranton?',\n",
    "#         llm=\"gpt-4-0613\"\n",
    "#     )\n",
    "#     print(reply.content)\n",
    "\n",
    "#     reply = session.query(\n",
    "#         'Did David Brent co-sign the contract with Initech?',\n",
    "#         timeout=60,\n",
    "#         llm=\"gpt-4-0613\"\n",
    "#     )\n",
    "#     print(reply.content)\n",
    "\n",
    "# # Summarize each document\n",
    "# documents = client.list_documents_in_collection(collection_id, offset=0, limit=99)\n",
    "# for doc in documents:\n",
    "#     summary = client.summarize_document(\n",
    "#         document_id=doc.id,\n",
    "#         timeout=60,\n",
    "#     )\n",
    "#     print(summary.content)\n",
    "\n",
    "\n",
    "#client.delete_documents_from_collection\n",
    "```"
   ]
  }
 ],
 "metadata": {
  "kernelspec": {
   "display_name": "Python 3 (ipykernel)",
   "language": "python",
   "name": "python3"
  },
  "language_info": {
   "codemirror_mode": {
    "name": "ipython",
    "version": 3
   },
   "file_extension": ".py",
   "mimetype": "text/x-python",
   "name": "python",
   "nbconvert_exporter": "python",
   "pygments_lexer": "ipython3",
   "version": "3.11.7"
  }
 },
 "nbformat": 4,
 "nbformat_minor": 5
}
