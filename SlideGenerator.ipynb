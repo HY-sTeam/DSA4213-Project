{
 "cells": [
  {
   "cell_type": "code",
   "execution_count": 1,
   "id": "4d4b2e41-d0b4-4d37-bc7d-85c2a6dbeb97",
   "metadata": {},
   "outputs": [],
   "source": [
    "import json\n",
    "import numpy as np\n",
    "import os\n",
    "import re\n",
    "from pptx import Presentation\n",
    "from pptx.dml.color import RGBColor\n",
    "from pptx.util import Cm, Pt, Inches\n",
    "from pptx.enum.text import MSO_ANCHOR, MSO_AUTO_SIZE\n",
    "from h2ogpte import H2OGPTE\n",
    "from mediawikiapi import MediaWikiAPI\n",
    "from tqdm import tqdm\n",
    "with open('secrets.txt') as f:\n",
    "    api = f.read()\n",
    "    f.close()\n",
    "\n"
   ]
  },
  {
   "cell_type": "code",
   "execution_count": 2,
   "id": "5d2c9a1b-6481-447e-9513-732dc1e44eb4",
   "metadata": {},
   "outputs": [],
   "source": [
    "client = H2OGPTE(\n",
    "    address=\"https://h2ogpte.genai.h2o.ai\",\n",
    "    api_key=api\n",
    ")\n",
    "\n",
    "user_query = 'Create a presentation on the various types of gold such as gold, white gold, fool\\'s gold etc.'"
   ]
  },
  {
   "cell_type": "code",
   "execution_count": 3,
   "id": "c753be01-40dc-4a03-8d7a-5af7397ccdb3",
   "metadata": {},
   "outputs": [],
   "source": [
    "def trim(lst, retain=30):\n",
    "    '''\n",
    "    Trims a list. This function was originally used to permute before trimming, but\\\n",
    "    now that functionality is removed, so it appears rather redundant.\n",
    "    '''\n",
    "    _ = lst.copy()\n",
    "    \n",
    "    return _[0:retain]\n",
    "\n",
    "\n",
    "\n",
    "def try_and_parse(user_query, function, failed=0, markdown=False):\n",
    "    '''\n",
    "    Accepts a function and user_query, an input. Evaluates function(user_query) and \n",
    "    converts string output (usually a reply from an llm) into a json value. Use markdown=True\n",
    "    if the json value is contained within a code chunk.\n",
    "    '''\n",
    "    chosen = function(user_query)\n",
    "    try:\n",
    "        if not markdown:\n",
    "            topics = json.loads(chosen.content)\n",
    "        else:\n",
    "            print(chosen.content)\n",
    "            pattern = r'^```(?:\\w+)?\\s*\\n(.*?)(?=^```)```'\n",
    "            result = re.findall(pattern, chosen.content, re.DOTALL | re.MULTILINE)[0].strip() \n",
    "            #print(result)\n",
    "            topics = json.loads(result)\n",
    "            \n",
    "        return topics\n",
    "    except Exception as e:\n",
    "        failed+=1\n",
    "        print(failed)\n",
    "        print(e)# CHANGE TO LOGGING STATEMENT\n",
    "        return try_and_parse(user_query, function, failed=failed)\n"
   ]
  },
  {
   "cell_type": "markdown",
   "id": "040d0758-d9ad-48ba-9b95-555f5e0001bb",
   "metadata": {},
   "source": [
    "## Step 1. What comes to mind when you think about xyz?"
   ]
  },
  {
   "cell_type": "code",
   "execution_count": 4,
   "id": "0070654e-5a34-45a9-a233-d924424311c9",
   "metadata": {},
   "outputs": [
    {
     "data": {
      "text/plain": [
       "['Gold',\n",
       " 'White gold',\n",
       " \"Fool's gold\",\n",
       " 'Gold alloys',\n",
       " 'Electrum',\n",
       " 'Green gold',\n",
       " 'Rose gold',\n",
       " 'Blue gold',\n",
       " 'Purple gold']"
      ]
     },
     "execution_count": 4,
     "metadata": {},
     "output_type": "execute_result"
    }
   ],
   "source": [
    "search = lambda user_query: client.answer_question(\n",
    "    question=user_query,\n",
    "    system_prompt=\"\"\"You are an assistant whose task is to perform Wikipedia searches on a specific topic.\\\n",
    "    The user is interested to create a presentation about a topic of interest.\\\n",
    "    Reply with at least one corresponding Wikipedia query as an array in JSON format.\\\n",
    "    Only reply with the JSON array and nothing else. Here are some examples.\n",
    "    Example 1.\n",
    "    User: Create a presentation on the book, Baby Rudin.\n",
    "    Assistant: [\"Real analysis\", \"Mathematical Analysis\"]\n",
    "\n",
    "    Example 2.\n",
    "    User: I want to create a ppt about Milk.\n",
    "    Assistant: [\"Milk\", \"Plant Milk\", \"Animal Milk\", \"Almond Milk\"]\n",
    "    \"\"\",\n",
    "    llm='mistralai/Mixtral-8x7B-Instruct-v0.1' # i like this model\n",
    ")\n",
    "searched = try_and_parse(user_query, search)\n",
    "searched"
   ]
  },
  {
   "cell_type": "markdown",
   "id": "991985cf-7860-4389-bb76-ae2b1e65c255",
   "metadata": {},
   "source": [
    "## Step 2. Search Wikipedia"
   ]
  },
  {
   "cell_type": "code",
   "execution_count": 5,
   "id": "9774e298-43a4-410d-8ca5-cab51af71220",
   "metadata": {},
   "outputs": [],
   "source": [
    "import random\n",
    "wiki = MediaWikiAPI()\n",
    "\n",
    "articles = list(\n",
    "    set(\n",
    "        \n",
    "        [i for j in [wiki.search(cat, results=5) for cat in searched] for i in j]\n",
    "        \n",
    "    )\n",
    ") # remove duplicates with set(list())\n",
    "random.shuffle(articles) # random shuffle\n",
    "\n"
   ]
  },
  {
   "cell_type": "code",
   "execution_count": 6,
   "id": "bc504cd6-6449-47e4-87cf-45d4385c39e8",
   "metadata": {},
   "outputs": [
    {
     "name": "stdout",
     "output_type": "stream",
     "text": [
      "0. \"Gold Roses\" is a song by American rapper Rick Ross featuring Canadian rapper Drake.\n",
      "\n",
      "1. Plectrumelectrum is the thirty-sixth studio album by American recording artist Prince, and the only to feature his backing band 3rdeyegirl.\n",
      "\n",
      "2. A gold–aluminium intermetallic is an intermetallic compound of gold and aluminium that occurs at contacts between the two metals.\n",
      "\n",
      "3. Fool's Gold, or pyrite, is a mineral with a superficial resemblance to gold.\n",
      "\n",
      "4. The mineral pyrite ( PY-ryte), or iron pyrite, also known as fool's gold, is an iron sulfide with the chemical formula FeS2 (iron (II) disulfide).\n",
      "\n",
      "5. In metallurgy, titanium gold (Ti-Au or Au-Ti) refers to an alloy consisting of titanium and gold.\n",
      "\n",
      "6. Green Gold Animation Pvt Ltd, is a Hyderabad-based Indian Animation company, with offices in India, Singapore, Philippines and the United States.\n",
      "\n",
      "7. Electrum is a naturally occurring alloy of gold and silver, with trace amounts of copper and other metals.\n",
      "\n",
      "8. This is a list of named alloys grouped alphabetically by base metal.\n",
      "\n",
      "9. Blue Gold is a novel by Clive Cussler and Paul Kemprecos published in 2000.\n",
      "\n",
      "10. Purple Mountain or Zijin Shan (Chinese: 紫金山; pinyin: Zǐjīn Shān; lit.\n",
      "\n",
      "11. Golders Green Crematorium and Mausoleum was the first crematorium to be opened in London, and one of the oldest crematoria in Britain.\n",
      "\n",
      "12. Rose is the color halfway between red and magenta on the HSV color wheel, also known as the RGB color wheel.\n",
      "\n",
      "13. Old gold is a dark yellow, which varies from light olive or olive brown to deep or strong yellow, generally on the darker side of this range.\n",
      "\n",
      "14. In Rastafari, \"Ites, gold and green\" (often written as Ice, Gold and Green), refers to the colours associated with the Rastafari movement.\n",
      "\n",
      "15. The history of coins stretches back to the first millennium BC/BCE. Notable examples of coins include the Lydian Lion coins, Persian daric and siglos, Tong Bei, the dirham and gold dinar.\n",
      "\n",
      "16. Carthaginian or Punic currency refers to the coins of ancient Carthage, a Phoenician city-state located near present-day Tunis, Tunisia.\n",
      "\n",
      "17. The dress was a 2015 online viral phenomenon centred on a photograph of a dress.\n",
      "\n",
      "18. Gold-dipped roses, or gold-trimmed roses, are real roses that are cut and preserved in a protective shell of gold to make them last a long time.\n",
      "\n",
      "19. A gold medal is a medal awarded for highest achievement in a non-military field.\n",
      "\n",
      "20. Gold is a chemical element; it has symbol Au (from Latin  aurum 'gold') and atomic number 79.\n",
      "\n",
      "21. White Gold is a British sitcom featuring a group of UPVC window salesmen in mid-1980s Corringham, Essex.\n",
      "\n",
      "22. Fool's Gold Loaf is a sandwich made by the Colorado Mine Company, a restaurant in Denver, Colorado.\n",
      "\n",
      "23. Rose Gold is the debut studio album by South African singer-songwriter Shekhinah.\n",
      "\n",
      "24. English hard rock band Deep Purple have released 22 studio albums, 43 live albums and 55 singles.\n",
      "\n",
      "25. Colored gold is the name given to any gold that has been treated using techniques to change its natural color.\n",
      "\n",
      "26. GOLD may refer to:\n",
      "\n",
      "27. Fool's Gold Records is an independent record label based in Brooklyn, New York, United States.\n",
      "\n",
      "28. An alloy is a mixture of chemical elements of which at least one is a metal.\n",
      "\n",
      "29. Electrum or Electrum (for Len Lye) (Len Lye being a New Zealand artist), is a 1998 sculpture by Eric Orr and Greg Leyh built around the world's largest Tesla coil.\n"
     ]
    }
   ],
   "source": [
    "snippet = trim(\n",
    "    list(map(lambda x: wiki.summary(x, auto_suggest=False, sentences=1), articles))\n",
    ")\n",
    "\n",
    "snippet_ = snippet.copy()\n",
    "i = 0\n",
    "for string in snippet:\n",
    "    string = f\"{i}. {string}\"\n",
    "    snippet[i] = string\n",
    "    i+=1\n",
    "snippet_text = \"\\n\\n\".join(snippet)\n",
    "print(snippet_text)"
   ]
  },
  {
   "cell_type": "markdown",
   "id": "e792e56b-df41-4a8f-9e03-d1e3a205d498",
   "metadata": {},
   "source": [
    "## Step 3. \"Brainstorm\" and filter Wikipedia searches for useful ones\n",
    "Chain-of-thought prompting\n",
    "https://www.promptingguide.ai/techniques/cot"
   ]
  },
  {
   "cell_type": "code",
   "execution_count": null,
   "id": "2a940365-1bd4-4a4b-b6af-0aa869ab6d88",
   "metadata": {},
   "outputs": [
    {
     "name": "stdout",
     "output_type": "stream",
     "text": [
      "0. \"Gold Roses\" is a song by American rapper Rick Ross featuring Canadian rapper Drake. - Not useful, as it is a song and not related to types of gold.\n",
      "1. Plectrumelectrum is the thirty-sixth studio album by American recording artist Prince, and the only to feature his backing band 3rdeyegirl. - Not useful, as it is an album and not related to types of gold.\n",
      "2. A gold–aluminium intermetallic is an intermetallic compound of gold and aluminium that occurs at contacts between the two metals. - Useful, as it discusses a compound of gold which may be relevant to the types of gold.\n",
      "3. Fool's Gold, or pyrite, is a mineral with a superficial resemblance to gold. - Useful, as it is commonly mistaken for gold and relevant to the topic.\n",
      "4. The mineral pyrite (PY-ryte), or iron pyrite, also known as fool's gold, is an iron sulfide with the chemical formula FeS2 (iron (II) disulfide). - Useful, as it provides the chemical details of fool's gold.\n",
      "5. In metallurgy, titanium gold (Ti-Au or Au-Ti) refers to an alloy consisting of titanium and gold. - Useful, as it is an alloy of gold and relevant to the topic.\n",
      "6. Green Gold Animation Pvt Ltd, is a Hyderabad-based Indian Animation company, with offices in India, Singapore, Philippines and the United States. - Not useful, as it is a company and not related to types of gold.\n",
      "7. Electrum is a naturally occurring alloy of gold and silver, with trace amounts of copper and other metals. - Useful, as it is a type of gold alloy.\n",
      "8. This is a list of named alloys grouped alphabetically by base metal. - Useful, as it may contain information on various gold alloys.\n",
      "9. Blue Gold is a novel by Clive Cussler and Paul Kemprecos published in 2000. - Not useful, as it is a novel and not related to types of gold.\n",
      "10. Purple Mountain or Zijin Shan (Chinese: 紫金山; pinyin: Zǐjīn Shān; lit. - Not useful, as it is a geographical location and not related to types of gold.\n",
      "11. Golders Green Crematorium and Mausoleum was the first crematorium to be opened in London, and one of the oldest crematoria in Britain. - Not useful, as it is a crematorium and not related to types of gold.\n",
      "12. Rose is the color halfway between red and magenta on the HSV color wheel, also known as the RGB color wheel. - Not useful, as it is about color and not a type of gold.\n",
      "13. Old gold is a dark yellow, which varies from light olive or olive brown to deep or strong yellow, generally on the darker side of this range. - Useful, as it describes a color of gold that may be relevant to the presentation.\n",
      "14. In Rastafari, \"Ites, gold and green\" (often written as Ice, Gold and Green), refers to the colours associated with the Rastafari movement. - Not useful, as it is about Rastafari colors and not types of gold.\n",
      "15. The history of coins stretches back to the first millennium BC/BCE. Notable examples of coins include the Lydian Lion coins, Persian daric and siglos, Tong Bei, the dirham and gold dinar. - Not useful, as it is about the history of coins and not types of gold.\n",
      "16. Carthaginian or Punic currency refers to the coins of ancient Carthage, a Phoenician city-state located near present-day Tunis, Tunisia. - Not useful, as it is about ancient currency and not types of gold.\n",
      "17. The dress was a 2015 online viral phenomenon centred on a photograph of a dress. - Not useful, as it is about a viral photograph and not types of gold.\n",
      "18. Gold-dipped roses, or gold-trimmed roses, are real roses that are cut and preserved in a protective shell of gold to make them last a long time. - Not useful, as it is about a product made with gold and not types of gold itself.\n",
      "19. A gold medal is a medal awarded for highest achievement in a non-military field. - Not useful, as it is about an award and not types of gold.\n",
      "20. Gold is a chemical element; it has symbol Au (from Latin aurum 'gold') and atomic number 79. - Useful, as it provides fundamental information about gold.\n",
      "21. White Gold is a British sitcom featuring a group of UPVC window salesmen in mid-1980s Corringham, Essex. - Not useful, as it is a sitcom and not related to types of gold.\n",
      "22. Fool's Gold Loaf is a sandwich made by the Colorado Mine Company, a restaurant\n",
      "1\n",
      "list index out of range\n",
      "2\n",
      "Extra data: line 1 column 2 (char 1)\n"
     ]
    }
   ],
   "source": [
    "choose_topics = lambda user_query: client.answer_question(\n",
    "        question=f\"\"\"{user_query}\n",
    "        Referring to the list of wikipedia entries you have been provided, decide on which topics are useful for the presentation. For each entry, explain, in a few words,\\\n",
    "        whether you think an entry is useful or not and why.\n",
    "        After that, generate a code chunk. Within the code chunk is an array of integers in JSON, and these integers correspond to the topics you think are useful. \n",
    "        Please keep strictly to the format in the following example:\n",
    "        0. - Sugar irrelevant to Jesus Christ, therefore not useful.\n",
    "        1. - Christianity is about the topic of Jesus Christ, thus Useful.\n",
    "        2. - Protestants follow Jesus Christ, therefore useful.\n",
    "        ```\n",
    "        [1, 2]\n",
    "        ```\n",
    "        \"\"\",\n",
    "        system_prompt=f\"\"\"You are an assistant whose task is to help a user in creating a presentation.\\\n",
    "        Here are a list of wikipedia entries, starting from the 0th entry, that may or may not be related to the topic at hand:\n",
    "        {snippet_text}\n",
    "        \"\"\",\n",
    "        llm='gpt-4-1106-preview' # only instance of gpt4 usage. need this for the big brain.\n",
    "    )\n",
    "\n",
    "topics = try_and_parse(user_query, choose_topics, markdown=True)\n",
    "print(topics)"
   ]
  },
  {
   "cell_type": "code",
   "execution_count": null,
   "id": "b2e216c3-a3fa-4755-91ed-5b56256d67cb",
   "metadata": {},
   "outputs": [],
   "source": [
    "articles"
   ]
  },
  {
   "cell_type": "code",
   "execution_count": null,
   "id": "6f1e8a6a-26f2-4915-821e-9ca9e01d7899",
   "metadata": {},
   "outputs": [],
   "source": [
    "chosen_articles = [articles[i] for i in topics]\n",
    "chosen_snippets = [snippet_[i] for i in topics]\n",
    "chosen_articles"
   ]
  },
  {
   "cell_type": "code",
   "execution_count": null,
   "id": "6b730249-875b-4ed0-93fc-16c2d4fd163f",
   "metadata": {},
   "outputs": [],
   "source": [
    "chosen_full_articles = list(map(lambda x: wiki.page(x, auto_suggest=False).content, chosen_articles))\n",
    "chosen_articles_images = list(map(lambda x: wiki.page(x, auto_suggest=False).images, chosen_articles))\n"
   ]
  },
  {
   "cell_type": "code",
   "execution_count": null,
   "id": "15055ab0-f43b-4f6a-849c-c6a98ad6eca1",
   "metadata": {},
   "outputs": [],
   "source": [
    "\n",
    "    \n",
    "# now its time to store them for RAG\n",
    "import os\n",
    "\n",
    "\n",
    "collection_id = client.create_collection(\n",
    "    name='Articles',\n",
    "    description='wikipedia articles for presentation',\n",
    ")\n",
    "\n",
    "pages = dict(zip(chosen_articles, chosen_full_articles))\n",
    "\n"
   ]
  },
  {
   "cell_type": "markdown",
   "id": "52c25911-fcbe-437b-8452-0c0339b72491",
   "metadata": {},
   "source": [
    "## Step 4: Store useful ideas in VectorDB (h2oai)"
   ]
  },
  {
   "cell_type": "code",
   "execution_count": null,
   "id": "57bdbe96-7895-41be-9566-d99c4d03f369",
   "metadata": {},
   "outputs": [],
   "source": [
    "import re\n",
    "to_ingest = []\n",
    "for title, content in pages.items():\n",
    "    title = re.sub('[\\W_]+', '', title)\n",
    "    name = f\"./articles/{title}.txt\"\n",
    "    f = open(name, \"w+\", encoding=\"utf-8\")\n",
    "    f.write(content)\n",
    "    f.close() # dont know why i gotta do this, i think it has to be in binary\n",
    "    f = open(name, 'rb')\n",
    "    to_ingest.append(client.upload(name, f))\n",
    "    print(f\"{name} fed!\")\n",
    "    f.close() \n",
    "\n",
    "client.ingest_uploads(collection_id, to_ingest)  "
   ]
  },
  {
   "cell_type": "code",
   "execution_count": null,
   "id": "68204587-8e88-4729-a520-98c429f02b81",
   "metadata": {},
   "outputs": [],
   "source": [
    "chosen_snippets"
   ]
  },
  {
   "cell_type": "markdown",
   "id": "f6d92505-2864-4532-a6d0-feb91d1d4fe4",
   "metadata": {},
   "source": [
    "## Step 5: Plan sections for slide\n",
    "This is to ensure the entire presentation is a coherent one with a flow/narrative, instead of many disjoint/overlapping generations.\n",
    "Again, chain of thought prompting is very heavily incorporated"
   ]
  },
  {
   "cell_type": "code",
   "execution_count": null,
   "id": "9d1a7ba5-2cdf-4f4e-b811-2d17abf3f119",
   "metadata": {},
   "outputs": [],
   "source": [
    "decide_sections = lambda user_query: client.answer_question(\n",
    "        question=f\"\"\"{user_query}\n",
    "        Please plan the presentation by doing the following:\n",
    "        1. Explain how you would design the presentation slides such that the presentation will flow well.\\\n",
    "        Remember that each slide must contain something different, and content should not overlap.\n",
    "        2. Think of a good title for the presentation.\n",
    "        3. Create a code chunk. Inside that code chunk, generate a JSON array consisting of appropriate slide titles starting from the first slide to the last slide, \\\n",
    "        remembering your answer to point 2. Include the title slide, which is the title for the presentation.\n",
    "\n",
    "        Below is an example reply. Please adhere strictly to the format in the example below and remember to output the JSON array in a code chunk:  \n",
    "        1. I would introduce the Transformers franchise and provide general information about its history to ease my viewers into the subject. \\\n",
    "        Then, I will think about subtopics, such as the Transformers films, Transformers characters and Transformers in comics, using the wikipedia entry summaries\\\n",
    "        I have been provided. \n",
    "            * For my first subtopic, the Transformers films, I would create two additional slides to expand on Bumblebee (2018) and Revenge of the Fallen (2009)\\\n",
    "            as these are popular films within the franchise. I will order the films chronologically.\n",
    "            * For my second subtopic on Transformers characters, I will have a slide on the cast of the film. \n",
    "            * For my next subtopic...\n",
    "        2. I think a good title for this presentation is \"Transformers: An Overview\".\n",
    "        3. Here is the json array of slide titles:\n",
    "        ```json\n",
    "        [\n",
    "        \"Transformers: An Overview\", \n",
    "        \"Introduction to Transformers\", \n",
    "        \"Transformers in Film\",\n",
    "        \"Transformers: Revenge of the Fallen (2009)\", \n",
    "        \"Bumblebee (2018)\", \n",
    "        \"Characters in the Transformers Universe\", \n",
    "        \"Transformers in comics\",\n",
    "        \"Conclusion\"\n",
    "        ]\n",
    "        ```\n",
    "        \"\"\",\n",
    "        system_prompt=f\"\"\"You are an assistant whose task is to help a user in creating a presentation.\\\n",
    "        Below is a list of wikipedia entry summaries that are selected for the presentation.\\\n",
    "        You will be asked to come up with slide titles for the presentation. Each line is a 1-sentence summary of a wikipedia page.\\\n",
    "        The number of slides should depend on the amount of information/wikipedia entry summaries available.\n",
    "        Summaries:\n",
    "        {chosen_snippets}\n",
    "        \"\"\",\n",
    "        llm='mistralai/Mixtral-8x7B-Instruct-v0.1' \n",
    "    )\n",
    "\n",
    "all_sections = try_and_parse(user_query, decide_sections, markdown=True)"
   ]
  },
  {
   "cell_type": "code",
   "execution_count": null,
   "id": "74ac776f-de82-461d-9313-e671d1ae2dbd",
   "metadata": {},
   "outputs": [],
   "source": [
    "sections = all_sections[1:]\n",
    "\n",
    "sections"
   ]
  },
  {
   "cell_type": "code",
   "execution_count": null,
   "id": "a5e83322-475c-4678-8f4c-f822ab5e5386",
   "metadata": {},
   "outputs": [],
   "source": [
    "del client\n",
    "client = H2OGPTE(\n",
    "    address=\"https://h2ogpte.genai.h2o.ai\",\n",
    "    api_key=api\n",
    ") # does this reset client?\n",
    "\n",
    "chat_session_id = client.create_chat_session(collection_id)\n",
    "chat_session_id"
   ]
  },
  {
   "cell_type": "markdown",
   "id": "c77e579f-ced4-4c01-93b8-4237e0872788",
   "metadata": {},
   "source": [
    "#### Ref for slide types:  \n",
    "0. title and subtitle \n",
    "1. title and content \n",
    "2. section header \n",
    "3. two content \n",
    "4. Comparison \n",
    "5. Title only  \n",
    "6. Blank \n",
    "7. Content with caption \n",
    "8. Pic with caption \n"
   ]
  },
  {
   "cell_type": "markdown",
   "id": "17338590-9279-49a6-8674-17f2b8c57cdd",
   "metadata": {},
   "source": [
    "## Step 6: Generate using RAG\n",
    "LLM chooses colour with chain-of-thought prompting again."
   ]
  },
  {
   "cell_type": "code",
   "execution_count": null,
   "id": "11c297ad-f4ef-4aac-a719-e8f2c8237a8f",
   "metadata": {},
   "outputs": [],
   "source": [
    "prs = Presentation()\n",
    "prs.slide_width = Inches(16)\n",
    "prs.slide_height = Inches(9)\n",
    "title_slide = prs.slides.add_slide(prs.slide_layouts[0]) \n",
    "decide_slide_format = lambda user_query: client.answer_question(\n",
    "        question=f\"\"\"{user_query} Think of a good background colour, in RGB format,\\\n",
    "        for the slides and a good colour, also in RGB format, for the\\\n",
    "        text. Typically, if the text colour is bright (for example RGB [255, 255, 255] is white), then the background colour should be dark\n",
    "        (RGB [0, 0, 100] is dark blue). Conversely, if the text colour is dark (for example RGB [0, 0, 0] is black), the background colour should be bright\\\n",
    "        . You are free to choose any text and background colour, \\\n",
    "        as long as you follow these rules. Please do not assign grey-scale colours for the text and background (like RGB [50, 50, 50]), as much as possible.\n",
    "\n",
    "        Explain clearly why you chose the background and text colours. Then, generate a code chunk. Within the code chunk,\\\n",
    "        provide a JSON array containing two colours. Adhere strictly to the example reply below:\n",
    "        I chose blue RGB [0, 35, 140] for the background color and light yellow RGB [255, 234, 0] for the font color. The contrast makes it easy to read.\\\n",
    "        Furthermore, the colours blue and yellow are associated with the Pokémon Franchise.\n",
    "        ```\n",
    "        [{{\"background\": [0, 0, 140]}}, {{\"text\": [255, 234, 0]}}]\n",
    "        ```\n",
    "        \"\"\",\n",
    "    \n",
    "        system_prompt=f\"\"\"You are an assistant whose task is to help a user in creating a presentation.\\\n",
    "        Here are a list of wikipedia entry summaries that are selected for the presentation:\n",
    "        {chosen_snippets}\n",
    "        \"\"\",\n",
    "        llm='mistralai/Mixtral-8x7B-Instruct-v0.1' \n",
    ")\n",
    "\n",
    "format = try_and_parse(user_query, decide_slide_format, markdown=True)"
   ]
  },
  {
   "cell_type": "code",
   "execution_count": null,
   "id": "8a40b715-2ef3-47f0-bcab-db6733e54873",
   "metadata": {
    "scrolled": true
   },
   "outputs": [],
   "source": [
    "format"
   ]
  },
  {
   "cell_type": "code",
   "execution_count": null,
   "id": "75e78e2a-08ef-4fed-8833-a6ad0296110c",
   "metadata": {},
   "outputs": [],
   "source": [
    "background = RGBColor(*tuple(list(format[0].values())[0])) \n",
    "font = RGBColor(*tuple(list(format[1].values())[0])) \n",
    "fill = title_slide.background.fill\n",
    "fill.solid()\n",
    "fill.fore_color.rgb = background\n",
    "\n",
    "\n",
    "title_slide.shapes.title.text = all_sections[0]\n",
    "title_slide.shapes.title.text_frame.paragraphs[0].font.color.rgb =  font\n",
    "title_slide.shapes.title.text_frame.paragraphs[0].font.name = 'Montserrat'\n",
    "title_slide.shapes.title.text_frame.paragraphs[0].font.bold = True\n",
    "\n",
    "first_shape =  title_slide.shapes[0]\n",
    "first_shape.left, first_shape.top, first_shape.width, first_shape.height = (prs.slide_width - Inches(12))//2, \\\n",
    "(prs.slide_height-first_shape.height)//2 - Inches(1),\\\n",
    "Inches(12),\\\n",
    "Inches(2)"
   ]
  },
  {
   "cell_type": "code",
   "execution_count": null,
   "id": "14ebca46-abd0-45a9-9f13-82c9242dc2e5",
   "metadata": {},
   "outputs": [],
   "source": [
    "\n",
    "with client.connect(chat_session_id) as session:\n",
    "\n",
    "    for section in tqdm(sections):\n",
    "        slide = prs.slides.add_slide(prs.slide_layouts[1])\n",
    "        fill = slide.background.fill\n",
    "        fill.solid()\n",
    "        fill.fore_color.rgb = background\n",
    "\n",
    "        \n",
    "        contents = slide.placeholders[1]\n",
    "        contents.text_frame.word_wrap = True\n",
    "\n",
    "        title = slide.shapes.title\n",
    "        title.text = section\n",
    "        title.text_frame.paragraphs[0].font.color.rgb = font\n",
    "        title.text_frame.paragraphs[0].font.size = Pt(32)\n",
    "        title.text_frame.paragraphs[0].font.name = 'Karla'\n",
    "       \n",
    "       \n",
    "        content = session.query(\n",
    "            \n",
    "            message = section,\n",
    "            system_prompt=f\"\"\"You are an assistant whose task is to help a user in creating a presentation. \\\n",
    "            The slides of the presentation are as follows: {sections}\n",
    "            You are now tasked with generating the content of one slide, which will be provided by the user.\n",
    "            \"\"\",\n",
    "            pre_prompt_query=\"You have been provided with the following information, which may be useful in your task.\",\n",
    "            prompt_query=\"Decide if the information is relevant, and use it if needed. \\\n",
    "            Generate the content required in the slide provided by the user. You only need to generate the contents of the slide, not the title\\\n",
    "            or anything else. Generate a maximum of 3 paragraphs of text. Keep to a word limit of 300 words. \\\n",
    "            Do not use numbered lists.\",\n",
    "            llm=\"mistralai/Mixtral-8x7B-Instruct-v0.1\",\n",
    "            rag_config={\n",
    "                \"rag_type\": \"rag\",\n",
    "            },\n",
    "        ).content\n",
    "\n",
    "        contents.text = content\n",
    "        \n",
    "        for paragraph in contents.text_frame.paragraphs:\n",
    "            paragraph.space_after = 1\n",
    "            paragraph.space_before = 0\n",
    "           \n",
    "            paragraph.font.size = Pt(18)  \n",
    "            paragraph.font.color.rgb = font\n",
    "            paragraph.font.name = 'Karla'\n",
    "\n",
    "        contents.text_frame.auto_size = MSO_AUTO_SIZE.SHAPE_TO_FIT_TEXT\n",
    "        shapes = slide.shapes\n",
    "        new_width = Inches(14)\n",
    "        new_height = Inches(7)\n",
    "        shapes[0].height, shapes[0].width, shapes[0].top, shapes[0].left = shapes[0].height, new_width, shapes[0].top, (prs.slide_width-new_width)//2\n",
    "        shapes[1].height, shapes[1].width, shapes[1].top, shapes[1].left = new_height, new_width, shapes[1].top, (prs.slide_width-new_width)//2\n",
    "        \n",
    "        \n",
    "\n",
    "# gpt-4-1106-preview\n"
   ]
  },
  {
   "cell_type": "markdown",
   "id": "e5355475-527a-47b4-81ec-aff43b9f8142",
   "metadata": {},
   "source": [
    "## Step 7: Enjoy"
   ]
  },
  {
   "cell_type": "code",
   "execution_count": null,
   "id": "e3de66b9-768e-48c5-9e7d-2b7c5411d9c1",
   "metadata": {},
   "outputs": [],
   "source": [
    "sanitised = re.sub(r'[\\W_]+', '_', all_sections[0])\n",
    "prs.save(f\"./presentations/{sanitised}.pptx\")\n"
   ]
  },
  {
   "cell_type": "markdown",
   "id": "1f9df9ce-fdad-4bb9-9707-0051dc9ab84c",
   "metadata": {},
   "source": [
    "## Appendix: Extra Code that may be useful in the future\n",
    "```python\n",
    "# Create a chat session\n",
    "# chat_session_id = client.create_chat_session(collection_id)\n",
    "\n",
    "# # Query the collection\n",
    "# with client.connect(chat_session_id) as session:\n",
    "#     reply = session.query(\n",
    "#         'How many paper clips were shipped to Scranton?',\n",
    "#         llm=\"gpt-4-0613\"\n",
    "#     )\n",
    "#     print(reply.content)\n",
    "\n",
    "#     reply = session.query(\n",
    "#         'Did David Brent co-sign the contract with Initech?',\n",
    "#         timeout=60,\n",
    "#         llm=\"gpt-4-0613\"\n",
    "#     )\n",
    "#     print(reply.content)\n",
    "\n",
    "# # Summarize each document\n",
    "# documents = client.list_documents_in_collection(collection_id, offset=0, limit=99)\n",
    "# for doc in documents:\n",
    "#     summary = client.summarize_document(\n",
    "#         document_id=doc.id,\n",
    "#         timeout=60,\n",
    "#     )\n",
    "#     print(summary.content)\n",
    "\n",
    "\n",
    "#client.delete_documents_from_collection\n",
    "```"
   ]
  }
 ],
 "metadata": {
  "kernelspec": {
   "display_name": "Python 3 (ipykernel)",
   "language": "python",
   "name": "python3"
  },
  "language_info": {
   "codemirror_mode": {
    "name": "ipython",
    "version": 3
   },
   "file_extension": ".py",
   "mimetype": "text/x-python",
   "name": "python",
   "nbconvert_exporter": "python",
   "pygments_lexer": "ipython3",
   "version": "3.11.7"
  }
 },
 "nbformat": 4,
 "nbformat_minor": 5
}
