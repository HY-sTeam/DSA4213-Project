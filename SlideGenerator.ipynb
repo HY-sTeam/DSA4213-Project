{
 "cells": [
  {
   "cell_type": "code",
   "execution_count": 1,
   "id": "4d4b2e41-d0b4-4d37-bc7d-85c2a6dbeb97",
   "metadata": {},
   "outputs": [],
   "source": [
    "import json\n",
    "import numpy as np\n",
    "from pptx import Presentation\n",
    "from pptx.dml.color import RGBColor\n",
    "from pptx.util import Cm, Pt, Inches\n",
    "from pptx.enum.text import MSO_ANCHOR, MSO_AUTO_SIZE\n",
    "from h2ogpte import H2OGPTE\n",
    "from mediawikiapi import MediaWikiAPI\n",
    "from tqdm import tqdm\n",
    "with open('secrets.txt') as f:\n",
    "    api = f.read()\n",
    "    f.close()\n",
    "\n"
   ]
  },
  {
   "cell_type": "code",
   "execution_count": 2,
   "id": "5d2c9a1b-6481-447e-9513-732dc1e44eb4",
   "metadata": {},
   "outputs": [],
   "source": [
    "client = H2OGPTE(\n",
    "    address=\"https://h2ogpte.genai.h2o.ai\",\n",
    "    api_key=api\n",
    ")\n",
    "\n",
    "user_query = 'Create a presentation on chocolate bars'"
   ]
  },
  {
   "cell_type": "code",
   "execution_count": 3,
   "id": "c753be01-40dc-4a03-8d7a-5af7397ccdb3",
   "metadata": {},
   "outputs": [],
   "source": [
    "def try_and_parse(user_query, function, failed=0,):\n",
    "    chosen = function(user_query)\n",
    "    try:\n",
    "        topics = json.loads(chosen.content)\n",
    "        return topics\n",
    "    except:\n",
    "        failed+=1\n",
    "        print(failed) # CHANGE TO LOGGING STATEMENT\n",
    "        try_and_parse(user_query, function, failed=failed)\n"
   ]
  },
  {
   "cell_type": "code",
   "execution_count": 4,
   "id": "0070654e-5a34-45a9-a233-d924424311c9",
   "metadata": {},
   "outputs": [
    {
     "data": {
      "text/plain": [
       "['Chocolate bar',\n",
       " 'History of chocolate',\n",
       " 'Types of chocolate bars',\n",
       " 'Chocolate bar ingredients',\n",
       " 'Chocolate bar manufacturing process',\n",
       " 'Chocolate bar brands']"
      ]
     },
     "execution_count": 4,
     "metadata": {},
     "output_type": "execute_result"
    }
   ],
   "source": [
    "search = lambda user_query: client.answer_question(\n",
    "    question=user_query,\n",
    "    system_prompt=\"\"\"You are an assistant whose task is to perform Wikipedia searches on a specific topic.\\\n",
    "    The user is interested to create a presentation about a topic of interest.\\\n",
    "    Reply with at least one corresponding Wikipedia query as an array in JSON format.\\\n",
    "    Only reply with the JSON array and nothing else. Here are some examples.\n",
    "    Example 1.\n",
    "    User: Create a presentation on the book, Baby Rudin.\n",
    "    Assistant: [\"Real analysis\", \"Mathematical Analysis\"]\n",
    "\n",
    "    Example 2.\n",
    "    User: I want to create a ppt about Milk.\n",
    "    Assistant: [\"Milk\", \"Plant Milk\", \"Animal Milk\", \"Almond Milk\"]\n",
    "    \"\"\",\n",
    "    llm='mistralai/Mixtral-8x7B-Instruct-v0.1' # i like this model\n",
    ")\n",
    "searched = try_and_parse(user_query, search)\n",
    "searched"
   ]
  },
  {
   "cell_type": "code",
   "execution_count": 5,
   "id": "9774e298-43a4-410d-8ca5-cab51af71220",
   "metadata": {},
   "outputs": [],
   "source": [
    "wiki = MediaWikiAPI()\n",
    "\n",
    "articles = list(\n",
    "    set(\n",
    "        np.array(\n",
    "            [wiki.search(cat, results=5) for cat in searched]\n",
    "        ).flatten()\n",
    "    )\n",
    ")\n",
    "\n",
    "# remove duplicates with set(list())"
   ]
  },
  {
   "cell_type": "code",
   "execution_count": 6,
   "id": "bc504cd6-6449-47e4-87cf-45d4385c39e8",
   "metadata": {},
   "outputs": [
    {
     "name": "stdout",
     "output_type": "stream",
     "text": [
      "0. Ruby chocolate is a style or distinct variety of chocolate that is pink or purple in colour.\n",
      "\n",
      "1. Milk chocolate is a form of solid chocolate containing cocoa, sugar and milk.\n",
      "\n",
      "2. The history of chocolate in Spain is part of the culinary history of Spain as understood since the 16th century, when the colonisation of the Americas began and the cocoa plant was discovered in regions of Mesoamerica, until the present.\n",
      "\n",
      "3. Aero is an aerated chocolate bar manufactured by the Vevey-based company Nestlé.\n",
      "\n",
      "4. This is a list of chocolate bar brands, in alphabetical order, including discontinued brands.\n",
      "\n",
      "5. The history of chocolate dates back over 5,000 years.\n",
      "\n",
      "6. A chocolate bar is a confection containing chocolate, which may also contain layerings or mixtures that include nuts, fruit, caramel, nougat, and wafers.\n",
      "\n",
      "7. Bounty is a coconut-filled, chocolate-enrobed candy bar manufactured by Mars, Incorporated, introduced in 1951 in the United Kingdom and Canada.\n",
      "\n",
      "8. Gianduia or gianduja (Italian: [dʒanˈduːja]; Piedmontese: giandoja [dʒaŋˈdʊja]) is a homogeneous blend of chocolate with 30% hazelnut paste, invented in Turin during Napoleon's regency (1796–1814).\n",
      "\n",
      "9. Chocolate or cocoa is a food made from roasted and ground cacao seed kernels that is available as a liquid, solid, or paste, either on its own or as a flavoring agent in other foods.\n",
      "\n",
      "10. Hot chocolate, also known as hot cocoa or drinking chocolate, is a heated drink consisting of shaved or melted chocolate or cocoa powder, heated milk or water, and usually a sweetener.\n",
      "\n",
      "11. Galaxy is a chocolate bar, made and marketed by Mars Inc., and first manufactured in the United Kingdom in the 1960s.\n",
      "\n",
      "12. Dark chocolate is a form of chocolate containing only cocoa solids, cocoa butter and sugar.\n",
      "\n",
      "13. Chocolate is a food product made from roasted and ground cocoa pods mixed with fat (e.g.\n",
      "\n",
      "14. The Hershey's Milk Chocolate Bar (commonly called the Hershey's Bar, or more simply the Hershey Bar) is a flagship chocolate bar manufactured by The Hershey Company.\n",
      "\n",
      "15. Milky Way is a brand of chocolate-covered confectionery bar manufactured and marketed by Mars, Incorporated.\n",
      "\n",
      "16. A chocolate chip cookie is a drop cookie that features chocolate chips or chocolate morsels as its distinguishing ingredient.\n",
      "\n",
      "17. Dove (sold as Galaxy in the UK, Ireland, the Middle East, India and Australia) is an American brand of chocolate owned and manufactured by Mars.\n",
      "\n",
      "18. Flake is a British brand of chocolate bar currently manufactured by British chocolate company Cadbury, owned by Mondelez International, consisting of thinly folded milk chocolate.\n",
      "\n",
      "19. White chocolate is a confectionery typically made of sugar, milk, and cocoa butter, but no cocoa solids.\n"
     ]
    }
   ],
   "source": [
    "snippet = list(map(lambda x: wiki.summary(x, auto_suggest=False, sentences=1), articles))\n",
    "snippet_ = snippet.copy()\n",
    "i = 0\n",
    "for string in snippet:\n",
    "    string = f\"{i}. {string}\"\n",
    "    snippet[i] = string\n",
    "    i+=1\n",
    "snippet_text = \"\\n\\n\".join(snippet)\n",
    "print(snippet_text)"
   ]
  },
  {
   "cell_type": "code",
   "execution_count": 7,
   "id": "2a940365-1bd4-4a4b-b6af-0aa869ab6d88",
   "metadata": {},
   "outputs": [
    {
     "name": "stdout",
     "output_type": "stream",
     "text": [
      "[0, 1, 2, 6, 11, 12, 14, 15, 17, 18, 19]\n"
     ]
    }
   ],
   "source": [
    "choose_topics = lambda user_query: client.answer_question(\n",
    "        question=user_query,\n",
    "        system_prompt=f\"\"\"You are an assistant whose task is to help a user in creating a presentation.\\\n",
    "        Here are a list of wikipedia entries, starting from the 0th entry, that may or may not be related to the topic at hand:\n",
    "        {snippet_text}\n",
    "        \n",
    "        Decide on which topics are useful for the presentation\\\n",
    "        and return these topics as an array of integers in JSON. For example, if only choices 0, 2, 4, and 9 are useful, your reply should be: [0, 2, 4, 9].\n",
    "        If all the choices are useful, and there are 6 entries (from 0 to 5) then your reply should be: [0, 1, 2, 3, 4, 5].\n",
    "        Do not say anything else. \n",
    "        \"\"\",\n",
    "        llm='mistralai/Mixtral-8x7B-Instruct-v0.1' \n",
    "    )\n",
    "\n",
    "topics = try_and_parse(user_query, choose_topics)\n",
    "print(topics)"
   ]
  },
  {
   "cell_type": "code",
   "execution_count": 8,
   "id": "b2e216c3-a3fa-4755-91ed-5b56256d67cb",
   "metadata": {},
   "outputs": [
    {
     "data": {
      "text/plain": [
       "['Ruby chocolate',\n",
       " 'Milk chocolate',\n",
       " 'History of chocolate in Spain',\n",
       " 'Aero (chocolate bar)',\n",
       " 'List of chocolate bar brands',\n",
       " 'History of chocolate',\n",
       " 'Chocolate bar',\n",
       " 'Bounty (chocolate bar)',\n",
       " 'Gianduja (chocolate)',\n",
       " 'Chocolate',\n",
       " 'Hot chocolate',\n",
       " 'Galaxy (chocolate bar)',\n",
       " 'Dark chocolate',\n",
       " 'Types of chocolate',\n",
       " 'Hershey bar',\n",
       " 'Milky Way (chocolate bar)',\n",
       " 'Chocolate chip cookie',\n",
       " 'Dove (chocolate brand)',\n",
       " 'Flake (chocolate bar)',\n",
       " 'White chocolate']"
      ]
     },
     "execution_count": 8,
     "metadata": {},
     "output_type": "execute_result"
    }
   ],
   "source": [
    "articles"
   ]
  },
  {
   "cell_type": "code",
   "execution_count": 9,
   "id": "6f1e8a6a-26f2-4915-821e-9ca9e01d7899",
   "metadata": {},
   "outputs": [
    {
     "data": {
      "text/plain": [
       "['Ruby chocolate',\n",
       " 'Milk chocolate',\n",
       " 'History of chocolate in Spain',\n",
       " 'Chocolate bar',\n",
       " 'Galaxy (chocolate bar)',\n",
       " 'Dark chocolate',\n",
       " 'Hershey bar',\n",
       " 'Milky Way (chocolate bar)',\n",
       " 'Dove (chocolate brand)',\n",
       " 'Flake (chocolate bar)',\n",
       " 'White chocolate']"
      ]
     },
     "execution_count": 9,
     "metadata": {},
     "output_type": "execute_result"
    }
   ],
   "source": [
    "chosen_articles = [articles[i] for i in topics]\n",
    "chosen_snippets = [snippet_[i] for i in topics]\n",
    "chosen_articles"
   ]
  },
  {
   "cell_type": "code",
   "execution_count": 10,
   "id": "6b730249-875b-4ed0-93fc-16c2d4fd163f",
   "metadata": {},
   "outputs": [],
   "source": [
    "chosen_full_articles = list(map(lambda x: wiki.page(x, auto_suggest=False).content, chosen_articles))\n",
    "chosen_articles_images = list(map(lambda x: wiki.page(x, auto_suggest=False).images, chosen_articles))\n",
    "# # Create documents\n",
    "# # Note: Done for demonstration purposes only (not usually needed)\n",
    "# with open('dunder_mifflin.txt', 'w') as f:\n",
    "#     f.write('There were 55 paper clips shipped, 22 to Scranton and 33 to Filmer.')\n",
    "    \n",
    "# with open('initech.txt', 'w') as f:\n",
    "#     f.write('David Brent did not sign any contract with Initech.')\n",
    "    \n",
    "# # Upload documents\n",
    "# # Many file types are supported: text/image/audio documents and archives\n",
    "# with open('dunder_mifflin.txt', 'rb') as f:\n",
    "#     dunder_mifflin = client.upload('Dunder Mifflin.txt', f)\n",
    "    \n",
    "# with open('initech.txt', 'rb') as f:\n",
    "#     initech = client.upload('IniTech.txt', f)\n",
    "\n",
    "# # Ingest documents (Creates previews, chunks and embeddings)\n",
    "# client.ingest_uploads(collection_id, [dunder_mifflin, initech])\n"
   ]
  },
  {
   "cell_type": "code",
   "execution_count": 11,
   "id": "15055ab0-f43b-4f6a-849c-c6a98ad6eca1",
   "metadata": {},
   "outputs": [],
   "source": [
    "\n",
    "    \n",
    "# now its time to store them for RAG\n",
    "import os\n",
    "\n",
    "\n",
    "collection_id = client.create_collection(\n",
    "    name='Articles',\n",
    "    description='wikipedia articles for presentation',\n",
    ")\n",
    "\n",
    "pages = dict(zip(chosen_articles, chosen_full_articles))\n",
    "\n"
   ]
  },
  {
   "cell_type": "code",
   "execution_count": 12,
   "id": "57bdbe96-7895-41be-9566-d99c4d03f369",
   "metadata": {},
   "outputs": [
    {
     "name": "stdout",
     "output_type": "stream",
     "text": [
      "./articles/Rubychocolate.txt fed!\n",
      "./articles/Milkchocolate.txt fed!\n",
      "./articles/HistoryofchocolateinSpain.txt fed!\n",
      "./articles/Chocolatebar.txt fed!\n",
      "./articles/Galaxychocolatebar.txt fed!\n",
      "./articles/Darkchocolate.txt fed!\n",
      "./articles/Hersheybar.txt fed!\n",
      "./articles/MilkyWaychocolatebar.txt fed!\n",
      "./articles/Dovechocolatebrand.txt fed!\n",
      "./articles/Flakechocolatebar.txt fed!\n",
      "./articles/Whitechocolate.txt fed!\n"
     ]
    },
    {
     "data": {
      "text/plain": [
       "Job(id='0e3b795d-ee0a-412f-9f83-426b8b8378ab', passed=1.0, failed=0.0, progress=1.0, completed=True, canceled=False, date=datetime.datetime(2024, 2, 26, 16, 48, 22, tzinfo=TzInfo(UTC)), kind=<JobKind.IngestUploadsJob: 'IngestUploadsJob'>, statuses=[JobStatus(id='5284b5fd5ec4479fb8d0cf789be7e18d', status='Indexing done.'), JobStatus(id='05a2a39c58054a818bf4fb83b921e8cd', status='Indexing done.'), JobStatus(id='20d5f684b823432ea55db1d875208ec9', status='Indexing done.'), JobStatus(id='996b15dc29024cf8bfbb2510cccbf0a3', status='Indexing done.'), JobStatus(id='e1f8daeedfd84a0fb47d6e905a57ce0e', status='Indexing done.')], errors=[], last_update_date=datetime.datetime(2024, 2, 26, 16, 48, 38, tzinfo=TzInfo(UTC)), duration='16s')"
      ]
     },
     "execution_count": 12,
     "metadata": {},
     "output_type": "execute_result"
    }
   ],
   "source": [
    "import re\n",
    "to_ingest = []\n",
    "for title, content in pages.items():\n",
    "    title = re.sub('[\\W_]+', '', title)\n",
    "    name = f\"./articles/{title}.txt\"\n",
    "    f = open(name, \"w+\", encoding=\"utf-8\")\n",
    "    f.write(content)\n",
    "    f.close() # dont know why i gotta do this, i think it has to be in binary\n",
    "    f = open(name, 'rb')\n",
    "    to_ingest.append(client.upload(name, f))\n",
    "    print(f\"{name} fed!\")\n",
    "    f.close() \n",
    "\n",
    "client.ingest_uploads(collection_id, to_ingest)  "
   ]
  },
  {
   "cell_type": "code",
   "execution_count": 13,
   "id": "8fbc21a2-68de-49eb-8ff2-93923e71072c",
   "metadata": {},
   "outputs": [],
   "source": [
    "\n",
    "# Create a chat session\n",
    "# chat_session_id = client.create_chat_session(collection_id)\n",
    "\n",
    "# # Query the collection\n",
    "# with client.connect(chat_session_id) as session:\n",
    "#     reply = session.query(\n",
    "#         'How many paper clips were shipped to Scranton?',\n",
    "#         llm=\"gpt-4-0613\"\n",
    "#     )\n",
    "#     print(reply.content)\n",
    "\n",
    "#     reply = session.query(\n",
    "#         'Did David Brent co-sign the contract with Initech?',\n",
    "#         timeout=60,\n",
    "#         llm=\"gpt-4-0613\"\n",
    "#     )\n",
    "#     print(reply.content)\n",
    "\n",
    "# # Summarize each document\n",
    "# documents = client.list_documents_in_collection(collection_id, offset=0, limit=99)\n",
    "# for doc in documents:\n",
    "#     summary = client.summarize_document(\n",
    "#         document_id=doc.id,\n",
    "#         timeout=60,\n",
    "#     )\n",
    "#     print(summary.content)\n",
    "\n",
    "\n",
    "#client.delete_documents_from_collection"
   ]
  },
  {
   "cell_type": "code",
   "execution_count": 14,
   "id": "68204587-8e88-4729-a520-98c429f02b81",
   "metadata": {},
   "outputs": [
    {
     "data": {
      "text/plain": [
       "['Ruby chocolate is a style or distinct variety of chocolate that is pink or purple in colour.',\n",
       " 'Milk chocolate is a form of solid chocolate containing cocoa, sugar and milk.',\n",
       " 'The history of chocolate in Spain is part of the culinary history of Spain as understood since the 16th century, when the colonisation of the Americas began and the cocoa plant was discovered in regions of Mesoamerica, until the present.',\n",
       " 'A chocolate bar is a confection containing chocolate, which may also contain layerings or mixtures that include nuts, fruit, caramel, nougat, and wafers.',\n",
       " 'Galaxy is a chocolate bar, made and marketed by Mars Inc., and first manufactured in the United Kingdom in the 1960s.',\n",
       " 'Dark chocolate is a form of chocolate containing only cocoa solids, cocoa butter and sugar.',\n",
       " \"The Hershey's Milk Chocolate Bar (commonly called the Hershey's Bar, or more simply the Hershey Bar) is a flagship chocolate bar manufactured by The Hershey Company.\",\n",
       " 'Milky Way is a brand of chocolate-covered confectionery bar manufactured and marketed by Mars, Incorporated.',\n",
       " 'Dove (sold as Galaxy in the UK, Ireland, the Middle East, India and Australia) is an American brand of chocolate owned and manufactured by Mars.',\n",
       " 'Flake is a British brand of chocolate bar currently manufactured by British chocolate company Cadbury, owned by Mondelez International, consisting of thinly folded milk chocolate.',\n",
       " 'White chocolate is a confectionery typically made of sugar, milk, and cocoa butter, but no cocoa solids.']"
      ]
     },
     "execution_count": 14,
     "metadata": {},
     "output_type": "execute_result"
    }
   ],
   "source": [
    "chosen_snippets"
   ]
  },
  {
   "cell_type": "code",
   "execution_count": null,
   "id": "9d1a7ba5-2cdf-4f4e-b811-2d17abf3f119",
   "metadata": {},
   "outputs": [],
   "source": [
    "decide_sections = lambda user_query: client.answer_question(\n",
    "        question=user_query,\n",
    "        system_prompt=f\"\"\"You are an assistant whose task is to help a user in creating a presentation.\\\n",
    "        Here are a list of wikipedia entry summaries that are selected for the presentation:\n",
    "        {chosen_snippets}\n",
    "        \n",
    "        Now, plan the presentation by replying a JSON array \\\n",
    "        consisting of slide titles, starting from the first slide to the last slide. Do not include the title slide. Do not say anything else.\n",
    "\n",
    "        Here is an example reply:\n",
    "        [\"Introduction to Cookies\", \"History of cookies\", \"Types of Cookies\", \"Health Concerns\", \"Conclusion\"]\n",
    "        \"\"\",\n",
    "        llm='mistralai/Mixtral-8x7B-Instruct-v0.1' \n",
    "    )\n",
    "\n",
    "sections = try_and_parse(user_query, decide_sections)"
   ]
  },
  {
   "cell_type": "code",
   "execution_count": null,
   "id": "74ac776f-de82-461d-9313-e671d1ae2dbd",
   "metadata": {},
   "outputs": [],
   "source": [
    "sections"
   ]
  },
  {
   "cell_type": "code",
   "execution_count": null,
   "id": "a5e83322-475c-4678-8f4c-f822ab5e5386",
   "metadata": {},
   "outputs": [],
   "source": [
    "chat_session_id = client.create_chat_session(collection_id)\n",
    "chat_session_id"
   ]
  },
  {
   "cell_type": "code",
   "execution_count": null,
   "id": "d65cbc7b-fe01-4260-a454-b7711c8ffa48",
   "metadata": {},
   "outputs": [],
   "source": [
    "\"\"\" Ref for slide types:  \n",
    "0 ->  title and subtitle \n",
    "1 ->  title and content \n",
    "2 ->  section header \n",
    "3 ->  two content \n",
    "4 ->  Comparison \n",
    "5 ->  Title only  \n",
    "6 ->  Blank \n",
    "7 ->  Content with caption \n",
    "8 ->  Pic with caption \n",
    "\"\"\""
   ]
  },
  {
   "cell_type": "code",
   "execution_count": null,
   "id": "11c297ad-f4ef-4aac-a719-e8f2c8237a8f",
   "metadata": {},
   "outputs": [],
   "source": [
    "prs = Presentation()\n",
    "prs.slide_width = Inches(16)\n",
    "prs.slide_height = Inches(9)\n",
    "title_slide = prs.slides.add_slide(prs.slide_layouts[0]) \n",
    "decide_slide_format = lambda user_query: client.answer_question(\n",
    "        question=f\"\"\"{user_query} Think of a simple title for this presentation.\n",
    "        \n",
    "        Also, think of a good background colour, in RGB format,\\\n",
    "        for the slides and a good colour, also in RGB format, for the\\\n",
    "        text. Typically, if the text colour is bright (for example RGB [255, 255, 255] is white), then the background colour should be dark\n",
    "        (RGB [0, 0, 100] is dark blue). Conversely, if the text colour is dark (for example RGB [0, 0, 0] is black), the background colour should be bright\\\n",
    "        . You are free to choose any text and background colour, \\\n",
    "        as long as you follow these rules. Please do not assign grey-scale colours for the text and background (like RGB [50, 50, 50]), as much as possible.\n",
    "        \n",
    "        Format your reply as a JSON array containing the title and the two colours, following the example below. Do not say anything else.\n",
    "        Example:\n",
    "        [\"Slide Title\", {{\"background\": [100, 0, 0]}}, {{\"text\": [255, 255, 255]}}]\"\"\",\n",
    "    \n",
    "        system_prompt=f\"\"\"You are an assistant whose task is to help a user in creating a presentation.\\\n",
    "        Here are a list of wikipedia entry summaries that are selected for the presentation:\n",
    "        {chosen_snippets}\n",
    "        This should give you an idea of what this presentation should be about.\n",
    "        \"\"\",\n",
    "        llm='mistralai/Mixtral-8x7B-Instruct-v0.1' \n",
    ")\n",
    "\n",
    "format = try_and_parse(user_query, decide_slide_format)"
   ]
  },
  {
   "cell_type": "code",
   "execution_count": null,
   "id": "8a40b715-2ef3-47f0-bcab-db6733e54873",
   "metadata": {
    "scrolled": true
   },
   "outputs": [],
   "source": [
    "format"
   ]
  },
  {
   "cell_type": "code",
   "execution_count": null,
   "id": "75e78e2a-08ef-4fed-8833-a6ad0296110c",
   "metadata": {},
   "outputs": [],
   "source": [
    "background = RGBColor(*tuple(list(format[1].values())[0])) \n",
    "font = RGBColor(*tuple(list(format[2].values())[0])) \n",
    "fill = title_slide.background.fill\n",
    "fill.solid()\n",
    "fill.fore_color.rgb = background\n",
    "\n",
    "\n",
    "title_slide.shapes.title.text = format[0]\n",
    "title_slide.shapes.title.text_frame.paragraphs[0].font.color.rgb =  font\n",
    "title_slide.shapes.title.text_frame.paragraphs[0].font.name = 'Montserrat'\n",
    "title_slide.shapes.title.text_frame.paragraphs[0].font.bold = True\n",
    "\n",
    "first_shape =  title_slide.shapes[0]\n",
    "first_shape.left, first_shape.top, first_shape.width, first_shape.height = (prs.slide_width - Inches(12))//2, \\\n",
    "(prs.slide_height-first_shape.height)//2 - Inches(1),\\\n",
    "Inches(12),\\\n",
    "Inches(2)"
   ]
  },
  {
   "cell_type": "code",
   "execution_count": null,
   "id": "14ebca46-abd0-45a9-9f13-82c9242dc2e5",
   "metadata": {},
   "outputs": [],
   "source": [
    "\n",
    "with client.connect(chat_session_id) as session:\n",
    "\n",
    "    for section in tqdm(sections):\n",
    "        slide = prs.slides.add_slide(prs.slide_layouts[1])\n",
    "        fill = slide.background.fill\n",
    "        fill.solid()\n",
    "        fill.fore_color.rgb = background\n",
    "\n",
    "        \n",
    "        contents = slide.placeholders[1]\n",
    "\n",
    "        title = slide.shapes.title\n",
    "        title.text = section\n",
    "        title.text_frame.paragraphs[0].font.color.rgb = font\n",
    "        title.text_frame.paragraphs[0].font.size = Pt(32)\n",
    "        title.text_frame.paragraphs[0].font.name = 'Karla'\n",
    "       \n",
    "       \n",
    "        content = session.query(\n",
    "            \n",
    "            message = section,\n",
    "            system_prompt=f\"\"\"You are an assistant whose task is to help a user in creating a presentation. \\\n",
    "            The slides of the presentation are as follows: {sections}\n",
    "            You are now tasked with generating the content of one slide, which will be provided by the user.\n",
    "            \"\"\",\n",
    "            pre_prompt_query=\"You have been provided with the following information, which may be useful in your task.\",\n",
    "            prompt_query=\"Decide if the information is relevant, and use it if needed. \\\n",
    "            Generate the content required in the slide provided by the user. You only need to generate the contents of the slide, not the title\\\n",
    "            or anything else. Generate a maximum of 3 paragraphs of text. Keep to a word limit of 250 words. \\\n",
    "            Do not use numbered lists.\",\n",
    "            llm=\"mistralai/Mixtral-8x7B-Instruct-v0.1\",\n",
    "            rag_config={\n",
    "                \"rag_type\": \"rag\",\n",
    "            },\n",
    "        ).content\n",
    "\n",
    "        contents.text = content\n",
    "        \n",
    "        for paragraph in contents.text_frame.paragraphs:\n",
    "            paragraph.space_after = 1\n",
    "            paragraph.space_before = 0\n",
    "            for run in paragraph.runs:\n",
    "                run.font.size = Pt(18)  \n",
    "                run.font.color.rgb = font\n",
    "                run.font.name = 'Karla'\n",
    "\n",
    "        shapes = slide.shapes\n",
    "        new_width = Inches(14)\n",
    "        new_height = Inches(7)\n",
    "        shapes[0].height, shapes[0].width, shapes[0].top, shapes[0].left = shapes[0].height, new_width, shapes[0].top, (prs.slide_width-new_width)//2\n",
    "        shapes[1].height, shapes[1].width, shapes[1].top, shapes[1].left = new_height, new_width, shapes[1].top, (prs.slide_width-new_width)//2\n",
    "        \n",
    "        \n",
    "\n",
    "# gpt-4-1106-preview\n"
   ]
  },
  {
   "cell_type": "code",
   "execution_count": null,
   "id": "e3de66b9-768e-48c5-9e7d-2b7c5411d9c1",
   "metadata": {},
   "outputs": [],
   "source": [
    "sanitised = re.sub(r'[\\W_]+', '_', format[0])\n",
    "prs.save(f\"./presentations/{sanitised}.pptx\")"
   ]
  },
  {
   "cell_type": "code",
   "execution_count": null,
   "id": "65178226-d7a2-4259-ac1f-05f9c1a9cf30",
   "metadata": {},
   "outputs": [],
   "source": [
    "(prs.slide_width) - Inches(12)\n",
    "#slide.placeholders[1].text_frame.margin_right = slide.placeholders[1].text_frame.margin_left"
   ]
  },
  {
   "cell_type": "code",
   "execution_count": null,
   "id": "f1291f22-071f-49dd-847e-264d34aa1f44",
   "metadata": {},
   "outputs": [],
   "source": [
    "#client.delete_documents_from_collection(collection_id)"
   ]
  }
 ],
 "metadata": {
  "kernelspec": {
   "display_name": "Python 3 (ipykernel)",
   "language": "python",
   "name": "python3"
  },
  "language_info": {
   "codemirror_mode": {
    "name": "ipython",
    "version": 3
   },
   "file_extension": ".py",
   "mimetype": "text/x-python",
   "name": "python",
   "nbconvert_exporter": "python",
   "pygments_lexer": "ipython3",
   "version": "3.11.7"
  }
 },
 "nbformat": 4,
 "nbformat_minor": 5
}
