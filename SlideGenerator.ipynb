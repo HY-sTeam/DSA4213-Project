{
 "cells": [
  {
   "cell_type": "code",
   "execution_count": 4,
   "id": "4d4b2e41-d0b4-4d37-bc7d-85c2a6dbeb97",
   "metadata": {},
   "outputs": [
    {
     "name": "stdout",
     "output_type": "stream",
     "text": [
      "Requirement already satisfied: mediawikiapi in c:\\users\\hungy\\.virtualenvs\\dsa4213-project-forked-6qvifzk7\\lib\\site-packages (1.2)\n",
      "Requirement already satisfied: duckduckgo-search in c:\\users\\hungy\\.virtualenvs\\dsa4213-project-forked-6qvifzk7\\lib\\site-packages (5.2.2)\n",
      "Requirement already satisfied: html2text in c:\\users\\hungy\\.virtualenvs\\dsa4213-project-forked-6qvifzk7\\lib\\site-packages (2024.2.26)\n",
      "Requirement already satisfied: urllib3 in c:\\users\\hungy\\.virtualenvs\\dsa4213-project-forked-6qvifzk7\\lib\\site-packages (2.2.1)\n",
      "Requirement already satisfied: tqdm in c:\\users\\hungy\\.virtualenvs\\dsa4213-project-forked-6qvifzk7\\lib\\site-packages (4.66.2)\n",
      "Requirement already satisfied: beautifulsoup4<5.0.0,>=4.11.1 in c:\\users\\hungy\\.virtualenvs\\dsa4213-project-forked-6qvifzk7\\lib\\site-packages (from mediawikiapi) (4.12.2)\n",
      "Requirement already satisfied: requests<3.0.0,>=2.28.1 in c:\\users\\hungy\\.virtualenvs\\dsa4213-project-forked-6qvifzk7\\lib\\site-packages (from mediawikiapi) (2.31.0)\n",
      "Requirement already satisfied: click>=8.1.7 in c:\\users\\hungy\\.virtualenvs\\dsa4213-project-forked-6qvifzk7\\lib\\site-packages (from duckduckgo-search) (8.1.7)\n",
      "Requirement already satisfied: curl-cffi>=0.6.2 in c:\\users\\hungy\\.virtualenvs\\dsa4213-project-forked-6qvifzk7\\lib\\site-packages (from duckduckgo-search) (0.6.2)\n",
      "Requirement already satisfied: orjson>=3.10.0 in c:\\users\\hungy\\.virtualenvs\\dsa4213-project-forked-6qvifzk7\\lib\\site-packages (from duckduckgo-search) (3.10.0)\n",
      "Requirement already satisfied: colorama in c:\\users\\hungy\\.virtualenvs\\dsa4213-project-forked-6qvifzk7\\lib\\site-packages (from tqdm) (0.4.6)\n",
      "Requirement already satisfied: soupsieve>1.2 in c:\\users\\hungy\\.virtualenvs\\dsa4213-project-forked-6qvifzk7\\lib\\site-packages (from beautifulsoup4<5.0.0,>=4.11.1->mediawikiapi) (2.5)\n",
      "Requirement already satisfied: cffi>=1.12.0 in c:\\users\\hungy\\.virtualenvs\\dsa4213-project-forked-6qvifzk7\\lib\\site-packages (from curl-cffi>=0.6.2->duckduckgo-search) (1.16.0)\n",
      "Requirement already satisfied: certifi in c:\\users\\hungy\\.virtualenvs\\dsa4213-project-forked-6qvifzk7\\lib\\site-packages (from curl-cffi>=0.6.2->duckduckgo-search) (2024.2.2)\n",
      "Requirement already satisfied: charset-normalizer<4,>=2 in c:\\users\\hungy\\.virtualenvs\\dsa4213-project-forked-6qvifzk7\\lib\\site-packages (from requests<3.0.0,>=2.28.1->mediawikiapi) (3.3.2)\n",
      "Requirement already satisfied: idna<4,>=2.5 in c:\\users\\hungy\\.virtualenvs\\dsa4213-project-forked-6qvifzk7\\lib\\site-packages (from requests<3.0.0,>=2.28.1->mediawikiapi) (3.6)\n",
      "Requirement already satisfied: pycparser in c:\\users\\hungy\\.virtualenvs\\dsa4213-project-forked-6qvifzk7\\lib\\site-packages (from cffi>=1.12.0->curl-cffi>=0.6.2->duckduckgo-search) (2.22)\n"
     ]
    }
   ],
   "source": [
    "!pip install mediawikiapi duckduckgo-search html2text urllib3 tqdm\n",
    "import json\n",
    "import numpy as np\n",
    "import glob\n",
    "import os\n",
    "import re\n",
    "import html2text\n",
    "import urllib3\n",
    "\n",
    "from duckduckgo_search import DDGS\n",
    "from pptx import Presentation\n",
    "from pptx.dml.color import RGBColor\n",
    "from pptx.util import Cm, Pt, Inches\n",
    "from pptx.enum.text import MSO_ANCHOR, MSO_AUTO_SIZE\n",
    "from h2ogpte import H2OGPTE\n",
    "from mediawikiapi import MediaWikiAPI\n",
    "from tqdm import tqdm\n",
    "api = os.environ.get('H2OGPTE_API_KEY')\n",
    "\n"
   ]
  },
  {
   "cell_type": "code",
   "execution_count": null,
   "id": "45bf4d73-24af-4a14-94f5-a3900926efcd",
   "metadata": {},
   "outputs": [],
   "source": []
  },
  {
   "cell_type": "code",
   "execution_count": 5,
   "id": "10b89df1-4d22-4af4-abd9-30c4e5fcde21",
   "metadata": {},
   "outputs": [],
   "source": [
    "# create folder for searched articles if it doesnt exist\n",
    "def create_folder(folder_name):\n",
    "    if not os.path.exists(folder_name):\n",
    "        os.makedirs(folder_name)\n",
    "\n",
    "create_folder('articles')\n",
    "create_folder('presentations')"
   ]
  },
  {
   "cell_type": "code",
   "execution_count": 6,
   "id": "5d2c9a1b-6481-447e-9513-732dc1e44eb4",
   "metadata": {},
   "outputs": [],
   "source": [
    "client = H2OGPTE(\n",
    "    address=\"https://h2ogpte.genai.h2o.ai\",\n",
    "    api_key=api\n",
    ")\n",
    "\n",
    "user_query = 'Create a presentation on dynamic programming'"
   ]
  },
  {
   "cell_type": "code",
   "execution_count": 7,
   "id": "c753be01-40dc-4a03-8d7a-5af7397ccdb3",
   "metadata": {},
   "outputs": [],
   "source": [
    "def clear_all_documents(client):\n",
    "    docs = client.list_recent_documents(offset=0, limit = 1000)\n",
    "    client.delete_documents(list(map(lambda x: x.id, docs)))\n",
    "    assert client.count_documents() == 0\n",
    "\n",
    "def clear_all_collections(client):\n",
    "    col = client.list_recent_collections(0, 1000)\n",
    "    client.delete_collections(list(map(lambda x: x.id, col)))\n",
    "    assert client.count_collections() == 0\n",
    "\n",
    "\n",
    "def trim(lst, keep=30):\n",
    "    '''\n",
    "    Trims a list. This function was originally used to permute before trimming, but\\\n",
    "    now that functionality is removed, so it appears rather redundant.\n",
    "    '''\n",
    "    _ = lst.copy()\n",
    "    \n",
    "    return _[0:keep]\n",
    "\n",
    "def format_site_description(ls, start_from = 0):\n",
    "    i = start_from\n",
    "    _ = list(ls).copy()\n",
    "    for element in ls:\n",
    "        element = f\"{i}. {element}\"\n",
    "        _[i] = element\n",
    "        i += 1\n",
    "    return \"\\n\\n\".join(_)\n",
    "\n",
    "\n",
    "def try_and_parse(user_query, function, failed=0, markdown=False):\n",
    "    '''\n",
    "    Accepts a function and user_query, an input. Evaluates function(user_query) and \n",
    "    converts string output (usually a reply from an llm) into a json value. Use markdown=True\n",
    "    if the json value is contained within a code chunk.\n",
    "    '''\n",
    "    chosen = function(user_query)\n",
    "    try:\n",
    "        if not markdown:\n",
    "            topics = json.loads(chosen.content)\n",
    "        else:\n",
    "            print(chosen.content)\n",
    "            pattern = r'^```(?:\\w+)?\\s*\\n(.*?)(?=^```)```'\n",
    "            result = re.findall(pattern, chosen.content, re.DOTALL | re.MULTILINE)[0].strip() \n",
    "            #print(result)\n",
    "            topics = json.loads(result)\n",
    "            \n",
    "        return topics\n",
    "    except Exception as e:\n",
    "        failed+=1\n",
    "        print(failed)\n",
    "        print(e)# CHANGE TO LOGGING STATEMENT\n",
    "        return try_and_parse(user_query, function, failed=failed, markdown=markdown)\n"
   ]
  },
  {
   "cell_type": "markdown",
   "id": "040d0758-d9ad-48ba-9b95-555f5e0001bb",
   "metadata": {},
   "source": [
    "## Step 1. What comes to mind when you think about xyz?"
   ]
  },
  {
   "cell_type": "code",
   "execution_count": 8,
   "id": "0070654e-5a34-45a9-a233-d924424311c9",
   "metadata": {
    "scrolled": true
   },
   "outputs": [
    {
     "name": "stdout",
     "output_type": "stream",
     "text": [
      "Sure, I can help you with that! Here's my thought process and some potential Google queries to get started:\n",
      "\n",
      "1. First, I would want to understand the basics of dynamic programming. A good starting point might be to search for \"dynamic programming definition\" or \"what is dynamic programming\". This could lead me to resources that explain the concept in a clear and concise way.\n",
      "2. Once I have a solid understanding of dynamic programming, I would want to explore some common use cases. Some potential queries here might include \"dynamic programming examples\" or \"common dynamic programming problems\". These searches could help me identify specific scenarios where dynamic programming is particularly useful, such as optimization problems or problems with overlapping subproblems.\n",
      "3. After identifying some common use cases, I would want to dive deeper into the mechanics of dynamic programming. This might involve searching for \"dynamic programming algorithm\" or \"how does dynamic programming work\". These queries could help me understand the step-by-step process of solving a problem using dynamic programming.\n",
      "4. As I learn more about dynamic programming, I would also want to explore some best practices and common pitfalls. Searches like \"dynamic programming tips\" or \"common mistakes in dynamic programming\" could help me avoid common mistakes and ensure that I'm using dynamic programming effectively.\n",
      "5. Finally, I would want to see how dynamic programming is used in real-world applications. Searches like \"dynamic programming in industry\" or \"real-world examples of dynamic programming\" could help me understand how this technique is applied in practice.\n",
      "\n",
      "Here are those queries in JSON format:\n",
      "```json\n",
      "[\n",
      "  \"dynamic programming definition\",\n",
      "  \"dynamic programming examples\",\n",
      "  \"dynamic programming algorithm\",\n",
      "  \"dynamic programming tips\",\n",
      "  \"dynamic programming in industry\"\n",
      "]\n",
      "```\n"
     ]
    },
    {
     "data": {
      "text/plain": [
       "['dynamic programming definition',\n",
       " 'dynamic programming examples',\n",
       " 'dynamic programming algorithm',\n",
       " 'dynamic programming tips',\n",
       " 'dynamic programming in industry']"
      ]
     },
     "execution_count": 8,
     "metadata": {},
     "output_type": "execute_result"
    }
   ],
   "source": [
    "search = lambda user_query: client.answer_question(\n",
    "    question=user_query,\n",
    "    system_prompt=\"\"\"You are an assistant whose task is to perform searches on the internet on a specific topic.\\\n",
    "    The user is interested to create a presentation about a topic of interest.\\\n",
    "    Think about what to do, then reply with your thought process and at least one corresponding google query as an array in JSON format,\\\n",
    "    but limit yourself to 5 queries.\\\n",
    "    The JSON array should be contained in a code chunk. Keep strictly to the format in the example below.\n",
    "    Example:\n",
    "    Since the presentation is about milk, I will probably want to search up the different types of milk, ...\n",
    "    ```json\n",
    "    [\"Milk\", \"Oat Milk\", \"Plant-based milks\", \"Cow Milk\", \"Goat Milk\"]\n",
    "    ```\n",
    "    \"\"\",\n",
    "    llm='mistralai/Mixtral-8x7B-Instruct-v0.1'\n",
    ")\n",
    "searched = try_and_parse(user_query, search, markdown=True)\n",
    "searched"
   ]
  },
  {
   "cell_type": "markdown",
   "id": "991985cf-7860-4389-bb76-ae2b1e65c255",
   "metadata": {},
   "source": [
    "## Step 2. Search Wikipedia "
   ]
  },
  {
   "cell_type": "code",
   "execution_count": 9,
   "id": "9774e298-43a4-410d-8ca5-cab51af71220",
   "metadata": {},
   "outputs": [],
   "source": [
    "import random\n",
    "wiki = MediaWikiAPI()\n",
    "ddgs = DDGS()\n",
    "\n",
    "articles = list(\n",
    "    set(\n",
    "        \n",
    "        [i for j in [wiki.search(cat, results=5) for cat in searched] for i in j]\n",
    "        \n",
    "    )\n",
    ") # remove duplicates with set(list())\n",
    "\n",
    "\n"
   ]
  },
  {
   "cell_type": "code",
   "execution_count": 10,
   "id": "02da24c4-16b8-4349-b0ff-838eb546469c",
   "metadata": {},
   "outputs": [
    {
     "data": {
      "text/plain": [
       "['Dynamic pricing',\n",
       " 'Type system',\n",
       " 'Optimal binary search tree',\n",
       " 'Stochastic dynamic programming',\n",
       " 'Edit distance',\n",
       " 'IP address',\n",
       " 'Static program analysis',\n",
       " 'Dynamic time warping',\n",
       " 'Static web page',\n",
       " 'Polymorphism (computer science)',\n",
       " 'Dynamic simulation',\n",
       " 'Exploratory data analysis',\n",
       " 'Viterbi algorithm',\n",
       " 'Comparison of programming languages by type system',\n",
       " 'Dynamic programming language',\n",
       " 'Dynamic programming',\n",
       " 'Python (programming language)',\n",
       " 'Monkey patch']"
      ]
     },
     "execution_count": 10,
     "metadata": {},
     "output_type": "execute_result"
    }
   ],
   "source": [
    "articles"
   ]
  },
  {
   "cell_type": "code",
   "execution_count": 11,
   "id": "312a79b9-23fc-4ccd-bb0e-31c01a9a19c5",
   "metadata": {},
   "outputs": [],
   "source": [
    "random.shuffle(articles) # random shuffle\n",
    "snippet = trim(\n",
    "    list(map(lambda x: wiki.summary(x, auto_suggest=False, sentences=1), articles))\n",
    ")"
   ]
  },
  {
   "cell_type": "code",
   "execution_count": 12,
   "id": "bc504cd6-6449-47e4-87cf-45d4385c39e8",
   "metadata": {},
   "outputs": [
    {
     "name": "stdout",
     "output_type": "stream",
     "text": [
      "0. Dynamic simulation (or dynamic system simulation) is the use of a computer program to model the time-varying behavior of a dynamical system.\n",
      "\n",
      "1. In computer science,  an optimal binary search tree (Optimal BST), sometimes called a weight-balanced binary tree, is a binary search tree which provides the smallest possible search time (or expected search time) for a given sequence of accesses (or access probabilities).\n",
      "\n",
      "2. In computational linguistics and computer science, edit distance is a string metric, i.e.\n",
      "\n",
      "3. The Viterbi algorithm is a dynamic programming algorithm for obtaining the maximum a posteriori probability estimate of the most likely sequence of hidden states—called the Viterbi path—that results in a sequence of observed events.\n",
      "\n",
      "4. In programming language theory and type theory, polymorphism is the use of a single symbol to represent multiple different types.In object-oriented programming, polymorphism is the provision of a single interface to entities of different types  The concept is borrowed from a principle in biology where an organism or species can have many different forms or stages.The most commonly recognized major forms of polymorphism are:\n",
      "\n",
      "Ad hoc polymorphism: defines a common interface for an arbitrary set of individually specified types.\n",
      "\n",
      "5. In computer programming, a type system is a logical system comprising a set of rules that assigns a property called a type (for example, integer, floating point, string) to every term (a word, phrase, or other set of symbols).\n",
      "\n",
      "6. In computer programming, monkey patching is a technique used to dynamically update the behavior of a piece of code at run-time.\n",
      "\n",
      "7. Dynamic pricing, also referred to as surge pricing, demand pricing, or time-based pricing, is a revenue management pricing strategy in which businesses set flexible prices for products or services based on current market demands.\n",
      "\n",
      "8. A static web page, sometimes called a flat page or a stationary page, is a web page that is delivered to a web browser exactly as stored, in contrast to dynamic web pages which are generated by a web application.Consequently, a static web page displays the same information for all users, from all contexts, subject to modern capabilities of a web server to negotiate content-type or language of the document where such versions are available and the server is configured to do so.\n",
      "\n",
      "9. Python is a high-level, general-purpose programming language.\n",
      "\n",
      "10. In computer science, a dynamic programming language is a class of high-level programming languages which at runtime execute many common programming behaviours that static programming languages perform during compilation.\n",
      "\n",
      "11. An Internet Protocol address (IP address) is a numerical label such as 192.0.2.1 that is assigned to a device connected to a computer network that uses the Internet Protocol for communication.\n",
      "\n",
      "12. In computer science, static program analysis (or static analysis) is the analysis of computer programs performed without executing them, in contrast with dynamic program analysis, which is performed on programs during their execution.The term is usually applied to analysis performed by an automated tool, with human analysis typically being called \"program understanding\", program comprehension, or code review.\n",
      "\n",
      "13. Dynamic programming is both a mathematical optimization method and an algorithmic paradigm.\n",
      "\n",
      "14. In statistics, exploratory data analysis (EDA) is an approach of analyzing data sets to summarize their main characteristics, often using statistical graphics and other data visualization methods.\n",
      "\n",
      "15. Originally introduced by Richard E. Bellman in (Bellman 1957), stochastic dynamic programming is a technique for modelling and solving problems of decision making under uncertainty.\n",
      "\n",
      "16. In time series analysis, dynamic time warping (DTW) is an algorithm for measuring similarity between two temporal sequences, which may vary in speed.\n",
      "\n",
      "17. This is a comparison of the features of the type systems and type checking of multiple programming languages.\n"
     ]
    }
   ],
   "source": [
    "\n",
    "\n",
    "snippet_text = format_site_description(snippet)\n",
    "\n",
    "print(snippet_text)"
   ]
  },
  {
   "cell_type": "markdown",
   "id": "7e4c3a42-cb48-475e-937f-5d02d4f9f065",
   "metadata": {},
   "source": [
    "## Step 2b. Search the Internet (DDG)"
   ]
  },
  {
   "cell_type": "code",
   "execution_count": 13,
   "id": "116b2ce9-a054-4a05-b2c7-a5ae36beb886",
   "metadata": {},
   "outputs": [],
   "source": [
    "ddg_results = list(\n",
    "    set(\n",
    "        [tuple(i.values()) for j in [ddgs.text(cat, max_results=3) for cat in searched] for i in j]\n",
    "        )\n",
    "    )\n",
    "random.shuffle(ddg_results)\n",
    "ddg_results = trim(ddg_results, keep=15)\n",
    "websites, links, body = zip(\n",
    "    *ddg_results\n",
    ")"
   ]
  },
  {
   "cell_type": "code",
   "execution_count": 14,
   "id": "174f4e0c-1606-47b6-bb9e-a599a3ccb231",
   "metadata": {},
   "outputs": [
    {
     "name": "stdout",
     "output_type": "stream",
     "text": [
      "0. ('https://en.wikipedia.org/wiki/Dynamic_programming', 'Dynamic programming is widely used in bioinformatics for tasks such as sequence alignment, protein folding, RNA structure prediction and protein-DNA binding. The first dynamic programming algorithms for protein-DNA binding were developed in the 1970s independently by Charles DeLisi in US and Georgii Gurskii and Alexander Zasedatelev in USSR.')\n",
      "\n",
      "1. ('https://blog.amphy.com/what-is-dynamic-programming-the-basics-and-its-applications/', 'Dynamic programming means using an algorithmic programming strategy that breaks down problems into sub-problems, then solving each individually and saving the results in a data structure such as an array. This allows future instances of the same problem to be solved more quickly, as the data structure already contains solutions to prior problems.')\n",
      "\n",
      "2. ('https://simpleprogrammer.com/guide-dynamic-programming/', 'Find the First Solution. The first step to solving any dynamic programming problem using The FAST Method is to find the initial brute force recursive solution. Your goal with Step One is to solve the problem without concern for efficiency. We just want to get a solution down on the whiteboard.')\n",
      "\n",
      "3. ('https://www.geeksforgeeks.org/dynamic-programming/', 'Dynamic Programming is a method used in mathematics and computer science to solve complex problems by breaking them down into simpler subproblems. By solving each subproblem only once and storing the results, it avoids redundant computations, leading to more efficient solutions for a wide range of problems. This article provides a detailed ...')\n",
      "\n",
      "4. ('https://stackoverflow.blog/2022/01/31/the-complete-beginners-guide-to-dynamic-programming/', \"A way of thinking. Unlike specific coding syntax or design patterns, dynamic programming isn't a particular algorithm but a way of thinking. Therefore, the technique takes many forms when it comes to implementation. The main idea of dynamic programming is to consider a significant problem and break it into smaller, individualized components.\")\n",
      "\n",
      "5. ('https://www.geeksforgeeks.org/dynamic-programming/', 'Dynamic Programming is a method used in mathematics and computer science to solve complex problems by breaking them down into simpler subproblems. By solving each subproblem only once and storing the results, it avoids redundant computations, leading to more efficient solutions for a wide range of problems.')\n",
      "\n",
      "6. ('https://www.geeksforgeeks.org/complete-guide-to-dynamic-programming/', 'While learning about Dynamic Programming in this Complete Guide on Dynamic Programming, you will come across some common terms that will be used multiple times. Some of these terms are: Optimal Substructure: Problems can be solved using solutions to their subproblems. Overlapping Subproblems: Some subproblems are solved repeatedly.')\n",
      "\n",
      "7. ('https://www.geeksforgeeks.org/introduction-to-dynamic-programming-data-structures-and-algorithm-tutorials/', 'Learn the definition, characteristics, applications, and techniques of dynamic programming (DP), a technique that solves some particular type of problems in polynomial time. Compare and contrast the top-down (memoization) and bottom-up (tabulation) approaches of DP with examples and code.')\n",
      "\n",
      "8. ('https://stackoverflow.blog/2022/01/31/the-complete-beginners-guide-to-dynamic-programming/', 'Dynamic programming is a technique that breaks down a problem into smaller components and reuses data to improve efficiency. Learn what dynamic programming is, why you would use it, and see code examples in Swift for problems like pair of numbers and Fibonacci sequence.')\n",
      "\n",
      "9. ('https://www.makeuseof.com/dynamic-programming-tutorial/', 'Learn how to solve common dynamic programming problems using recursion and memoization. See examples of knapsack, Fibonacci, longest increasing subsequence, and matrix chain multiplication problems with code and explanations.')\n",
      "\n",
      "10. ('https://www.geeksforgeeks.org/dynamic-programming/', 'Learn how to solve complex problems by breaking them down into simpler subproblems using dynamic programming. Find easy, medium and hard standard problems, advanced concepts, examples and quizzes on dynamic programming.')\n",
      "\n",
      "11. ('https://stackoverflow.blog/2022/01/31/the-complete-beginners-guide-to-dynamic-programming/', 'Learn what dynamic programming is and how to apply it to various problems using code examples in Swift and other languages. Dynamic programming is a way of thinking that breaks down a problem into smaller, individualized components and uses data storage and reuse to increase algorithm efficiency.')\n"
     ]
    }
   ],
   "source": [
    "ddg_snippet_text = format_site_description(list(zip(links, body)))\n",
    "print(ddg_snippet_text)"
   ]
  },
  {
   "cell_type": "markdown",
   "id": "e792e56b-df41-4a8f-9e03-d1e3a205d498",
   "metadata": {},
   "source": [
    "## Step 3. \"Brainstorm\" and filter Wikipedia/DDG searches for useful ones\n",
    "I treat them separately. Also: Chain-of-thought prompting\n",
    "https://www.promptingguide.ai/techniques/cot"
   ]
  },
  {
   "cell_type": "code",
   "execution_count": 15,
   "id": "2a940365-1bd4-4a4b-b6af-0aa869ab6d88",
   "metadata": {},
   "outputs": [
    {
     "name": "stdout",
     "output_type": "stream",
     "text": [
      "0. - Dynamic simulation models time-varying behavior but does not specifically pertain to dynamic programming, therefore not useful.\n",
      "1. - Optimal binary search trees involve a form of optimization, but not directly related to the concept of dynamic programming, therefore not useful.\n",
      "2. - Edit distance is a string metric and does not relate to dynamic programming, therefore not useful.\n",
      "3. - The Viterbi algorithm uses dynamic programming for sequence estimation, therefore useful.\n",
      "4. - Polymorphism in programming is unrelated to dynamic programming, therefore not useful.\n",
      "5. - Type systems in programming do not directly relate to dynamic programming, therefore not useful.\n",
      "6. - Monkey patching is a technique for dynamic code changes at runtime, not related to dynamic programming, therefore not useful.\n",
      "7. - Dynamic pricing is a business strategy and does not relate to dynamic programming, therefore not useful.\n",
      "8. - Static web pages are unrelated to the algorithmic concept of dynamic programming, therefore not useful.\n",
      "9. - Python is a programming language that can implement dynamic programming, but the entry itself does not discuss dynamic programming, therefore not useful.\n",
      "10. - Dynamic programming languages have runtime behaviors, but this entry does not specifically address dynamic programming, therefore not useful.\n",
      "11. - IP addresses are unrelated to dynamic programming, therefore not useful.\n",
      "12. - Static program analysis is the opposite of dynamic analysis and does not directly relate to dynamic programming, therefore not useful.\n",
      "13. - Dynamic programming is the exact topic of the presentation, therefore useful.\n",
      "14. - Exploratory data analysis is a statistical method and does not directly relate to dynamic programming, therefore not useful.\n",
      "15. - Stochastic dynamic programming is a specific application of dynamic programming, therefore useful.\n",
      "16. - Dynamic time warping involves optimization over time series, which can involve dynamic programming, therefore useful.\n",
      "17. - Comparison of type systems is unrelated to dynamic programming, therefore not useful.\n",
      "\n",
      "```\n",
      "[3, 13, 15, 16]\n",
      "```\n",
      "[3, 13, 15, 16]\n"
     ]
    }
   ],
   "source": [
    "choose_topics = lambda user_query: client.answer_question(\n",
    "        question=f\"\"\"{user_query}\n",
    "        Referring to the list of wikipedia entries you have been provided, decide on which topics are useful for the presentation. For each entry, explain, in a few words,\\\n",
    "        whether you think an entry is useful or not and why.\n",
    "        After that, generate a code chunk. Within the code chunk is an array of integers in JSON, and these integers correspond to the topics you think are useful.\n",
    "        For each line, think about its usefulness/relevance and make some short deductions, then conclude whether it is useful or not useful.\n",
    "        Please keep strictly to the format in the following example:\n",
    "        0. - Sugar irrelevant to Jesus Christ, therefore not useful.\n",
    "        1. - Christianity is about the topic of Jesus Christ, thus Useful.\n",
    "        2. - Protestants follow Jesus Christ, therefore useful.\n",
    "        ```\n",
    "        [1, 2]\n",
    "        ```\n",
    "        \"\"\",\n",
    "        system_prompt=f\"\"\"You are an assistant whose task is to help a user in creating a presentation.\\\n",
    "        Here are a list of wikipedia entries, starting from the 0th entry, that may or may not be related to the topic at hand:\n",
    "        {snippet_text}\n",
    "        \"\"\",\n",
    "        llm='gpt-4-1106-preview' # only instance of gpt4 usage. need this for the big brain.\n",
    "    )\n",
    "\n",
    "topics = try_and_parse(user_query, choose_topics, markdown=True)\n",
    "print(topics)"
   ]
  },
  {
   "cell_type": "code",
   "execution_count": 16,
   "id": "b2e216c3-a3fa-4755-91ed-5b56256d67cb",
   "metadata": {},
   "outputs": [
    {
     "data": {
      "text/plain": [
       "['Dynamic simulation',\n",
       " 'Optimal binary search tree',\n",
       " 'Edit distance',\n",
       " 'Viterbi algorithm',\n",
       " 'Polymorphism (computer science)',\n",
       " 'Type system',\n",
       " 'Monkey patch',\n",
       " 'Dynamic pricing',\n",
       " 'Static web page',\n",
       " 'Python (programming language)',\n",
       " 'Dynamic programming language',\n",
       " 'IP address',\n",
       " 'Static program analysis',\n",
       " 'Dynamic programming',\n",
       " 'Exploratory data analysis',\n",
       " 'Stochastic dynamic programming',\n",
       " 'Dynamic time warping',\n",
       " 'Comparison of programming languages by type system']"
      ]
     },
     "execution_count": 16,
     "metadata": {},
     "output_type": "execute_result"
    }
   ],
   "source": [
    "articles"
   ]
  },
  {
   "cell_type": "code",
   "execution_count": 17,
   "id": "6f1e8a6a-26f2-4915-821e-9ca9e01d7899",
   "metadata": {},
   "outputs": [
    {
     "data": {
      "text/plain": [
       "['Viterbi algorithm',\n",
       " 'Dynamic programming',\n",
       " 'Stochastic dynamic programming',\n",
       " 'Dynamic time warping']"
      ]
     },
     "execution_count": 17,
     "metadata": {},
     "output_type": "execute_result"
    }
   ],
   "source": [
    "chosen_articles = [articles[i] for i in topics]\n",
    "chosen_snippets = [snippet[i] for i in topics]\n",
    "chosen_articles"
   ]
  },
  {
   "cell_type": "code",
   "execution_count": 18,
   "id": "6b730249-875b-4ed0-93fc-16c2d4fd163f",
   "metadata": {},
   "outputs": [],
   "source": [
    "chosen_full_articles = list(map(lambda x: wiki.page(x, auto_suggest=False).content, chosen_articles))\n",
    "chosen_articles_images = list(map(lambda x: wiki.page(x, auto_suggest=False).images, chosen_articles))\n"
   ]
  },
  {
   "cell_type": "markdown",
   "id": "24746d75-6d25-4e13-8ed1-30bfaefe91a2",
   "metadata": {},
   "source": [
    "## Step 3b. Filter DDG Searches"
   ]
  },
  {
   "cell_type": "code",
   "execution_count": 19,
   "id": "769aac5a-5ebd-4cb3-8d7c-1487b5b80118",
   "metadata": {},
   "outputs": [
    {
     "name": "stdout",
     "output_type": "stream",
     "text": [
      "0. - This entry provides specific applications of dynamic programming in bioinformatics, which could be useful for an advanced audience but is from Wikipedia, thus omitted.\n",
      "1. - Explains the basics of dynamic programming and its applications, which is essential for an introductory presentation, therefore useful.\n",
      "2. - Offers a step-by-step approach to solving dynamic programming problems, which is practical for understanding the process, thus useful.\n",
      "3. - Provides a detailed explanation of dynamic programming, but it is a duplicate of entry 5 from the same source, therefore not useful.\n",
      "4. - Discusses the conceptual approach of dynamic programming, which is important for grasping the fundamental idea, thus useful.\n",
      "5. - Similar to entry 3, it explains dynamic programming in detail, but as it is a duplicate, it is not useful.\n",
      "6. - Introduces common terms in dynamic programming, which is helpful for beginners to understand the jargon, therefore useful.\n",
      "7. - Offers a comparison of top-down and bottom-up approaches in dynamic programming, which is valuable for understanding different strategies, thus useful.\n",
      "8. - Breaks down dynamic programming with code examples, which is practical for a technical audience, therefore useful.\n",
      "9. - Provides a tutorial on solving common dynamic programming problems, which is great for learning by example, thus useful.\n",
      "10. - Similar to entries 3 and 5, it explains dynamic programming but does not add new information, therefore not useful.\n",
      "11. - Offers insights into dynamic programming with code examples in various languages, which is beneficial for a diverse audience, thus useful.\n",
      "\n",
      "```\n",
      "[1, 2, 4, 6, 7, 8, 9, 11]\n",
      "```\n"
     ]
    },
    {
     "data": {
      "text/plain": [
       "[1, 2, 4, 6, 7, 8, 9, 11]"
      ]
     },
     "execution_count": 19,
     "metadata": {},
     "output_type": "execute_result"
    }
   ],
   "source": [
    "choose_ddg_topics = lambda user_query: client.answer_question(\n",
    "        question=f\"\"\"{user_query}\n",
    "        Referring to the list of websites you have been provided, decide on which topics are useful for the presentation. For each entry, explain, in a few words,\\\n",
    "        whether you think an entry is useful or not and why.\n",
    "        After that, generate a code chunk. Within the code chunk is an array of integers in JSON, and these integers correspond to the topics you think are useful\\\n",
    "        and are NOT from wikipedia.\n",
    "        For each line, think about its usefulness/relevance and make some short deductions, then conclude whether it is useful or not useful.\n",
    "        Please keep strictly to the format in the following example:\n",
    "        0. - Sugar irrelevant to Jesus Christ, therefore not useful.\n",
    "        1. - Christianity is about the topic of Jesus Christ, thus Useful.\n",
    "        2. - Protestants follow Jesus Christ, therefore useful.\n",
    "        3. - Website is a link to a youtube video, which is not suitable for a presentation, thus not useful.\n",
    "        4. - This is relevant, but it is a Wikipedia link, so it is omitted.\n",
    "        ```\n",
    "        [1, 2]\n",
    "        ```\n",
    "        \"\"\",\n",
    "        system_prompt=f\"\"\"You are an assistant whose task is to help a user in creating a presentation.\\\n",
    "        Here are a list of website body text, starting from the 0th entry, that may or may not be related to the topic at hand:\n",
    "        {ddg_snippet_text}\n",
    "        \"\"\",\n",
    "        llm='gpt-4-1106-preview' # only instance of gpt4 usage. need this for the big brain.\n",
    "    )\n",
    "ddg_topics = try_and_parse(user_query, choose_ddg_topics, markdown=True)\n",
    "\n",
    "ddg_topics"
   ]
  },
  {
   "cell_type": "code",
   "execution_count": 20,
   "id": "0e6d2261-b18a-49e2-9fac-e0b534287d81",
   "metadata": {},
   "outputs": [],
   "source": [
    "chosen_websites, chosen_links, chosen_body = ([websites[i] for i in ddg_topics], [links[i] for i in ddg_topics], [body[i] for i in ddg_topics])"
   ]
  },
  {
   "cell_type": "markdown",
   "id": "52c25911-fcbe-437b-8452-0c0339b72491",
   "metadata": {},
   "source": [
    "## Step 4: Store useful ideas in VectorDB (h2oai)"
   ]
  },
  {
   "cell_type": "code",
   "execution_count": 21,
   "id": "15055ab0-f43b-4f6a-849c-c6a98ad6eca1",
   "metadata": {},
   "outputs": [],
   "source": [
    "\n",
    "    \n",
    "# now its time to store them for RAG\n",
    "import os\n",
    "\n",
    "\n",
    "collection_id = client.create_collection(\n",
    "    name='Articles',\n",
    "    description='Articles for presentation',\n",
    ")\n",
    "\n",
    "pages = dict(zip(chosen_articles, chosen_full_articles))\n",
    "\n"
   ]
  },
  {
   "cell_type": "code",
   "execution_count": 22,
   "id": "57bdbe96-7895-41be-9566-d99c4d03f369",
   "metadata": {},
   "outputs": [
    {
     "ename": "Exception",
     "evalue": "HTTP error: 403 Forbidden",
     "output_type": "error",
     "traceback": [
      "\u001b[1;31m---------------------------------------------------------------------------\u001b[0m",
      "\u001b[1;31mException\u001b[0m                                 Traceback (most recent call last)",
      "Cell \u001b[1;32mIn[22], line 9\u001b[0m\n\u001b[0;32m      7\u001b[0m     f\u001b[38;5;241m.\u001b[39mclose() \u001b[38;5;66;03m# dont know why i gotta do this, i think it has to be in binary\u001b[39;00m\n\u001b[0;32m      8\u001b[0m     f \u001b[38;5;241m=\u001b[39m \u001b[38;5;28mopen\u001b[39m(name, \u001b[38;5;124m'\u001b[39m\u001b[38;5;124mrb\u001b[39m\u001b[38;5;124m'\u001b[39m)\n\u001b[1;32m----> 9\u001b[0m     to_ingest\u001b[38;5;241m.\u001b[39mappend(\u001b[43mclient\u001b[49m\u001b[38;5;241;43m.\u001b[39;49m\u001b[43mupload\u001b[49m\u001b[43m(\u001b[49m\u001b[43mname\u001b[49m\u001b[43m,\u001b[49m\u001b[43m \u001b[49m\u001b[43mf\u001b[49m\u001b[43m)\u001b[49m)\n\u001b[0;32m     11\u001b[0m     f\u001b[38;5;241m.\u001b[39mclose() \n\u001b[0;32m     13\u001b[0m client\u001b[38;5;241m.\u001b[39mingest_uploads(collection_id, to_ingest)  \n",
      "File \u001b[1;32m~\\.virtualenvs\\DSA4213-Project-forked-6QVIFZK7\\Lib\\site-packages\\h2ogpte\\h2ogpte.py:1909\u001b[0m, in \u001b[0;36mH2OGPTE.upload\u001b[1;34m(self, file_name, file)\u001b[0m\n\u001b[0;32m   1902\u001b[0m res \u001b[38;5;241m=\u001b[39m requests\u001b[38;5;241m.\u001b[39mput(\n\u001b[0;32m   1903\u001b[0m     \u001b[38;5;124mf\u001b[39m\u001b[38;5;124m\"\u001b[39m\u001b[38;5;132;01m{\u001b[39;00m\u001b[38;5;28mself\u001b[39m\u001b[38;5;241m.\u001b[39m_address\u001b[38;5;132;01m}\u001b[39;00m\u001b[38;5;124m/rpc/fs\u001b[39m\u001b[38;5;124m\"\u001b[39m,\n\u001b[0;32m   1904\u001b[0m     headers\u001b[38;5;241m=\u001b[39m\u001b[38;5;28mself\u001b[39m\u001b[38;5;241m.\u001b[39m_get_auth_header(),\n\u001b[0;32m   1905\u001b[0m     files\u001b[38;5;241m=\u001b[39m\u001b[38;5;28mdict\u001b[39m(file\u001b[38;5;241m=\u001b[39m(file_name, file)),\n\u001b[0;32m   1906\u001b[0m     verify\u001b[38;5;241m=\u001b[39m\u001b[38;5;28mself\u001b[39m\u001b[38;5;241m.\u001b[39m_verify,\n\u001b[0;32m   1907\u001b[0m )\n\u001b[0;32m   1908\u001b[0m \u001b[38;5;28;01mif\u001b[39;00m res\u001b[38;5;241m.\u001b[39mstatus_code \u001b[38;5;241m!=\u001b[39m \u001b[38;5;241m200\u001b[39m:\n\u001b[1;32m-> 1909\u001b[0m     \u001b[38;5;28;01mraise\u001b[39;00m \u001b[38;5;167;01mException\u001b[39;00m(\u001b[38;5;124mf\u001b[39m\u001b[38;5;124m\"\u001b[39m\u001b[38;5;124mHTTP error: \u001b[39m\u001b[38;5;132;01m{\u001b[39;00mres\u001b[38;5;241m.\u001b[39mstatus_code\u001b[38;5;132;01m}\u001b[39;00m\u001b[38;5;124m \u001b[39m\u001b[38;5;132;01m{\u001b[39;00mres\u001b[38;5;241m.\u001b[39mreason\u001b[38;5;132;01m}\u001b[39;00m\u001b[38;5;124m\"\u001b[39m)\n\u001b[0;32m   1910\u001b[0m \u001b[38;5;28;01mreturn\u001b[39;00m _to_id(unmarshal(res\u001b[38;5;241m.\u001b[39mtext))\n",
      "\u001b[1;31mException\u001b[0m: HTTP error: 403 Forbidden"
     ]
    }
   ],
   "source": [
    "\n",
    "to_ingest = []\n",
    "for title, content in (pages.items()):\n",
    "    title = re.sub('[\\W_]+', '', title)\n",
    "    name = f\"./articles/{title}.txt\"\n",
    "    f = open(name, \"w+\", encoding=\"utf-8\")\n",
    "    f.write(content)\n",
    "    f.close() # dont know why i gotta do this, i think it has to be in binary\n",
    "    f = open(name, 'rb')\n",
    "    to_ingest.append(client.upload(name, f))\n",
    "    \n",
    "    f.close() \n",
    "\n",
    "client.ingest_uploads(collection_id, to_ingest)  "
   ]
  },
  {
   "cell_type": "code",
   "execution_count": 20,
   "id": "3cb2ff31-a3ba-4b9c-89b8-7f5158ab50c5",
   "metadata": {},
   "outputs": [
    {
     "name": "stderr",
     "output_type": "stream",
     "text": [
      "100%|██████████████████████████████████████████████████████████████████████████████████| 10/10 [00:44<00:00,  4.41s/it]\n"
     ]
    },
    {
     "data": {
      "text/plain": [
       "Job(id='fb11990e-fe04-4018-97c0-44b751e3416a', passed=0.5, failed=0.5, progress=1.0, completed=True, canceled=False, date=datetime.datetime(2024, 2, 29, 11, 45, 1, tzinfo=TzInfo(UTC)), kind=<JobKind.IngestUploadsJob: 'IngestUploadsJob'>, statuses=[JobStatus(id='f5706ac2e39d4bba8eb5c8165393a3e5', status='Collecting files...')], errors=['Job crashed: S3 operation failed; code: NoSuchKey, message: Object does not exist, resource: /h2ogpte-web-uploads/e6af1c36-166f-4488-ab30-321fcdf46f27/9c10078f-36e1-478f-8599-83535ade387e, request_id: 17B852CD9FD9FC1C, host_id: 292fc9e0c54138519d4cedfc5e6f652e396c2bf1612c53cfc4cd3bddf4b165a9, bucket_name: h2ogpte-web-uploads, object_name: e6af1c36-166f-4488-ab30-321fcdf46f27/9c10078f-36e1-478f-8599-83535ade387e'], last_update_date=datetime.datetime(2024, 2, 29, 11, 45, 1, tzinfo=TzInfo(UTC)), duration='0s')"
      ]
     },
     "execution_count": 20,
     "metadata": {},
     "output_type": "execute_result"
    }
   ],
   "source": [
    "\n",
    "\n",
    "# http = urllib3.PoolManager()\n",
    "# to_ingest = [] # CLEAR LIST\n",
    "# for link in tqdm(chosen_links):\n",
    "#     page = http.request('GET', link)\n",
    "#     html_content = page.data.decode('utf-8')\n",
    "#     rendered_content = html2text.html2text(html_content)\n",
    "    \n",
    "#     sanitised_fname = re.sub(r'[\\W_]+', '_', link)\n",
    "#     path = f\"./articles/{sanitised_fname}.txt\"\n",
    "#     file = open(path, 'w', encoding='utf-8')\n",
    "#     file.write(rendered_content)\n",
    "#     file.close()\n",
    "\n",
    "#     f = open(path, 'rb')\n",
    "#     to_ingest.append(client.upload(path, f)) \n",
    "#     f.close()\n",
    "\n",
    "# client.ingest_uploads(collection_id, to_ingest)  \n",
    "\n",
    "\n",
    "import urllib3\n",
    "import html2text\n",
    "import re\n",
    "from tqdm import tqdm\n",
    "from bs4 import BeautifulSoup\n",
    "\n",
    "\n",
    "\n",
    "http = urllib3.PoolManager()\n",
    "h = html2text.HTML2Text()\n",
    "h.ignore_links = True  # Optionally ignore links in the output\n",
    "\n",
    "for link in tqdm(chosen_links):\n",
    "    try:\n",
    "        # Make a GET request to the URL\n",
    "        page = http.request('GET', link, headers=\\\n",
    "                            {\n",
    "                                \"User-Agent\": \n",
    "                                \"Mozilla/5.0 (iPhone; CPU iPhone OS 17_3_1 like Mac OS X) AppleWebKit/605.1.15 (KHTML, like Gecko) CriOS/122.0.6261.89 Mobile/15E148 Safari/604.1\"\n",
    "                            }\n",
    "                           )\n",
    "        \n",
    "        # Decode the bytes object to a string\n",
    "        html_content = page.data.decode('utf-8')\n",
    "        \n",
    "        # Parse the HTML content with BeautifulSoup\n",
    "        soup = BeautifulSoup(html_content, 'html.parser')\n",
    "        \n",
    "        # Extract the body content\n",
    "        body_content = soup.find('body')\n",
    "        \n",
    "        # Convert the body content to plain text\n",
    "        rendered_content = h.handle(str(body_content))\n",
    "        \n",
    "        # Sanitize the filename\n",
    "        sanitised_fname = re.sub(r'[\\W_]+', '_', link)\n",
    "        path = f\"./articles/{sanitised_fname}.txt\"\n",
    "        \n",
    "        # Write the rendered content to the file\n",
    "        with open(path, 'w', encoding='utf-8') as file:\n",
    "            file.write(rendered_content)\n",
    "\n",
    "        with open(path, 'rb') as f:\n",
    "            to_ingest.append(client.upload(path, f)) \n",
    "        \n",
    "\n",
    "        \n",
    "    except urllib3.exceptions.HTTPError as errh:\n",
    "        print(f\"HTTP Error: {errh}\")\n",
    "    except urllib3.exceptions.ConnectionError as errc:\n",
    "        print(f\"Error Connecting: {errc}\")\n",
    "    except urllib3.exceptions.TimeoutError as errt:\n",
    "        print(f\"Timeout Error: {errt}\")\n",
    "    except Exception as err:\n",
    "        print(f\"An error occurred: {err}\")\n",
    "\n",
    "client.ingest_uploads(collection_id, to_ingest)"
   ]
  },
  {
   "cell_type": "code",
   "execution_count": 21,
   "id": "3a09dd48-416f-455b-95ce-1decb3c219bf",
   "metadata": {},
   "outputs": [],
   "source": [
    "# delete\n",
    "files_dir = glob.glob('./articles/*.txt')\n",
    "for f in files_dir:\n",
    "    os.remove(f)"
   ]
  },
  {
   "cell_type": "markdown",
   "id": "f6d92505-2864-4532-a6d0-feb91d1d4fe4",
   "metadata": {},
   "source": [
    "## Step 5: Plan sections for slide\n",
    "This is to ensure the entire presentation is a coherent one with a flow/narrative, instead of many disjoint/overlapping generations.\n",
    "Again, chain of thought prompting is very heavily incorporated"
   ]
  },
  {
   "cell_type": "code",
   "execution_count": 22,
   "id": "9d1a7ba5-2cdf-4f4e-b811-2d17abf3f119",
   "metadata": {},
   "outputs": [
    {
     "name": "stdout",
     "output_type": "stream",
     "text": [
      "1. For the presentation on dynamic programming, I would start with an introductory slide that explains what dynamic programming is and its importance in computer science. Then, I would create slides for each of the provided articles, starting with a slide on dynamic programming, followed by matrix chain multiplication, and ending with stochastic dynamic programming. I would also include slides on the differences between dynamic programming and greedy algorithms, as well as examples and common problems in dynamic programming.\n",
      "2. A good title for the presentation could be \"Dynamic Programming: Techniques and Applications\".\n",
      "3. Here is the JSON array of slide titles:\n",
      "```json\n",
      "[\n",
      "\"Dynamic Programming: Techniques and Applications\",\n",
      "\"Introduction to Dynamic Programming\",\n",
      "\"Matrix Chain Multiplication\",\n",
      "\"Stochastic Dynamic Programming\",\n",
      "\"Dynamic Programming vs Greedy Algorithms\",\n",
      "\"Dynamic Programming Examples and Common Problems\",\n",
      "\"Conclusion\"\n",
      "]\n",
      "```\n",
      "Regarding the chosen websites, I would include relevant information from them in the appropriate slides, such as explanations, examples, and problem solutions. I would also use them as additional resources for further reading and learning.\n"
     ]
    }
   ],
   "source": [
    "decide_sections = lambda user_query: client.answer_question(\n",
    "        question=f\"\"\"{user_query}\n",
    "        Please plan the presentation by doing the following:\n",
    "        1. Explain how you would design the presentation slides such that the presentation will flow well.\\\n",
    "        Remember that each slide must contain something different, and content should not overlap.\n",
    "        2. Think of a good title for the presentation.\n",
    "        3. Create a code chunk. Inside that code chunk, generate a JSON array consisting of appropriate slide titles starting from the first slide to the last slide, \\\n",
    "        remembering your answer to point 2. Include the title slide, which is the title for the presentation.\n",
    "\n",
    "        Below is an example reply. Please adhere strictly to the format in the example below and remember to output the JSON array in a code chunk:  \n",
    "        1. I would introduce the Transformers franchise and provide general information about its history to ease my viewers into the subject. \\\n",
    "        Then, I will think about subtopics, such as the Transformers films, Transformers characters and Transformers in comics, using the wikipedia entry summaries\\\n",
    "        I have been provided. \n",
    "            * For my first subtopic, the Transformers films, I would create two additional slides to expand on Bumblebee (2018) and Revenge of the Fallen (2009)\\\n",
    "            as these are popular films within the franchise. I will order the films chronologically.\n",
    "            * For my second subtopic on Transformers characters, I will have a slide on the cast of the film. \n",
    "            * For my next subtopic...\n",
    "        2. I think a good title for this presentation is \"Transformers: An Overview\".\n",
    "        3. Here is the json array of slide titles:\n",
    "        ```json\n",
    "        [\n",
    "        \"Transformers: An Overview\", \n",
    "        \"Introduction to Transformers\", \n",
    "        \"Transformers in Film\",\n",
    "        \"Transformers: Revenge of the Fallen (2009)\", \n",
    "        \"Bumblebee (2018)\", \n",
    "        \"Characters in the Transformers Universe\", \n",
    "        \"Transformers in comics\",\n",
    "        \"Conclusion\"\n",
    "        ]\n",
    "        ```\n",
    "        \"\"\",\n",
    "        system_prompt=f\"\"\"You are an assistant whose task is to help a user in creating a presentation.\\\n",
    "        Below is a list of wikipedia articles that are selected for the presentation.\\\n",
    "        You will be asked to come up with slide titles for the presentation. Each line is a 1-sentence summary of a wikipedia page.\\\n",
    "        The number of slides should depend on the amount of information/wikipedia entry articles and websites available.\n",
    "        Articles:\n",
    "        {chosen_articles}\n",
    "        Chosen websites:\n",
    "        {format_site_description(list(zip(chosen_websites, chosen_links)))}\n",
    "        \"\"\",\n",
    "        llm='mistralai/Mixtral-8x7B-Instruct-v0.1' \n",
    "    )\n",
    "\n",
    "all_sections = try_and_parse(user_query, decide_sections, markdown=True)"
   ]
  },
  {
   "cell_type": "code",
   "execution_count": 23,
   "id": "74ac776f-de82-461d-9313-e671d1ae2dbd",
   "metadata": {},
   "outputs": [
    {
     "data": {
      "text/plain": [
       "['Introduction to Dynamic Programming',\n",
       " 'Matrix Chain Multiplication',\n",
       " 'Stochastic Dynamic Programming',\n",
       " 'Dynamic Programming vs Greedy Algorithms',\n",
       " 'Dynamic Programming Examples and Common Problems',\n",
       " 'Conclusion']"
      ]
     },
     "execution_count": 23,
     "metadata": {},
     "output_type": "execute_result"
    }
   ],
   "source": [
    "sections = all_sections[1:]\n",
    "\n",
    "sections"
   ]
  },
  {
   "cell_type": "code",
   "execution_count": 24,
   "id": "a5e83322-475c-4678-8f4c-f822ab5e5386",
   "metadata": {},
   "outputs": [
    {
     "data": {
      "text/plain": [
       "'22d29a4e-1535-409c-a4c5-ec8656ee0692'"
      ]
     },
     "execution_count": 24,
     "metadata": {},
     "output_type": "execute_result"
    }
   ],
   "source": [
    "del client\n",
    "client = H2OGPTE(\n",
    "    address=\"https://h2ogpte.genai.h2o.ai\",\n",
    "    api_key=api\n",
    ") # does this reset client?\n",
    "\n",
    "chat_session_id = client.create_chat_session(collection_id)\n",
    "chat_session_id"
   ]
  },
  {
   "cell_type": "markdown",
   "id": "c77e579f-ced4-4c01-93b8-4237e0872788",
   "metadata": {},
   "source": [
    "#### Ref for slide types:  \n",
    "0. title and subtitle \n",
    "1. title and content \n",
    "2. section header \n",
    "3. two content \n",
    "4. Comparison \n",
    "5. Title only  \n",
    "6. Blank \n",
    "7. Content with caption \n",
    "8. Pic with caption \n"
   ]
  },
  {
   "cell_type": "markdown",
   "id": "17338590-9279-49a6-8674-17f2b8c57cdd",
   "metadata": {},
   "source": [
    "## Step 6: Generate using RAG\n",
    "LLM chooses colour with chain-of-thought prompting again."
   ]
  },
  {
   "cell_type": "code",
   "execution_count": 25,
   "id": "11c297ad-f4ef-4aac-a719-e8f2c8237a8f",
   "metadata": {},
   "outputs": [
    {
     "name": "stdout",
     "output_type": "stream",
     "text": [
      "I chose a light grey background color RGB [230, 230, 230] and a dark purple text color RGB [50, 0, 80]. The light grey background provides a subtle contrast to make the text easy to read, while the dark purple text color adds a touch of elegance and professionalism to the slides.\n",
      "```\n",
      "[\n",
      "  {\"background\": [230, 230, 230]},\n",
      "  {\"text\": [50, 0, 80]}\n",
      "]\n",
      "```\n",
      "Slide 1: Introduction to Dynamic Programming\n",
      "============================================\n",
      "\n",
      "Dynamic programming is both a mathematical optimization method and an algorithmic paradigm. It is used to solve complex problems by breaking them down into smaller, more manageable subproblems. The solutions to these subproblems are then combined to find the optimal solution to the original problem.\n",
      "\n",
      "Slide 2: Matrix Chain Multiplication\n",
      "===================================\n",
      "\n",
      "Matrix chain multiplication (or the matrix chain ordering problem) is an optimization problem concerning the most efficient way to multiply a given sequence of matrices. This problem can be solved using dynamic programming by calculating the optimal order of multiplications for each possible partition of the matrix chain.\n",
      "\n",
      "Slide 3: Stochastic Dynamic Programming\n",
      "======================================\n",
      "\n",
      "Originally introduced by Richard E. Bellman in (Bellman 1957), stochastic dynamic programming is a technique for modelling and solving problems of decision making under uncertainty. It is used to find the optimal policy for a sequence of decisions, where the outcome of each decision is uncertain.\n",
      "\n",
      "Slide 4: Conclusion\n",
      "==================\n",
      "\n",
      "Dynamic programming is a powerful tool for solving complex optimization problems. By breaking down problems into smaller subproblems and combining their solutions, dynamic programming allows us to find the optimal solution to even the most difficult problems.\n"
     ]
    }
   ],
   "source": [
    "prs = Presentation()\n",
    "prs.slide_width = Inches(16)\n",
    "prs.slide_height = Inches(9)\n",
    "title_slide = prs.slides.add_slide(prs.slide_layouts[0]) \n",
    "decide_slide_format = lambda user_query: client.answer_question(\n",
    "        question=f\"\"\"{user_query} Think of a good background colour, in RGB format,\\\n",
    "        for the slides and a good colour, also in RGB format, for the\\\n",
    "        text. Typically, if the text colour is bright (for example RGB [255, 255, 255] is white), then the background colour should be dark\n",
    "        (RGB [0, 0, 100] is dark blue). Conversely, if the text colour is dark (for example RGB [0, 0, 0] is black), the background colour should be bright\\\n",
    "        . You are free to choose any text and background colour, \\\n",
    "        as long as you follow these rules. Please do not assign grey-scale colours for the text and background (like RGB [50, 50, 50]), as much as possible.\n",
    "\n",
    "        Explain clearly why you chose the background and text colours. Then, generate a code chunk. Within the code chunk,\\\n",
    "        provide a JSON array containing two colours. Do not say anything else. Adhere strictly to the example reply below:\n",
    "        I chose blue RGB [0, 35, 140] for the background color and light yellow RGB [255, 234, 0] for the font color. The contrast makes it easy to read.\\\n",
    "        Furthermore, the colours blue and yellow are associated with the Pokémon Franchise.\n",
    "        ```\n",
    "        [{{\"background\": [0, 0, 140]}}, {{\"text\": [255, 234, 0]}}]\n",
    "        ```\n",
    "        \"\"\",\n",
    "    \n",
    "        system_prompt=f\"\"\"You are an assistant whose task is to help a user in creating a presentation.\\\n",
    "        Here are a list of wikipedia entry summaries that are selected for the presentation:\n",
    "        {chosen_snippets}\n",
    "        \"\"\",\n",
    "        llm='mistralai/Mixtral-8x7B-Instruct-v0.1' \n",
    ")\n",
    "\n",
    "format = try_and_parse(user_query, decide_slide_format, markdown=True)"
   ]
  },
  {
   "cell_type": "code",
   "execution_count": 26,
   "id": "8a40b715-2ef3-47f0-bcab-db6733e54873",
   "metadata": {
    "scrolled": true
   },
   "outputs": [
    {
     "data": {
      "text/plain": [
       "[{'background': [230, 230, 230]}, {'text': [50, 0, 80]}]"
      ]
     },
     "execution_count": 26,
     "metadata": {},
     "output_type": "execute_result"
    }
   ],
   "source": [
    "format"
   ]
  },
  {
   "cell_type": "code",
   "execution_count": 27,
   "id": "75e78e2a-08ef-4fed-8833-a6ad0296110c",
   "metadata": {},
   "outputs": [],
   "source": [
    "background = RGBColor(*tuple(list(format[0].values())[0])) \n",
    "font = RGBColor(*tuple(list(format[1].values())[0])) \n",
    "fill = title_slide.background.fill\n",
    "fill.solid()\n",
    "fill.fore_color.rgb = background\n",
    "\n",
    "\n",
    "title_slide.shapes.title.text = all_sections[0]\n",
    "title_slide.shapes.title.text_frame.paragraphs[0].font.color.rgb =  font\n",
    "title_slide.shapes.title.text_frame.paragraphs[0].font.name = 'Montserrat'\n",
    "title_slide.shapes.title.text_frame.paragraphs[0].font.bold = True\n",
    "\n",
    "first_shape =  title_slide.shapes[0]\n",
    "first_shape.left, first_shape.top, first_shape.width, first_shape.height = (prs.slide_width - Inches(12))//2, \\\n",
    "(prs.slide_height-first_shape.height)//2 - Inches(1),\\\n",
    "Inches(12),\\\n",
    "Inches(2)"
   ]
  },
  {
   "cell_type": "code",
   "execution_count": 28,
   "id": "14ebca46-abd0-45a9-9f13-82c9242dc2e5",
   "metadata": {},
   "outputs": [
    {
     "name": "stderr",
     "output_type": "stream",
     "text": [
      "100%|████████████████████████████████████████████████████████████████████████████████████| 6/6 [02:31<00:00, 25.20s/it]\n"
     ]
    }
   ],
   "source": [
    "\n",
    "with client.connect(chat_session_id) as session:\n",
    "\n",
    "    for section in tqdm(sections):\n",
    "        slide = prs.slides.add_slide(prs.slide_layouts[1])\n",
    "        fill = slide.background.fill\n",
    "        fill.solid()\n",
    "        fill.fore_color.rgb = background\n",
    "\n",
    "        \n",
    "        contents = slide.placeholders[1]\n",
    "        contents.text_frame.word_wrap = True\n",
    "\n",
    "        title = slide.shapes.title\n",
    "        title.text = section\n",
    "        title.text_frame.paragraphs[0].font.color.rgb = font\n",
    "        title.text_frame.paragraphs[0].font.size = Pt(32)\n",
    "        title.text_frame.paragraphs[0].font.name = 'Karla'\n",
    "       \n",
    "       \n",
    "        content = session.query(\n",
    "            \n",
    "            message = section,\n",
    "            system_prompt=f\"\"\"You are an assistant whose task is to help a user in creating a presentation. \\\n",
    "            The slides of the presentation are as follows: {sections}\n",
    "            You are now tasked with generating the content of one slide, which will be provided by the user.\n",
    "            You are designing one slide, so do not generate long paragraphs. Instead, summarise your most important points\\\n",
    "            in up to 3 sentences each, and do not generate more than 15 lines of text.\n",
    "            \"\"\",\n",
    "            pre_prompt_query=\"You have been provided with the following information, which may be useful in your task.\",\n",
    "            prompt_query=\"\"\"Decide if the information is relevant, and use it if needed.\\\n",
    "            Generate the content required in the slide provided by the user. You only need to generate the contents of the slide, not the title\\\n",
    "            or anything else. Remember, you are designing one slide, so do not generate long paragraphs. Instead, summarise your most important points\\\n",
    "            in up to 3 sentences each, and do not generate more than 15 lines of text. Between each point, leave a line.\n",
    "\n",
    "            Here is an example. Please adhere to this example strictly:\n",
    "            This is the first point I am trying to make. I will explain this first point in the second sentence.\n",
    "            \n",
    "            This is the second point I am trying to make. This is the second sentence for the second point. \\\n",
    "            I need a third sentence to fully explain this point. Notice that I will leave a line for the next point.\n",
    "\n",
    "            This is the third point.\n",
    "            \"\"\",\n",
    "            llm=\"mistralai/Mixtral-8x7B-Instruct-v0.1\",\n",
    "            rag_config={\n",
    "                \"rag_type\": \"hyde1\",\n",
    "            },\n",
    "        ).content\n",
    "\n",
    "        contents.text = content\n",
    "        \n",
    "        for paragraph in contents.text_frame.paragraphs:\n",
    "            paragraph.space_after = 1\n",
    "            paragraph.space_before = 1\n",
    "            # paragraph.level = 0\n",
    "           \n",
    "            paragraph.font.size = Pt(22)  \n",
    "            paragraph.font.color.rgb = font\n",
    "            paragraph.font.name = 'Karla'\n",
    "\n",
    "        contents.text_frame.auto_size = MSO_AUTO_SIZE.SHAPE_TO_FIT_TEXT\n",
    "        shapes = slide.shapes\n",
    "        new_width = Inches(14)\n",
    "        new_height = Inches(7)\n",
    "        shapes[0].height, shapes[0].width, shapes[0].top, shapes[0].left = shapes[0].height, new_width, shapes[0].top, (prs.slide_width-new_width)//2\n",
    "        shapes[1].height, shapes[1].width, shapes[1].top, shapes[1].left = new_height, new_width, shapes[1].top, (prs.slide_width-new_width)//2\n",
    "        \n",
    "        \n",
    "\n",
    "# gpt-4-1106-preview\n"
   ]
  },
  {
   "cell_type": "code",
   "execution_count": 29,
   "id": "80eca615-5789-4b61-bde2-3c69cc95f16a",
   "metadata": {},
   "outputs": [],
   "source": [
    "clear_all_collections(client)\n",
    "clear_all_documents(client)"
   ]
  },
  {
   "cell_type": "markdown",
   "id": "e5355475-527a-47b4-81ec-aff43b9f8142",
   "metadata": {},
   "source": [
    "## Step 7: Enjoy"
   ]
  },
  {
   "cell_type": "code",
   "execution_count": 32,
   "id": "e3de66b9-768e-48c5-9e7d-2b7c5411d9c1",
   "metadata": {},
   "outputs": [],
   "source": [
    "sanitised = re.sub(r'[\\W_]+', '_', all_sections[0])\n",
    "prs.save(f\"./presentations/{sanitised}.pptx\")\n"
   ]
  },
  {
   "cell_type": "code",
   "execution_count": null,
   "id": "4f50c7b6-9b2a-4800-896f-b89868b17c73",
   "metadata": {},
   "outputs": [],
   "source": []
  },
  {
   "cell_type": "markdown",
   "id": "1f9df9ce-fdad-4bb9-9707-0051dc9ab84c",
   "metadata": {},
   "source": [
    "## Appendix: Extra Code that may be useful in the future\n",
    "```python\n",
    "# Create a chat session\n",
    "# chat_session_id = client.create_chat_session(collection_id)\n",
    "\n",
    "# # Query the collection\n",
    "# with client.connect(chat_session_id) as session:\n",
    "#     reply = session.query(\n",
    "#         'How many paper clips were shipped to Scranton?',\n",
    "#         llm=\"gpt-4-0613\"\n",
    "#     )\n",
    "#     print(reply.content)\n",
    "\n",
    "#     reply = session.query(\n",
    "#         'Did David Brent co-sign the contract with Initech?',\n",
    "#         timeout=60,\n",
    "#         llm=\"gpt-4-0613\"\n",
    "#     )\n",
    "#     print(reply.content)\n",
    "\n",
    "# # Summarize each document\n",
    "# documents = client.list_documents_in_collection(collection_id, offset=0, limit=99)\n",
    "# for doc in documents:\n",
    "#     summary = client.summarize_document(\n",
    "#         document_id=doc.id,\n",
    "#         timeout=60,\n",
    "#     )\n",
    "#     print(summary.content)\n",
    "\n",
    "\n",
    "#client.delete_documents_from_collection\n",
    "```"
   ]
  },
  {
   "cell_type": "code",
   "execution_count": null,
   "id": "b059875f-3a43-4fb4-a778-d1ebec0207cc",
   "metadata": {},
   "outputs": [],
   "source": []
  }
 ],
 "metadata": {
  "kernelspec": {
   "display_name": "Python 3 (ipykernel)",
   "language": "python",
   "name": "python3"
  },
  "language_info": {
   "codemirror_mode": {
    "name": "ipython",
    "version": 3
   },
   "file_extension": ".py",
   "mimetype": "text/x-python",
   "name": "python",
   "nbconvert_exporter": "python",
   "pygments_lexer": "ipython3",
   "version": "3.11.8"
  }
 },
 "nbformat": 4,
 "nbformat_minor": 5
}
