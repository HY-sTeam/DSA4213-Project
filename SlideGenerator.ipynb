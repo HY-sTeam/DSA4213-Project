{
 "cells": [
  {
   "cell_type": "code",
   "execution_count": 1,
   "id": "4d4b2e41-d0b4-4d37-bc7d-85c2a6dbeb97",
   "metadata": {},
   "outputs": [],
   "source": [
    "import json\n",
    "import numpy as np\n",
    "import glob\n",
    "import os\n",
    "import re\n",
    "import html2text\n",
    "import urllib3\n",
    "\n",
    "from duckduckgo_search import DDGS\n",
    "from pptx import Presentation\n",
    "from pptx.dml.color import RGBColor\n",
    "from pptx.util import Cm, Pt, Inches\n",
    "from pptx.enum.text import MSO_ANCHOR, MSO_AUTO_SIZE\n",
    "from h2ogpte import H2OGPTE\n",
    "from mediawikiapi import MediaWikiAPI\n",
    "from tqdm import tqdm\n",
    "with open('secrets.txt') as f:\n",
    "    api = f.read()\n",
    "    f.close()\n",
    "\n"
   ]
  },
  {
   "cell_type": "code",
   "execution_count": 2,
   "id": "5d2c9a1b-6481-447e-9513-732dc1e44eb4",
   "metadata": {},
   "outputs": [],
   "source": [
    "client = H2OGPTE(\n",
    "    address=\"https://h2ogpte.genai.h2o.ai\",\n",
    "    api_key=api\n",
    ")\n",
    "\n",
    "user_query = 'Create a presentation on gold'"
   ]
  },
  {
   "cell_type": "code",
   "execution_count": 3,
   "id": "c753be01-40dc-4a03-8d7a-5af7397ccdb3",
   "metadata": {},
   "outputs": [],
   "source": [
    "def clear_all_documents(client):\n",
    "    docs = client.list_recent_documents(offset=0, limit = 1000)\n",
    "    client.delete_documents(list(map(lambda x: x.id, docs)))\n",
    "    assert client.count_documents() == 0\n",
    "\n",
    "def clear_all_collections(client):\n",
    "    col = client.list_recent_collections(0, 1000)\n",
    "    client.delete_collections(list(map(lambda x: x.id, col)))\n",
    "    assert client.count_collections() == 0\n",
    "\n",
    "\n",
    "def trim(lst, keep=30):\n",
    "    '''\n",
    "    Trims a list. This function was originally used to permute before trimming, but\\\n",
    "    now that functionality is removed, so it appears rather redundant.\n",
    "    '''\n",
    "    _ = lst.copy()\n",
    "    \n",
    "    return _[0:keep]\n",
    "\n",
    "def format_site_description(ls, start_from = 0):\n",
    "    i = start_from\n",
    "    _ = list(ls).copy()\n",
    "    for element in ls:\n",
    "        element = f\"{i}. {element}\"\n",
    "        _[i] = element\n",
    "        i += 1\n",
    "    return \"\\n\\n\".join(_)\n",
    "\n",
    "\n",
    "def try_and_parse(user_query, function, failed=0, markdown=False):\n",
    "    '''\n",
    "    Accepts a function and user_query, an input. Evaluates function(user_query) and \n",
    "    converts string output (usually a reply from an llm) into a json value. Use markdown=True\n",
    "    if the json value is contained within a code chunk.\n",
    "    '''\n",
    "    chosen = function(user_query)\n",
    "    try:\n",
    "        if not markdown:\n",
    "            topics = json.loads(chosen.content)\n",
    "        else:\n",
    "            print(chosen.content)\n",
    "            pattern = r'^```(?:\\w+)?\\s*\\n(.*?)(?=^```)```'\n",
    "            result = re.findall(pattern, chosen.content, re.DOTALL | re.MULTILINE)[0].strip() \n",
    "            #print(result)\n",
    "            topics = json.loads(result)\n",
    "            \n",
    "        return topics\n",
    "    except Exception as e:\n",
    "        failed+=1\n",
    "        print(failed)\n",
    "        print(e)# CHANGE TO LOGGING STATEMENT\n",
    "        return try_and_parse(user_query, function, failed=failed, markdown=markdown)\n"
   ]
  },
  {
   "cell_type": "markdown",
   "id": "040d0758-d9ad-48ba-9b95-555f5e0001bb",
   "metadata": {},
   "source": [
    "## Step 1. What comes to mind when you think about xyz?"
   ]
  },
  {
   "cell_type": "code",
   "execution_count": 4,
   "id": "0070654e-5a34-45a9-a233-d924424311c9",
   "metadata": {
    "scrolled": true
   },
   "outputs": [
    {
     "name": "stdout",
     "output_type": "stream",
     "text": [
      "Sure, I can help you with that. Here are some potential search queries that could be useful for creating a presentation on gold:\n",
      "\n",
      "```json\n",
      "[\"Gold\",\n",
      " \"History of gold\",\n",
      " \"Gold mining\",\n",
      " \"Gold uses and applications\",\n",
      " \"Gold market and economy\",\n",
      " \"Gold jewelry and fashion\",\n",
      " \"Gold recycling and sustainability\"]\n",
      "```\n",
      "These queries cover a range of topics related to gold, from its historical significance to its modern-day uses and impact on the economy. By searching for information on these topics, you should be able to gather a wealth of knowledge to include in your presentation. Let me know if you have any other questions or if there's anything else I can do to help!\n"
     ]
    },
    {
     "data": {
      "text/plain": [
       "['Gold',\n",
       " 'History of gold',\n",
       " 'Gold mining',\n",
       " 'Gold uses and applications',\n",
       " 'Gold market and economy',\n",
       " 'Gold jewelry and fashion',\n",
       " 'Gold recycling and sustainability']"
      ]
     },
     "execution_count": 4,
     "metadata": {},
     "output_type": "execute_result"
    }
   ],
   "source": [
    "search = lambda user_query: client.answer_question(\n",
    "    question=user_query,\n",
    "    system_prompt=\"\"\"You are an assistant whose task is to perform searches on the internet on a specific topic.\\\n",
    "    The user is interested to create a presentation about a topic of interest.\\\n",
    "    Think about what to do, then reply with your thought process and at least one corresponding google query as an array in JSON format,\\\n",
    "    but limit yourself to 5 queries.\\\n",
    "    The JSON array should be contained in a code chunk. Keep strictly to the format in the example below.\n",
    "    Example:\n",
    "    Since the presentation is about milk, I will probably want to search up the different types of milk, ...\n",
    "    ```json\n",
    "    [\"Milk\", \"Oat Milk\", \"Plant-based milks\", \"Cow Milk\", \"Goat Milk\"]\n",
    "    ```\n",
    "    \"\"\",\n",
    "    llm='mistralai/Mixtral-8x7B-Instruct-v0.1'\n",
    ")\n",
    "searched = try_and_parse(user_query, search, markdown=True)\n",
    "searched"
   ]
  },
  {
   "cell_type": "markdown",
   "id": "991985cf-7860-4389-bb76-ae2b1e65c255",
   "metadata": {},
   "source": [
    "## Step 2. Search Wikipedia "
   ]
  },
  {
   "cell_type": "code",
   "execution_count": 5,
   "id": "9774e298-43a4-410d-8ca5-cab51af71220",
   "metadata": {},
   "outputs": [],
   "source": [
    "import random\n",
    "wiki = MediaWikiAPI()\n",
    "ddgs = DDGS()\n",
    "\n",
    "articles = list(\n",
    "    set(\n",
    "        \n",
    "        [i for j in [wiki.search(cat, results=5) for cat in searched] for i in j]\n",
    "        \n",
    "    )\n",
    ") # remove duplicates with set(list())\n",
    "\n",
    "\n"
   ]
  },
  {
   "cell_type": "code",
   "execution_count": 6,
   "id": "02da24c4-16b8-4349-b0ff-838eb546469c",
   "metadata": {},
   "outputs": [
    {
     "data": {
      "text/plain": [
       "['Old gold',\n",
       " 'Gold',\n",
       " 'Gold teeth',\n",
       " 'Gold mining in the United States',\n",
       " 'Recycling codes',\n",
       " 'Virtual economy',\n",
       " 'California gold rush',\n",
       " 'Gold medal',\n",
       " 'Platinum',\n",
       " 'Gold mining in Alaska',\n",
       " 'History of Gold Coast',\n",
       " 'Gold mining in Colorado',\n",
       " 'Sims Metal Management',\n",
       " 'Titanium',\n",
       " 'Economy of Dubai',\n",
       " 'Gallium',\n",
       " 'Market socialism',\n",
       " 'Electronic waste',\n",
       " 'Potassium',\n",
       " 'Gold mining',\n",
       " 'GOLD',\n",
       " 'Elsa Peretti',\n",
       " 'Recycling',\n",
       " 'Gold-filled jewelry',\n",
       " 'Economy of Canada',\n",
       " 'Gold Coast (British colony)',\n",
       " 'Live insect jewelry',\n",
       " 'Land recycling',\n",
       " 'Socialist market economy',\n",
       " 'Harmony Gold (mining)',\n",
       " 'Grill (jewelry)',\n",
       " 'Costume jewelry',\n",
       " 'Gold Bar, Washington']"
      ]
     },
     "execution_count": 6,
     "metadata": {},
     "output_type": "execute_result"
    }
   ],
   "source": [
    "articles"
   ]
  },
  {
   "cell_type": "code",
   "execution_count": 7,
   "id": "312a79b9-23fc-4ccd-bb0e-31c01a9a19c5",
   "metadata": {},
   "outputs": [],
   "source": [
    "random.shuffle(articles) # random shuffle\n",
    "snippet = trim(\n",
    "    list(map(lambda x: wiki.summary(x, auto_suggest=False, sentences=1), articles))\n",
    ")"
   ]
  },
  {
   "cell_type": "code",
   "execution_count": 8,
   "id": "bc504cd6-6449-47e4-87cf-45d4385c39e8",
   "metadata": {},
   "outputs": [
    {
     "name": "stdout",
     "output_type": "stream",
     "text": [
      "0. Gold teeth are a form of dental prosthesis where the visible part of a tooth is replaced or capped with a prosthetic molded from gold.\n",
      "\n",
      "1. Gold-filled jewelry is jewelry composed of a solid layer of gold (typically constituting at least 5% of the item's total weight) mechanically bonded to a base of either sterling silver or some base metal.\n",
      "\n",
      "2. Live insect jewelry refers to jewelry made from living creatures – usually bejeweled oversized insects – which is worn as a fashion accessory.\n",
      "\n",
      "3. The California gold rush (1848–1855) was a gold rush that began on January 24, 1848, when gold was found by James W. Marshall at Sutter's Mill in Coloma, California.\n",
      "\n",
      "4. Gold is a chemical element; it has symbol Au (from Latin  aurum 'gold') and atomic number 79.\n",
      "\n",
      "5. Gallium is a chemical element; it has symbol Ga and atomic number 31.\n",
      "\n",
      "6. History of Gold Coast may refer to:\n",
      "\n",
      "7. Gold Bar is a city in Snohomish County, Washington, United States.\n",
      "\n",
      "8. A gold medal is a medal awarded for highest achievement in a non-military field.\n",
      "\n",
      "9. The Gold Coast was a British Crown colony on the Gulf of Guinea in West Africa from 1821 until its independence in 1957 as Ghana.\n",
      "\n",
      "10. Old gold is a dark yellow, which varies from light olive or olive brown to deep or strong yellow, generally on the darker side of this range.\n",
      "\n",
      "11. Potassium is a chemical element; it has symbol K (from Neo-Latin kalium) and atomic number 19.\n",
      "\n",
      "12. The socialist market economy (SME) is the economic system and model of economic development employed in the People's Republic of China.\n",
      "\n",
      "13. GOLD may refer to:\n",
      "\n",
      "14. Gold mining is the extraction of gold by mining.\n",
      "\n",
      "15. Recycling codes are used to identify the materials out of which the item is made, to facilitate easier recycling process.\n",
      "\n",
      "16. Titanium is a chemical element; it has symbol Ti and atomic number 22.\n",
      "\n",
      "17. In pop culture, a grill (most commonly referred to as grills or grillz), also known as fronts or golds, is a type of dental jewelry worn over the teeth.\n",
      "\n",
      "18. Market socialism is a type of economic system involving social ownership of the means of production within the framework of a market economy.\n",
      "\n",
      "19. Sims Limited (formerly Sims Metal Management Limited) is a global environmental services conglomerate, operating through a number of divisions, with a focus on: (a) Ferrous and Non-ferrous metal recycling, (b) enterprise data destruction and cloud asset management (c) post-consumer electronic goods recycling and reuse, (d) municipal waste recycling, (e) gas to energy, and (f) waste to energy.\n",
      "\n",
      "20. A virtual economy (or sometimes synthetic economy) is an emergent economy existing in a virtual world, usually exchanging virtual goods in the context of an online game, particularly in massively multiplayer online games (MMOs).\n",
      "\n",
      "21. The economy of Dubai represents a per capita gross domestic product as of 2022 of US$46,665.\n",
      "\n",
      "22. Electronic waste (or e-waste) describes discarded electrical or electronic devices.\n",
      "\n",
      "23. Land recycling is the reuse of abandoned, vacant, or underused properties for redevelopment or repurposing.Land recycling aims to ensure the reuse of developed land as part of: new developments; cleaning up contaminated properties; reuse and/or making use of used land surrounded by development or nearby infrastructure.\n",
      "\n",
      "24. Elsa Peretti, OMRI OMM (1 May 1940 – 18 March 2021), was an Italian jewelry designer and philanthropist as well as a fashion model.\n",
      "\n",
      "25. Gold mining in Alaska, a state of the United States, has been a major industry and impetus for exploration and settlement since a few years after the United States acquired the territory in 1867 from the Russian Empire.\n",
      "\n",
      "26. Recycling is the process of converting waste materials into new materials and objects.\n",
      "\n",
      "27. Costume or fashion jewelry includes a range of decorative items worn for personal adornment that are manufactured as less expensive ornamentation to complement a particular fashionable outfit or garment as opposed to \"real\" (fine) jewelry, which is more costly and which may be regarded primarily as collectibles, keepsakes, or investments.\n",
      "\n",
      "28. Harmony Gold is the largest gold mining company in South Africa.\n",
      "\n",
      "29. Gold mining in Colorado, a state of the United States, has been an industry since 1858.\n"
     ]
    }
   ],
   "source": [
    "\n",
    "\n",
    "snippet_text = format_site_description(snippet)\n",
    "\n",
    "print(snippet_text)"
   ]
  },
  {
   "cell_type": "markdown",
   "id": "7e4c3a42-cb48-475e-937f-5d02d4f9f065",
   "metadata": {},
   "source": [
    "## Step 2b. Search the Internet (DDG)"
   ]
  },
  {
   "cell_type": "code",
   "execution_count": 9,
   "id": "116b2ce9-a054-4a05-b2c7-a5ae36beb886",
   "metadata": {},
   "outputs": [],
   "source": [
    "ddg_results = list(\n",
    "    set(\n",
    "        [tuple(i.values()) for j in [ddgs.text(cat, max_results=3) for cat in searched] for i in j]\n",
    "        )\n",
    "    )\n",
    "random.shuffle(ddg_results)\n",
    "ddg_results = trim(ddg_results, keep=15)\n",
    "websites, links, body = zip(\n",
    "    *ddg_results\n",
    ")"
   ]
  },
  {
   "cell_type": "code",
   "execution_count": 10,
   "id": "174f4e0c-1606-47b6-bb9e-a599a3ccb231",
   "metadata": {},
   "outputs": [
    {
     "name": "stdout",
     "output_type": "stream",
     "text": [
      "0. ('https://goldfundamentals.org/gold-uses/', 'Introduction Part 1: Gold in Jewelry Part 2: Gold as a Currency Part 3: Gold in Electronics Part 4: Gold in Optics Part 5: Gold in Space Technology Part 6: Gold in Dental Procedures Part 7: Gold in Medical Treatments and Diagnostics Part 8: Gold in Cosmetics Part 9: Gold in Gastronomy Part 10: Gold in Architecture Part 11: Gold in Decorative Arts')\n",
      "\n",
      "1. ('https://www.gold.org/history-gold', \"Learn how gold's role as money and the gold standard changed over time, from the Classical Gold Standard to the Bretton Woods system and beyond. Explore the records of gold demand and supply, market structure and flows, and the role of gold in jewellery and culture.\")\n",
      "\n",
      "2. ('https://www.chicagofed.org/publications/chicago-fed-letter/2021/464', 'The measure of the real gold price is the London PM fixing price for gold (from the London Bullion Market Association) in U.S. dollars per ounce deflated by the U.S. Consumer Price Index, or CPI (from the U.S. Bureau of Labor Statistics), plotted on a log scale; and the measure of expected inflation over the next ten years is PTR.')\n",
      "\n",
      "3. ('https://goldprice.org/', 'Find the current gold price per ounce, gram and kilogram in 160 currencies and access gold price history charts for up to 43 years. Compare gold prices from different dealers and learn how to buy and sell gold online.')\n",
      "\n",
      "4. ('https://www.apmex.com/gold-price', 'Find the current gold spot price in U.S. dollars per ounce, gram and kilo, and see historical gold price trends and charts. Learn how to buy gold bullion, coins and derivatives, and compare gold prices with other currencies and products.')\n",
      "\n",
      "5. ('https://www.physicalgold.com/insights/15-uses-gold/', \"02/02/2024 Daniel Fisher What is Gold Used For? Gold is one of the most sought-after and widely used commodities on the planet. It's not just gold's rarity that makes it appealing. Gold's unique properties also make it ideal for a number of specific uses .\")\n",
      "\n",
      "6. ('https://en.wikipedia.org/wiki/Gold', 'The city of Johannesburg located in South Africa was founded as a result of the Witwatersrand Gold Rush which resulted in the discovery of some of the largest natural gold deposits in recorded history. The gold fields are confined to the northern and north-western edges of the Witwatersrand basin, which is a 5-7 km (3.1-4.3 mi) thick layer ...')\n",
      "\n",
      "7. ('https://geology.com/minerals/gold/uses-of-gold.shtml', 'ADVERTISEMENT Table of Contents Gold: The Most Useful Metal A Bit of Gold History Jewelry: The Primary Use of Gold Gold As: Coinage, Bullion, Backing Uses of Gold in Electronics Uses of Gold in Computers Uses of Gold in Dentistry Medical Uses of Gold Uses of Gold in Aerospace Gold in Awards & Status Symbols Uses of Gold in Glassmaking')\n",
      "\n",
      "8. ('https://www.tiffany.com/jewelry/shop/gold-jewelry/', \"Gold Jewelry Crafted by Tiffany's master artisans for maximum shine, our 18k gold jewelry is perfect for stacking or wearing solo. Discover renowned designs, from gold bracelets to earrings, necklaces and rings for both men and women. Home Designer Jewelry 800 843 3269. Filter By Materials Gemstones Designers & Collections Showing 1-60 of 533\")\n",
      "\n",
      "9. ('https://www.reuters.com/markets/commodities/gold-climbs-dollar-retreat-conflict-driven-demand-2024-02-22/', 'Gold prices fell from a near two-week high on Thursday after jobless claims data indicated a strong economy, while investors awaited further economic data for guidance on the U.S. Federal Reserve ...')\n",
      "\n",
      "10. ('https://londongoldxchange.com/gold-recycling/', '13.02.24 In recent years, the concept of gold recycling has surged in importance within the gold industry. As the world increasingly focuses on sustainability and reducing environmental impact, the recycling of gold presents a golden opportunity to address these concerns.')\n",
      "\n",
      "11. ('https://www.voguebusiness.com/sustainability/jewellerys-sustainable-future-recycled-gold', 'Waugh says that because so many communities depend on mining for their livelihoods, recycled gold is not a silver bullet for a more sustainable industry. \"While there are benefits to using recycled gold, brands still need to play a role in addressing the fundamental issues in gold mining, rather than turning a blind eye,\" she says.')\n",
      "\n",
      "12. ('https://www.jared.com/gold-jewelry', 'Shop Gold Jewelry By Type GOLD NECKLACES GOLD RINGS GOLD EARRINGS GOLD BRACELETS Gold Jewelry Favorites Solid Glitter Rope Necklace 14K Yellow Gold 22\" 3.8mm $1,890.00 $2,700.00 Hollow Paperclip Puffy Toggle Chain Necklace 14K Yellow Gold $839.99 $1,199.99 Solid Herringbone Chain Necklace 14K Yellow Gold 18\" $1,399.99 $1,999.99')\n",
      "\n",
      "13. ('https://www.oxfordgoldgroup.com/articles/how-does-gold-affect-the-economy/', \"February 11, 2024 Table of Contents How Does Gold Affect the Economy? Historical Role of Gold in Maintaining Currency Stability What Impact Do Gold Reserves Have on a Central Bank's Monetary Policies? How Does Gold Contribute to Economic Growth Through Technology? What Is the Economic Significance of Gold Demand in the Jewelry Industry?\")\n",
      "\n",
      "14. ('https://www.oxfordgoldgroup.com/articles/a-guide-to-gold-recycling/', \"Recycled gold from other sources is a much more sustainable option. Around 25% of the world's gold is recycled! Methods for Recycling Gold The processes and purity standards for recycling gold have evolved over the centuries, but recycled gold is by no means a new resource.\")\n"
     ]
    }
   ],
   "source": [
    "ddg_snippet_text = format_site_description(list(zip(links, body)))\n",
    "print(ddg_snippet_text)"
   ]
  },
  {
   "cell_type": "markdown",
   "id": "e792e56b-df41-4a8f-9e03-d1e3a205d498",
   "metadata": {},
   "source": [
    "## Step 3. \"Brainstorm\" and filter Wikipedia/DDG searches for useful ones\n",
    "I treat them separately. Also: Chain-of-thought prompting\n",
    "https://www.promptingguide.ai/techniques/cot"
   ]
  },
  {
   "cell_type": "code",
   "execution_count": 11,
   "id": "2a940365-1bd4-4a4b-b6af-0aa869ab6d88",
   "metadata": {},
   "outputs": [
    {
     "name": "stdout",
     "output_type": "stream",
     "text": [
      "0. - Gold teeth are a specific application of gold in dentistry, relevant to the topic of gold, thus useful.\n",
      "1. - Gold-filled jewelry is an example of how gold is used in items, relevant to the topic of gold, thus useful.\n",
      "2. - Live insect jewelry is not directly related to the topic of gold, therefore not useful.\n",
      "3. - The California gold rush is a significant historical event involving gold, relevant to the topic of gold, thus useful.\n",
      "4. - Gold as a chemical element is the fundamental aspect of the topic, thus useful.\n",
      "5. - Gallium is a different chemical element and not related to gold, therefore not useful.\n",
      "6. - History of Gold Coast may refer to historical aspects involving gold but is too vague without specific context, potentially useful but not clearly so without further information.\n",
      "7. - Gold Bar is a city and not directly related to the topic of gold, therefore not useful.\n",
      "8. - A gold medal represents an achievement and is related to the cultural significance of gold, thus useful.\n",
      "9. - The Gold Coast was a British Crown colony named for its resources, including gold, relevant to the historical aspect of gold, thus useful.\n",
      "10. - Old gold is a color named after gold, but not directly related to the substance itself, therefore not useful.\n",
      "11. - Potassium is a different chemical element and not related to gold, therefore not useful.\n",
      "12. - The socialist market economy is an economic system and not directly related to the topic of gold, therefore not useful.\n",
      "13. - GOLD may refer to various things but without specific context, it is too vague to be considered useful.\n",
      "14. - Gold mining is the process of extracting gold, highly relevant to the topic of gold, thus useful.\n",
      "15. - Recycling codes are not specifically related to gold, therefore not useful.\n",
      "16. - Titanium is a different chemical element and not related to gold, therefore not useful.\n",
      "17. - Grills (dental jewelry) often use gold, relevant to the topic of gold, thus useful.\n",
      "18. - Market socialism is an economic system and not directly related to the topic of gold, therefore not useful.\n",
      "19. - Sims Limited is a company involved in metal recycling which may include gold, but the link is too indirect for this presentation, therefore not useful.\n",
      "20. - A virtual economy is not directly related to the physical properties or uses of gold, therefore not useful.\n",
      "21. - The economy of Dubai, despite being wealthy, is not directly related to the topic of gold, therefore not useful.\n",
      "22. - Electronic waste is not specifically related to gold, therefore not useful.\n",
      "23. - Land recycling is not directly related to the topic of gold, therefore not useful.\n",
      "24. - Elsa Peretti was a jewelry designer which may include gold, but the entry is more about the person than the material, therefore not useful.\n",
      "25. - Gold mining in Alaska is relevant to the topic of gold, thus useful.\n",
      "26. - Recycling is a process that can include gold but is not specifically about gold, therefore not useful.\n",
      "27. - Costume jewelry is not specifically about gold, therefore not useful.\n",
      "28. - Harmony Gold is a gold mining company, relevant to the topic of gold, thus useful.\n",
      "29. - Gold mining in Colorado is relevant to the topic of gold, thus useful.\n",
      "\n",
      "```\n",
      "[0, 1, 3, 4, 8, 9, 14, 17, 25, 28, 29]\n",
      "```\n",
      "[0, 1, 3, 4, 8, 9, 14, 17, 25, 28, 29]\n"
     ]
    }
   ],
   "source": [
    "choose_topics = lambda user_query: client.answer_question(\n",
    "        question=f\"\"\"{user_query}\n",
    "        Referring to the list of wikipedia entries you have been provided, decide on which topics are useful for the presentation. For each entry, explain, in a few words,\\\n",
    "        whether you think an entry is useful or not and why.\n",
    "        After that, generate a code chunk. Within the code chunk is an array of integers in JSON, and these integers correspond to the topics you think are useful.\n",
    "        For each line, think about its usefulness/relevance and make some short deductions, then conclude whether it is useful or not useful.\n",
    "        Please keep strictly to the format in the following example:\n",
    "        0. - Sugar irrelevant to Jesus Christ, therefore not useful.\n",
    "        1. - Christianity is about the topic of Jesus Christ, thus Useful.\n",
    "        2. - Protestants follow Jesus Christ, therefore useful.\n",
    "        ```\n",
    "        [1, 2]\n",
    "        ```\n",
    "        \"\"\",\n",
    "        system_prompt=f\"\"\"You are an assistant whose task is to help a user in creating a presentation.\\\n",
    "        Here are a list of wikipedia entries, starting from the 0th entry, that may or may not be related to the topic at hand:\n",
    "        {snippet_text}\n",
    "        \"\"\",\n",
    "        llm='gpt-4-1106-preview' # only instance of gpt4 usage. need this for the big brain.\n",
    "    )\n",
    "\n",
    "topics = try_and_parse(user_query, choose_topics, markdown=True)\n",
    "print(topics)"
   ]
  },
  {
   "cell_type": "code",
   "execution_count": 12,
   "id": "b2e216c3-a3fa-4755-91ed-5b56256d67cb",
   "metadata": {},
   "outputs": [
    {
     "data": {
      "text/plain": [
       "['Gold teeth',\n",
       " 'Gold-filled jewelry',\n",
       " 'Live insect jewelry',\n",
       " 'California gold rush',\n",
       " 'Gold',\n",
       " 'Gallium',\n",
       " 'History of Gold Coast',\n",
       " 'Gold Bar, Washington',\n",
       " 'Gold medal',\n",
       " 'Gold Coast (British colony)',\n",
       " 'Old gold',\n",
       " 'Potassium',\n",
       " 'Socialist market economy',\n",
       " 'GOLD',\n",
       " 'Gold mining',\n",
       " 'Recycling codes',\n",
       " 'Titanium',\n",
       " 'Grill (jewelry)',\n",
       " 'Market socialism',\n",
       " 'Sims Metal Management',\n",
       " 'Virtual economy',\n",
       " 'Economy of Dubai',\n",
       " 'Electronic waste',\n",
       " 'Land recycling',\n",
       " 'Elsa Peretti',\n",
       " 'Gold mining in Alaska',\n",
       " 'Recycling',\n",
       " 'Costume jewelry',\n",
       " 'Harmony Gold (mining)',\n",
       " 'Gold mining in Colorado',\n",
       " 'Gold mining in the United States',\n",
       " 'Platinum',\n",
       " 'Economy of Canada']"
      ]
     },
     "execution_count": 12,
     "metadata": {},
     "output_type": "execute_result"
    }
   ],
   "source": [
    "articles"
   ]
  },
  {
   "cell_type": "code",
   "execution_count": 13,
   "id": "6f1e8a6a-26f2-4915-821e-9ca9e01d7899",
   "metadata": {},
   "outputs": [
    {
     "data": {
      "text/plain": [
       "['Gold teeth',\n",
       " 'Gold-filled jewelry',\n",
       " 'California gold rush',\n",
       " 'Gold',\n",
       " 'Gold medal',\n",
       " 'Gold Coast (British colony)',\n",
       " 'Gold mining',\n",
       " 'Grill (jewelry)',\n",
       " 'Gold mining in Alaska',\n",
       " 'Harmony Gold (mining)',\n",
       " 'Gold mining in Colorado']"
      ]
     },
     "execution_count": 13,
     "metadata": {},
     "output_type": "execute_result"
    }
   ],
   "source": [
    "chosen_articles = [articles[i] for i in topics]\n",
    "chosen_snippets = [snippet[i] for i in topics]\n",
    "chosen_articles"
   ]
  },
  {
   "cell_type": "code",
   "execution_count": 14,
   "id": "6b730249-875b-4ed0-93fc-16c2d4fd163f",
   "metadata": {},
   "outputs": [],
   "source": [
    "chosen_full_articles = list(map(lambda x: wiki.page(x, auto_suggest=False).content, chosen_articles))\n",
    "chosen_articles_images = list(map(lambda x: wiki.page(x, auto_suggest=False).images, chosen_articles))\n"
   ]
  },
  {
   "cell_type": "markdown",
   "id": "24746d75-6d25-4e13-8ed1-30bfaefe91a2",
   "metadata": {},
   "source": [
    "## Step 3b. Filter DDG Searches"
   ]
  },
  {
   "cell_type": "code",
   "execution_count": 15,
   "id": "769aac5a-5ebd-4cb3-8d7c-1487b5b80118",
   "metadata": {},
   "outputs": [
    {
     "name": "stdout",
     "output_type": "stream",
     "text": [
      "0. - Comprehensive list of gold uses, relevant for presentation, thus useful.\n",
      "1. - History of gold as currency, relevant for historical context, thus useful.\n",
      "2. - Technical data on gold pricing, may be too complex, but relevant for economic aspect, thus useful.\n",
      "3. - Current gold prices, not relevant for a general presentation on gold, thus not useful.\n",
      "4. - Current gold prices and historical trends, more relevant for investors, not for general presentation, thus not useful.\n",
      "5. - Overview of gold uses, relevant and informative, thus useful.\n",
      "6. - Wikipedia link, informative but not suitable due to source, thus not useful.\n",
      "7. - Detailed uses of gold, relevant for presentation, thus useful.\n",
      "8. - Commercial site for jewelry, not informative about gold itself, thus not useful.\n",
      "9. - Recent gold price fluctuations, relevant for economic trends, but too specific for a general presentation, thus not useful.\n",
      "10. - Gold recycling, relevant for sustainability aspect, thus useful.\n",
      "11. - Discussion on recycled gold and sustainability, relevant for ethical considerations, thus useful.\n",
      "12. - Commercial site for jewelry, not informative about gold itself, thus not useful.\n",
      "13. - Gold's impact on the economy, relevant for economic context, thus useful.\n",
      "14. - Information on gold recycling, relevant for sustainability, thus useful.\n",
      "\n",
      "```\n",
      "[0, 1, 2, 5, 7, 10, 11, 13, 14]\n",
      "```\n"
     ]
    },
    {
     "data": {
      "text/plain": [
       "[0, 1, 2, 5, 7, 10, 11, 13, 14]"
      ]
     },
     "execution_count": 15,
     "metadata": {},
     "output_type": "execute_result"
    }
   ],
   "source": [
    "choose_ddg_topics = lambda user_query: client.answer_question(\n",
    "        question=f\"\"\"{user_query}\n",
    "        Referring to the list of websites you have been provided, decide on which topics are useful for the presentation. For each entry, explain, in a few words,\\\n",
    "        whether you think an entry is useful or not and why.\n",
    "        After that, generate a code chunk. Within the code chunk is an array of integers in JSON, and these integers correspond to the topics you think are useful\\\n",
    "        and are NOT from wikipedia.\n",
    "        For each line, think about its usefulness/relevance and make some short deductions, then conclude whether it is useful or not useful.\n",
    "        Please keep strictly to the format in the following example:\n",
    "        0. - Sugar irrelevant to Jesus Christ, therefore not useful.\n",
    "        1. - Christianity is about the topic of Jesus Christ, thus Useful.\n",
    "        2. - Protestants follow Jesus Christ, therefore useful.\n",
    "        3. - Website is a link to a youtube video, which is not suitable for a presentation, thus not useful.\n",
    "        4. - This is relevant, but it is a Wikipedia link, so it is omitted.\n",
    "        ```\n",
    "        [1, 2]\n",
    "        ```\n",
    "        \"\"\",\n",
    "        system_prompt=f\"\"\"You are an assistant whose task is to help a user in creating a presentation.\\\n",
    "        Here are a list of website body text, starting from the 0th entry, that may or may not be related to the topic at hand:\n",
    "        {ddg_snippet_text}\n",
    "        \"\"\",\n",
    "        llm='gpt-4-1106-preview' # only instance of gpt4 usage. need this for the big brain.\n",
    "    )\n",
    "ddg_topics = try_and_parse(user_query, choose_ddg_topics, markdown=True)\n",
    "\n",
    "ddg_topics"
   ]
  },
  {
   "cell_type": "code",
   "execution_count": 16,
   "id": "0e6d2261-b18a-49e2-9fac-e0b534287d81",
   "metadata": {},
   "outputs": [],
   "source": [
    "chosen_websites, chosen_links, chosen_body = ([websites[i] for i in ddg_topics], [links[i] for i in ddg_topics], [body[i] for i in ddg_topics])"
   ]
  },
  {
   "cell_type": "markdown",
   "id": "52c25911-fcbe-437b-8452-0c0339b72491",
   "metadata": {},
   "source": [
    "## Step 4: Store useful ideas in VectorDB (h2oai)"
   ]
  },
  {
   "cell_type": "code",
   "execution_count": 17,
   "id": "15055ab0-f43b-4f6a-849c-c6a98ad6eca1",
   "metadata": {},
   "outputs": [],
   "source": [
    "\n",
    "    \n",
    "# now its time to store them for RAG\n",
    "import os\n",
    "\n",
    "\n",
    "collection_id = client.create_collection(\n",
    "    name='Articles',\n",
    "    description='Articles for presentation',\n",
    ")\n",
    "\n",
    "pages = dict(zip(chosen_articles, chosen_full_articles))\n",
    "\n"
   ]
  },
  {
   "cell_type": "code",
   "execution_count": 18,
   "id": "57bdbe96-7895-41be-9566-d99c4d03f369",
   "metadata": {},
   "outputs": [
    {
     "name": "stderr",
     "output_type": "stream",
     "text": [
      "100%|██████████████████████████████████████████████████████████████████████████████████| 11/11 [00:43<00:00,  3.95s/it]\n"
     ]
    },
    {
     "data": {
      "text/plain": [
       "Job(id='873526b7-e730-429d-908f-0eb8d6df2093', passed=1.0, failed=0.0, progress=1.0, completed=True, canceled=False, date=datetime.datetime(2024, 2, 28, 13, 20, 22, tzinfo=TzInfo(UTC)), kind=<JobKind.IngestUploadsJob: 'IngestUploadsJob'>, statuses=[JobStatus(id='164b869012b2498398bf12b1cc3138e2', status='Indexing done.'), JobStatus(id='2518ce5b5eb34ce191d7dbbcbf613118', status='Indexing done.'), JobStatus(id='6533e581ed56426dabccde33b0f1921f', status='Indexing done.'), JobStatus(id='f5706ac2e39d4bba8eb5c8165393a3e5', status='Indexing done.')], errors=[], last_update_date=datetime.datetime(2024, 2, 28, 13, 20, 51, tzinfo=TzInfo(UTC)), duration='29s')"
      ]
     },
     "execution_count": 18,
     "metadata": {},
     "output_type": "execute_result"
    }
   ],
   "source": [
    "\n",
    "to_ingest = []\n",
    "for title, content in tqdm(pages.items()):\n",
    "    title = re.sub('[\\W_]+', '', title)\n",
    "    name = f\"./articles/{title}.txt\"\n",
    "    f = open(name, \"w+\", encoding=\"utf-8\")\n",
    "    f.write(content)\n",
    "    f.close() # dont know why i gotta do this, i think it has to be in binary\n",
    "    f = open(name, 'rb')\n",
    "    to_ingest.append(client.upload(name, f))\n",
    "    \n",
    "    f.close() \n",
    "\n",
    "client.ingest_uploads(collection_id, to_ingest)  "
   ]
  },
  {
   "cell_type": "code",
   "execution_count": 19,
   "id": "3cb2ff31-a3ba-4b9c-89b8-7f5158ab50c5",
   "metadata": {},
   "outputs": [
    {
     "name": "stderr",
     "output_type": "stream",
     "text": [
      "100%|████████████████████████████████████████████████████████████████████████████████████| 9/9 [01:23<00:00,  9.27s/it]\n"
     ]
    },
    {
     "data": {
      "text/plain": [
       "Job(id='d5a5da3a-e7d9-4a0f-943f-ac12096320d6', passed=0.5, failed=0.5, progress=1.0, completed=True, canceled=False, date=datetime.datetime(2024, 2, 28, 13, 22, 17, tzinfo=TzInfo(UTC)), kind=<JobKind.IngestUploadsJob: 'IngestUploadsJob'>, statuses=[JobStatus(id='2518ce5b5eb34ce191d7dbbcbf613118', status='Collecting files...')], errors=['Job crashed: S3 operation failed; code: NoSuchKey, message: Object does not exist, resource: /h2ogpte-web-uploads/e6af1c36-166f-4488-ab30-321fcdf46f27/82301020-f54d-4937-a2b6-f56d1e152a6a, request_id: 17B80987E5C2330A, host_id: 129eada3bef6a66733359d8fa2bb39142754799116d6e56bbf39d92d3000c5df, bucket_name: h2ogpte-web-uploads, object_name: e6af1c36-166f-4488-ab30-321fcdf46f27/82301020-f54d-4937-a2b6-f56d1e152a6a'], last_update_date=datetime.datetime(2024, 2, 28, 13, 22, 18, tzinfo=TzInfo(UTC)), duration='1s')"
      ]
     },
     "execution_count": 19,
     "metadata": {},
     "output_type": "execute_result"
    }
   ],
   "source": [
    "\n",
    "\n",
    "# http = urllib3.PoolManager()\n",
    "# to_ingest = [] # CLEAR LIST\n",
    "# for link in tqdm(chosen_links):\n",
    "#     page = http.request('GET', link)\n",
    "#     html_content = page.data.decode('utf-8')\n",
    "#     rendered_content = html2text.html2text(html_content)\n",
    "    \n",
    "#     sanitised_fname = re.sub(r'[\\W_]+', '_', link)\n",
    "#     path = f\"./articles/{sanitised_fname}.txt\"\n",
    "#     file = open(path, 'w', encoding='utf-8')\n",
    "#     file.write(rendered_content)\n",
    "#     file.close()\n",
    "\n",
    "#     f = open(path, 'rb')\n",
    "#     to_ingest.append(client.upload(path, f)) \n",
    "#     f.close()\n",
    "\n",
    "# client.ingest_uploads(collection_id, to_ingest)  \n",
    "\n",
    "\n",
    "import urllib3\n",
    "import html2text\n",
    "import re\n",
    "from tqdm import tqdm\n",
    "from bs4 import BeautifulSoup\n",
    "\n",
    "\n",
    "\n",
    "http = urllib3.PoolManager()\n",
    "h = html2text.HTML2Text()\n",
    "h.ignore_links = True  # Optionally ignore links in the output\n",
    "\n",
    "for link in tqdm(chosen_links):\n",
    "    try:\n",
    "        # Make a GET request to the URL\n",
    "        page = http.request('GET', link, headers=\\\n",
    "                            {\n",
    "                                \"User-Agent\": \n",
    "                                \"Mozilla/5.0 (iPhone; CPU iPhone OS 17_3_1 like Mac OS X) AppleWebKit/605.1.15 (KHTML, like Gecko) CriOS/122.0.6261.89 Mobile/15E148 Safari/604.1\"\n",
    "                            }\n",
    "                           )\n",
    "        \n",
    "        # Decode the bytes object to a string\n",
    "        html_content = page.data.decode('utf-8')\n",
    "        \n",
    "        # Parse the HTML content with BeautifulSoup\n",
    "        soup = BeautifulSoup(html_content, 'html.parser')\n",
    "        \n",
    "        # Extract the body content\n",
    "        body_content = soup.find('body')\n",
    "        \n",
    "        # Convert the body content to plain text\n",
    "        rendered_content = h.handle(str(body_content))\n",
    "        \n",
    "        # Sanitize the filename\n",
    "        sanitised_fname = re.sub(r'[\\W_]+', '_', link)\n",
    "        path = f\"./articles/{sanitised_fname}.txt\"\n",
    "        \n",
    "        # Write the rendered content to the file\n",
    "        with open(path, 'w', encoding='utf-8') as file:\n",
    "            file.write(rendered_content)\n",
    "\n",
    "        with open(path, 'rb') as f:\n",
    "            to_ingest.append(client.upload(path, f)) \n",
    "        \n",
    "\n",
    "        \n",
    "    except urllib3.exceptions.HTTPError as errh:\n",
    "        print(f\"HTTP Error: {errh}\")\n",
    "    except urllib3.exceptions.ConnectionError as errc:\n",
    "        print(f\"Error Connecting: {errc}\")\n",
    "    except urllib3.exceptions.TimeoutError as errt:\n",
    "        print(f\"Timeout Error: {errt}\")\n",
    "    except Exception as err:\n",
    "        print(f\"An error occurred: {err}\")\n",
    "\n",
    "client.ingest_uploads(collection_id, to_ingest)"
   ]
  },
  {
   "cell_type": "code",
   "execution_count": 20,
   "id": "3a09dd48-416f-455b-95ce-1decb3c219bf",
   "metadata": {},
   "outputs": [],
   "source": [
    "# delete\n",
    "files_dir = glob.glob('./articles/*.txt')\n",
    "for f in files_dir:\n",
    "    os.remove(f)"
   ]
  },
  {
   "cell_type": "markdown",
   "id": "f6d92505-2864-4532-a6d0-feb91d1d4fe4",
   "metadata": {},
   "source": [
    "## Step 5: Plan sections for slide\n",
    "This is to ensure the entire presentation is a coherent one with a flow/narrative, instead of many disjoint/overlapping generations.\n",
    "Again, chain of thought prompting is very heavily incorporated"
   ]
  },
  {
   "cell_type": "code",
   "execution_count": 21,
   "id": "9d1a7ba5-2cdf-4f4e-b811-2d17abf3f119",
   "metadata": {},
   "outputs": [
    {
     "name": "stdout",
     "output_type": "stream",
     "text": [
      "1. I would design the presentation slides to flow as follows:\n",
      "* Start with a title slide that introduces the topic of gold and the purpose of the presentation.\n",
      "* Provide a brief overview of the history of gold, including its uses and significance throughout history.\n",
      "* Discuss the factors that drive gold prices and how they are determined.\n",
      "* Explore the various uses of gold, including in jewelry, electronics, and other industries.\n",
      "* Highlight the growing trend of gold recycling and its impact on the sustainability of the gold industry.\n",
      "* Discuss the role of gold in the economy and its impact on global markets.\n",
      "* Conclude the presentation with a summary of the key points and a call to action for further learning.\n",
      "2. A good title for the presentation could be \"Gold: History, Uses, and Impact on the Economy\".\n",
      "3. Here is the JSON array of slide titles:\n",
      "```json\n",
      "[\n",
      "\"Gold: History, Uses, and Impact on the Economy\",\n",
      "\"Introduction to Gold\",\n",
      "\"History of Gold\",\n",
      "\"Factors that Drive Gold Prices\",\n",
      "\"Uses of Gold\",\n",
      "\"Gold Recycling and Sustainability\",\n",
      "\"Gold and the Economy\",\n",
      "\"Conclusion\"\n",
      "]\n",
      "```\n"
     ]
    }
   ],
   "source": [
    "decide_sections = lambda user_query: client.answer_question(\n",
    "        question=f\"\"\"{user_query}\n",
    "        Please plan the presentation by doing the following:\n",
    "        1. Explain how you would design the presentation slides such that the presentation will flow well.\\\n",
    "        Remember that each slide must contain something different, and content should not overlap.\n",
    "        2. Think of a good title for the presentation.\n",
    "        3. Create a code chunk. Inside that code chunk, generate a JSON array consisting of appropriate slide titles starting from the first slide to the last slide, \\\n",
    "        remembering your answer to point 2. Include the title slide, which is the title for the presentation.\n",
    "\n",
    "        Below is an example reply. Please adhere strictly to the format in the example below and remember to output the JSON array in a code chunk:  \n",
    "        1. I would introduce the Transformers franchise and provide general information about its history to ease my viewers into the subject. \\\n",
    "        Then, I will think about subtopics, such as the Transformers films, Transformers characters and Transformers in comics, using the wikipedia entry summaries\\\n",
    "        I have been provided. \n",
    "            * For my first subtopic, the Transformers films, I would create two additional slides to expand on Bumblebee (2018) and Revenge of the Fallen (2009)\\\n",
    "            as these are popular films within the franchise. I will order the films chronologically.\n",
    "            * For my second subtopic on Transformers characters, I will have a slide on the cast of the film. \n",
    "            * For my next subtopic...\n",
    "        2. I think a good title for this presentation is \"Transformers: An Overview\".\n",
    "        3. Here is the json array of slide titles:\n",
    "        ```json\n",
    "        [\n",
    "        \"Transformers: An Overview\", \n",
    "        \"Introduction to Transformers\", \n",
    "        \"Transformers in Film\",\n",
    "        \"Transformers: Revenge of the Fallen (2009)\", \n",
    "        \"Bumblebee (2018)\", \n",
    "        \"Characters in the Transformers Universe\", \n",
    "        \"Transformers in comics\",\n",
    "        \"Conclusion\"\n",
    "        ]\n",
    "        ```\n",
    "        \"\"\",\n",
    "        system_prompt=f\"\"\"You are an assistant whose task is to help a user in creating a presentation.\\\n",
    "        Below is a list of wikipedia articles that are selected for the presentation.\\\n",
    "        You will be asked to come up with slide titles for the presentation. Each line is a 1-sentence summary of a wikipedia page.\\\n",
    "        The number of slides should depend on the amount of information/wikipedia entry articles and websites available.\n",
    "        Articles:\n",
    "        {chosen_articles}\n",
    "        Chosen websites:\n",
    "        {format_site_description(list(zip(chosen_websites, chosen_links)))}\n",
    "        \"\"\",\n",
    "        llm='mistralai/Mixtral-8x7B-Instruct-v0.1' \n",
    "    )\n",
    "\n",
    "all_sections = try_and_parse(user_query, decide_sections, markdown=True)"
   ]
  },
  {
   "cell_type": "code",
   "execution_count": 22,
   "id": "74ac776f-de82-461d-9313-e671d1ae2dbd",
   "metadata": {},
   "outputs": [
    {
     "data": {
      "text/plain": [
       "['Introduction to Gold',\n",
       " 'History of Gold',\n",
       " 'Factors that Drive Gold Prices',\n",
       " 'Uses of Gold',\n",
       " 'Gold Recycling and Sustainability',\n",
       " 'Gold and the Economy',\n",
       " 'Conclusion']"
      ]
     },
     "execution_count": 22,
     "metadata": {},
     "output_type": "execute_result"
    }
   ],
   "source": [
    "sections = all_sections[1:]\n",
    "\n",
    "sections"
   ]
  },
  {
   "cell_type": "code",
   "execution_count": 23,
   "id": "a5e83322-475c-4678-8f4c-f822ab5e5386",
   "metadata": {},
   "outputs": [
    {
     "data": {
      "text/plain": [
       "'b67fb8d9-3fe7-4701-a428-658f59eb086f'"
      ]
     },
     "execution_count": 23,
     "metadata": {},
     "output_type": "execute_result"
    }
   ],
   "source": [
    "del client\n",
    "client = H2OGPTE(\n",
    "    address=\"https://h2ogpte.genai.h2o.ai\",\n",
    "    api_key=api\n",
    ") # does this reset client?\n",
    "\n",
    "chat_session_id = client.create_chat_session(collection_id)\n",
    "chat_session_id"
   ]
  },
  {
   "cell_type": "markdown",
   "id": "c77e579f-ced4-4c01-93b8-4237e0872788",
   "metadata": {},
   "source": [
    "#### Ref for slide types:  \n",
    "0. title and subtitle \n",
    "1. title and content \n",
    "2. section header \n",
    "3. two content \n",
    "4. Comparison \n",
    "5. Title only  \n",
    "6. Blank \n",
    "7. Content with caption \n",
    "8. Pic with caption \n"
   ]
  },
  {
   "cell_type": "markdown",
   "id": "17338590-9279-49a6-8674-17f2b8c57cdd",
   "metadata": {},
   "source": [
    "## Step 6: Generate using RAG\n",
    "LLM chooses colour with chain-of-thought prompting again."
   ]
  },
  {
   "cell_type": "code",
   "execution_count": 24,
   "id": "11c297ad-f4ef-4aac-a719-e8f2c8237a8f",
   "metadata": {},
   "outputs": [
    {
     "name": "stdout",
     "output_type": "stream",
     "text": [
      "I chose a light beige background color with RGB [245, 223, 186] and a dark brown text color with RGB [60, 25, 0]. The contrast between the light background and dark text makes it easy to read. Additionally, these colors are reminiscent of gold's natural appearance, as well as the earthy tones associated with mining and extraction.\n",
      "\n",
      "```\n",
      "[{\"background\": [245, 223, 186]}, {\"text\": [60, 25, 0]}]\n",
      "```\n"
     ]
    }
   ],
   "source": [
    "prs = Presentation()\n",
    "prs.slide_width = Inches(16)\n",
    "prs.slide_height = Inches(9)\n",
    "title_slide = prs.slides.add_slide(prs.slide_layouts[0]) \n",
    "decide_slide_format = lambda user_query: client.answer_question(\n",
    "        question=f\"\"\"{user_query} Think of a good background colour, in RGB format,\\\n",
    "        for the slides and a good colour, also in RGB format, for the\\\n",
    "        text. Typically, if the text colour is bright (for example RGB [255, 255, 255] is white), then the background colour should be dark\n",
    "        (RGB [0, 0, 100] is dark blue). Conversely, if the text colour is dark (for example RGB [0, 0, 0] is black), the background colour should be bright\\\n",
    "        . You are free to choose any text and background colour, \\\n",
    "        as long as you follow these rules. Please do not assign grey-scale colours for the text and background (like RGB [50, 50, 50]), as much as possible.\n",
    "\n",
    "        Explain clearly why you chose the background and text colours. Then, generate a code chunk. Within the code chunk,\\\n",
    "        provide a JSON array containing two colours. Do not say anything else. Adhere strictly to the example reply below:\n",
    "        I chose blue RGB [0, 35, 140] for the background color and light yellow RGB [255, 234, 0] for the font color. The contrast makes it easy to read.\\\n",
    "        Furthermore, the colours blue and yellow are associated with the Pokémon Franchise.\n",
    "        ```\n",
    "        [{{\"background\": [0, 0, 140]}}, {{\"text\": [255, 234, 0]}}]\n",
    "        ```\n",
    "        \"\"\",\n",
    "    \n",
    "        system_prompt=f\"\"\"You are an assistant whose task is to help a user in creating a presentation.\\\n",
    "        Here are a list of wikipedia entry summaries that are selected for the presentation:\n",
    "        {chosen_snippets}\n",
    "        \"\"\",\n",
    "        llm='mistralai/Mixtral-8x7B-Instruct-v0.1' \n",
    ")\n",
    "\n",
    "format = try_and_parse(user_query, decide_slide_format, markdown=True)"
   ]
  },
  {
   "cell_type": "code",
   "execution_count": 25,
   "id": "8a40b715-2ef3-47f0-bcab-db6733e54873",
   "metadata": {
    "scrolled": true
   },
   "outputs": [
    {
     "data": {
      "text/plain": [
       "[{'background': [245, 223, 186]}, {'text': [60, 25, 0]}]"
      ]
     },
     "execution_count": 25,
     "metadata": {},
     "output_type": "execute_result"
    }
   ],
   "source": [
    "format"
   ]
  },
  {
   "cell_type": "code",
   "execution_count": 26,
   "id": "75e78e2a-08ef-4fed-8833-a6ad0296110c",
   "metadata": {},
   "outputs": [],
   "source": [
    "background = RGBColor(*tuple(list(format[0].values())[0])) \n",
    "font = RGBColor(*tuple(list(format[1].values())[0])) \n",
    "fill = title_slide.background.fill\n",
    "fill.solid()\n",
    "fill.fore_color.rgb = background\n",
    "\n",
    "\n",
    "title_slide.shapes.title.text = all_sections[0]\n",
    "title_slide.shapes.title.text_frame.paragraphs[0].font.color.rgb =  font\n",
    "title_slide.shapes.title.text_frame.paragraphs[0].font.name = 'Montserrat'\n",
    "title_slide.shapes.title.text_frame.paragraphs[0].font.bold = True\n",
    "\n",
    "first_shape =  title_slide.shapes[0]\n",
    "first_shape.left, first_shape.top, first_shape.width, first_shape.height = (prs.slide_width - Inches(12))//2, \\\n",
    "(prs.slide_height-first_shape.height)//2 - Inches(1),\\\n",
    "Inches(12),\\\n",
    "Inches(2)"
   ]
  },
  {
   "cell_type": "code",
   "execution_count": 27,
   "id": "14ebca46-abd0-45a9-9f13-82c9242dc2e5",
   "metadata": {},
   "outputs": [
    {
     "name": "stderr",
     "output_type": "stream",
     "text": [
      "100%|████████████████████████████████████████████████████████████████████████████████████| 7/7 [03:15<00:00, 27.91s/it]\n"
     ]
    }
   ],
   "source": [
    "\n",
    "with client.connect(chat_session_id) as session:\n",
    "\n",
    "    for section in tqdm(sections):\n",
    "        slide = prs.slides.add_slide(prs.slide_layouts[1])\n",
    "        fill = slide.background.fill\n",
    "        fill.solid()\n",
    "        fill.fore_color.rgb = background\n",
    "\n",
    "        \n",
    "        contents = slide.placeholders[1]\n",
    "        contents.text_frame.word_wrap = True\n",
    "\n",
    "        title = slide.shapes.title\n",
    "        title.text = section\n",
    "        title.text_frame.paragraphs[0].font.color.rgb = font\n",
    "        title.text_frame.paragraphs[0].font.size = Pt(32)\n",
    "        title.text_frame.paragraphs[0].font.name = 'Karla'\n",
    "       \n",
    "       \n",
    "        content = session.query(\n",
    "            \n",
    "            message = section,\n",
    "            system_prompt=f\"\"\"You are an assistant whose task is to help a user in creating a presentation. \\\n",
    "            The slides of the presentation are as follows: {sections}\n",
    "            You are now tasked with generating the content of one slide, which will be provided by the user.\n",
    "            You are designing one slide, so do not generate long paragraphs. Instead, summarise your most important points\\\n",
    "            in up to 3 sentences each, and do not generate more than 15 lines of text.\n",
    "            \"\"\",\n",
    "            pre_prompt_query=\"You have been provided with the following information, which may be useful in your task.\",\n",
    "            prompt_query=\"\"\"Decide if the information is relevant, and use it if needed.\\\n",
    "            Generate the content required in the slide provided by the user. You only need to generate the contents of the slide, not the title\\\n",
    "            or anything else. Remember, you are designing one slide, so do not generate long paragraphs. Instead, summarise your most important points\\\n",
    "            in up to 3 sentences each, and do not generate more than 15 lines of text. Between each point, leave a line.\n",
    "\n",
    "            Here is an example. Please adhere to this example strictly:\n",
    "            This is the first point I am trying to make. I will explain this first point in the second sentence.\n",
    "            \n",
    "            This is the second point I am trying to make. This is the second sentence for the second point. \\\n",
    "            I need a third sentence to fully explain this point. Notice that I will leave a line for the next point.\n",
    "\n",
    "            This is the third point.\n",
    "            \"\"\",\n",
    "            llm=\"mistralai/Mixtral-8x7B-Instruct-v0.1\",\n",
    "            rag_config={\n",
    "                \"rag_type\": \"hyde1\",\n",
    "            },\n",
    "        ).content\n",
    "\n",
    "        contents.text = content\n",
    "        \n",
    "        for paragraph in contents.text_frame.paragraphs:\n",
    "            paragraph.space_after = 1\n",
    "            paragraph.space_before = 1\n",
    "            # paragraph.level = 0\n",
    "           \n",
    "            paragraph.font.size = Pt(22)  \n",
    "            paragraph.font.color.rgb = font\n",
    "            paragraph.font.name = 'Karla'\n",
    "\n",
    "        contents.text_frame.auto_size = MSO_AUTO_SIZE.SHAPE_TO_FIT_TEXT\n",
    "        shapes = slide.shapes\n",
    "        new_width = Inches(14)\n",
    "        new_height = Inches(7)\n",
    "        shapes[0].height, shapes[0].width, shapes[0].top, shapes[0].left = shapes[0].height, new_width, shapes[0].top, (prs.slide_width-new_width)//2\n",
    "        shapes[1].height, shapes[1].width, shapes[1].top, shapes[1].left = new_height, new_width, shapes[1].top, (prs.slide_width-new_width)//2\n",
    "        \n",
    "        \n",
    "\n",
    "# gpt-4-1106-preview\n"
   ]
  },
  {
   "cell_type": "code",
   "execution_count": 28,
   "id": "80eca615-5789-4b61-bde2-3c69cc95f16a",
   "metadata": {},
   "outputs": [],
   "source": [
    "clear_all_collections(client)\n",
    "clear_all_documents(client)"
   ]
  },
  {
   "cell_type": "markdown",
   "id": "e5355475-527a-47b4-81ec-aff43b9f8142",
   "metadata": {},
   "source": [
    "## Step 7: Enjoy"
   ]
  },
  {
   "cell_type": "code",
   "execution_count": 29,
   "id": "e3de66b9-768e-48c5-9e7d-2b7c5411d9c1",
   "metadata": {},
   "outputs": [],
   "source": [
    "sanitised = re.sub(r'[\\W_]+', '_', all_sections[0])\n",
    "prs.save(f\"./presentations/{sanitised}.pptx\")\n"
   ]
  },
  {
   "cell_type": "markdown",
   "id": "1f9df9ce-fdad-4bb9-9707-0051dc9ab84c",
   "metadata": {},
   "source": [
    "## Appendix: Extra Code that may be useful in the future\n",
    "```python\n",
    "# Create a chat session\n",
    "# chat_session_id = client.create_chat_session(collection_id)\n",
    "\n",
    "# # Query the collection\n",
    "# with client.connect(chat_session_id) as session:\n",
    "#     reply = session.query(\n",
    "#         'How many paper clips were shipped to Scranton?',\n",
    "#         llm=\"gpt-4-0613\"\n",
    "#     )\n",
    "#     print(reply.content)\n",
    "\n",
    "#     reply = session.query(\n",
    "#         'Did David Brent co-sign the contract with Initech?',\n",
    "#         timeout=60,\n",
    "#         llm=\"gpt-4-0613\"\n",
    "#     )\n",
    "#     print(reply.content)\n",
    "\n",
    "# # Summarize each document\n",
    "# documents = client.list_documents_in_collection(collection_id, offset=0, limit=99)\n",
    "# for doc in documents:\n",
    "#     summary = client.summarize_document(\n",
    "#         document_id=doc.id,\n",
    "#         timeout=60,\n",
    "#     )\n",
    "#     print(summary.content)\n",
    "\n",
    "\n",
    "#client.delete_documents_from_collection\n",
    "```"
   ]
  }
 ],
 "metadata": {
  "kernelspec": {
   "display_name": "Python 3 (ipykernel)",
   "language": "python",
   "name": "python3"
  },
  "language_info": {
   "codemirror_mode": {
    "name": "ipython",
    "version": 3
   },
   "file_extension": ".py",
   "mimetype": "text/x-python",
   "name": "python",
   "nbconvert_exporter": "python",
   "pygments_lexer": "ipython3",
   "version": "3.11.7"
  }
 },
 "nbformat": 4,
 "nbformat_minor": 5
}
