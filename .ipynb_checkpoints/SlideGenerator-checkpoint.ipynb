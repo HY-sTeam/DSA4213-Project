{
 "cells": [
  {
   "cell_type": "code",
   "execution_count": 1,
   "id": "4d4b2e41-d0b4-4d37-bc7d-85c2a6dbeb97",
   "metadata": {},
   "outputs": [],
   "source": [
    "import json\n",
    "import numpy as np\n",
    "import os\n",
    "import re\n",
    "from pptx import Presentation\n",
    "from pptx.dml.color import RGBColor\n",
    "from pptx.util import Cm, Pt, Inches\n",
    "from pptx.enum.text import MSO_ANCHOR, MSO_AUTO_SIZE\n",
    "from h2ogpte import H2OGPTE\n",
    "from mediawikiapi import MediaWikiAPI\n",
    "from tqdm import tqdm\n",
    "with open('secrets.txt') as f:\n",
    "    api = f.read()\n",
    "    f.close()\n",
    "\n"
   ]
  },
  {
   "cell_type": "code",
   "execution_count": 2,
   "id": "5d2c9a1b-6481-447e-9513-732dc1e44eb4",
   "metadata": {},
   "outputs": [],
   "source": [
    "client = H2OGPTE(\n",
    "    address=\"https://h2ogpte.genai.h2o.ai\",\n",
    "    api_key=api\n",
    ")\n",
    "\n",
    "user_query = 'Create a presentation on the Pokemon franchise'"
   ]
  },
  {
   "cell_type": "code",
   "execution_count": 3,
   "id": "c753be01-40dc-4a03-8d7a-5af7397ccdb3",
   "metadata": {},
   "outputs": [],
   "source": [
    "def trim(lst, retain=30):\n",
    "    '''\n",
    "    Trims a list. This function was originally used to permute before trimming, but\\\n",
    "    now that functionality is removed, so it appears rather redundant.\n",
    "    '''\n",
    "    _ = lst.copy()\n",
    "    \n",
    "    return _[0:retain]\n",
    "\n",
    "\n",
    "\n",
    "def try_and_parse(user_query, function, failed=0, markdown=False):\n",
    "    '''\n",
    "    Accepts a function and user_query, an input. Evaluates function(user_query) and \n",
    "    converts string output (usually a reply from an llm) into a json value. Use markdown=True\n",
    "    if the json value is contained within a code chunk.\n",
    "    '''\n",
    "    chosen = function(user_query)\n",
    "    try:\n",
    "        if not markdown:\n",
    "            topics = json.loads(chosen.content)\n",
    "        else:\n",
    "            print(chosen.content)\n",
    "            pattern = r'^```(?:\\w+)?\\s*\\n(.*?)(?=^```)```'\n",
    "            result = re.findall(pattern, chosen.content, re.DOTALL | re.MULTILINE)[0].strip() \n",
    "            #print(result)\n",
    "            topics = json.loads(result)\n",
    "            \n",
    "        return topics\n",
    "    except Exception as e:\n",
    "        failed+=1\n",
    "        print(failed)\n",
    "        print(e)# CHANGE TO LOGGING STATEMENT\n",
    "        return try_and_parse(user_query, function, failed=failed, markdown=markdown)\n"
   ]
  },
  {
   "cell_type": "markdown",
   "id": "040d0758-d9ad-48ba-9b95-555f5e0001bb",
   "metadata": {},
   "source": [
    "## Step 1. What comes to mind when you think about xyz?"
   ]
  },
  {
   "cell_type": "code",
   "execution_count": 4,
   "id": "0070654e-5a34-45a9-a233-d924424311c9",
   "metadata": {
    "scrolled": true
   },
   "outputs": [
    {
     "data": {
      "text/plain": [
       "['Barbie',\n",
       " 'Oppenheimer',\n",
       " 'Barbie vs Oppenheimer',\n",
       " 'Pop Culture and Nuclear Physics',\n",
       " 'Feminism and Science',\n",
       " 'Cultural Mashups']"
      ]
     },
     "execution_count": 4,
     "metadata": {},
     "output_type": "execute_result"
    }
   ],
   "source": [
    "search = lambda user_query: client.answer_question(\n",
    "    question=user_query,\n",
    "    system_prompt=\"\"\"You are an assistant whose task is to perform Wikipedia searches on a specific topic.\\\n",
    "    The user is interested to create a presentation about a topic of interest.\\\n",
    "    Reply with at least one corresponding Wikipedia query as an array in JSON format.\\\n",
    "    Only reply with the JSON array and nothing else. Here are some examples.\n",
    "    Example 1.\n",
    "    User: Create a presentation on the book, Baby Rudin.\n",
    "    Assistant: [\"Real analysis\", \"Mathematical Analysis\"]\n",
    "\n",
    "    Example 2.\n",
    "    User: I want to create a ppt about Milk.\n",
    "    Assistant: [\"Milk\", \"Plant Milk\", \"Goat's Milk\", \"Cow Milk\", \"Almond Milk\"]\n",
    "    \"\"\",\n",
    "    llm='mistralai/Mixtral-8x7B-Instruct-v0.1'\n",
    ")\n",
    "searched = try_and_parse(user_query, search)\n",
    "searched"
   ]
  },
  {
   "cell_type": "markdown",
   "id": "991985cf-7860-4389-bb76-ae2b1e65c255",
   "metadata": {},
   "source": [
    "## Step 2. Search Wikipedia"
   ]
  },
  {
   "cell_type": "code",
   "execution_count": 5,
   "id": "9774e298-43a4-410d-8ca5-cab51af71220",
   "metadata": {},
   "outputs": [],
   "source": [
    "import random\n",
    "wiki = MediaWikiAPI()\n",
    "\n",
    "articles = list(\n",
    "    set(\n",
    "        \n",
    "        [i for j in [wiki.search(cat, results=5) for cat in searched] for i in j]\n",
    "        \n",
    "    )\n",
    ") # remove duplicates with set(list())\n",
    "random.shuffle(articles) # random shuffle\n",
    "\n"
   ]
  },
  {
   "cell_type": "code",
   "execution_count": 8,
   "id": "bc504cd6-6449-47e4-87cf-45d4385c39e8",
   "metadata": {},
   "outputs": [
    {
     "name": "stdout",
     "output_type": "stream",
     "text": [
      "0. The Atomic Age, also known as the Atomic Era, is the period of history following the detonation of the first nuclear weapon, The Gadget at the Trinity test in New Mexico, on 16 July 1945, during World War II. Although nuclear chain reactions had been hypothesized in 1933 and the first artificial self-sustaining nuclear chain reaction (Chicago Pile-1) had taken place in December 1942, the Trinity test and the ensuing bombings of Hiroshima and Nagasaki that ended World War II represented the first large-scale use of nuclear technology and ushered in profound changes in sociopolitical thinking and the course of technological development.\n",
      "\n",
      "1. Feminist science fiction is a subgenre of science fiction (abbreviated \"SF\") focused on such feminist themes as: gender inequality, sexuality, race, economics, reproduction, and environment.\n",
      "\n",
      "2. Katherine Vissering Oppenheimer (née Puening; August 8, 1910 – October 27, 1972) was a German American biologist, botanist, and a member of the Communist Party of America.\n",
      "\n",
      "3. Since 2001, Barbie, a fashion doll manufactured by American toy and entertainment company Mattel, has starred or featured in 42 CGI or computer-animated feature films and streaming television films which since then has become a core component of an eponymous media franchise.\n",
      "\n",
      "4. 2023 in film is an overview of events, including award ceremonies, festivals, a list of country- and genre-specific lists of films released, and notable deaths.\n",
      "\n",
      "5. The National Museum of Nuclear Science & History (formerly named National Atomic Museum) is a national repository of nuclear science information chartered by the 102nd United States Congress under Public Law 102-190, and located in unincorporated Bernalillo County, New Mexico, with an Albuquerque postal address.\n",
      "\n",
      "6. Oppenheimer is a 2023 epic biographical thriller film written, directed, and co-produced by Christopher Nolan, starring Cillian Murphy as J. Robert Oppenheimer, the American theoretical physicist credited with being the \"father of the atomic bomb\" for his role in the Manhattan Project—the World War II undertaking that developed the first nuclear weapons.\n",
      "\n",
      "7. Barbenheimer ( BAR-bən-hy-mər) is a cultural phenomenon which preceded and continues to surround the simultaneous theatrical release of two films, Warner Bros.\n",
      "\n",
      "8. The Monkey King is a 2023 animated fantasy action comedy film directed by Anthony Stacchi from a screenplay written by Rita Hsiao and the writing team of Steve Bencich and Ron J. Friedman.\n",
      "\n",
      "9. Nikolaus Barbie (25 October 1913 – 25 September 1991) was a German officer of the SS and SD who worked in Vichy France during World War II. He became known as the \"Butcher of Lyon\" for having personally tortured prisoners—primarily Jews and members of the French Resistance—as the head of the Gestapo in Lyon.\n",
      "\n",
      "10. This is a list of notable Armenians.\n",
      "\n",
      "11. Participants in an online music scene who rearrange spliced parts of musical pieces form mashup culture.\n",
      "\n",
      "12. A video mashup (also written as video mash-up) combines multiple pre-existing video sources with no discernible relation with each other into a unified video.\n",
      "\n",
      "13. This article lists notable civilian accidents involving fissile nuclear material or nuclear reactors.\n",
      "\n",
      "14. A variety of movements of feminist ideology have developed over the years.\n",
      "\n",
      "15. Frank Friedman Oppenheimer (14 August 1912 – 3 February 1985) was an American particle physicist, cattle rancher, professor of physics at the University of Colorado, and the founder of the Exploratorium in San Francisco.\n",
      "\n",
      "16. Cultural appropriation is the inappropriate or unacknowledged adoption of an element or elements of one culture or identity by members of another culture or identity.\n",
      "\n",
      "17. Barbie is a fashion doll created by American businesswoman Ruth Handler, manufactured by American toy and entertainment company Mattel and introduced on March 9, 1959.\n",
      "\n",
      "18. Physics outreach encompasses facets of science outreach and physics education, and a variety of activities by schools, research institutes, universities, clubs and institutions such as science museums aimed at broadening the audience for and awareness and understanding of physics.\n",
      "\n",
      "19. A mashup (also mesh, mash up, mash-up, blend, bastard pop or bootleg) is a creative work, usually a song, created by blending two or more pre-recorded songs, typically by superimposing the vocal track of one song seamlessly over the instrumental track of another and changing the tempo and key where necessary.\n",
      "\n",
      "20. J. Robert Oppenheimer  (born Julius Robert Oppenheimer;  OP-ən-hy-mər; April 22, 1904 – February 18, 1967) was an American theoretical physicist.\n",
      "\n",
      "21. Liberal feminism, also called mainstream feminism, is a main branch of feminism defined by its focus on achieving gender equality through political and legal reform within the framework of liberal democracy and informed by a human rights perspective.\n",
      "\n",
      "22. Barbie is a 2023 fantasy comedy film, directed by Greta Gerwig from a screenplay she wrote with Noah Baumbach.\n",
      "\n",
      "23. Difference feminism is a term developed during the equality-versus-difference debate in American feminism to describe the view that men and women are different, but that no value judgment can be placed upon them and both sexes have equal moral status as persons.Difference feminism did not require a commitment to essentialism.\n",
      "\n",
      "24. Feminism is a range of socio-political movements and ideologies that aim to define and establish the political, economic, personal, and social equality of the sexes.\n",
      "\n",
      "25. The 28th Satellite Awards is an upcoming award ceremony that will honor the year's outstanding performers, films and television shows, presented by the International Press Academy.\n"
     ]
    }
   ],
   "source": [
    "snippet = trim(\n",
    "    list(map(lambda x: wiki.summary(x, auto_suggest=False, sentences=1), articles))\n",
    ")\n",
    "\n",
    "snippet_ = snippet.copy()\n",
    "i = 0\n",
    "for string in snippet:\n",
    "    string = f\"{i}. {string}\"\n",
    "    snippet[i] = string\n",
    "    i+=1\n",
    "snippet_text = \"\\n\\n\".join(snippet)\n",
    "print(snippet_text)"
   ]
  },
  {
   "cell_type": "markdown",
   "id": "e792e56b-df41-4a8f-9e03-d1e3a205d498",
   "metadata": {},
   "source": [
    "## Step 3. \"Brainstorm\" and filter Wikipedia searches for useful ones\n",
    "Chain-of-thought prompting\n",
    "https://www.promptingguide.ai/techniques/cot"
   ]
  },
  {
   "cell_type": "code",
   "execution_count": 9,
   "id": "2a940365-1bd4-4a4b-b6af-0aa869ab6d88",
   "metadata": {},
   "outputs": [
    {
     "name": "stdout",
     "output_type": "stream",
     "text": [
      "0. - The Atomic Age is related to the historical context of Oppenheimer but not directly to the \"Barbenheimer\" phenomenon, therefore not useful.\n",
      "1. - Feminist science fiction does not relate to the \"Barbenheimer\" phenomenon, therefore not useful.\n",
      "2. - Katherine Vissering Oppenheimer is related to J. Robert Oppenheimer but not directly to the \"Barbenheimer\" phenomenon, therefore not useful.\n",
      "3. - Barbie's film history is relevant to the \"Barbenheimer\" phenomenon as it pertains to Barbie, therefore useful.\n",
      "4. - 2023 in film is relevant as it may contain information about the films involved in the \"Barbenheimer\" phenomenon, therefore useful.\n",
      "5. - The National Museum of Nuclear Science & History is related to nuclear science and not directly to the \"Barbenheimer\" phenomenon, therefore not useful.\n",
      "6. - Oppenheimer film is directly related to the \"Barbenheimer\" phenomenon as it pertains to Oppenheimer, therefore useful.\n",
      "7. - Barbenheimer is the exact topic of the presentation, therefore useful.\n",
      "8. - The Monkey King film is not related to the \"Barbenheimer\" phenomenon, therefore not useful.\n",
      "9. - Nikolaus Barbie is not related to the \"Barbenheimer\" phenomenon, therefore not useful.\n",
      "10. - List of notable Armenians is not related to the \"Barbenheimer\" phenomenon, therefore not useful.\n",
      "11. - Mashup culture is conceptually similar to the blending of Barbie and Oppenheimer in \"Barbenheimer\" but not directly related, therefore not useful.\n",
      "12. - Video mashup is conceptually similar to \"Barbenheimer\" but not directly related, therefore not useful.\n",
      "13. - Civilian nuclear accidents are not related to the \"Barbenheimer\" phenomenon, therefore not useful.\n",
      "14. - Movements of feminist ideology are not directly related to the \"Barbenheimer\" phenomenon, therefore not useful.\n",
      "15. - Frank Friedman Oppenheimer is related to J. Robert Oppenheimer but not directly to the \"Barbenheimer\" phenomenon, therefore not useful.\n",
      "16. - Cultural appropriation is not directly related to the \"Barbenheimer\" phenomenon, therefore not useful.\n",
      "17. - Barbie as a fashion doll is relevant to the \"Barbenheimer\" phenomenon as it pertains to Barbie, therefore useful.\n",
      "18. - Physics outreach is related to the field of Oppenheimer but not directly to the \"Barbenheimer\" phenomenon, therefore not useful.\n",
      "19. - Mashup in music is conceptually similar to \"Barbenheimer\" but not directly related, therefore not useful.\n",
      "20. - J. Robert Oppenheimer is related to the Oppenheimer film but not directly to the \"Barbenheimer\" phenomenon, therefore not useful.\n",
      "21. - Liberal feminism is not directly related to the \"Barbenheimer\" phenomenon, therefore not useful.\n",
      "22. - Barbie film is directly related to the \"Barbenheimer\" phenomenon as it pertains to Barbie, therefore useful.\n",
      "23. - Difference feminism is not directly related to the \"Barbenheimer\" phenomenon, therefore not useful.\n",
      "24. - Feminism as a movement is not directly related to the \"Barbenheimer\" phenomenon, therefore not useful.\n",
      "25. - The 28th Satellite Awards may potentially feature films related to the \"Barbenheimer\" phenomenon but is not directly related, therefore not useful.\n",
      "\n",
      "```\n",
      "[3, 4, 6, 7, 17, 22]\n",
      "```\n",
      "[3, 4, 6, 7, 17, 22]\n"
     ]
    }
   ],
   "source": [
    "choose_topics = lambda user_query: client.answer_question(\n",
    "        question=f\"\"\"{user_query}\n",
    "        Referring to the list of wikipedia entries you have been provided, decide on which topics are useful for the presentation. For each entry, explain, in a few words,\\\n",
    "        whether you think an entry is useful or not and why.\n",
    "        After that, generate a code chunk. Within the code chunk is an array of integers in JSON, and these integers correspond to the topics you think are useful.\n",
    "        For each line, think about its usefulness/relevance and make some short deductions, then conclude whether it is useful or not useful.\n",
    "        Please keep strictly to the format in the following example:\n",
    "        0. - Sugar irrelevant to Jesus Christ, therefore not useful.\n",
    "        1. - Christianity is about the topic of Jesus Christ, thus Useful.\n",
    "        2. - Protestants follow Jesus Christ, therefore useful.\n",
    "        ```\n",
    "        [1, 2]\n",
    "        ```\n",
    "        \"\"\",\n",
    "        system_prompt=f\"\"\"You are an assistant whose task is to help a user in creating a presentation.\\\n",
    "        Here are a list of wikipedia entries, starting from the 0th entry, that may or may not be related to the topic at hand:\n",
    "        {snippet_text}\n",
    "        \"\"\",\n",
    "        llm='gpt-4-1106-preview' # only instance of gpt4 usage. need this for the big brain.\n",
    "    )\n",
    "\n",
    "topics = try_and_parse(user_query, choose_topics, markdown=True)\n",
    "print(topics)"
   ]
  },
  {
   "cell_type": "code",
   "execution_count": 10,
   "id": "b2e216c3-a3fa-4755-91ed-5b56256d67cb",
   "metadata": {},
   "outputs": [
    {
     "data": {
      "text/plain": [
       "['Atomic Age',\n",
       " 'Feminist science fiction',\n",
       " 'Katherine Oppenheimer',\n",
       " 'List of Barbie films',\n",
       " '2023 in film',\n",
       " 'National Museum of Nuclear Science & History',\n",
       " 'Oppenheimer (film)',\n",
       " 'Barbenheimer',\n",
       " 'The Monkey King (2023 film)',\n",
       " 'Klaus Barbie',\n",
       " 'Lists of Armenians',\n",
       " 'Mashup (culture)',\n",
       " 'Mashup (video)',\n",
       " 'List of civilian nuclear accidents',\n",
       " 'Feminist movements and ideologies',\n",
       " 'Frank Oppenheimer',\n",
       " 'Cultural appropriation',\n",
       " 'Barbie',\n",
       " 'Physics outreach',\n",
       " 'Mashup (music)',\n",
       " 'J. Robert Oppenheimer',\n",
       " 'Liberal feminism',\n",
       " 'Barbie (film)',\n",
       " 'Difference feminism',\n",
       " 'Feminism',\n",
       " '28th Satellite Awards']"
      ]
     },
     "execution_count": 10,
     "metadata": {},
     "output_type": "execute_result"
    }
   ],
   "source": [
    "articles"
   ]
  },
  {
   "cell_type": "code",
   "execution_count": 11,
   "id": "6f1e8a6a-26f2-4915-821e-9ca9e01d7899",
   "metadata": {},
   "outputs": [
    {
     "data": {
      "text/plain": [
       "['List of Barbie films',\n",
       " '2023 in film',\n",
       " 'Oppenheimer (film)',\n",
       " 'Barbenheimer',\n",
       " 'Barbie',\n",
       " 'Barbie (film)']"
      ]
     },
     "execution_count": 11,
     "metadata": {},
     "output_type": "execute_result"
    }
   ],
   "source": [
    "chosen_articles = [articles[i] for i in topics]\n",
    "chosen_snippets = [snippet_[i] for i in topics]\n",
    "chosen_articles"
   ]
  },
  {
   "cell_type": "code",
   "execution_count": 12,
   "id": "6b730249-875b-4ed0-93fc-16c2d4fd163f",
   "metadata": {},
   "outputs": [],
   "source": [
    "chosen_full_articles = list(map(lambda x: wiki.page(x, auto_suggest=False).content, chosen_articles))\n",
    "chosen_articles_images = list(map(lambda x: wiki.page(x, auto_suggest=False).images, chosen_articles))\n"
   ]
  },
  {
   "cell_type": "code",
   "execution_count": 13,
   "id": "15055ab0-f43b-4f6a-849c-c6a98ad6eca1",
   "metadata": {},
   "outputs": [],
   "source": [
    "\n",
    "    \n",
    "# now its time to store them for RAG\n",
    "import os\n",
    "\n",
    "\n",
    "collection_id = client.create_collection(\n",
    "    name='Articles',\n",
    "    description='wikipedia articles for presentation',\n",
    ")\n",
    "\n",
    "pages = dict(zip(chosen_articles, chosen_full_articles))\n",
    "\n"
   ]
  },
  {
   "cell_type": "markdown",
   "id": "52c25911-fcbe-437b-8452-0c0339b72491",
   "metadata": {},
   "source": [
    "## Step 4: Store useful ideas in VectorDB (h2oai)"
   ]
  },
  {
   "cell_type": "code",
   "execution_count": 14,
   "id": "57bdbe96-7895-41be-9566-d99c4d03f369",
   "metadata": {},
   "outputs": [
    {
     "name": "stdout",
     "output_type": "stream",
     "text": [
      "./articles/ListofBarbiefilms.txt fed!\n",
      "./articles/2023infilm.txt fed!\n",
      "./articles/Oppenheimerfilm.txt fed!\n",
      "./articles/Barbenheimer.txt fed!\n",
      "./articles/Barbie.txt fed!\n",
      "./articles/Barbiefilm.txt fed!\n"
     ]
    },
    {
     "data": {
      "text/plain": [
       "Job(id='882b5492-ef6b-46f7-a650-be3046b0a2a5', passed=1.0, failed=0.0, progress=1.0, completed=True, canceled=False, date=datetime.datetime(2024, 2, 27, 15, 19, 8, tzinfo=TzInfo(UTC)), kind=<JobKind.IngestUploadsJob: 'IngestUploadsJob'>, statuses=[JobStatus(id='11b9f1688e07496ea1271685b4a62909', status='Indexing done.'), JobStatus(id='1e8c47ea9f974ab5915bf20ce35f2a0c', status='Indexing done.'), JobStatus(id='8e6b14e3d9c745168a28821c795ac686', status='Indexing done.'), JobStatus(id='6de0bd52efd94606898ea390a1b4b809', status='Indexing done.')], errors=[], last_update_date=datetime.datetime(2024, 2, 27, 15, 20, 3, tzinfo=TzInfo(UTC)), duration='55s')"
      ]
     },
     "execution_count": 14,
     "metadata": {},
     "output_type": "execute_result"
    }
   ],
   "source": [
    "import re\n",
    "to_ingest = []\n",
    "for title, content in pages.items():\n",
    "    title = re.sub('[\\W_]+', '', title)\n",
    "    name = f\"./articles/{title}.txt\"\n",
    "    f = open(name, \"w+\", encoding=\"utf-8\")\n",
    "    f.write(content)\n",
    "    f.close() # dont know why i gotta do this, i think it has to be in binary\n",
    "    f = open(name, 'rb')\n",
    "    to_ingest.append(client.upload(name, f))\n",
    "    print(f\"{name} fed!\")\n",
    "    f.close() \n",
    "\n",
    "client.ingest_uploads(collection_id, to_ingest)  "
   ]
  },
  {
   "cell_type": "code",
   "execution_count": 15,
   "id": "68204587-8e88-4729-a520-98c429f02b81",
   "metadata": {},
   "outputs": [
    {
     "data": {
      "text/plain": [
       "['Since 2001, Barbie, a fashion doll manufactured by American toy and entertainment company Mattel, has starred or featured in 42 CGI or computer-animated feature films and streaming television films which since then has become a core component of an eponymous media franchise.',\n",
       " '2023 in film is an overview of events, including award ceremonies, festivals, a list of country- and genre-specific lists of films released, and notable deaths.',\n",
       " 'Oppenheimer is a 2023 epic biographical thriller film written, directed, and co-produced by Christopher Nolan, starring Cillian Murphy as J. Robert Oppenheimer, the American theoretical physicist credited with being the \"father of the atomic bomb\" for his role in the Manhattan Project—the World War II undertaking that developed the first nuclear weapons.',\n",
       " 'Barbenheimer ( BAR-bən-hy-mər) is a cultural phenomenon which preceded and continues to surround the simultaneous theatrical release of two films, Warner Bros.',\n",
       " 'Barbie is a fashion doll created by American businesswoman Ruth Handler, manufactured by American toy and entertainment company Mattel and introduced on March 9, 1959.',\n",
       " 'Barbie is a 2023 fantasy comedy film, directed by Greta Gerwig from a screenplay she wrote with Noah Baumbach.']"
      ]
     },
     "execution_count": 15,
     "metadata": {},
     "output_type": "execute_result"
    }
   ],
   "source": [
    "chosen_snippets"
   ]
  },
  {
   "cell_type": "markdown",
   "id": "f6d92505-2864-4532-a6d0-feb91d1d4fe4",
   "metadata": {},
   "source": [
    "## Step 5: Plan sections for slide\n",
    "This is to ensure the entire presentation is a coherent one with a flow/narrative, instead of many disjoint/overlapping generations.\n",
    "Again, chain of thought prompting is very heavily incorporated"
   ]
  },
  {
   "cell_type": "code",
   "execution_count": 16,
   "id": "9d1a7ba5-2cdf-4f4e-b811-2d17abf3f119",
   "metadata": {},
   "outputs": [
    {
     "name": "stdout",
     "output_type": "stream",
     "text": [
      "1. For this presentation, I would start with an introductory slide that introduces the concept of \"Barbenheimer\" and the two films that are the focus of the presentation: Barbie and Oppenheimer. This slide will serve as a title slide and provide context for the rest of the presentation.\n",
      "\n",
      "Next, I would create a slide that provides more information about the Barbie media franchise, including its history and popularity. This will be followed by a slide about the Barbie film, including its plot, characters, and production.\n",
      "\n",
      "After that, I would create a slide about the Oppenheimer film, including its plot, characters, and production. This will be followed by a slide that compares and contrasts the two films, highlighting their similarities and differences.\n",
      "\n",
      "Finally, I would end the presentation with a conclusion slide that summarizes the main points of the presentation and provides some final thoughts on the \"Barbenheimer\" phenomenon.\n",
      "\n",
      "2. A good title for this presentation could be \"Barbenheimer: A Comparative Analysis of Barbie and Oppenheimer\".\n",
      "\n",
      "3. Here is the JSON array of slide titles:\n",
      "```json\n",
      "[\n",
      "\"Barbenheimer: A Comparative Analysis of Barbie and Oppenheimer\",\n",
      "\"The Barbie Media Franchise\",\n",
      "\"The Barbie Film\",\n",
      "\"The Oppenheimer Film\",\n",
      "\"Comparing Barbie and Oppenheimer\",\n",
      "\"Conclusion\"\n",
      "]\n",
      "```\n"
     ]
    }
   ],
   "source": [
    "decide_sections = lambda user_query: client.answer_question(\n",
    "        question=f\"\"\"{user_query}\n",
    "        Please plan the presentation by doing the following:\n",
    "        1. Explain how you would design the presentation slides such that the presentation will flow well.\\\n",
    "        Remember that each slide must contain something different, and content should not overlap.\n",
    "        2. Think of a good title for the presentation.\n",
    "        3. Create a code chunk. Inside that code chunk, generate a JSON array consisting of appropriate slide titles starting from the first slide to the last slide, \\\n",
    "        remembering your answer to point 2. Include the title slide, which is the title for the presentation.\n",
    "\n",
    "        Below is an example reply. Please adhere strictly to the format in the example below and remember to output the JSON array in a code chunk:  \n",
    "        1. I would introduce the Transformers franchise and provide general information about its history to ease my viewers into the subject. \\\n",
    "        Then, I will think about subtopics, such as the Transformers films, Transformers characters and Transformers in comics, using the wikipedia entry summaries\\\n",
    "        I have been provided. \n",
    "            * For my first subtopic, the Transformers films, I would create two additional slides to expand on Bumblebee (2018) and Revenge of the Fallen (2009)\\\n",
    "            as these are popular films within the franchise. I will order the films chronologically.\n",
    "            * For my second subtopic on Transformers characters, I will have a slide on the cast of the film. \n",
    "            * For my next subtopic...\n",
    "        2. I think a good title for this presentation is \"Transformers: An Overview\".\n",
    "        3. Here is the json array of slide titles:\n",
    "        ```json\n",
    "        [\n",
    "        \"Transformers: An Overview\", \n",
    "        \"Introduction to Transformers\", \n",
    "        \"Transformers in Film\",\n",
    "        \"Transformers: Revenge of the Fallen (2009)\", \n",
    "        \"Bumblebee (2018)\", \n",
    "        \"Characters in the Transformers Universe\", \n",
    "        \"Transformers in comics\",\n",
    "        \"Conclusion\"\n",
    "        ]\n",
    "        ```\n",
    "        \"\"\",\n",
    "        system_prompt=f\"\"\"You are an assistant whose task is to help a user in creating a presentation.\\\n",
    "        Below is a list of wikipedia entry summaries that are selected for the presentation.\\\n",
    "        You will be asked to come up with slide titles for the presentation. Each line is a 1-sentence summary of a wikipedia page.\\\n",
    "        The number of slides should depend on the amount of information/wikipedia entry summaries available.\n",
    "        Summaries:\n",
    "        {chosen_snippets}\n",
    "        \"\"\",\n",
    "        llm='mistralai/Mixtral-8x7B-Instruct-v0.1' \n",
    "    )\n",
    "\n",
    "all_sections = try_and_parse(user_query, decide_sections, markdown=True)"
   ]
  },
  {
   "cell_type": "code",
   "execution_count": 17,
   "id": "74ac776f-de82-461d-9313-e671d1ae2dbd",
   "metadata": {},
   "outputs": [
    {
     "data": {
      "text/plain": [
       "['The Barbie Media Franchise',\n",
       " 'The Barbie Film',\n",
       " 'The Oppenheimer Film',\n",
       " 'Comparing Barbie and Oppenheimer',\n",
       " 'Conclusion']"
      ]
     },
     "execution_count": 17,
     "metadata": {},
     "output_type": "execute_result"
    }
   ],
   "source": [
    "sections = all_sections[1:]\n",
    "\n",
    "sections"
   ]
  },
  {
   "cell_type": "code",
   "execution_count": 18,
   "id": "a5e83322-475c-4678-8f4c-f822ab5e5386",
   "metadata": {},
   "outputs": [
    {
     "data": {
      "text/plain": [
       "'c2634f1d-0fa5-43bd-94bd-f0f96edb92a5'"
      ]
     },
     "execution_count": 18,
     "metadata": {},
     "output_type": "execute_result"
    }
   ],
   "source": [
    "del client\n",
    "client = H2OGPTE(\n",
    "    address=\"https://h2ogpte.genai.h2o.ai\",\n",
    "    api_key=api\n",
    ") # does this reset client?\n",
    "\n",
    "chat_session_id = client.create_chat_session(collection_id)\n",
    "chat_session_id"
   ]
  },
  {
   "cell_type": "markdown",
   "id": "c77e579f-ced4-4c01-93b8-4237e0872788",
   "metadata": {},
   "source": [
    "#### Ref for slide types:  \n",
    "0. title and subtitle \n",
    "1. title and content \n",
    "2. section header \n",
    "3. two content \n",
    "4. Comparison \n",
    "5. Title only  \n",
    "6. Blank \n",
    "7. Content with caption \n",
    "8. Pic with caption \n"
   ]
  },
  {
   "cell_type": "markdown",
   "id": "17338590-9279-49a6-8674-17f2b8c57cdd",
   "metadata": {},
   "source": [
    "## Step 6: Generate using RAG\n",
    "LLM chooses colour with chain-of-thought prompting again."
   ]
  },
  {
   "cell_type": "code",
   "execution_count": 19,
   "id": "11c297ad-f4ef-4aac-a719-e8f2c8237a8f",
   "metadata": {},
   "outputs": [
    {
     "name": "stdout",
     "output_type": "stream",
     "text": [
      "I chose a light purple background color (RGB [153, 102, 255]) and a dark grey text color (RGB [51, 51, 51]). The contrast between the light background and dark text makes it easy to read. Additionally, purple is often associated with creativity and luxury, while grey is a neutral color that allows the content to stand out.\n",
      "\n",
      "```\n",
      "[{\"background\": [153, 102, 255]}, {\"text\": [51, 51, 51]}]\n",
      "```\n",
      "Slide 1: Introduction\n",
      "\n",
      "* Introduce the topic of the presentation: Barbenheimer (Barbie vs Oppenheimer)\n",
      "* Explain that the presentation will cover the cultural phenomenon of the simultaneous release of the Barbie and Oppenheimer films, as well as a brief overview of each film.\n",
      "\n",
      "Slide 2: Barbie\n",
      "\n",
      "* Provide a summary of the Barbie franchise, including the number of CGI or computer-animated feature films and streaming television films released since 2001.\n",
      "* Mention the 2023 fantasy comedy film directed by Greta Gerwig.\n",
      "\n",
      "Slide 3: Oppenheimer\n",
      "\n",
      "* Provide a summary of the Oppenheimer film, including the main character and the role he played in the development of the first nuclear weapons.\n",
      "* Mention the director, Christopher Nolan, and the release date, 2023.\n",
      "\n",
      "Slide 4: Barbenheimer\n",
      "\n",
      "* Explain the cultural phenomenon of the simultaneous release of the Barbie and Oppenheimer films.\n",
      "* Provide examples of the hype and excitement surrounding the event.\n",
      "\n",
      "Slide 5: Conclusion\n",
      "\n",
      "* Summarize the main points of the presentation.\n",
      "* End with a call to action, encouraging the audience to see both films and experience the cultural phenomenon for themselves.\n",
      "\n",
      "Note:\n",
      "\n",
      "* The RGB values provided are in the format of [R, G, B]\n",
      "* The background color is light purple (RGB [153, 102, 255])\n",
      "* The text color is dark grey (RGB [51, 51, 51])\n",
      "* The contrast between the light background and dark text makes it easy to read.\n",
      "* The colors purple and grey are neutral and do not have any specific association.\n"
     ]
    }
   ],
   "source": [
    "prs = Presentation()\n",
    "prs.slide_width = Inches(16)\n",
    "prs.slide_height = Inches(9)\n",
    "title_slide = prs.slides.add_slide(prs.slide_layouts[0]) \n",
    "decide_slide_format = lambda user_query: client.answer_question(\n",
    "        question=f\"\"\"{user_query} Think of a good background colour, in RGB format,\\\n",
    "        for the slides and a good colour, also in RGB format, for the\\\n",
    "        text. Typically, if the text colour is bright (for example RGB [255, 255, 255] is white), then the background colour should be dark\n",
    "        (RGB [0, 0, 100] is dark blue). Conversely, if the text colour is dark (for example RGB [0, 0, 0] is black), the background colour should be bright\\\n",
    "        . You are free to choose any text and background colour, \\\n",
    "        as long as you follow these rules. Please do not assign grey-scale colours for the text and background (like RGB [50, 50, 50]), as much as possible.\n",
    "\n",
    "        Explain clearly why you chose the background and text colours. Then, generate a code chunk. Within the code chunk,\\\n",
    "        provide a JSON array containing two colours. Adhere strictly to the example reply below:\n",
    "        I chose blue RGB [0, 35, 140] for the background color and light yellow RGB [255, 234, 0] for the font color. The contrast makes it easy to read.\\\n",
    "        Furthermore, the colours blue and yellow are associated with the Pokémon Franchise.\n",
    "        ```\n",
    "        [{{\"background\": [0, 0, 140]}}, {{\"text\": [255, 234, 0]}}]\n",
    "        ```\n",
    "        \"\"\",\n",
    "    \n",
    "        system_prompt=f\"\"\"You are an assistant whose task is to help a user in creating a presentation.\\\n",
    "        Here are a list of wikipedia entry summaries that are selected for the presentation:\n",
    "        {chosen_snippets}\n",
    "        \"\"\",\n",
    "        llm='mistralai/Mixtral-8x7B-Instruct-v0.1' \n",
    ")\n",
    "\n",
    "format = try_and_parse(user_query, decide_slide_format, markdown=True)"
   ]
  },
  {
   "cell_type": "code",
   "execution_count": 20,
   "id": "8a40b715-2ef3-47f0-bcab-db6733e54873",
   "metadata": {
    "scrolled": true
   },
   "outputs": [
    {
     "data": {
      "text/plain": [
       "[{'background': [153, 102, 255]}, {'text': [51, 51, 51]}]"
      ]
     },
     "execution_count": 20,
     "metadata": {},
     "output_type": "execute_result"
    }
   ],
   "source": [
    "format"
   ]
  },
  {
   "cell_type": "code",
   "execution_count": 21,
   "id": "75e78e2a-08ef-4fed-8833-a6ad0296110c",
   "metadata": {},
   "outputs": [],
   "source": [
    "background = RGBColor(*tuple(list(format[0].values())[0])) \n",
    "font = RGBColor(*tuple(list(format[1].values())[0])) \n",
    "fill = title_slide.background.fill\n",
    "fill.solid()\n",
    "fill.fore_color.rgb = background\n",
    "\n",
    "\n",
    "title_slide.shapes.title.text = all_sections[0]\n",
    "title_slide.shapes.title.text_frame.paragraphs[0].font.color.rgb =  font\n",
    "title_slide.shapes.title.text_frame.paragraphs[0].font.name = 'Montserrat'\n",
    "title_slide.shapes.title.text_frame.paragraphs[0].font.bold = True\n",
    "\n",
    "first_shape =  title_slide.shapes[0]\n",
    "first_shape.left, first_shape.top, first_shape.width, first_shape.height = (prs.slide_width - Inches(12))//2, \\\n",
    "(prs.slide_height-first_shape.height)//2 - Inches(1),\\\n",
    "Inches(12),\\\n",
    "Inches(2)"
   ]
  },
  {
   "cell_type": "code",
   "execution_count": 22,
   "id": "14ebca46-abd0-45a9-9f13-82c9242dc2e5",
   "metadata": {},
   "outputs": [
    {
     "name": "stderr",
     "output_type": "stream",
     "text": [
      "100%|████████████████████████████████████████████████████████████████████████████████████| 5/5 [06:40<00:00, 80.16s/it]\n"
     ]
    }
   ],
   "source": [
    "\n",
    "with client.connect(chat_session_id) as session:\n",
    "\n",
    "    for section in tqdm(sections):\n",
    "        slide = prs.slides.add_slide(prs.slide_layouts[1])\n",
    "        fill = slide.background.fill\n",
    "        fill.solid()\n",
    "        fill.fore_color.rgb = background\n",
    "\n",
    "        \n",
    "        contents = slide.placeholders[1]\n",
    "        contents.text_frame.word_wrap = True\n",
    "\n",
    "        title = slide.shapes.title\n",
    "        title.text = section\n",
    "        title.text_frame.paragraphs[0].font.color.rgb = font\n",
    "        title.text_frame.paragraphs[0].font.size = Pt(32)\n",
    "        title.text_frame.paragraphs[0].font.name = 'Karla'\n",
    "       \n",
    "       \n",
    "        content = session.query(\n",
    "            \n",
    "            message = section,\n",
    "            system_prompt=f\"\"\"You are an assistant whose task is to help a user in creating a presentation. \\\n",
    "            The slides of the presentation are as follows: {sections}\n",
    "            You are now tasked with generating the content of one slide, which will be provided by the user.\n",
    "            \"\"\",\n",
    "            pre_prompt_query=\"You have been provided with the following information, which may be useful in your task.\",\n",
    "            prompt_query=\"\"\"Decide if the information is relevant, and use it if needed.\\\n",
    "            Generate the content required in the slide provided by the user. You only need to generate the contents of the slide, not the title\\\n",
    "            or anything else. Remember, you are designing one slide, so do not generate long paragraphs. Instead, summarise your most important points\\\n",
    "            in up to 3 sentences each, and do not generate more than 15 lines of text. Between each point, leave a line.\n",
    "\n",
    "            Here is an example. Please adhere to this example strictly:\n",
    "            This is the first point I am trying to make. I will explain this first point in the second sentence.\n",
    "            \n",
    "            This is the second point I am trying to make. This is the second sentence for the second point. \\\n",
    "            I need a third sentence to fully explain this point. Notice that I will leave a line for the next point.\n",
    "\n",
    "            This is the third point.\n",
    "            \"\"\",\n",
    "            llm=\"mistralai/Mixtral-8x7B-Instruct-v0.1\",\n",
    "            rag_config={\n",
    "                \"rag_type\": \"rag\",\n",
    "            },\n",
    "        ).content\n",
    "\n",
    "        contents.text = content\n",
    "        \n",
    "        for paragraph in contents.text_frame.paragraphs:\n",
    "            paragraph.space_after = 1\n",
    "            paragraph.space_before = 1\n",
    "            # paragraph.level = 0\n",
    "           \n",
    "            paragraph.font.size = Pt(22)  \n",
    "            paragraph.font.color.rgb = font\n",
    "            paragraph.font.name = 'Karla'\n",
    "\n",
    "        contents.text_frame.auto_size = MSO_AUTO_SIZE.SHAPE_TO_FIT_TEXT\n",
    "        shapes = slide.shapes\n",
    "        new_width = Inches(14)\n",
    "        new_height = Inches(7)\n",
    "        shapes[0].height, shapes[0].width, shapes[0].top, shapes[0].left = shapes[0].height, new_width, shapes[0].top, (prs.slide_width-new_width)//2\n",
    "        shapes[1].height, shapes[1].width, shapes[1].top, shapes[1].left = new_height, new_width, shapes[1].top, (prs.slide_width-new_width)//2\n",
    "        \n",
    "        \n",
    "\n",
    "# gpt-4-1106-preview\n"
   ]
  },
  {
   "cell_type": "markdown",
   "id": "e5355475-527a-47b4-81ec-aff43b9f8142",
   "metadata": {},
   "source": [
    "## Step 7: Enjoy"
   ]
  },
  {
   "cell_type": "code",
   "execution_count": 23,
   "id": "e3de66b9-768e-48c5-9e7d-2b7c5411d9c1",
   "metadata": {},
   "outputs": [],
   "source": [
    "sanitised = re.sub(r'[\\W_]+', '_', all_sections[0])\n",
    "prs.save(f\"./presentations/{sanitised}.pptx\")\n"
   ]
  },
  {
   "cell_type": "markdown",
   "id": "1f9df9ce-fdad-4bb9-9707-0051dc9ab84c",
   "metadata": {},
   "source": [
    "## Appendix: Extra Code that may be useful in the future\n",
    "```python\n",
    "# Create a chat session\n",
    "# chat_session_id = client.create_chat_session(collection_id)\n",
    "\n",
    "# # Query the collection\n",
    "# with client.connect(chat_session_id) as session:\n",
    "#     reply = session.query(\n",
    "#         'How many paper clips were shipped to Scranton?',\n",
    "#         llm=\"gpt-4-0613\"\n",
    "#     )\n",
    "#     print(reply.content)\n",
    "\n",
    "#     reply = session.query(\n",
    "#         'Did David Brent co-sign the contract with Initech?',\n",
    "#         timeout=60,\n",
    "#         llm=\"gpt-4-0613\"\n",
    "#     )\n",
    "#     print(reply.content)\n",
    "\n",
    "# # Summarize each document\n",
    "# documents = client.list_documents_in_collection(collection_id, offset=0, limit=99)\n",
    "# for doc in documents:\n",
    "#     summary = client.summarize_document(\n",
    "#         document_id=doc.id,\n",
    "#         timeout=60,\n",
    "#     )\n",
    "#     print(summary.content)\n",
    "\n",
    "\n",
    "#client.delete_documents_from_collection\n",
    "```"
   ]
  }
 ],
 "metadata": {
  "kernelspec": {
   "display_name": "Python 3 (ipykernel)",
   "language": "python",
   "name": "python3"
  },
  "language_info": {
   "codemirror_mode": {
    "name": "ipython",
    "version": 3
   },
   "file_extension": ".py",
   "mimetype": "text/x-python",
   "name": "python",
   "nbconvert_exporter": "python",
   "pygments_lexer": "ipython3",
   "version": "3.11.7"
  }
 },
 "nbformat": 4,
 "nbformat_minor": 5
}
