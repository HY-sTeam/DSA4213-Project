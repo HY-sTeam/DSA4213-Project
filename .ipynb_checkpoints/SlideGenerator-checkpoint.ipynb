{
 "cells": [
  {
   "cell_type": "code",
   "execution_count": 1,
   "id": "4d4b2e41-d0b4-4d37-bc7d-85c2a6dbeb97",
   "metadata": {},
   "outputs": [],
   "source": [
    "import json\n",
    "import numpy as np\n",
    "import glob\n",
    "import os\n",
    "import re\n",
    "import html2text\n",
    "import urllib3\n",
    "\n",
    "from duckduckgo_search import DDGS\n",
    "from pptx import Presentation\n",
    "from pptx.dml.color import RGBColor\n",
    "from pptx.util import Cm, Pt, Inches\n",
    "from pptx.enum.text import MSO_ANCHOR, MSO_AUTO_SIZE\n",
    "from h2ogpte import H2OGPTE\n",
    "from mediawikiapi import MediaWikiAPI\n",
    "from tqdm import tqdm\n",
    "with open('secrets.txt') as f:\n",
    "    api = f.read()\n",
    "    f.close()\n",
    "\n"
   ]
  },
  {
   "cell_type": "code",
   "execution_count": 2,
   "id": "5d2c9a1b-6481-447e-9513-732dc1e44eb4",
   "metadata": {},
   "outputs": [],
   "source": [
    "client = H2OGPTE(\n",
    "    address=\"https://h2ogpte.genai.h2o.ai\",\n",
    "    api_key=api\n",
    ")\n",
    "\n",
    "user_query = 'Create a presentation on gold'"
   ]
  },
  {
   "cell_type": "code",
   "execution_count": 3,
   "id": "c753be01-40dc-4a03-8d7a-5af7397ccdb3",
   "metadata": {},
   "outputs": [],
   "source": [
    "def clear_all_documents(client):\n",
    "    docs = client.list_recent_documents(offset=0, limit = 1000)\n",
    "    client.delete_documents(list(map(lambda x: x.id, docs)))\n",
    "    assert client.count_documents() == 0\n",
    "\n",
    "def clear_all_collections(client):\n",
    "    col = client.list_recent_collections(0, 1000)\n",
    "    client.delete_collections(list(map(lambda x: x.id, col)))\n",
    "    assert client.count_collections() == 0\n",
    "\n",
    "\n",
    "def trim(lst, keep=30):\n",
    "    '''\n",
    "    Trims a list. This function was originally used to permute before trimming, but\\\n",
    "    now that functionality is removed, so it appears rather redundant.\n",
    "    '''\n",
    "    _ = lst.copy()\n",
    "    \n",
    "    return _[0:keep]\n",
    "\n",
    "def format_site_description(ls, start_from = 0):\n",
    "    i = start_from\n",
    "    _ = list(ls).copy()\n",
    "    for element in ls:\n",
    "        element = f\"{i}. {element}\"\n",
    "        _[i] = element\n",
    "        i += 1\n",
    "    return \"\\n\\n\".join(_)\n",
    "\n",
    "\n",
    "def try_and_parse(user_query, function, failed=0, markdown=False):\n",
    "    '''\n",
    "    Accepts a function and user_query, an input. Evaluates function(user_query) and \n",
    "    converts string output (usually a reply from an llm) into a json value. Use markdown=True\n",
    "    if the json value is contained within a code chunk.\n",
    "    '''\n",
    "    chosen = function(user_query)\n",
    "    try:\n",
    "        if not markdown:\n",
    "            topics = json.loads(chosen.content)\n",
    "        else:\n",
    "            print(chosen.content)\n",
    "            pattern = r'^```(?:\\w+)?\\s*\\n(.*?)(?=^```)```'\n",
    "            result = re.findall(pattern, chosen.content, re.DOTALL | re.MULTILINE)[0].strip() \n",
    "            #print(result)\n",
    "            topics = json.loads(result)\n",
    "            \n",
    "        return topics\n",
    "    except Exception as e:\n",
    "        failed+=1\n",
    "        print(failed)\n",
    "        print(e)# CHANGE TO LOGGING STATEMENT\n",
    "        return try_and_parse(user_query, function, failed=failed, markdown=markdown)\n"
   ]
  },
  {
   "cell_type": "markdown",
   "id": "040d0758-d9ad-48ba-9b95-555f5e0001bb",
   "metadata": {},
   "source": [
    "## Step 1. What comes to mind when you think about xyz?"
   ]
  },
  {
   "cell_type": "code",
   "execution_count": 4,
   "id": "0070654e-5a34-45a9-a233-d924424311c9",
   "metadata": {
    "scrolled": true
   },
   "outputs": [
    {
     "name": "stdout",
     "output_type": "stream",
     "text": [
      "To create a presentation comparing Palworld and Pokemon, I would want to gather information about both games, their features, similarities, and differences. Here are some potential search queries to help with that:\n",
      "\n",
      "```json\n",
      "[\"Palworld\", \"Pokemon\", \"Palworld vs Pokemon\", \"Monster taming games\", \"Open-world monster taming games\", \"Palworld gameplay\", \"Pokemon gameplay\"]\n",
      "```\n"
     ]
    },
    {
     "data": {
      "text/plain": [
       "['Palworld',\n",
       " 'Pokemon',\n",
       " 'Palworld vs Pokemon',\n",
       " 'Monster taming games',\n",
       " 'Open-world monster taming games',\n",
       " 'Palworld gameplay',\n",
       " 'Pokemon gameplay']"
      ]
     },
     "execution_count": 4,
     "metadata": {},
     "output_type": "execute_result"
    }
   ],
   "source": [
    "search = lambda user_query: client.answer_question(\n",
    "    question=user_query,\n",
    "    system_prompt=\"\"\"You are an assistant whose task is to perform searches on the internet on a specific topic.\\\n",
    "    The user is interested to create a presentation about a topic of interest.\\\n",
    "    Think about what to do, then reply with your thought process and at least one corresponding google query as an array in JSON format,\\\n",
    "    but limit yourself to 5 queries.\\\n",
    "    The JSON array should be contained in a code chunk. Keep strictly to the format in the example below.\n",
    "    Example:\n",
    "    Since the presentation is about milk, I will probably want to search up the different types of milk, ...\n",
    "    ```json\n",
    "    [\"Milk\", \"Oat Milk\", \"Plant-based milks\", \"Cow Milk\", \"Goat Milk\"]\n",
    "    ```\n",
    "    \"\"\",\n",
    "    llm='mistralai/Mixtral-8x7B-Instruct-v0.1'\n",
    ")\n",
    "searched = try_and_parse(user_query, search, markdown=True)\n",
    "searched"
   ]
  },
  {
   "cell_type": "markdown",
   "id": "991985cf-7860-4389-bb76-ae2b1e65c255",
   "metadata": {},
   "source": [
    "## Step 2. Search Wikipedia "
   ]
  },
  {
   "cell_type": "code",
   "execution_count": 5,
   "id": "9774e298-43a4-410d-8ca5-cab51af71220",
   "metadata": {},
   "outputs": [],
   "source": [
    "import random\n",
    "wiki = MediaWikiAPI()\n",
    "ddgs = DDGS()\n",
    "\n",
    "articles = list(\n",
    "    set(\n",
    "        \n",
    "        [i for j in [wiki.search(cat, results=5) for cat in searched] for i in j]\n",
    "        \n",
    "    )\n",
    ") # remove duplicates with set(list())\n",
    "\n",
    "\n"
   ]
  },
  {
   "cell_type": "code",
   "execution_count": 6,
   "id": "02da24c4-16b8-4349-b0ff-838eb546469c",
   "metadata": {},
   "outputs": [
    {
     "data": {
      "text/plain": [
       "['Monster Hunter World: Iceborne',\n",
       " 'Pokémon (TV series)',\n",
       " 'Pokémon (video game series)',\n",
       " 'Get Played',\n",
       " 'Odyssey (cancelled video game)',\n",
       " 'Monster Hunter Stories',\n",
       " 'Pokémon FireRed and LeafGreen',\n",
       " 'Cassette Beasts',\n",
       " 'Pokémon Ruby and Sapphire',\n",
       " 'Monster Rancher',\n",
       " 'Brotato',\n",
       " 'Pokémon',\n",
       " 'Enshrouded',\n",
       " 'Monster-taming game',\n",
       " 'Pokémon Red, Blue, and Yellow',\n",
       " 'Gameplay of Pokémon',\n",
       " 'Palworld',\n",
       " 'Ark: Survival Evolved',\n",
       " 'Pokémon Platinum',\n",
       " 'Monster Hunter Stories 2: Wings of Ruin']"
      ]
     },
     "execution_count": 6,
     "metadata": {},
     "output_type": "execute_result"
    }
   ],
   "source": [
    "articles"
   ]
  },
  {
   "cell_type": "code",
   "execution_count": 7,
   "id": "312a79b9-23fc-4ccd-bb0e-31c01a9a19c5",
   "metadata": {},
   "outputs": [],
   "source": [
    "random.shuffle(articles) # random shuffle\n",
    "snippet = trim(\n",
    "    list(map(lambda x: wiki.summary(x, auto_suggest=False, sentences=1), articles))\n",
    ")"
   ]
  },
  {
   "cell_type": "code",
   "execution_count": 8,
   "id": "bc504cd6-6449-47e4-87cf-45d4385c39e8",
   "metadata": {},
   "outputs": [
    {
     "name": "stdout",
     "output_type": "stream",
     "text": [
      "0. Monster Hunter Stories 2: Wings of Ruin is a role-playing video game developed by Capcom and Marvelous and published by Capcom for the Nintendo Switch and Windows.\n",
      "\n",
      "1. Pokémon involves catching and training fictional creatures called \"Pokémon\" and using them to battle other trainers' Pokémon.\n",
      "\n",
      "2. Get Played (formerly How Did This Get Played?) is an audio podcast that follows Heather Anne Campbell, Nick Wiger and Matt Apodaca as they discuss and review video games, with early episodes focusing on weird or bad games.\n",
      "\n",
      "3. Pokémon is a series of video games developed by Game Freak and published by Nintendo and The Pokémon Company under the Pokémon media franchise.\n",
      "\n",
      "4. Monster Hunter World: Iceborne is an expansion pack developed and published by Capcom for the 2018 action role-playing game Monster Hunter: World.\n",
      "\n",
      "5. Cassette Beasts is a role-playing video game developed by Bytten Studio and published by Raw Fury.\n",
      "\n",
      "6. Palworld is an upcoming action-adventure, survival, and monster-taming game created and published by Japanese developer Pocket Pair.\n",
      "\n",
      "7. Pokémon Ruby Version and Pokémon Sapphire Version are 2002 role-playing video games developed by Game Freak and published by The Pokémon Company and Nintendo for the Game Boy Advance.\n",
      "\n",
      "8. Monster Hunter Stories is a role-playing video game developed by Capcom and Marvelous and published by Nintendo for the Nintendo 3DS. It is a spinoff title in the Monster Hunter series and features a drastically different gameplay focus.\n",
      "\n",
      "9. Monster Rancher, known in Japan as Monster Farm (モンスターファーム, Monsutā Fāmu), is a Japanese media franchise and series of life simulation role-playing video games created by Tecmo (now Koei Tecmo).\n",
      "\n",
      "10. A monster-taming game (also known as monster-catching, creature-collecting, or simply Pokémon clone) is a subgenre of role-playing video game that most notably includes the Pokémon franchise.\n",
      "\n",
      "11. Odyssey was the project name for a cancelled Blizzard Entertainment survival game.\n",
      "\n",
      "12. Pokémon, abbreviated from the Japanese title of Pocket Monsters, and currently branded in English as Pokémon the Series, is a Japanese anime television series, part of The Pokémon Company's Pokémon media franchise, which premiered on TV Tokyo in April 1997.\n",
      "\n",
      "13. Pokémon is a Japanese media franchise consisting of video games, animated series and films, a trading card game, and other related media.\n",
      "\n",
      "14. Pokémon Platinum Version is a 2008 role-playing video game developed by Game Freak and published by The Pokémon Company and Nintendo for the Nintendo DS handheld game console.\n",
      "\n",
      "15. Pokémon FireRed Version and Pokémon LeafGreen Version are 2004 remakes of the 1996  role-playing video games Pokémon Red and Blue.\n",
      "\n",
      "16. Pokémon Red Version and Pokémon Blue Version are 1996 role-playing video games developed by Game Freak and published by Nintendo for the Game Boy.\n",
      "\n",
      "17. Brotato is a 2023 top-down arena shooter roguelite video game created by French independent developer Thomas Gervraud under the studio name Blobfish.\n",
      "\n",
      "18. Enshrouded is a survival action role-playing video game by Keen Games.\n",
      "\n",
      "19. Ark: Survival Evolved (stylized as ARK) is a 2015 action-adventure survival video game developed by Studio Wildcard.\n"
     ]
    }
   ],
   "source": [
    "\n",
    "\n",
    "snippet_text = format_site_description(snippet)\n",
    "\n",
    "print(snippet_text)"
   ]
  },
  {
   "cell_type": "markdown",
   "id": "7e4c3a42-cb48-475e-937f-5d02d4f9f065",
   "metadata": {},
   "source": [
    "## Step 2b. Search the Internet (DDG)"
   ]
  },
  {
   "cell_type": "code",
   "execution_count": 9,
   "id": "116b2ce9-a054-4a05-b2c7-a5ae36beb886",
   "metadata": {},
   "outputs": [],
   "source": [
    "ddg_results = list(\n",
    "    set(\n",
    "        [tuple(i.values()) for j in [ddgs.text(cat, max_results=3) for cat in searched] for i in j]\n",
    "        )\n",
    "    )\n",
    "random.shuffle(ddg_results)\n",
    "ddg_results = trim(ddg_results, keep=15)\n",
    "websites, links, body = zip(\n",
    "    *ddg_results\n",
    ")"
   ]
  },
  {
   "cell_type": "code",
   "execution_count": 10,
   "id": "174f4e0c-1606-47b6-bb9e-a599a3ccb231",
   "metadata": {},
   "outputs": [
    {
     "name": "stdout",
     "output_type": "stream",
     "text": [
      "0. ('https://www.youtube.com/watch?v=9HM6iqTWB0M', '1.3K 163K views 1 month ago #palworld #pokemon #gameplay Join us for a 4K gameplay walkthrough of the highly-anticipated game Palworld in its early access stage. Thank you PocketPair for...')\n",
      "\n",
      "1. ('https://www.trustedreviews.com/versus/palworld-vs-pokemon-4411561', 'Palworld and Pokemon are both catch-and-battle games, but Palworld features guns, survival elements and a wanted system. Pokemon has more monsters, turn-based combat and is only available on Nintendo platforms.')\n",
      "\n",
      "2. ('https://www.youtube.com/watch?v=bntB4KY0V6E', 'Pokemon Sword and Shield Gameplay Walkthrough Part 1! Intro and Wedgehurst Gameplay!NEXT PART http://zack.watch/PokemonSwordPart2 PLAYLIST http://zack.wa...')\n",
      "\n",
      "3. ('https://store.steampowered.com/app/1623730/Palworld/', 'Palworld is a monster-catching, survival and crafting game, but incorporates a variety of mechanics from other genres in order to provide a completely new experience for everyone. In order to collect feedback on these elements and grow the game into one that everyone can enjoy, we believe that feedback from everyone in the community is necessary.')\n",
      "\n",
      "4. ('https://www.cbr.com/palworld-better-than-pokemon/', \"Palworld is a monster-catching game that improves on Pokemon in many ways, such as real-time combat, fusion, skills, and online play. Learn how Palworld answers fan wishes Pokemon ignored and why it's more than a Pokemon ripoff.\")\n",
      "\n",
      "5. ('https://www.ign.com/articles/palworld-complete-map', \"IGN's Palworld interactive map is now complete! The map displays and tracks every single collectible in the game, including Lifmunk Effigies and Memo locations, as well as spawn locations for eggs ...\")\n",
      "\n",
      "6. ('https://store.steampowered.com/curator/35805717/', 'Find and follow games that feature monster capture, training, breeding or caring on Steam. Browse lists of top sellers, new releases, discounts and more from this curator.')\n",
      "\n",
      "7. ('https://en.wikipedia.org/wiki/Palworld', 'Palworld is an upcoming action-adventure, survival, and monster-taming game created and published by Japanese developer Pocket Pair. The game is set in an open world populated with animal-like creatures called \"Pals\", which players can battle and capture to use for base building, traversal, and combat. Players may also assign the \"Pals\" to ...')\n",
      "\n",
      "8. ('https://legends.pokemon.com/en-us/gameplay/', 'Learn how to encounter and battle wild Pokémon in the Hisui region of Pokémon Legends: Arceus, a new game with different styles of moves and challenges. Explore the vast environment, study the Pokémon, complete the Pokédex, and use your team of Pokémon to explore the Hisui region.')\n",
      "\n",
      "9. ('https://gamerant.com/best-monster-tamer-games-metacritic/', 'Metacritic ranks the best monster-taming games based on their scores, from Persona 5 Royal to Pokemon Y. Find out the highlights, platforms, and genres of these popular titles that let you collect, tame, and team up with various creatures.')\n",
      "\n",
      "10. ('https://bulbapedia.bulbagarden.net/wiki/Main_Page', 'Bulbapedia is an encyclopedia about Pokémon to which anyone can contribute. Since its launch in February 2005, it has grown to become one of the largest Pokémon resources on the internet.')\n",
      "\n",
      "11. ('https://www.youtube.com/watch?v=huMHOwg5bmk', '5.4K Share 196K views 2 years ago #craftopia #palworld #2021 Palworld is a brand-new, multiplayer, open-world survival crafting game where you can befriend and collect mysterious creatures...')\n",
      "\n",
      "12. ('https://www.youtube.com/watch?v=Nk_bhkDh958', '4.3K Share 333K views 2 years ago #PokemonLegendsArceus #NintendoSwitch Pre-order now: https://www.nintendo.co.uk/Games/Nint... Watch this new extended gameplay footage of Pokémon Legends: Arceus...')\n",
      "\n",
      "13. ('https://www.thegamer.com/best-open-world-creature-collector-games-steam-pc/', '7 Temtem Dive into the breathtaking Airborne Archipelago, a vibrant world inhabited by mysterious and adorable creatures known as Temtem. As a young tamer, embark on an epic journey to become the greatest Temtem tamer of all time. Explore diverse islands, capturing and training an array of Temtem with distinct abilities and personalities.')\n",
      "\n",
      "14. ('https://www.gamingscan.com/best-monster-tamer-games/', \"While most monster tamer games are JRPGs, there are also open-world games and life sim games that feature monster taming elements. In this list, we'll highlight the best monster tamer games to play in 2024, including the best monster tamer games for PC and Nintendo Switch.\")\n"
     ]
    }
   ],
   "source": [
    "ddg_snippet_text = format_site_description(list(zip(links, body)))\n",
    "print(ddg_snippet_text)"
   ]
  },
  {
   "cell_type": "markdown",
   "id": "e792e56b-df41-4a8f-9e03-d1e3a205d498",
   "metadata": {},
   "source": [
    "## Step 3. \"Brainstorm\" and filter Wikipedia/DDG searches for useful ones\n",
    "I treat them separately. Also: Chain-of-thought prompting\n",
    "https://www.promptingguide.ai/techniques/cot"
   ]
  },
  {
   "cell_type": "code",
   "execution_count": 11,
   "id": "2a940365-1bd4-4a4b-b6af-0aa869ab6d88",
   "metadata": {},
   "outputs": [
    {
     "name": "stdout",
     "output_type": "stream",
     "text": [
      "0. - Monster Hunter Stories 2: Wings of Ruin is unrelated to Palworld or Pokémon, therefore not useful.\n",
      "1. - Pokémon involves the core mechanics similar to Palworld, therefore useful.\n",
      "2. - Get Played is a podcast about video games but does not specifically compare Palworld and Pokémon, therefore not useful.\n",
      "3. - Pokémon series development information could provide background for comparison, therefore useful.\n",
      "4. - Monster Hunter World: Iceborne is unrelated to Palworld or Pokémon, therefore not useful.\n",
      "5. - Cassette Beasts is a role-playing video game but not related to Palworld or Pokémon, therefore not useful.\n",
      "6. - Palworld is the subject of the presentation, therefore useful.\n",
      "7. - Pokémon Ruby and Sapphire are specific games within the Pokémon series that could be compared to Palworld, therefore useful.\n",
      "8. - Monster Hunter Stories is unrelated to Palworld or Pokémon, therefore not useful.\n",
      "9. - Monster Rancher is a different monster-taming game and does not directly relate to Palworld or Pokémon comparison, therefore not useful.\n",
      "10. - Defines the monster-taming game genre which includes both Palworld and Pokémon, therefore useful.\n",
      "11. - Odyssey is a cancelled game by Blizzard Entertainment, unrelated to Palworld or Pokémon, therefore not useful.\n",
      "12. - Pokémon anime series is part of the broader Pokémon franchise and could provide additional context, therefore useful.\n",
      "13. - Pokémon media franchise overview is relevant for background information, therefore useful.\n",
      "14. - Pokémon Platinum is a specific game within the Pokémon series that could be compared to Palworld, therefore useful.\n",
      "15. - Pokémon FireRed and LeafGreen are remakes of the original games and could provide historical context for comparison, therefore useful.\n",
      "16. - Pokémon Red and Blue are the original games in the Pokémon series and are essential for comparison, therefore useful.\n",
      "17. - Brotato is unrelated to Palworld or Pokémon, therefore not useful.\n",
      "18. - Enshrouded is unrelated to Palworld or Pokémon, therefore not useful.\n",
      "19. - Ark: Survival Evolved is unrelated to Palworld or Pokémon, therefore not useful.\n",
      "\n",
      "```\n",
      "[1, 3, 6, 7, 10, 12, 13, 14, 15, 16]\n",
      "```\n",
      "[1, 3, 6, 7, 10, 12, 13, 14, 15, 16]\n"
     ]
    }
   ],
   "source": [
    "choose_topics = lambda user_query: client.answer_question(\n",
    "        question=f\"\"\"{user_query}\n",
    "        Referring to the list of wikipedia entries you have been provided, decide on which topics are useful for the presentation. For each entry, explain, in a few words,\\\n",
    "        whether you think an entry is useful or not and why.\n",
    "        After that, generate a code chunk. Within the code chunk is an array of integers in JSON, and these integers correspond to the topics you think are useful.\n",
    "        For each line, think about its usefulness/relevance and make some short deductions, then conclude whether it is useful or not useful.\n",
    "        Please keep strictly to the format in the following example:\n",
    "        0. - Sugar irrelevant to Jesus Christ, therefore not useful.\n",
    "        1. - Christianity is about the topic of Jesus Christ, thus Useful.\n",
    "        2. - Protestants follow Jesus Christ, therefore useful.\n",
    "        ```\n",
    "        [1, 2]\n",
    "        ```\n",
    "        \"\"\",\n",
    "        system_prompt=f\"\"\"You are an assistant whose task is to help a user in creating a presentation.\\\n",
    "        Here are a list of wikipedia entries, starting from the 0th entry, that may or may not be related to the topic at hand:\n",
    "        {snippet_text}\n",
    "        \"\"\",\n",
    "        llm='gpt-4-1106-preview' # only instance of gpt4 usage. need this for the big brain.\n",
    "    )\n",
    "\n",
    "topics = try_and_parse(user_query, choose_topics, markdown=True)\n",
    "print(topics)"
   ]
  },
  {
   "cell_type": "code",
   "execution_count": 12,
   "id": "b2e216c3-a3fa-4755-91ed-5b56256d67cb",
   "metadata": {},
   "outputs": [
    {
     "data": {
      "text/plain": [
       "['Monster Hunter Stories 2: Wings of Ruin',\n",
       " 'Gameplay of Pokémon',\n",
       " 'Get Played',\n",
       " 'Pokémon (video game series)',\n",
       " 'Monster Hunter World: Iceborne',\n",
       " 'Cassette Beasts',\n",
       " 'Palworld',\n",
       " 'Pokémon Ruby and Sapphire',\n",
       " 'Monster Hunter Stories',\n",
       " 'Monster Rancher',\n",
       " 'Monster-taming game',\n",
       " 'Odyssey (cancelled video game)',\n",
       " 'Pokémon (TV series)',\n",
       " 'Pokémon',\n",
       " 'Pokémon Platinum',\n",
       " 'Pokémon FireRed and LeafGreen',\n",
       " 'Pokémon Red, Blue, and Yellow',\n",
       " 'Brotato',\n",
       " 'Enshrouded',\n",
       " 'Ark: Survival Evolved']"
      ]
     },
     "execution_count": 12,
     "metadata": {},
     "output_type": "execute_result"
    }
   ],
   "source": [
    "articles"
   ]
  },
  {
   "cell_type": "code",
   "execution_count": 13,
   "id": "6f1e8a6a-26f2-4915-821e-9ca9e01d7899",
   "metadata": {},
   "outputs": [
    {
     "data": {
      "text/plain": [
       "['Gameplay of Pokémon',\n",
       " 'Pokémon (video game series)',\n",
       " 'Palworld',\n",
       " 'Pokémon Ruby and Sapphire',\n",
       " 'Monster-taming game',\n",
       " 'Pokémon (TV series)',\n",
       " 'Pokémon',\n",
       " 'Pokémon Platinum',\n",
       " 'Pokémon FireRed and LeafGreen',\n",
       " 'Pokémon Red, Blue, and Yellow']"
      ]
     },
     "execution_count": 13,
     "metadata": {},
     "output_type": "execute_result"
    }
   ],
   "source": [
    "chosen_articles = [articles[i] for i in topics]\n",
    "chosen_snippets = [snippet[i] for i in topics]\n",
    "chosen_articles"
   ]
  },
  {
   "cell_type": "code",
   "execution_count": 14,
   "id": "6b730249-875b-4ed0-93fc-16c2d4fd163f",
   "metadata": {},
   "outputs": [],
   "source": [
    "chosen_full_articles = list(map(lambda x: wiki.page(x, auto_suggest=False).content, chosen_articles))\n",
    "chosen_articles_images = list(map(lambda x: wiki.page(x, auto_suggest=False).images, chosen_articles))\n"
   ]
  },
  {
   "cell_type": "markdown",
   "id": "24746d75-6d25-4e13-8ed1-30bfaefe91a2",
   "metadata": {},
   "source": [
    "## Step 3b. Filter DDG Searches"
   ]
  },
  {
   "cell_type": "code",
   "execution_count": 15,
   "id": "769aac5a-5ebd-4cb3-8d7c-1487b5b80118",
   "metadata": {},
   "outputs": [
    {
     "name": "stdout",
     "output_type": "stream",
     "text": [
      "0. - This is a YouTube video link, which is not suitable for a presentation, thus not useful.\n",
      "1. - Direct comparison between Palworld and Pokemon, highlighting differences, therefore useful.\n",
      "2. - Gameplay walkthrough of Pokemon, not directly relevant to comparison, thus not useful.\n",
      "3. - Describes Palworld's features and community feedback, relevant for comparison, thus useful.\n",
      "4. - Discusses how Palworld improves upon Pokemon, relevant for comparison, thus useful.\n",
      "5. - IGN's interactive map of Palworld, not directly relevant to comparison, thus not useful.\n",
      "6. - General curator page for monster capture games on Steam, not specific to Palworld vs. Pokemon, thus not useful.\n",
      "7. - Wikipedia link, which is omitted.\n",
      "8. - Information about Pokemon Legends: Arceus, not directly relevant to comparison, thus not useful.\n",
      "9. - Lists best monster-taming games, not a direct comparison, thus not useful.\n",
      "10. - Wikipedia link, which is omitted.\n",
      "11. - YouTube video link, which is not suitable for a presentation, thus not useful.\n",
      "12. - YouTube video link, which is not suitable for a presentation, thus not useful.\n",
      "13. - Information about another game, Temtem, not relevant to Palworld vs. Pokemon, thus not useful.\n",
      "14. - Discusses various monster tamer games, not a direct comparison of Palworld vs. Pokemon, thus not useful.\n",
      "\n",
      "```\n",
      "[1, 3, 4]\n",
      "```\n"
     ]
    },
    {
     "data": {
      "text/plain": [
       "[1, 3, 4]"
      ]
     },
     "execution_count": 15,
     "metadata": {},
     "output_type": "execute_result"
    }
   ],
   "source": [
    "choose_ddg_topics = lambda user_query: client.answer_question(\n",
    "        question=f\"\"\"{user_query}\n",
    "        Referring to the list of websites you have been provided, decide on which topics are useful for the presentation. For each entry, explain, in a few words,\\\n",
    "        whether you think an entry is useful or not and why.\n",
    "        After that, generate a code chunk. Within the code chunk is an array of integers in JSON, and these integers correspond to the topics you think are useful\\\n",
    "        and are NOT from wikipedia.\n",
    "        For each line, think about its usefulness/relevance and make some short deductions, then conclude whether it is useful or not useful.\n",
    "        Please keep strictly to the format in the following example:\n",
    "        0. - Sugar irrelevant to Jesus Christ, therefore not useful.\n",
    "        1. - Christianity is about the topic of Jesus Christ, thus Useful.\n",
    "        2. - Protestants follow Jesus Christ, therefore useful.\n",
    "        3. - Website is a link to a youtube video, which is not suitable for a presentation, thus not useful.\n",
    "        4. - This is relevant, but it is a Wikipedia link, so it is omitted.\n",
    "        ```\n",
    "        [1, 2]\n",
    "        ```\n",
    "        \"\"\",\n",
    "        system_prompt=f\"\"\"You are an assistant whose task is to help a user in creating a presentation.\\\n",
    "        Here are a list of website body text, starting from the 0th entry, that may or may not be related to the topic at hand:\n",
    "        {ddg_snippet_text}\n",
    "        \"\"\",\n",
    "        llm='gpt-4-1106-preview' # only instance of gpt4 usage. need this for the big brain.\n",
    "    )\n",
    "ddg_topics = try_and_parse(user_query, choose_ddg_topics, markdown=True)\n",
    "\n",
    "ddg_topics"
   ]
  },
  {
   "cell_type": "code",
   "execution_count": 16,
   "id": "0e6d2261-b18a-49e2-9fac-e0b534287d81",
   "metadata": {},
   "outputs": [],
   "source": [
    "chosen_websites, chosen_links, chosen_body = ([websites[i] for i in ddg_topics], [links[i] for i in ddg_topics], [body[i] for i in ddg_topics])"
   ]
  },
  {
   "cell_type": "markdown",
   "id": "52c25911-fcbe-437b-8452-0c0339b72491",
   "metadata": {},
   "source": [
    "## Step 4: Store useful ideas in VectorDB (h2oai)"
   ]
  },
  {
   "cell_type": "code",
   "execution_count": 17,
   "id": "15055ab0-f43b-4f6a-849c-c6a98ad6eca1",
   "metadata": {},
   "outputs": [],
   "source": [
    "\n",
    "    \n",
    "# now its time to store them for RAG\n",
    "import os\n",
    "\n",
    "\n",
    "collection_id = client.create_collection(\n",
    "    name='Articles',\n",
    "    description='Articles for presentation',\n",
    ")\n",
    "\n",
    "pages = dict(zip(chosen_articles, chosen_full_articles))\n",
    "\n"
   ]
  },
  {
   "cell_type": "code",
   "execution_count": 18,
   "id": "57bdbe96-7895-41be-9566-d99c4d03f369",
   "metadata": {},
   "outputs": [
    {
     "name": "stderr",
     "output_type": "stream",
     "text": [
      "100%|██████████████████████████████████████████████████████████████████████████████████| 10/10 [00:36<00:00,  3.70s/it]\n"
     ]
    },
    {
     "data": {
      "text/plain": [
       "Job(id='e3f690da-89ba-4fb3-a3de-688f9e42927d', passed=1.0, failed=0.0, progress=1.0, completed=True, canceled=False, date=datetime.datetime(2024, 2, 28, 10, 45, 53, tzinfo=TzInfo(UTC)), kind=<JobKind.IngestUploadsJob: 'IngestUploadsJob'>, statuses=[JobStatus(id='6de0bd52efd94606898ea390a1b4b809', status='Indexing done.'), JobStatus(id='11b9f1688e07496ea1271685b4a62909', status='Indexing done.'), JobStatus(id='32c42eee04354d87893ea1f9bf711d9f', status='Indexing done.'), JobStatus(id='8e6b14e3d9c745168a28821c795ac686', status='Indexing done.')], errors=[], last_update_date=datetime.datetime(2024, 2, 28, 10, 46, 56, tzinfo=TzInfo(UTC)), duration='1m3s')"
      ]
     },
     "execution_count": 18,
     "metadata": {},
     "output_type": "execute_result"
    }
   ],
   "source": [
    "\n",
    "to_ingest = []\n",
    "for title, content in tqdm(pages.items()):\n",
    "    title = re.sub('[\\W_]+', '', title)\n",
    "    name = f\"./articles/{title}.txt\"\n",
    "    f = open(name, \"w+\", encoding=\"utf-8\")\n",
    "    f.write(content)\n",
    "    f.close() # dont know why i gotta do this, i think it has to be in binary\n",
    "    f = open(name, 'rb')\n",
    "    to_ingest.append(client.upload(name, f))\n",
    "    \n",
    "    f.close() \n",
    "\n",
    "client.ingest_uploads(collection_id, to_ingest)  "
   ]
  },
  {
   "cell_type": "code",
   "execution_count": 19,
   "id": "3cb2ff31-a3ba-4b9c-89b8-7f5158ab50c5",
   "metadata": {},
   "outputs": [
    {
     "name": "stderr",
     "output_type": "stream",
     "text": [
      "100%|████████████████████████████████████████████████████████████████████████████████████| 3/3 [00:18<00:00,  6.24s/it]\n"
     ]
    },
    {
     "data": {
      "text/plain": [
       "Job(id='9853e04d-aaef-40bf-b491-c1550b63266f', passed=0.5, failed=0.5, progress=1.0, completed=True, canceled=False, date=datetime.datetime(2024, 2, 28, 10, 47, 18, tzinfo=TzInfo(UTC)), kind=<JobKind.IngestUploadsJob: 'IngestUploadsJob'>, statuses=[JobStatus(id='6de0bd52efd94606898ea390a1b4b809', status='Collecting files...')], errors=['Job crashed: S3 operation failed; code: NoSuchKey, message: Object does not exist, resource: /h2ogpte-web-uploads/e6af1c36-166f-4488-ab30-321fcdf46f27/6ce74b3e-9e62-4b3c-acfe-9dd73e42e4f1, request_id: 17B80112D3D9F200, host_id: 7ffd83bfe8180714be6342bd9b41239d451f80a7b7607c82d0fef85f53850ee2, bucket_name: h2ogpte-web-uploads, object_name: e6af1c36-166f-4488-ab30-321fcdf46f27/6ce74b3e-9e62-4b3c-acfe-9dd73e42e4f1'], last_update_date=datetime.datetime(2024, 2, 28, 10, 47, 19, tzinfo=TzInfo(UTC)), duration='1s')"
      ]
     },
     "execution_count": 19,
     "metadata": {},
     "output_type": "execute_result"
    }
   ],
   "source": [
    "\n",
    "\n",
    "# http = urllib3.PoolManager()\n",
    "# to_ingest = [] # CLEAR LIST\n",
    "# for link in tqdm(chosen_links):\n",
    "#     page = http.request('GET', link)\n",
    "#     html_content = page.data.decode('utf-8')\n",
    "#     rendered_content = html2text.html2text(html_content)\n",
    "    \n",
    "#     sanitised_fname = re.sub(r'[\\W_]+', '_', link)\n",
    "#     path = f\"./articles/{sanitised_fname}.txt\"\n",
    "#     file = open(path, 'w', encoding='utf-8')\n",
    "#     file.write(rendered_content)\n",
    "#     file.close()\n",
    "\n",
    "#     f = open(path, 'rb')\n",
    "#     to_ingest.append(client.upload(path, f)) \n",
    "#     f.close()\n",
    "\n",
    "# client.ingest_uploads(collection_id, to_ingest)  \n",
    "\n",
    "\n",
    "import urllib3\n",
    "import html2text\n",
    "import re\n",
    "from tqdm import tqdm\n",
    "from bs4 import BeautifulSoup\n",
    "\n",
    "\n",
    "\n",
    "http = urllib3.PoolManager()\n",
    "h = html2text.HTML2Text()\n",
    "h.ignore_links = True  # Optionally ignore links in the output\n",
    "\n",
    "for link in tqdm(chosen_links):\n",
    "    try:\n",
    "        # Make a GET request to the URL\n",
    "        page = http.request('GET', link, headers=\\\n",
    "                            {\n",
    "                                \"User-Agent\": \n",
    "                                \"Mozilla/5.0 (iPhone; CPU iPhone OS 17_3_1 like Mac OS X) AppleWebKit/605.1.15 (KHTML, like Gecko) CriOS/122.0.6261.89 Mobile/15E148 Safari/604.1\"\n",
    "                            }\n",
    "                           )\n",
    "        \n",
    "        # Decode the bytes object to a string\n",
    "        html_content = page.data.decode('utf-8')\n",
    "        \n",
    "        # Parse the HTML content with BeautifulSoup\n",
    "        soup = BeautifulSoup(html_content, 'html.parser')\n",
    "        \n",
    "        # Extract the body content\n",
    "        body_content = soup.find('body')\n",
    "        \n",
    "        # Convert the body content to plain text\n",
    "        rendered_content = h.handle(str(body_content))\n",
    "        \n",
    "        # Sanitize the filename\n",
    "        sanitised_fname = re.sub(r'[\\W_]+', '_', link)\n",
    "        path = f\"./articles/{sanitised_fname}.txt\"\n",
    "        \n",
    "        # Write the rendered content to the file\n",
    "        with open(path, 'w', encoding='utf-8') as file:\n",
    "            file.write(rendered_content)\n",
    "\n",
    "        with open(path, 'rb') as f:\n",
    "            to_ingest.append(client.upload(path, f)) \n",
    "        \n",
    "\n",
    "        \n",
    "    except urllib3.exceptions.HTTPError as errh:\n",
    "        print(f\"HTTP Error: {errh}\")\n",
    "    except urllib3.exceptions.ConnectionError as errc:\n",
    "        print(f\"Error Connecting: {errc}\")\n",
    "    except urllib3.exceptions.TimeoutError as errt:\n",
    "        print(f\"Timeout Error: {errt}\")\n",
    "    except Exception as err:\n",
    "        print(f\"An error occurred: {err}\")\n",
    "\n",
    "client.ingest_uploads(collection_id, to_ingest)"
   ]
  },
  {
   "cell_type": "code",
   "execution_count": 20,
   "id": "3a09dd48-416f-455b-95ce-1decb3c219bf",
   "metadata": {},
   "outputs": [],
   "source": [
    "# delete\n",
    "files_dir = glob.glob('./articles/*.txt')\n",
    "for f in files_dir:\n",
    "    os.remove(f)"
   ]
  },
  {
   "cell_type": "markdown",
   "id": "f6d92505-2864-4532-a6d0-feb91d1d4fe4",
   "metadata": {},
   "source": [
    "## Step 5: Plan sections for slide\n",
    "This is to ensure the entire presentation is a coherent one with a flow/narrative, instead of many disjoint/overlapping generations.\n",
    "Again, chain of thought prompting is very heavily incorporated"
   ]
  },
  {
   "cell_type": "code",
   "execution_count": 21,
   "id": "9d1a7ba5-2cdf-4f4e-b811-2d17abf3f119",
   "metadata": {},
   "outputs": [
    {
     "name": "stdout",
     "output_type": "stream",
     "text": [
      "1. For this presentation, I would start with an introductory slide that provides an overview of the topic, comparing and contrasting Palworld and Pokemon. This could include a brief history of both franchises and their similarities and differences.\n",
      "\n",
      "Following the introduction, I would dedicate a slide to each franchise, discussing the gameplay, video game series, and TV series for each. I would also include a slide for the newer game, Palworld, with information about its release and features.\n",
      "\n",
      "Next, I would compare and contrast the two franchises in terms of their monster-taming mechanics and other gameplay elements. I would also include a slide discussing the websites provided, comparing and contrasting the two games based on reviews and user feedback.\n",
      "\n",
      "Finally, I would end with a conclusion slide summarizing the key points of the presentation and providing my own thoughts on which game is better.\n",
      "\n",
      "2. A good title for this presentation could be \"Palworld vs. Pokemon: A Comparative Analysis\".\n",
      "\n",
      "3. Here is the JSON array of slide titles:\n",
      "```json\n",
      "[\n",
      "    \"Palworld vs. Pokemon: A Comparative Analysis\",\n",
      "    \"Introduction\",\n",
      "    \"Gameplay of Pokémon\",\n",
      "    \"Pokémon (video game series)\",\n",
      "    \"Pokémon (TV series)\",\n",
      "    \"Palworld\",\n",
      "    \"Palworld on Steam\",\n",
      "    \"Monster-taming mechanics in Palworld and Pokemon\",\n",
      "    \"Websites: Palworld vs Pokemon\",\n",
      "    \"Conclusion\"\n",
      "]\n",
      "```\n"
     ]
    }
   ],
   "source": [
    "decide_sections = lambda user_query: client.answer_question(\n",
    "        question=f\"\"\"{user_query}\n",
    "        Please plan the presentation by doing the following:\n",
    "        1. Explain how you would design the presentation slides such that the presentation will flow well.\\\n",
    "        Remember that each slide must contain something different, and content should not overlap.\n",
    "        2. Think of a good title for the presentation.\n",
    "        3. Create a code chunk. Inside that code chunk, generate a JSON array consisting of appropriate slide titles starting from the first slide to the last slide, \\\n",
    "        remembering your answer to point 2. Include the title slide, which is the title for the presentation.\n",
    "\n",
    "        Below is an example reply. Please adhere strictly to the format in the example below and remember to output the JSON array in a code chunk:  \n",
    "        1. I would introduce the Transformers franchise and provide general information about its history to ease my viewers into the subject. \\\n",
    "        Then, I will think about subtopics, such as the Transformers films, Transformers characters and Transformers in comics, using the wikipedia entry summaries\\\n",
    "        I have been provided. \n",
    "            * For my first subtopic, the Transformers films, I would create two additional slides to expand on Bumblebee (2018) and Revenge of the Fallen (2009)\\\n",
    "            as these are popular films within the franchise. I will order the films chronologically.\n",
    "            * For my second subtopic on Transformers characters, I will have a slide on the cast of the film. \n",
    "            * For my next subtopic...\n",
    "        2. I think a good title for this presentation is \"Transformers: An Overview\".\n",
    "        3. Here is the json array of slide titles:\n",
    "        ```json\n",
    "        [\n",
    "        \"Transformers: An Overview\", \n",
    "        \"Introduction to Transformers\", \n",
    "        \"Transformers in Film\",\n",
    "        \"Transformers: Revenge of the Fallen (2009)\", \n",
    "        \"Bumblebee (2018)\", \n",
    "        \"Characters in the Transformers Universe\", \n",
    "        \"Transformers in comics\",\n",
    "        \"Conclusion\"\n",
    "        ]\n",
    "        ```\n",
    "        \"\"\",\n",
    "        system_prompt=f\"\"\"You are an assistant whose task is to help a user in creating a presentation.\\\n",
    "        Below is a list of wikipedia articles that are selected for the presentation.\\\n",
    "        You will be asked to come up with slide titles for the presentation. Each line is a 1-sentence summary of a wikipedia page.\\\n",
    "        The number of slides should depend on the amount of information/wikipedia entry articles and websites available.\n",
    "        Articles:\n",
    "        {chosen_articles}\n",
    "        Chosen websites:\n",
    "        {format_site_description(list(zip(chosen_websites, chosen_links)))}\n",
    "        \"\"\",\n",
    "        llm='mistralai/Mixtral-8x7B-Instruct-v0.1' \n",
    "    )\n",
    "\n",
    "all_sections = try_and_parse(user_query, decide_sections, markdown=True)"
   ]
  },
  {
   "cell_type": "code",
   "execution_count": 22,
   "id": "74ac776f-de82-461d-9313-e671d1ae2dbd",
   "metadata": {},
   "outputs": [
    {
     "data": {
      "text/plain": [
       "['Introduction',\n",
       " 'Gameplay of Pokémon',\n",
       " 'Pokémon (video game series)',\n",
       " 'Pokémon (TV series)',\n",
       " 'Palworld',\n",
       " 'Palworld on Steam',\n",
       " 'Monster-taming mechanics in Palworld and Pokemon',\n",
       " 'Websites: Palworld vs Pokemon',\n",
       " 'Conclusion']"
      ]
     },
     "execution_count": 22,
     "metadata": {},
     "output_type": "execute_result"
    }
   ],
   "source": [
    "sections = all_sections[1:]\n",
    "\n",
    "sections"
   ]
  },
  {
   "cell_type": "code",
   "execution_count": 23,
   "id": "a5e83322-475c-4678-8f4c-f822ab5e5386",
   "metadata": {},
   "outputs": [
    {
     "data": {
      "text/plain": [
       "'f3d58794-fefe-42fc-8cba-456af07c4689'"
      ]
     },
     "execution_count": 23,
     "metadata": {},
     "output_type": "execute_result"
    }
   ],
   "source": [
    "del client\n",
    "client = H2OGPTE(\n",
    "    address=\"https://h2ogpte.genai.h2o.ai\",\n",
    "    api_key=api\n",
    ") # does this reset client?\n",
    "\n",
    "chat_session_id = client.create_chat_session(collection_id)\n",
    "chat_session_id"
   ]
  },
  {
   "cell_type": "markdown",
   "id": "c77e579f-ced4-4c01-93b8-4237e0872788",
   "metadata": {},
   "source": [
    "#### Ref for slide types:  \n",
    "0. title and subtitle \n",
    "1. title and content \n",
    "2. section header \n",
    "3. two content \n",
    "4. Comparison \n",
    "5. Title only  \n",
    "6. Blank \n",
    "7. Content with caption \n",
    "8. Pic with caption \n"
   ]
  },
  {
   "cell_type": "markdown",
   "id": "17338590-9279-49a6-8674-17f2b8c57cdd",
   "metadata": {},
   "source": [
    "## Step 6: Generate using RAG\n",
    "LLM chooses colour with chain-of-thought prompting again."
   ]
  },
  {
   "cell_type": "code",
   "execution_count": 24,
   "id": "11c297ad-f4ef-4aac-a719-e8f2c8237a8f",
   "metadata": {},
   "outputs": [
    {
     "name": "stdout",
     "output_type": "stream",
     "text": [
      "I chose a light grey background color RGB [230, 230, 230] and a dark blue text color RGB [0, 0, 60] for the slides. The light grey background provides a clean and neutral canvas for the content, while the dark blue text color ensures high contrast and readability. Additionally, the color blue is often associated with trust, loyalty, and wisdom, which aligns well with the themes of both Palworld and Pokémon.\n",
      "\n",
      "```\n",
      "[{\"background\": [230, 230, 230]}, {\"text\": [0, 0, 60]}]\n",
      "```\n"
     ]
    }
   ],
   "source": [
    "prs = Presentation()\n",
    "prs.slide_width = Inches(16)\n",
    "prs.slide_height = Inches(9)\n",
    "title_slide = prs.slides.add_slide(prs.slide_layouts[0]) \n",
    "decide_slide_format = lambda user_query: client.answer_question(\n",
    "        question=f\"\"\"{user_query} Think of a good background colour, in RGB format,\\\n",
    "        for the slides and a good colour, also in RGB format, for the\\\n",
    "        text. Typically, if the text colour is bright (for example RGB [255, 255, 255] is white), then the background colour should be dark\n",
    "        (RGB [0, 0, 100] is dark blue). Conversely, if the text colour is dark (for example RGB [0, 0, 0] is black), the background colour should be bright\\\n",
    "        . You are free to choose any text and background colour, \\\n",
    "        as long as you follow these rules. Please do not assign grey-scale colours for the text and background (like RGB [50, 50, 50]), as much as possible.\n",
    "\n",
    "        Explain clearly why you chose the background and text colours. Then, generate a code chunk. Within the code chunk,\\\n",
    "        provide a JSON array containing two colours. Do not say anything else. Adhere strictly to the example reply below:\n",
    "        I chose blue RGB [0, 35, 140] for the background color and light yellow RGB [255, 234, 0] for the font color. The contrast makes it easy to read.\\\n",
    "        Furthermore, the colours blue and yellow are associated with the Pokémon Franchise.\n",
    "        ```\n",
    "        [{{\"background\": [0, 0, 140]}}, {{\"text\": [255, 234, 0]}}]\n",
    "        ```\n",
    "        \"\"\",\n",
    "    \n",
    "        system_prompt=f\"\"\"You are an assistant whose task is to help a user in creating a presentation.\\\n",
    "        Here are a list of wikipedia entry summaries that are selected for the presentation:\n",
    "        {chosen_snippets}\n",
    "        \"\"\",\n",
    "        llm='mistralai/Mixtral-8x7B-Instruct-v0.1' \n",
    ")\n",
    "\n",
    "format = try_and_parse(user_query, decide_slide_format, markdown=True)"
   ]
  },
  {
   "cell_type": "code",
   "execution_count": 25,
   "id": "8a40b715-2ef3-47f0-bcab-db6733e54873",
   "metadata": {
    "scrolled": true
   },
   "outputs": [
    {
     "data": {
      "text/plain": [
       "[{'background': [230, 230, 230]}, {'text': [0, 0, 60]}]"
      ]
     },
     "execution_count": 25,
     "metadata": {},
     "output_type": "execute_result"
    }
   ],
   "source": [
    "format"
   ]
  },
  {
   "cell_type": "code",
   "execution_count": 26,
   "id": "75e78e2a-08ef-4fed-8833-a6ad0296110c",
   "metadata": {},
   "outputs": [],
   "source": [
    "background = RGBColor(*tuple(list(format[0].values())[0])) \n",
    "font = RGBColor(*tuple(list(format[1].values())[0])) \n",
    "fill = title_slide.background.fill\n",
    "fill.solid()\n",
    "fill.fore_color.rgb = background\n",
    "\n",
    "\n",
    "title_slide.shapes.title.text = all_sections[0]\n",
    "title_slide.shapes.title.text_frame.paragraphs[0].font.color.rgb =  font\n",
    "title_slide.shapes.title.text_frame.paragraphs[0].font.name = 'Montserrat'\n",
    "title_slide.shapes.title.text_frame.paragraphs[0].font.bold = True\n",
    "\n",
    "first_shape =  title_slide.shapes[0]\n",
    "first_shape.left, first_shape.top, first_shape.width, first_shape.height = (prs.slide_width - Inches(12))//2, \\\n",
    "(prs.slide_height-first_shape.height)//2 - Inches(1),\\\n",
    "Inches(12),\\\n",
    "Inches(2)"
   ]
  },
  {
   "cell_type": "code",
   "execution_count": 27,
   "id": "14ebca46-abd0-45a9-9f13-82c9242dc2e5",
   "metadata": {},
   "outputs": [
    {
     "name": "stderr",
     "output_type": "stream",
     "text": [
      "100%|███████████████████████████████████████████████████████████████████████████████████| 9/9 [24:13<00:00, 161.55s/it]\n"
     ]
    }
   ],
   "source": [
    "\n",
    "with client.connect(chat_session_id) as session:\n",
    "\n",
    "    for section in tqdm(sections):\n",
    "        slide = prs.slides.add_slide(prs.slide_layouts[1])\n",
    "        fill = slide.background.fill\n",
    "        fill.solid()\n",
    "        fill.fore_color.rgb = background\n",
    "\n",
    "        \n",
    "        contents = slide.placeholders[1]\n",
    "        contents.text_frame.word_wrap = True\n",
    "\n",
    "        title = slide.shapes.title\n",
    "        title.text = section\n",
    "        title.text_frame.paragraphs[0].font.color.rgb = font\n",
    "        title.text_frame.paragraphs[0].font.size = Pt(32)\n",
    "        title.text_frame.paragraphs[0].font.name = 'Karla'\n",
    "       \n",
    "       \n",
    "        content = session.query(\n",
    "            \n",
    "            message = section,\n",
    "            system_prompt=f\"\"\"You are an assistant whose task is to help a user in creating a presentation. \\\n",
    "            The slides of the presentation are as follows: {sections}\n",
    "            You are now tasked with generating the content of one slide, which will be provided by the user.\n",
    "            You are designing one slide, so do not generate long paragraphs. Instead, summarise your most important points\\\n",
    "            in up to 3 sentences each, and do not generate more than 15 lines of text.\n",
    "            \"\"\",\n",
    "            pre_prompt_query=\"You have been provided with the following information, which may be useful in your task.\",\n",
    "            prompt_query=\"\"\"Decide if the information is relevant, and use it if needed.\\\n",
    "            Generate the content required in the slide provided by the user. You only need to generate the contents of the slide, not the title\\\n",
    "            or anything else. Remember, you are designing one slide, so do not generate long paragraphs. Instead, summarise your most important points\\\n",
    "            in up to 3 sentences each, and do not generate more than 15 lines of text. Between each point, leave a line.\n",
    "\n",
    "            Here is an example. Please adhere to this example strictly:\n",
    "            This is the first point I am trying to make. I will explain this first point in the second sentence.\n",
    "            \n",
    "            This is the second point I am trying to make. This is the second sentence for the second point. \\\n",
    "            I need a third sentence to fully explain this point. Notice that I will leave a line for the next point.\n",
    "\n",
    "            This is the third point.\n",
    "            \"\"\",\n",
    "            llm=\"mistralai/Mixtral-8x7B-Instruct-v0.1\",\n",
    "            rag_config={\n",
    "                \"rag_type\": \"hyde1\",\n",
    "            },\n",
    "        ).content\n",
    "\n",
    "        contents.text = content\n",
    "        \n",
    "        for paragraph in contents.text_frame.paragraphs:\n",
    "            paragraph.space_after = 1\n",
    "            paragraph.space_before = 1\n",
    "            # paragraph.level = 0\n",
    "           \n",
    "            paragraph.font.size = Pt(22)  \n",
    "            paragraph.font.color.rgb = font\n",
    "            paragraph.font.name = 'Karla'\n",
    "\n",
    "        contents.text_frame.auto_size = MSO_AUTO_SIZE.SHAPE_TO_FIT_TEXT\n",
    "        shapes = slide.shapes\n",
    "        new_width = Inches(14)\n",
    "        new_height = Inches(7)\n",
    "        shapes[0].height, shapes[0].width, shapes[0].top, shapes[0].left = shapes[0].height, new_width, shapes[0].top, (prs.slide_width-new_width)//2\n",
    "        shapes[1].height, shapes[1].width, shapes[1].top, shapes[1].left = new_height, new_width, shapes[1].top, (prs.slide_width-new_width)//2\n",
    "        \n",
    "        \n",
    "\n",
    "# gpt-4-1106-preview\n"
   ]
  },
  {
   "cell_type": "code",
   "execution_count": 28,
   "id": "80eca615-5789-4b61-bde2-3c69cc95f16a",
   "metadata": {},
   "outputs": [],
   "source": [
    "clear_all_collections(client)\n",
    "clear_all_documents(client)"
   ]
  },
  {
   "cell_type": "markdown",
   "id": "e5355475-527a-47b4-81ec-aff43b9f8142",
   "metadata": {},
   "source": [
    "## Step 7: Enjoy"
   ]
  },
  {
   "cell_type": "code",
   "execution_count": 29,
   "id": "e3de66b9-768e-48c5-9e7d-2b7c5411d9c1",
   "metadata": {},
   "outputs": [],
   "source": [
    "sanitised = re.sub(r'[\\W_]+', '_', all_sections[0])\n",
    "prs.save(f\"./presentations/{sanitised}.pptx\")\n"
   ]
  },
  {
   "cell_type": "markdown",
   "id": "1f9df9ce-fdad-4bb9-9707-0051dc9ab84c",
   "metadata": {},
   "source": [
    "## Appendix: Extra Code that may be useful in the future\n",
    "```python\n",
    "# Create a chat session\n",
    "# chat_session_id = client.create_chat_session(collection_id)\n",
    "\n",
    "# # Query the collection\n",
    "# with client.connect(chat_session_id) as session:\n",
    "#     reply = session.query(\n",
    "#         'How many paper clips were shipped to Scranton?',\n",
    "#         llm=\"gpt-4-0613\"\n",
    "#     )\n",
    "#     print(reply.content)\n",
    "\n",
    "#     reply = session.query(\n",
    "#         'Did David Brent co-sign the contract with Initech?',\n",
    "#         timeout=60,\n",
    "#         llm=\"gpt-4-0613\"\n",
    "#     )\n",
    "#     print(reply.content)\n",
    "\n",
    "# # Summarize each document\n",
    "# documents = client.list_documents_in_collection(collection_id, offset=0, limit=99)\n",
    "# for doc in documents:\n",
    "#     summary = client.summarize_document(\n",
    "#         document_id=doc.id,\n",
    "#         timeout=60,\n",
    "#     )\n",
    "#     print(summary.content)\n",
    "\n",
    "\n",
    "#client.delete_documents_from_collection\n",
    "```"
   ]
  }
 ],
 "metadata": {
  "kernelspec": {
   "display_name": "Python 3 (ipykernel)",
   "language": "python",
   "name": "python3"
  },
  "language_info": {
   "codemirror_mode": {
    "name": "ipython",
    "version": 3
   },
   "file_extension": ".py",
   "mimetype": "text/x-python",
   "name": "python",
   "nbconvert_exporter": "python",
   "pygments_lexer": "ipython3",
   "version": "3.11.7"
  }
 },
 "nbformat": 4,
 "nbformat_minor": 5
}
