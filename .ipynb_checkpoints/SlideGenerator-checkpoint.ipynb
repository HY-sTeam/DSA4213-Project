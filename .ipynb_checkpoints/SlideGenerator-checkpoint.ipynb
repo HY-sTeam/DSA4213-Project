{
 "cells": [
  {
   "cell_type": "code",
   "execution_count": 1,
   "id": "4d4b2e41-d0b4-4d37-bc7d-85c2a6dbeb97",
   "metadata": {},
   "outputs": [],
   "source": [
    "import json\n",
    "\n",
    "from pptx import Presentation\n",
    "from pptx.dml.color import RGBColor\n",
    "from pptx.util import Cm, Pt, Inches\n",
    "from pptx.enum.text import MSO_ANCHOR\n",
    "from h2ogpte import H2OGPTE\n",
    "from mediawikiapi import MediaWikiAPI\n",
    "from tqdm import tqdm\n",
    "with open('secrets.txt') as f:\n",
    "    api = f.read()\n",
    "    f.close()\n",
    "\n"
   ]
  },
  {
   "cell_type": "code",
   "execution_count": 2,
   "id": "5d2c9a1b-6481-447e-9513-732dc1e44eb4",
   "metadata": {},
   "outputs": [],
   "source": [
    "client = H2OGPTE(\n",
    "    address=\"https://h2ogpte.genai.h2o.ai\",\n",
    "    api_key=api\n",
    ")\n",
    "\n",
    "user_query = 'Create a presentation on the transformers movie franchise'"
   ]
  },
  {
   "cell_type": "code",
   "execution_count": 3,
   "id": "0070654e-5a34-45a9-a233-d924424311c9",
   "metadata": {},
   "outputs": [
    {
     "data": {
      "text/plain": [
       "Answer(content='Transformers (franchise)', error='', prompt_raw='<<SYS>>\\nYou are an assistant whose task is to perform Wikipedia searches on a specific topic.    The user is interested to create a presentation about a topic of interest. Reply with a corresponding Wikipedia search query.    Only reply with the query and nothing else. Here is an example.\\n    User: Create a presentation on the book, Baby Rudin.\\n    Assistant: Real analysis\\n    \\n<</SYS>>\\n\\n<s> [INST] Create a presentation on the transformers movie franchise [/INST]', llm='mistralai/Mixtral-8x7B-Instruct-v0.1', input_tokens=117, output_tokens=7, origin='answer_question_using_context')"
      ]
     },
     "execution_count": 3,
     "metadata": {},
     "output_type": "execute_result"
    }
   ],
   "source": [
    "search = client.answer_question(\n",
    "    question=user_query,\n",
    "    system_prompt=\"\"\"You are an assistant whose task is to perform Wikipedia searches on a specific topic.\\\n",
    "    The user is interested to create a presentation about a topic of interest. Reply with a corresponding Wikipedia search query.\\\n",
    "    Only reply with the query and nothing else. Here is an example.\n",
    "    User: Create a presentation on the book, Baby Rudin.\n",
    "    Assistant: Real analysis\n",
    "    \"\"\",\n",
    "    llm='mistralai/Mixtral-8x7B-Instruct-v0.1' # i like this model\n",
    ")\n",
    "search"
   ]
  },
  {
   "cell_type": "code",
   "execution_count": 4,
   "id": "9774e298-43a4-410d-8ca5-cab51af71220",
   "metadata": {},
   "outputs": [],
   "source": [
    "wiki = MediaWikiAPI()\n",
    "articles = wiki.search(search.content, results=15)"
   ]
  },
  {
   "cell_type": "code",
   "execution_count": 5,
   "id": "c08c859d-d0aa-4c52-9f4a-6cb4a4e2dcb3",
   "metadata": {},
   "outputs": [
    {
     "data": {
      "text/plain": [
       "['Transformers',\n",
       " 'Transformers (film series)',\n",
       " 'Transformers: Rise of the Beasts',\n",
       " 'Transformers: The Last Knight',\n",
       " 'Transformers One (film)',\n",
       " 'Transformers: War for Cybertron Trilogy',\n",
       " 'Beast Wars: Transformers',\n",
       " 'The Transformers (TV series)',\n",
       " 'Transformers: Age of Extinction',\n",
       " 'Transformers: The Headmasters',\n",
       " 'Transformers: Beast Wars',\n",
       " 'Optimus Prime',\n",
       " 'List of Transformers animated series',\n",
       " 'The Transformers: The Movie',\n",
       " 'Autobot']"
      ]
     },
     "execution_count": 5,
     "metadata": {},
     "output_type": "execute_result"
    }
   ],
   "source": [
    "articles"
   ]
  },
  {
   "cell_type": "code",
   "execution_count": 6,
   "id": "bc504cd6-6449-47e4-87cf-45d4385c39e8",
   "metadata": {},
   "outputs": [
    {
     "name": "stdout",
     "output_type": "stream",
     "text": [
      "0. Transformers is a media franchise produced by American toy company Hasbro and Japanese toy company Takara Tomy. It primarily follows the heroic Autobots and the villainous Decepticons, two alien robot factions at war that can transform into other forms, such as vehicles and animals.\n",
      "\n",
      "1. Transformers is a series of science fiction action films based on the Transformers franchise of the 1980s. Michael Bay directed the first five live action films: Transformers (2007), Revenge of the Fallen (2009), Dark of the Moon (2011), Age of Extinction (2014), and The Last Knight (2017), and has served as a producer for subsequent films.\n",
      "\n",
      "2. Transformers: Rise of the Beasts is a 2023 American science fiction action film based on Hasbro's Transformers toy line, and primarily influenced by its Beast Wars sub-franchise. It is the seventh installment in the Transformers film series and serves as  both a standalone sequel to Bumblebee (2018) and a prequel to Transformers (2007).\n",
      "\n",
      "3. Transformers: The Last Knight is a 2017 science fiction action film based on Hasbro's Transformers toy line. It is the sequel to Transformers: Age of Extinction (2014) and the fifth installment in the Transformers film series.\n",
      "\n",
      "4. Transformers One is an upcoming American animated science fiction action film based on the Transformers toyline by Hasbro. Serving as the eighth installment in the Transformers film series, the film is directed by Josh Cooley and written by Andrew Barrer, Gabriel Ferrari, and Steve Desmond.\n",
      "\n",
      "5. Transformers: War for Cybertron Trilogy is a toyline and transmedia series that is part of the Transformers franchise by Hasbro announced in February 2018.\n",
      "\n",
      "\n",
      "== Toy-line ==\n",
      "The toy-line is split into three subline imprints titled \"Siege\", \"Earthrise\", and \"Kingdom\" respectively.\n",
      "\n",
      "6. Beast Wars: Transformers (titled Beasties: Transformers in Canada) is a computer-animated television series that debuted on September 16, 1996 and ended on May 7, 1999, serving as the flagship of the Transformers: Beast Wars franchise. It was one of the earliest fully CGI television shows.\n",
      "\n",
      "7. The Transformers is an American-Japanese animated television series that originally aired from September 17, 1984, to November 11, 1987, in syndication \n",
      "based upon Hasbro and Takara Tomy's Transformers toy line. The first television series in the Transformers franchise, it depicts a war among giant robots that can transform into vehicles and other objects.The series was produced by Marvel Productions and Sunbow Productions in association with Japanese studio Toei Animation for first-run syndication.\n",
      "\n",
      "8. Transformers: Age of Extinction is a 2014 American science fiction action film based on Hasbro's Transformers toy line. It is the sequel to Transformers: Dark of the Moon (2011) and the fourth installment in the Transformers film series.\n",
      "\n",
      "9. Transformers: The Headmasters (トランスフォーマー ザ★ヘッドマスターズ, Toransufōmā: Za Heddomasutāzu) is a Japanese anime television series that is a part of the Transformers robot superhero franchise. It aired from July 3, 1987 to March 25, 1988, and its 17:00–17:30 timeslot was used to broadcast Mashin Hero Wataru at the end of its broadcast.\n",
      "\n",
      "10. Transformers: Beast Wars is an entertainment franchise from Hasbro, and is part of the larger Transformers franchise. The franchise directly follows the Transformers: Generation 1 continuity established by the 1984 series and animated film.\n",
      "\n",
      "11. Optimus Prime, also known in Japan as Convoy, is a fictional character and the protagonist of the Transformers franchise. The Transformers characters were developed for an American market after Hasbro representatives visited the 1983 Tokyo Toy Show.\n",
      "\n",
      "12. Launched in 1984, the Transformers toyline by Takara and Hasbro was promoted through both a comic book by Marvel Comics and an animated series produced by Sunbow Productions and Marvel Productions with Toei Animation. Although the comic outlived the animated series by a number of years, the animated series is more widely recognised.\n",
      "\n",
      "13. The Transformers: The Movie is a 1986 animated science fiction action film based on the Transformers television series. It is the first installment in the Transformers (Animated film series) and was released in North America on August 8, 1986, and in the United Kingdom on December 12, 1986.\n",
      "\n",
      "14. The Autobots are usually featured as the main protagonists in the Transformers multimedia franchise, and are depicted in a collection of various toys, cartoons, films, graphic novels, and paperback books first introduced in 1984. The Autobots are living robots from the planet Cybertron who, like most Transformers, are each imbued with a unique \"life force\" known as a \"spark.\" Led by Optimus Prime in most stories, the Autobots believe \"freedom is the right of all sentient life\" and are often engaged in a civil war with the Decepticons, a faction of transformers dedicated to military conquest and usually headed by Megatron.\n"
     ]
    }
   ],
   "source": [
    "snippet = list(map(lambda x: wiki.summary(x, auto_suggest=False, sentences=2), articles))\n",
    "snippet_ = snippet.copy()\n",
    "i = 0\n",
    "for string in snippet:\n",
    "    string = f\"{i}. {string}\"\n",
    "    snippet[i] = string\n",
    "    i+=1\n",
    "snippet_text = \"\\n\\n\".join(snippet)\n",
    "print(snippet_text)"
   ]
  },
  {
   "cell_type": "code",
   "execution_count": 7,
   "id": "c753be01-40dc-4a03-8d7a-5af7397ccdb3",
   "metadata": {},
   "outputs": [],
   "source": [
    "def try_and_parse(user_query, function, failed=0,):\n",
    "    chosen = function(user_query)\n",
    "    try:\n",
    "        topics = json.loads(chosen.content)\n",
    "        return topics\n",
    "    except:\n",
    "        failed+=1\n",
    "        print(failed) # CHANGE TO LOGGING STATEMENT\n",
    "        try_and_parse(user_query, function, failed=failed)\n"
   ]
  },
  {
   "cell_type": "code",
   "execution_count": 8,
   "id": "2a940365-1bd4-4a4b-b6af-0aa869ab6d88",
   "metadata": {},
   "outputs": [
    {
     "name": "stdout",
     "output_type": "stream",
     "text": [
      "[0, 1, 2, 3, 4, 5, 8, 13]\n"
     ]
    }
   ],
   "source": [
    "choose_topics = lambda user_query: client.answer_question(\n",
    "        question=user_query,\n",
    "        system_prompt=f\"\"\"You are an assistant whose task is to help a user in creating a presentation.\\\n",
    "        Here are a list of wikipedia entries labelled 0 to 14 that may or may not be related to the topic at hand:\n",
    "        {snippet_text}\n",
    "        \n",
    "        Decide on which topics are useful for the presentation\\\n",
    "        and return these topics as an array of integers in JSON. For example, if only choices 0, 2, 4, and 9 are useful, your reply should be: [0, 2, 4, 9].\n",
    "        If all the choices are useful, then your reply should be: [0, 1, 2, 3, 4, 5, 6, 7, 8, 9, 10, 11, 12, 13, 14].\n",
    "        Do not say anything else. \n",
    "        \"\"\",\n",
    "        llm='mistralai/Mixtral-8x7B-Instruct-v0.1' \n",
    "    )\n",
    "\n",
    "topics = try_and_parse(user_query, choose_topics)\n",
    "print(topics)"
   ]
  },
  {
   "cell_type": "code",
   "execution_count": 9,
   "id": "6f1e8a6a-26f2-4915-821e-9ca9e01d7899",
   "metadata": {},
   "outputs": [
    {
     "data": {
      "text/plain": [
       "['Transformers',\n",
       " 'Transformers (film series)',\n",
       " 'Transformers: Rise of the Beasts',\n",
       " 'Transformers: The Last Knight',\n",
       " 'Transformers One (film)',\n",
       " 'Transformers: War for Cybertron Trilogy',\n",
       " 'Transformers: Age of Extinction',\n",
       " 'The Transformers: The Movie']"
      ]
     },
     "execution_count": 9,
     "metadata": {},
     "output_type": "execute_result"
    }
   ],
   "source": [
    "chosen_articles = [articles[i] for i in topics]\n",
    "chosen_snippets = [snippet_[i] for i in topics]\n",
    "chosen_articles"
   ]
  },
  {
   "cell_type": "code",
   "execution_count": null,
   "id": "6b730249-875b-4ed0-93fc-16c2d4fd163f",
   "metadata": {},
   "outputs": [],
   "source": [
    "chosen_full_articles = list(map(lambda x: wiki.page(x, auto_suggest=False).content, chosen_articles))\n",
    "chosen_articles_images = list(map(lambda x: wiki.page(x, auto_suggest=False).images, chosen_articles))\n",
    "# # Create documents\n",
    "# # Note: Done for demonstration purposes only (not usually needed)\n",
    "# with open('dunder_mifflin.txt', 'w') as f:\n",
    "#     f.write('There were 55 paper clips shipped, 22 to Scranton and 33 to Filmer.')\n",
    "    \n",
    "# with open('initech.txt', 'w') as f:\n",
    "#     f.write('David Brent did not sign any contract with Initech.')\n",
    "    \n",
    "# # Upload documents\n",
    "# # Many file types are supported: text/image/audio documents and archives\n",
    "# with open('dunder_mifflin.txt', 'rb') as f:\n",
    "#     dunder_mifflin = client.upload('Dunder Mifflin.txt', f)\n",
    "    \n",
    "# with open('initech.txt', 'rb') as f:\n",
    "#     initech = client.upload('IniTech.txt', f)\n",
    "\n",
    "# # Ingest documents (Creates previews, chunks and embeddings)\n",
    "# client.ingest_uploads(collection_id, [dunder_mifflin, initech])\n"
   ]
  },
  {
   "cell_type": "code",
   "execution_count": null,
   "id": "15055ab0-f43b-4f6a-849c-c6a98ad6eca1",
   "metadata": {},
   "outputs": [],
   "source": [
    "\n",
    "    \n",
    "# now its time to store them for RAG\n",
    "import os\n",
    "\n",
    "\n",
    "collection_id = client.create_collection(\n",
    "    name='Articles',\n",
    "    description='wikipedia articles for presentation',\n",
    ")\n",
    "\n",
    "pages = dict(zip(chosen_articles, chosen_full_articles))\n",
    "\n"
   ]
  },
  {
   "cell_type": "code",
   "execution_count": null,
   "id": "57bdbe96-7895-41be-9566-d99c4d03f369",
   "metadata": {},
   "outputs": [],
   "source": [
    "import re\n",
    "to_ingest = []\n",
    "for title, content in pages.items():\n",
    "    title = re.sub('[\\W_]+', '', title)\n",
    "    name = f\"./articles/{title}.txt\"\n",
    "    f = open(name, \"w+\", encoding=\"utf-8\")\n",
    "    f.write(content)\n",
    "    f.close() # dont know why i gotta do this, i think it has to be in binary\n",
    "    f = open(name, 'rb')\n",
    "    to_ingest.append(client.upload(name, f))\n",
    "    print(f\"{name} fed!\")\n",
    "    f.close() \n",
    "\n",
    "client.ingest_uploads(collection_id, to_ingest)  "
   ]
  },
  {
   "cell_type": "code",
   "execution_count": null,
   "id": "8fbc21a2-68de-49eb-8ff2-93923e71072c",
   "metadata": {},
   "outputs": [],
   "source": [
    "\n",
    "# Create a chat session\n",
    "# chat_session_id = client.create_chat_session(collection_id)\n",
    "\n",
    "# # Query the collection\n",
    "# with client.connect(chat_session_id) as session:\n",
    "#     reply = session.query(\n",
    "#         'How many paper clips were shipped to Scranton?',\n",
    "#         llm=\"gpt-4-0613\"\n",
    "#     )\n",
    "#     print(reply.content)\n",
    "\n",
    "#     reply = session.query(\n",
    "#         'Did David Brent co-sign the contract with Initech?',\n",
    "#         timeout=60,\n",
    "#         llm=\"gpt-4-0613\"\n",
    "#     )\n",
    "#     print(reply.content)\n",
    "\n",
    "# # Summarize each document\n",
    "# documents = client.list_documents_in_collection(collection_id, offset=0, limit=99)\n",
    "# for doc in documents:\n",
    "#     summary = client.summarize_document(\n",
    "#         document_id=doc.id,\n",
    "#         timeout=60,\n",
    "#     )\n",
    "#     print(summary.content)\n",
    "\n",
    "\n",
    "#client.delete_documents_from_collection"
   ]
  },
  {
   "cell_type": "code",
   "execution_count": null,
   "id": "68204587-8e88-4729-a520-98c429f02b81",
   "metadata": {},
   "outputs": [],
   "source": [
    "chosen_snippets"
   ]
  },
  {
   "cell_type": "code",
   "execution_count": null,
   "id": "9d1a7ba5-2cdf-4f4e-b811-2d17abf3f119",
   "metadata": {},
   "outputs": [],
   "source": [
    "decide_sections = lambda user_query: client.answer_question(\n",
    "        question=user_query,\n",
    "        system_prompt=f\"\"\"You are an assistant whose task is to help a user in creating a presentation.\\\n",
    "        Here are a list of wikipedia entry summaries that are selected for the presentation:\n",
    "        {chosen_snippets}\n",
    "        \n",
    "        Now, plan the presentation by replying a JSON array \\\n",
    "        consisting of slide titles, starting from the first slide to the last slide. Do not include the title slide. Do not say anything else.\n",
    "\n",
    "        Here is an example reply:\n",
    "        [\"Introduction to Cookies\", \"Contents Page\", \"History of cookies\", \"Types of Cookies\", \"Health Concerns\", \"Conclusion\"]\n",
    "        \"\"\",\n",
    "        llm='mistralai/Mixtral-8x7B-Instruct-v0.1' \n",
    "    )\n",
    "\n",
    "sections = try_and_parse(user_query, decide_sections)"
   ]
  },
  {
   "cell_type": "code",
   "execution_count": null,
   "id": "74ac776f-de82-461d-9313-e671d1ae2dbd",
   "metadata": {},
   "outputs": [],
   "source": [
    "sections"
   ]
  },
  {
   "cell_type": "code",
   "execution_count": null,
   "id": "a5e83322-475c-4678-8f4c-f822ab5e5386",
   "metadata": {},
   "outputs": [],
   "source": [
    "chat_session_id = client.create_chat_session(collection_id)\n",
    "chat_session_id"
   ]
  },
  {
   "cell_type": "code",
   "execution_count": null,
   "id": "d65cbc7b-fe01-4260-a454-b7711c8ffa48",
   "metadata": {},
   "outputs": [],
   "source": [
    "\"\"\" Ref for slide types:  \n",
    "0 ->  title and subtitle \n",
    "1 ->  title and content \n",
    "2 ->  section header \n",
    "3 ->  two content \n",
    "4 ->  Comparison \n",
    "5 ->  Title only  \n",
    "6 ->  Blank \n",
    "7 ->  Content with caption \n",
    "8 ->  Pic with caption \n",
    "\"\"\""
   ]
  },
  {
   "cell_type": "code",
   "execution_count": null,
   "id": "11c297ad-f4ef-4aac-a719-e8f2c8237a8f",
   "metadata": {},
   "outputs": [],
   "source": [
    "prs = Presentation()\n",
    "prs.slide_width = Inches(16)\n",
    "prs.slide_height = Inches(9)\n",
    "title_slide = prs.slides.add_slide(prs.slide_layouts[0]) \n",
    "decide_slide_format = lambda user_query: client.answer_question(\n",
    "        question=f\"\"\"{user_query} Think of a simple title for this presentation.\n",
    "        \n",
    "        Also, think of a good background colour, in RGB format,\\\n",
    "        for the slides and a good colour, also in RGB format, for the\\\n",
    "        text. Typically, if the text colour is bright (for example RGB [255, 255, 255] is white), then the background colour should be dark\n",
    "        (RGB [0, 0, 100] is dark blue). Conversely, if the text colour is dark (for example RGB [0, 0, 0] is black), the background colour should be bright\\\n",
    "        . You are free to choose any text and background colour, \\\n",
    "        as long as you follow these rules. Please do not assign grey-scale colours for the text and background (like RGB [50, 50, 50]), as much as possible.\n",
    "        \n",
    "        Format your reply as a JSON array containing the title and the two colours, following the example below. Do not say anything else.\n",
    "        Example:\n",
    "        [\"Slide Title\", {{\"background\": [100, 0, 0]}}, {{\"text\": [255, 255, 255]}}]\"\"\",\n",
    "    \n",
    "        system_prompt=f\"\"\"You are an assistant whose task is to help a user in creating a presentation.\\\n",
    "        Here are a list of wikipedia entry summaries that are selected for the presentation:\n",
    "        {chosen_snippets}\n",
    "        This should give you an idea of what this presentation should be about.\n",
    "        \"\"\",\n",
    "        llm='mistralai/Mixtral-8x7B-Instruct-v0.1' \n",
    ")\n",
    "\n",
    "format = try_and_parse(user_query, decide_slide_format)"
   ]
  },
  {
   "cell_type": "code",
   "execution_count": null,
   "id": "8a40b715-2ef3-47f0-bcab-db6733e54873",
   "metadata": {
    "scrolled": true
   },
   "outputs": [],
   "source": [
    "format"
   ]
  },
  {
   "cell_type": "code",
   "execution_count": null,
   "id": "75e78e2a-08ef-4fed-8833-a6ad0296110c",
   "metadata": {},
   "outputs": [],
   "source": [
    "background = RGBColor(*tuple(list(format[1].values())[0])) \n",
    "font = RGBColor(*tuple(list(format[2].values())[0])) \n",
    "fill = title_slide.background.fill\n",
    "fill.solid()\n",
    "fill.fore_color.rgb = background\n",
    "\n",
    "\n",
    "title_slide.shapes.title.text = format[0]\n",
    "title_slide.shapes.title.text_frame.paragraphs[0].font.color.rgb =  font\n",
    "title_slide.shapes.title.text_frame.paragraphs[0].font.name = 'Montserrat'\n",
    "title_slide.shapes.title.text_frame.paragraphs[0].font.bold = True\n",
    "\n",
    "first_shape =  title_slide.shapes[0]\n",
    "first_shape.left, first_shape.top, first_shape.width, first_shape.height = (prs.slide_width - Inches(12))//2, \\\n",
    "(prs.slide_height-first_shape.height)//2 - Inches(1),\\\n",
    "Inches(12),\\\n",
    "Inches(2)"
   ]
  },
  {
   "cell_type": "code",
   "execution_count": null,
   "id": "14ebca46-abd0-45a9-9f13-82c9242dc2e5",
   "metadata": {},
   "outputs": [],
   "source": [
    "\n",
    "with client.connect(chat_session_id) as session:\n",
    "\n",
    "    for section in tqdm(sections):\n",
    "        slide = prs.slides.add_slide(prs.slide_layouts[1])\n",
    "        fill = slide.background.fill\n",
    "        fill.solid()\n",
    "        fill.fore_color.rgb = background\n",
    "\n",
    "        \n",
    "        contents = slide.placeholders[1]\n",
    "\n",
    "        title = slide.shapes.title\n",
    "        title.text = section\n",
    "        title.text_frame.paragraphs[0].font.color.rgb = font\n",
    "        title.text_frame.paragraphs[0].font.size = Pt(32)\n",
    "        title.text_frame.paragraphs[0].font.name = 'Karla'\n",
    "       \n",
    "       \n",
    "        content = session.query(\n",
    "            \n",
    "            message = section,\n",
    "            system_prompt=f\"\"\"You are an assistant whose task is to help a user in creating a presentation. \\\n",
    "            The slides of the presentation are as follows: {sections}\n",
    "            You are now tasked with generating the content of one slide, which will be provided by the user.\n",
    "            \"\"\",\n",
    "            pre_prompt_query=\"You have been provided with the following information, which may be useful in your task.\",\n",
    "            prompt_query=\"Decide if the information is relevant, and use it if needed. \\\n",
    "            Generate the content required in the slide provided by the user. You only need to generate the contents of the slide, not the title\\\n",
    "            or anything else. Do not provide more than 300 words of information. Generate around 4 paragraphs of text, where each paragraph has around 4 sentences.\",\n",
    "            llm=\"mistralai/Mixtral-8x7B-Instruct-v0.1\",\n",
    "            rag_config={\n",
    "                \"rag_type\": \"rag\",\n",
    "            },\n",
    "        ).content\n",
    "\n",
    "        contents.text = content\n",
    "        \n",
    "        for paragraph in contents.text_frame.paragraphs:\n",
    "            paragraph.space_after = 1\n",
    "            paragraph.space_before = 0\n",
    "            for run in paragraph.runs:\n",
    "                run.font.size = Pt(16)  \n",
    "                run.font.color.rgb = font\n",
    "                run.font.name = 'Karla'\n",
    "\n",
    "        shapes = slide.shapes\n",
    "        shapes[0].height, shapes[0].width, shapes[0].top, shapes[0].left = shapes[0].height, Inches(14), shapes[0].top, (prs.slide_width-Inches(12))//2\n",
    "        shapes[1].height, shapes[1].width, shapes[1].top, shapes[1].left = shapes[1].height, Inches(14), shapes[1].top, (prs.slide_width-Inches(12))//2\n",
    "\n",
    "# gpt-4-1106-preview\n"
   ]
  },
  {
   "cell_type": "code",
   "execution_count": null,
   "id": "e3de66b9-768e-48c5-9e7d-2b7c5411d9c1",
   "metadata": {},
   "outputs": [],
   "source": [
    "sanitised = re.sub(r'[\\W_]+', '_', format[0])\n",
    "prs.save(f\"./{sanitised}.pptx\")"
   ]
  },
  {
   "cell_type": "code",
   "execution_count": null,
   "id": "65178226-d7a2-4259-ac1f-05f9c1a9cf30",
   "metadata": {},
   "outputs": [],
   "source": [
    "(prs.slide_width) - Inches(12)\n",
    "#slide.placeholders[1].text_frame.margin_right = slide.placeholders[1].text_frame.margin_left"
   ]
  },
  {
   "cell_type": "code",
   "execution_count": null,
   "id": "f1291f22-071f-49dd-847e-264d34aa1f44",
   "metadata": {},
   "outputs": [],
   "source": [
    "#client.delete_documents_from_collection(collection_id)"
   ]
  }
 ],
 "metadata": {
  "kernelspec": {
   "display_name": "Python 3 (ipykernel)",
   "language": "python",
   "name": "python3"
  },
  "language_info": {
   "codemirror_mode": {
    "name": "ipython",
    "version": 3
   },
   "file_extension": ".py",
   "mimetype": "text/x-python",
   "name": "python",
   "nbconvert_exporter": "python",
   "pygments_lexer": "ipython3",
   "version": "3.11.7"
  }
 },
 "nbformat": 4,
 "nbformat_minor": 5
}
